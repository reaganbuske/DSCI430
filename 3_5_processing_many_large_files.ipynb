{
 "cells": [
  {
   "cell_type": "markdown",
   "metadata": {
    "slideshow": {
     "slide_type": "slide"
    }
   },
   "source": [
    "# Processing many large files\n",
    "\n",
    "* Use `glob` to find file names\n",
    "* Use a double loop to process all files in chunks\n",
    "* We will show a more functional, lazy solution in a later section."
   ]
  },
  {
   "cell_type": "code",
   "execution_count": 10,
   "metadata": {
    "slideshow": {
     "slide_type": "fragment"
    }
   },
   "outputs": [],
   "source": [
    "import pandas as pd\n",
    "from dfply import *"
   ]
  },
  {
   "cell_type": "markdown",
   "metadata": {
    "slideshow": {
     "slide_type": "slide"
    }
   },
   "source": [
    "## Example 3 - Compute the weekday totals for all months\n",
    "\n",
    "Assume that we have many csv files, all with the same columns. Now we will step up the scale by processing many large files by\n",
    "\n",
    "* Using `glob` to get all the filenames\n",
    "* Prototyping our code on the first chunk of the first file\n",
    "* Creating a list of aggregated chunks with a double loop\n",
    "* Use the accumulator pattern to reduce the chunk aggregations to a single table."
   ]
  },
  {
   "cell_type": "code",
   "execution_count": 2,
   "metadata": {
    "slideshow": {
     "slide_type": "fragment"
    }
   },
   "outputs": [
    {
     "name": "stdout",
     "output_type": "stream",
     "text": [
      "fatal: destination path './data/uber' already exists and is not an empty directory.\r\n"
     ]
    }
   ],
   "source": [
    "!git clone https://github.com/fivethirtyeight/uber-tlc-foil-response.git ./data/uber"
   ]
  },
  {
   "cell_type": "markdown",
   "metadata": {
    "slideshow": {
     "slide_type": "slide"
    }
   },
   "source": [
    "#### Get all files with `glob`"
   ]
  },
  {
   "cell_type": "code",
   "execution_count": 9,
   "metadata": {
    "slideshow": {
     "slide_type": "fragment"
    }
   },
   "outputs": [
    {
     "data": {
      "text/plain": [
       "['./data/uber/uber-trip-data/uber-raw-data-apr14.csv',\n",
       " './data/uber/uber-trip-data/uber-raw-data-aug14.csv',\n",
       " './data/uber/uber-trip-data/uber-raw-data-sep14.csv',\n",
       " './data/uber/uber-trip-data/uber-raw-data-jul14.csv',\n",
       " './data/uber/uber-trip-data/uber-raw-data-jun14.csv',\n",
       " './data/uber/uber-trip-data/uber-raw-data-may14.csv']"
      ]
     },
     "execution_count": 9,
     "metadata": {},
     "output_type": "execute_result"
    }
   ],
   "source": [
    "from glob import glob\n",
    "files = glob('./data/uber/uber-trip-data/uber-raw-data-*.csv')\n",
    "files = [f for f in files if 'jan' not in f]\n",
    "files"
   ]
  },
  {
   "cell_type": "markdown",
   "metadata": {
    "slideshow": {
     "slide_type": "slide"
    }
   },
   "source": [
    "#### Helper functions developed in an earlier section"
   ]
  },
  {
   "cell_type": "code",
   "execution_count": 16,
   "metadata": {
    "slideshow": {
     "slide_type": "fragment"
    }
   },
   "outputs": [],
   "source": [
    "from calendar import day_name\n",
    "from functoolz import pipeable\n",
    "weekday_categories = pd.CategoricalDtype(categories=list(day_name),\n",
    "                                     ordered=True)\n",
    "weekday_cnts = pipeable(lambda df: (df \n",
    "                                    >> mutate(weekday = X.date.dt.weekday_name.astype(weekday_categories)) \n",
    "                                    >> select(X.date, X.weekday))\n",
    "                                    >> group_by(X.weekday) \n",
    "                                    >> summarise(cnt = n(X.weekday)))\n",
    "        "
   ]
  },
  {
   "cell_type": "code",
   "execution_count": 17,
   "metadata": {
    "slideshow": {
     "slide_type": "fragment"
    }
   },
   "outputs": [],
   "source": [
    "c_size = 100000\n",
    "new_names = ['date', 'lat', 'lon', 'base']\n",
    "date_cols = ['date']\n",
    "df_iter = lambda file: pd.read_csv(file, \n",
    "                                   header=0, names=new_names,\n",
    "                                   parse_dates=date_cols,\n",
    "                                   sep=',',\n",
    "                                   engine='python',\n",
    "                                   chunksize=c_size)"
   ]
  },
  {
   "cell_type": "code",
   "execution_count": 18,
   "metadata": {
    "scrolled": true,
    "slideshow": {
     "slide_type": "slide"
    }
   },
   "outputs": [
    {
     "name": "stdout",
     "output_type": "stream",
     "text": [
      "Processing file ./data/uber/uber-trip-data/uber-raw-data-apr14.csv chunk 0\n",
      "Processing file ./data/uber/uber-trip-data/uber-raw-data-apr14.csv chunk 1\n",
      "Processing file ./data/uber/uber-trip-data/uber-raw-data-apr14.csv chunk 2\n",
      "Processing file ./data/uber/uber-trip-data/uber-raw-data-apr14.csv chunk 3\n",
      "Processing file ./data/uber/uber-trip-data/uber-raw-data-apr14.csv chunk 4\n",
      "Processing file ./data/uber/uber-trip-data/uber-raw-data-apr14.csv chunk 5\n",
      "Processing file ./data/uber/uber-trip-data/uber-raw-data-aug14.csv chunk 0\n",
      "Processing file ./data/uber/uber-trip-data/uber-raw-data-aug14.csv chunk 1\n",
      "Processing file ./data/uber/uber-trip-data/uber-raw-data-aug14.csv chunk 2\n",
      "Processing file ./data/uber/uber-trip-data/uber-raw-data-aug14.csv chunk 3\n",
      "Processing file ./data/uber/uber-trip-data/uber-raw-data-aug14.csv chunk 4\n",
      "Processing file ./data/uber/uber-trip-data/uber-raw-data-aug14.csv chunk 5\n",
      "Processing file ./data/uber/uber-trip-data/uber-raw-data-aug14.csv chunk 6\n",
      "Processing file ./data/uber/uber-trip-data/uber-raw-data-aug14.csv chunk 7\n",
      "Processing file ./data/uber/uber-trip-data/uber-raw-data-aug14.csv chunk 8\n",
      "Processing file ./data/uber/uber-trip-data/uber-raw-data-sep14.csv chunk 0\n",
      "Processing file ./data/uber/uber-trip-data/uber-raw-data-sep14.csv chunk 1\n",
      "Processing file ./data/uber/uber-trip-data/uber-raw-data-sep14.csv chunk 2\n",
      "Processing file ./data/uber/uber-trip-data/uber-raw-data-sep14.csv chunk 3\n",
      "Processing file ./data/uber/uber-trip-data/uber-raw-data-sep14.csv chunk 4\n",
      "Processing file ./data/uber/uber-trip-data/uber-raw-data-sep14.csv chunk 5\n",
      "Processing file ./data/uber/uber-trip-data/uber-raw-data-sep14.csv chunk 6\n",
      "Processing file ./data/uber/uber-trip-data/uber-raw-data-sep14.csv chunk 7\n",
      "Processing file ./data/uber/uber-trip-data/uber-raw-data-sep14.csv chunk 8\n",
      "Processing file ./data/uber/uber-trip-data/uber-raw-data-sep14.csv chunk 9\n",
      "Processing file ./data/uber/uber-trip-data/uber-raw-data-sep14.csv chunk 10\n",
      "Processing file ./data/uber/uber-trip-data/uber-raw-data-jul14.csv chunk 0\n",
      "Processing file ./data/uber/uber-trip-data/uber-raw-data-jul14.csv chunk 1\n",
      "Processing file ./data/uber/uber-trip-data/uber-raw-data-jul14.csv chunk 2\n",
      "Processing file ./data/uber/uber-trip-data/uber-raw-data-jul14.csv chunk 3\n",
      "Processing file ./data/uber/uber-trip-data/uber-raw-data-jul14.csv chunk 4\n",
      "Processing file ./data/uber/uber-trip-data/uber-raw-data-jul14.csv chunk 5\n",
      "Processing file ./data/uber/uber-trip-data/uber-raw-data-jul14.csv chunk 6\n",
      "Processing file ./data/uber/uber-trip-data/uber-raw-data-jul14.csv chunk 7\n",
      "Processing file ./data/uber/uber-trip-data/uber-raw-data-jun14.csv chunk 0\n",
      "Processing file ./data/uber/uber-trip-data/uber-raw-data-jun14.csv chunk 1\n",
      "Processing file ./data/uber/uber-trip-data/uber-raw-data-jun14.csv chunk 2\n",
      "Processing file ./data/uber/uber-trip-data/uber-raw-data-jun14.csv chunk 3\n",
      "Processing file ./data/uber/uber-trip-data/uber-raw-data-jun14.csv chunk 4\n",
      "Processing file ./data/uber/uber-trip-data/uber-raw-data-jun14.csv chunk 5\n",
      "Processing file ./data/uber/uber-trip-data/uber-raw-data-jun14.csv chunk 6\n",
      "Processing file ./data/uber/uber-trip-data/uber-raw-data-may14.csv chunk 0\n",
      "Processing file ./data/uber/uber-trip-data/uber-raw-data-may14.csv chunk 1\n",
      "Processing file ./data/uber/uber-trip-data/uber-raw-data-may14.csv chunk 2\n",
      "Processing file ./data/uber/uber-trip-data/uber-raw-data-may14.csv chunk 3\n",
      "Processing file ./data/uber/uber-trip-data/uber-raw-data-may14.csv chunk 4\n",
      "Processing file ./data/uber/uber-trip-data/uber-raw-data-may14.csv chunk 5\n",
      "Processing file ./data/uber/uber-trip-data/uber-raw-data-may14.csv chunk 6\n"
     ]
    }
   ],
   "source": [
    "from unpythonic import begin\n",
    "weekday_cnts = [begin(print(\"Processing file {0} chunk {1}\".format(f, i)),\n",
    "                      chunk >> weekday_cnts)\n",
    "                for f in files\n",
    "                for i, chunk in enumerate(df_iter(f))]"
   ]
  },
  {
   "cell_type": "code",
   "execution_count": 22,
   "metadata": {
    "slideshow": {
     "slide_type": "slide"
    }
   },
   "outputs": [
    {
     "data": {
      "text/html": [
       "<div>\n",
       "<style scoped>\n",
       "    .dataframe tbody tr th:only-of-type {\n",
       "        vertical-align: middle;\n",
       "    }\n",
       "\n",
       "    .dataframe tbody tr th {\n",
       "        vertical-align: top;\n",
       "    }\n",
       "\n",
       "    .dataframe thead th {\n",
       "        text-align: right;\n",
       "    }\n",
       "</style>\n",
       "<table border=\"1\" class=\"dataframe\">\n",
       "  <thead>\n",
       "    <tr style=\"text-align: right;\">\n",
       "      <th></th>\n",
       "      <th>weekday</th>\n",
       "      <th>cnt</th>\n",
       "    </tr>\n",
       "  </thead>\n",
       "  <tbody>\n",
       "    <tr>\n",
       "      <th>0</th>\n",
       "      <td>Monday</td>\n",
       "      <td>12165</td>\n",
       "    </tr>\n",
       "    <tr>\n",
       "      <th>1</th>\n",
       "      <td>Tuesday</td>\n",
       "      <td>13838</td>\n",
       "    </tr>\n",
       "    <tr>\n",
       "      <th>2</th>\n",
       "      <td>Wednesday</td>\n",
       "      <td>15684</td>\n",
       "    </tr>\n",
       "    <tr>\n",
       "      <th>3</th>\n",
       "      <td>Thursday</td>\n",
       "      <td>18188</td>\n",
       "    </tr>\n",
       "    <tr>\n",
       "      <th>4</th>\n",
       "      <td>Friday</td>\n",
       "      <td>20038</td>\n",
       "    </tr>\n",
       "    <tr>\n",
       "      <th>5</th>\n",
       "      <td>Saturday</td>\n",
       "      <td>10831</td>\n",
       "    </tr>\n",
       "    <tr>\n",
       "      <th>6</th>\n",
       "      <td>Sunday</td>\n",
       "      <td>9256</td>\n",
       "    </tr>\n",
       "  </tbody>\n",
       "</table>\n",
       "</div>"
      ],
      "text/plain": [
       "     weekday    cnt\n",
       "0     Monday  12165\n",
       "1    Tuesday  13838\n",
       "2  Wednesday  15684\n",
       "3   Thursday  18188\n",
       "4     Friday  20038\n",
       "5   Saturday  10831\n",
       "6     Sunday   9256"
      ]
     },
     "execution_count": 22,
     "metadata": {},
     "output_type": "execute_result"
    }
   ],
   "source": [
    "weekday_cnts[-2]"
   ]
  },
  {
   "cell_type": "code",
   "execution_count": 23,
   "metadata": {
    "slideshow": {
     "slide_type": "fragment"
    }
   },
   "outputs": [],
   "source": [
    "combine = pipeable(lambda df1, df2: (pd.concat([df1, df2], sort = False) \n",
    "                                     >> group_by(X.weekday) \n",
    "                                     >> summarise(cnt = X.cnt.sum())))"
   ]
  },
  {
   "cell_type": "markdown",
   "metadata": {
    "slideshow": {
     "slide_type": "slide"
    }
   },
   "source": [
    "#### Initial accumulator"
   ]
  },
  {
   "cell_type": "code",
   "execution_count": 24,
   "metadata": {
    "slideshow": {
     "slide_type": "fragment"
    }
   },
   "outputs": [
    {
     "data": {
      "text/html": [
       "<div>\n",
       "<style scoped>\n",
       "    .dataframe tbody tr th:only-of-type {\n",
       "        vertical-align: middle;\n",
       "    }\n",
       "\n",
       "    .dataframe tbody tr th {\n",
       "        vertical-align: top;\n",
       "    }\n",
       "\n",
       "    .dataframe thead th {\n",
       "        text-align: right;\n",
       "    }\n",
       "</style>\n",
       "<table border=\"1\" class=\"dataframe\">\n",
       "  <thead>\n",
       "    <tr style=\"text-align: right;\">\n",
       "      <th></th>\n",
       "      <th>weekday</th>\n",
       "      <th>cnt</th>\n",
       "    </tr>\n",
       "  </thead>\n",
       "  <tbody>\n",
       "    <tr>\n",
       "      <th>0</th>\n",
       "      <td>Monday</td>\n",
       "      <td>541472</td>\n",
       "    </tr>\n",
       "    <tr>\n",
       "      <th>1</th>\n",
       "      <td>Tuesday</td>\n",
       "      <td>663789</td>\n",
       "    </tr>\n",
       "    <tr>\n",
       "      <th>2</th>\n",
       "      <td>Wednesday</td>\n",
       "      <td>696488</td>\n",
       "    </tr>\n",
       "    <tr>\n",
       "      <th>3</th>\n",
       "      <td>Thursday</td>\n",
       "      <td>755145</td>\n",
       "    </tr>\n",
       "    <tr>\n",
       "      <th>4</th>\n",
       "      <td>Friday</td>\n",
       "      <td>741139</td>\n",
       "    </tr>\n",
       "    <tr>\n",
       "      <th>5</th>\n",
       "      <td>Saturday</td>\n",
       "      <td>646114</td>\n",
       "    </tr>\n",
       "    <tr>\n",
       "      <th>6</th>\n",
       "      <td>Sunday</td>\n",
       "      <td>490180</td>\n",
       "    </tr>\n",
       "  </tbody>\n",
       "</table>\n",
       "</div>"
      ],
      "text/plain": [
       "     weekday     cnt\n",
       "0     Monday  541472\n",
       "1    Tuesday  663789\n",
       "2  Wednesday  696488\n",
       "3   Thursday  755145\n",
       "4     Friday  741139\n",
       "5   Saturday  646114\n",
       "6     Sunday  490180"
      ]
     },
     "execution_count": 24,
     "metadata": {},
     "output_type": "execute_result"
    }
   ],
   "source": [
    "cnts = weekday_cnts[0] \n",
    "for next_cnts in weekday_cnts[1:]:\n",
    "    cnts = next_cnts >> combine(cnts)\n",
    "cnts"
   ]
  },
  {
   "cell_type": "markdown",
   "metadata": {
    "slideshow": {
     "slide_type": "slide"
    }
   },
   "source": [
    "#### Visualizing the results"
   ]
  },
  {
   "cell_type": "code",
   "execution_count": 25,
   "metadata": {
    "slideshow": {
     "slide_type": "fragment"
    }
   },
   "outputs": [
    {
     "data": {
      "image/png": "[encoded data removed]",
      "text/plain": [
       "<Figure size 360x360 with 1 Axes>"
      ]
     },
     "metadata": {
      "needs_background": "light"
     },
     "output_type": "display_data"
    }
   ],
   "source": [
    "import seaborn as sns\n",
    "import matplotlib.pylab as plt\n",
    "%matplotlib inline\n",
    "ax = (sns\n",
    "      .catplot(x=\"weekday\", \n",
    "               y = 'cnt',\n",
    "               kind=\"bar\", \n",
    "               palette=\"ch:.25\", \n",
    "               data=cnts))\n",
    "\n",
    "ax.set_xticklabels(ax.ax.get_xticklabels(), rotation=40, ha=\"right\")\n",
    "ax.set(title='Uber Pick-Ups by Day of the Week',\n",
    "       xlabel='Day of the Week', \n",
    "       ylabel='Num of Pick-ups')\n",
    "plt.tight_layout()\n",
    "plt.show()"
   ]
  },
  {
   "cell_type": "markdown",
   "metadata": {
    "slideshow": {
     "slide_type": "slide"
    }
   },
   "source": [
    "## <font color=\"red\"> Exercise 2 </font>\n",
    "\n",
    "Compute and visualize the hourly frequencies for Uber pick-ups across all of the files."
   ]
  },
  {
   "cell_type": "code",
   "execution_count": 49,
   "metadata": {
    "slideshow": {
     "slide_type": "fragment"
    }
   },
   "outputs": [],
   "source": [
    "# Your code here"
   ]
  },
  {
   "cell_type": "markdown",
   "metadata": {
    "slideshow": {
     "slide_type": "slide"
    }
   },
   "source": [
    "## Up Next\n",
    "\n",
    "Stuff"
   ]
  }
 ],
 "metadata": {
  "celltoolbar": "Slideshow",
  "kernelspec": {
   "display_name": "Python 3",
   "language": "python",
   "name": "python3"
  },
  "language_info": {
   "codemirror_mode": {
    "name": "ipython",
    "version": 3
   },
   "file_extension": ".py",
   "mimetype": "text/x-python",
   "name": "python",
   "nbconvert_exporter": "python",
   "pygments_lexer": "ipython3",
   "version": "3.7.2"
  },
  "varInspector": {
   "cols": {
    "lenName": 16,
    "lenType": 16,
    "lenVar": 40
   },
   "kernels_config": {
    "python": {
     "delete_cmd_postfix": "",
     "delete_cmd_prefix": "del ",
     "library": "var_list.py",
     "varRefreshCmd": "print(var_dic_list())"
    },
    "r": {
     "delete_cmd_postfix": ") ",
     "delete_cmd_prefix": "rm(",
     "library": "var_list.r",
     "varRefreshCmd": "cat(var_dic_list()) "
    }
   },
   "types_to_exclude": [
    "module",
    "function",
    "builtin_function_or_method",
    "instance",
    "_Feature"
   ],
   "window_display": false
  }
 },
 "nbformat": 4,
 "nbformat_minor": 2
}
