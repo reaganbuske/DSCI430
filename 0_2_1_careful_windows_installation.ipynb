{
 "cells": [
  {
   "cell_type": "markdown",
   "metadata": {},
   "source": [
    "## A Careful Python Installation on Windows\n",
    "\n",
    "1. Turn on Windows Subsystem for Linux\n",
    "2. Install Ubuntu from the Window's Store\n",
    "3. Update/Upgrade Ubuntu\n",
    "4. Install `pyenv`\n",
    "5. Update/upgrade `pyenv`\n",
    "6. Install a recent version of Anaconda with `pyenv`\n",
    "7. Update/upgrade `pip`\n",
    "8. Update/upgrade `conda`\n",
    "9. Install the DSCI 430 requirements"
   ]
  },
  {
   "cell_type": "markdown",
   "metadata": {},
   "source": [
    "## Activating and Turning on Windows Subsystem for Linux\n",
    "\n",
    "I will show how to complete this task in the following video."
   ]
  },
  {
   "cell_type": "code",
   "execution_count": 1,
   "metadata": {},
   "outputs": [
    {
     "name": "stderr",
     "output_type": "stream",
     "text": [
      "/Users/tiverson/.pyenv/versions/3.5.2/envs/dev-more-itertools/lib/python3.5/site-packages/IPython/core/display.py:689: UserWarning: Consider using IPython.display.IFrame instead\n",
      "  warnings.warn(\"Consider using IPython.display.IFrame instead\")\n"
     ]
    },
    {
     "data": {
      "text/html": [
       "<iframe id=\"kaltura_player\" src=\"https://cdnapisec.kaltura.com/p/812561/sp/81256100/embedIframeJs/uiconf_id/33140371/partner_id/812561?iframeembed=true&playerId=kaltura_player&entry_id=1_m72xiamd&flashvars[mediaProtocol]=rtmp&amp;flashvars[streamerType]=rtmp&amp;flashvars[streamerUrl]=rtmp://www.kaltura.com:1935&amp;flashvars[rtmpFlavors]=1&amp;flashvars[localizationCode]=en&amp;flashvars[leadWithHTML5]=true&amp;flashvars[sideBarContainer.plugin]=true&amp;flashvars[sideBarContainer.position]=left&amp;flashvars[sideBarContainer.clickToClose]=true&amp;flashvars[chapters.plugin]=true&amp;flashvars[chapters.layout]=vertical&amp;flashvars[chapters.thumbnailRotator]=false&amp;flashvars[streamSelector.plugin]=true&amp;flashvars[EmbedPlayer.SpinnerTarget]=videoHolder&amp;flashvars[dualScreen.plugin]=true&amp;&wid=1_kaqcg9e4\" width=\"420\" height=\"336\" allowfullscreen webkitallowfullscreen mozAllowFullScreen allow=\"autoplay *; fullscreen *; encrypted-media *\" frameborder=\"0\" title=\"Kaltura Player\"></iframe>"
      ],
      "text/plain": [
       "<IPython.core.display.HTML object>"
      ]
     },
     "execution_count": 1,
     "metadata": {},
     "output_type": "execute_result"
    }
   ],
   "source": [
    "from IPython.display import HTML\n",
    "HTML('<iframe id=\"kaltura_player\" src=\"https://cdnapisec.kaltura.com/p/812561/sp/81256100/embedIframeJs/uiconf_id/33140371/partner_id/812561?iframeembed=true&playerId=kaltura_player&entry_id=1_m72xiamd&flashvars[mediaProtocol]=rtmp&amp;flashvars[streamerType]=rtmp&amp;flashvars[streamerUrl]=rtmp://www.kaltura.com:1935&amp;flashvars[rtmpFlavors]=1&amp;flashvars[localizationCode]=en&amp;flashvars[leadWithHTML5]=true&amp;flashvars[sideBarContainer.plugin]=true&amp;flashvars[sideBarContainer.position]=left&amp;flashvars[sideBarContainer.clickToClose]=true&amp;flashvars[chapters.plugin]=true&amp;flashvars[chapters.layout]=vertical&amp;flashvars[chapters.thumbnailRotator]=false&amp;flashvars[streamSelector.plugin]=true&amp;flashvars[EmbedPlayer.SpinnerTarget]=videoHolder&amp;flashvars[dualScreen.plugin]=true&amp;&wid=1_kaqcg9e4\" width=\"420\" height=\"336\" allowfullscreen webkitallowfullscreen mozAllowFullScreen allow=\"autoplay *; fullscreen *; encrypted-media *\" frameborder=\"0\" title=\"Kaltura Player\"></iframe>')"
   ]
  },
  {
   "cell_type": "markdown",
   "metadata": {},
   "source": [
    "[Video link](https://mediaspace.minnstate.edu/media/WSL_install.mp4/1_m72xiamd)"
   ]
  },
  {
   "cell_type": "markdown",
   "metadata": {},
   "source": [
    "**Notes:** \n",
    "\n",
    "* My process is adapted from [this video](https://www.youtube.com/watch?v=dq183fOB1Xg).\n",
    "* [Learn more about WSL](https://www.youtube.com/watch?v=JZCPYWrTLTg)\n",
    "\n",
    "#### Update Ubuntu \n",
    "\n",
    "```bash\n",
    "sudo apt update \n",
    "sudo apt upgrade \n",
    "```\n",
    "\n",
    "## cmder,  navigation, and installing build tools\n",
    "\n",
    "#### A better terminal emulator\n",
    "\n",
    "I strongly suggest you install and use [Cmder](https://github.com/cmderdev/cmder/releases/) as you `bash` shell.  Other option, [recommended here](https://nickjanetakis.com/blog/switching-from-conemu-to-hyper-as-a-windows-terminal) is [hyper](https://hyper.is/)\n",
    "\n",
    "\n",
    "\n",
    "#### Your `home` in `wsl`\n",
    "\n",
    "Note that `~` when in `wsl` refers to your Ubuntu home.  Assuming your main Window's drive is `C:`, your windows home, while in `wsl` is located at\n",
    "\n",
    "```bash\n",
    "cd /mnt/c/Users/your_windows_username/\n",
    "```\n",
    "\n",
    "## The easiest way to nevigate back to Windows folders is `exit` + `cd` + `wsl`\n",
    "\n",
    "### How to navigate  the path to your DSCI 430 folder\n",
    "\n",
    "#### Step 0 - Make sure you alway use Powershell in administrator mode\n",
    "\n",
    "#### Step 1 - `exit` `wsl` to get quickly get back to \"Windows\"\n",
    "\n",
    "```bash\n",
    "exit\n",
    "```\n",
    "\n",
    "#### Use `cd` to navigate to your DSCI 430 folder\n",
    "\n",
    "```bash\n",
    "cd Desktop/DSCI430\n",
    "```\n",
    "\n",
    "#### Reenter `wsl`\n",
    "\n",
    "```bash\n",
    "wsl\n",
    "```\n",
    "\n",
    "#### Install some standard development tools\n",
    "\n",
    "```bash\n",
    "sudo apt-get install -y make build-essential libssl-dev zlib1g-dev libbz2-dev libreadline-dev libsqlite3-dev wget curl llvm libncurses5-dev xz-utils tk-dev libxml2-dev libxmlsec1-dev libffi-dev \n",
    "```\n",
    "\n",
    "## Install Pyenv Installer \n",
    "\n",
    "```bash\n",
    "curl https://pyenv.run | bash\n",
    "```\n",
    "\n",
    "## Use Nano text editor to edit Bash profile \n",
    "\n",
    "```bash\n",
    "nano ~/.bash_profile \n",
    "```\n",
    "\n",
    "## Paste into bash profile export\n",
    " \n",
    "**Note:** Change `your_linux_username` to the username you selected for Ubuntu\n",
    "\n",
    "```bash\n",
    "PATH=\"/home/your_linux_username/.pyenv/bin:$PATH\" \n",
    "eval \"$(pyenv init -)\" \n",
    "eval \"$(pyenv virtualenv-init -)\" \n",
    "```\n",
    "\n",
    "## Activate the updated Bash profile \n",
    "\n",
    "```bash\n",
    "source ~/.bash_profile\n",
    "```\n",
    "\n",
    "OR\n",
    "\n",
    "```bash\n",
    "exit\n",
    "wsl\n",
    "```\n",
    "\n",
    "## Update Pyenv \n",
    "\n",
    "```bash\n",
    "pyenv update \n",
    "```\n",
    "\n",
    "## Finding python distribution to install\n",
    "\n",
    "```bash\n",
    "pyenv install --list\n",
    "```\n",
    "\n",
    "#### Narrowing the list\n",
    "\n",
    "```bash\n",
    "pyenv install --list | grep anaconda\n",
    "```\n",
    "\n",
    "## Install a Python Version \n",
    "\n",
    "```bash\n",
    "pyenv install anaconda3-5.3.1\n",
    "pyenv global anaconda3-5.3.1\n",
    "```\n",
    "\n",
    "# Upgrade pip \n",
    "\n",
    "```bash\n",
    "pip install --upgrade pip \n",
    "```\n",
    "\n",
    "# Install Java\n",
    "\n",
    "* Install `java`\n",
    "```bash\n",
    "sudo apt-get install openjdk-8-jre-headless\n",
    "```\n",
    "\n",
    "* Find the location of openjdk-8-jre\n",
    "```bash\n",
    "ls /usr/lib/jvm/\n",
    "``` \n",
    "\n",
    "* Set the location to `JAVA_HOME` (edit as needed)\n",
    "\n",
    "````bash\n",
    "export JAVA_HOME=/usr/lib/jvm/java-1.8.0-openjdk-amd64/jre\n",
    "```\n",
    "\n",
    "## Install other python packages\n",
    "\n",
    "```bash\n",
    "pip install toolz sqlparse altair dfply vega_datasets vega more-itertools pdvega pyrsistent pyspark\n",
    "```\n",
    "\n",
    "## Installing R and `rpy2` (optional)\n",
    "\n",
    "```bash\n",
    "sudo apt-get install r-base\n",
    "pip install rpy2\n",
    "```"
   ]
  },
  {
   "cell_type": "markdown",
   "metadata": {},
   "source": [
    "## Installing Docker \n",
    "\n",
    "[This article](https://nickjanetakis.com/blog/should-you-use-the-docker-toolbox-or-docker-for-mac-windows) goes into the details of various Docker solutions.  Take a look if you want more details, but let me summarize.\n",
    "\n",
    "1. If you don't need to run more than one VM on Windows, you should use [Docker for Windows](https://docs.docker.com/v17.09/docker-for-windows/install/)\n",
    "2. If you DO need to run more than one VM (i.e. you're in DSCI 325 or need SAS University), then you should use the [Docker Toolbox](https://docs.docker.com/v17.09/toolbox/toolbox_install_windows/)\n",
    "    * Or you could [set up your own Docker VM](https://nickjanetakis.com/blog/docker-tip-73-connecting-to-a-remote-docker-daemon), but that will be much more involved."
   ]
  },
  {
   "cell_type": "markdown",
   "metadata": {},
   "source": [
    "## Setting up Docker to work with WSL\n",
    "\n",
    "To allow access to Docker from the WSL terminal, please follow the instruction in [this article](https://nickjanetakis.com/blog/setting-up-docker-for-windows-and-wsl-to-work-flawlessly).  This looks like a fairly complicated process (that I haven't tested yet) so allow yourself some time."
   ]
  },
  {
   "cell_type": "code",
   "execution_count": null,
   "metadata": {},
   "outputs": [],
   "source": []
  }
 ],
 "metadata": {
  "kernelspec": {
   "display_name": "Python (anaconda3-5.0.0)",
   "language": "python",
   "name": "anaconda3-5.0.0"
  },
  "language_info": {
   "codemirror_mode": {
    "name": "ipython",
    "version": 3
   },
   "file_extension": ".py",
   "mimetype": "text/x-python",
   "name": "python",
   "nbconvert_exporter": "python",
   "pygments_lexer": "ipython3",
   "version": "3.6.2"
  },
  "varInspector": {
   "cols": {
    "lenName": 16,
    "lenType": 16,
    "lenVar": 40
   },
   "kernels_config": {
    "python": {
     "delete_cmd_postfix": "",
     "delete_cmd_prefix": "del ",
     "library": "var_list.py",
     "varRefreshCmd": "print(var_dic_list())"
    },
    "r": {
     "delete_cmd_postfix": ") ",
     "delete_cmd_prefix": "rm(",
     "library": "var_list.r",
     "varRefreshCmd": "cat(var_dic_list()) "
    }
   },
   "types_to_exclude": [
    "module",
    "function",
    "builtin_function_or_method",
    "instance",
    "_Feature"
   ],
   "window_display": false
  }
 },
 "nbformat": 4,
 "nbformat_minor": 2
}
