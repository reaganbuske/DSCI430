{
 "cells": [
  {
   "cell_type": "markdown",
   "metadata": {},
   "source": [
    "# Lab 4 - Oral Flag Feedback\n",
    "\n",
    "Most of your are probably familiar with Dr. Malone's oral flag presentation review website.  The file `OralFlag_example.csv` contains an example table dump from associated Dr. Malone's database.  Your job is to make an number of summary files, as described below."
   ]
  },
  {
   "cell_type": "markdown",
   "metadata": {},
   "source": [
    "## <font color=\"red\"> Problem 1 - Read and Inspect the File</font>\n",
    "\n",
    "Read the file `OralFlag_example.csv` and inspect the columns, looking for any possible errors.  Note that the file is missing a header, so I have provided the column labels below."
   ]
  },
  {
   "cell_type": "code",
   "execution_count": 2,
   "metadata": {},
   "outputs": [],
   "source": [
    "oral_flag_columns = ['Id', 'Time', 'Term', 'Submission', 'Group', 'Reviewer',\n",
    "                     'Knowledge_of_Subject', 'Clear_Outcomes', 'Organization', 'Delivery',\n",
    "                     'Comments_Most_Effective', 'Comments_Improvements']"
   ]
  },
  {
   "cell_type": "code",
   "execution_count": null,
   "metadata": {},
   "outputs": [],
   "source": []
  },
  {
   "cell_type": "markdown",
   "metadata": {},
   "source": [
    "## <font color=\"red\"> Problem 2 - Scoring Table</font>\n",
    "\n",
    "First, you need to make a scoring table, which provides a average of the scores for each group, along with the final score for that group.  The weighted score is the average of the instructor total score (assume the instructor is `\"Todd\"`) and the average total for the rest of the reviewers.\n",
    "\n",
    "For example, consider the following scores.  The computation of the total score is illustrated below.  Make sure your final table has the following columns: `Group`, `Knowledge_of_Subject_mean`, `Clear_Outcomes_mean`,  `Organization_mean`, `Delivery_mean`, `overall_score`\n",
    "\n",
    "**For full credit, do this in one pipe.**"
   ]
  },
  {
   "cell_type": "code",
   "execution_count": 1,
   "metadata": {},
   "outputs": [
    {
     "data": {
      "text/plain": [
       "12.33"
      ]
     },
     "execution_count": 1,
     "metadata": {},
     "output_type": "execute_result"
    }
   ],
   "source": [
    "# Example of how to compute the weighted score\n",
    "import pandas as pd\n",
    "scores = pd.DataFrame({'Reviewer':[\"Todd\", \"Chris\", \"Silas\", \"Tisha\"],\n",
    "                       'Knowledge_of_Subject':[2,3,4, 4],\n",
    "                       'Clear_Outcomes':      [3,3,2, 4],  \n",
    "                       'Organization':        [4,3,4, 4], \n",
    "                       'Delivery':            [2,3,3, 4]})\n",
    "\n",
    "silas_score = 4+2+4+3\n",
    "chris_score = 3+3+3+3\n",
    "tisha_score = 4+4+4+4\n",
    "todd_score = 2+3+4+2\n",
    "\n",
    "overall_score = round(0.5*todd_score + 0.5*(silas_score + chris_score + tisha_score)/3, 2)\n",
    "overall_score"
   ]
  },
  {
   "cell_type": "code",
   "execution_count": null,
   "metadata": {},
   "outputs": [],
   "source": []
  },
  {
   "cell_type": "markdown",
   "metadata": {},
   "source": [
    "## <font color=\"red\"> Problem 3 - Scoring Table</font>\n",
    "\n",
    "Your final task is to make a comment data frame for each group and write each file to a csv.  Each file should have three columns: Group, Comments_Most_Effective, Comments_Needed_Improvements; with the second and third columns containing all the respective comments for that group. \n",
    "\n",
    "To complete this task, you should\n",
    "\n",
    "1. Write a lambda function that takes the original table and a group number and returns a table containing the comments for that group.\n",
    "2. Write a lambda function that takes the output from 1. and reshapes the data so the comments from the same reviewer are on the same line.\n",
    "3. Write a lambda function that composes the last two function.\n",
    "4. Write a for loop that constructs and writes out a table for each group.  Recall that you can write a Pandas `df` to a csv file using `df.to_csv('filename', index=False)`."
   ]
  },
  {
   "cell_type": "code",
   "execution_count": null,
   "metadata": {},
   "outputs": [],
   "source": []
  }
 ],
 "metadata": {
  "kernelspec": {
   "display_name": "Python 3",
   "language": "python",
   "name": "python3"
  },
  "language_info": {
   "codemirror_mode": {
    "name": "ipython",
    "version": 3
   },
   "file_extension": ".py",
   "mimetype": "text/x-python",
   "name": "python",
   "nbconvert_exporter": "python",
   "pygments_lexer": "ipython3",
   "version": "3.7.2"
  },
  "varInspector": {
   "cols": {
    "lenName": 16,
    "lenType": 16,
    "lenVar": 40
   },
   "kernels_config": {
    "python": {
     "delete_cmd_postfix": "",
     "delete_cmd_prefix": "del ",
     "library": "var_list.py",
     "varRefreshCmd": "print(var_dic_list())"
    },
    "r": {
     "delete_cmd_postfix": ") ",
     "delete_cmd_prefix": "rm(",
     "library": "var_list.r",
     "varRefreshCmd": "cat(var_dic_list()) "
    }
   },
   "types_to_exclude": [
    "module",
    "function",
    "builtin_function_or_method",
    "instance",
    "_Feature"
   ],
   "window_display": false
  }
 },
 "nbformat": 4,
 "nbformat_minor": 2
}
