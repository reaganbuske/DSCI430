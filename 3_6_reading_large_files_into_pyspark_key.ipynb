{
 "cells": [
  {
   "cell_type": "markdown",
   "metadata": {
    "slideshow": {
     "slide_type": "slide"
    }
   },
   "source": [
    "# Reading a large file into pyspark\n",
    "\n",
    "`pyspark` reads csv files line-by-line, so there is no need to use pandas or chunk the data."
   ]
  },
  {
   "cell_type": "markdown",
   "metadata": {
    "slideshow": {
     "slide_type": "slide"
    }
   },
   "source": [
    "#### Imports"
   ]
  },
  {
   "cell_type": "code",
   "execution_count": 17,
   "metadata": {
    "slideshow": {
     "slide_type": "fragment"
    }
   },
   "outputs": [],
   "source": [
    "from pyspark.sql import SparkSession\n",
    "from more_pyspark import get_spark_types, to_pandas\n",
    "from functoolz import pipeable\n",
    "from dfply import *\n",
    "\n",
    "spark = SparkSession.builder.appName('Ops').getOrCreate()"
   ]
  },
  {
   "cell_type": "code",
   "execution_count": 25,
   "metadata": {
    "slideshow": {
     "slide_type": "slide"
    }
   },
   "outputs": [
    {
     "data": {
      "text/plain": [
       "DataFrame[Date/Time: string, Lat: double, Lon: double, Base: string]"
      ]
     },
     "execution_count": 25,
     "metadata": {},
     "output_type": "execute_result"
    }
   ],
   "source": [
    "df = spark.read.csv(\"./data/uber/uber-trip-data/uber-raw-data-apr14.csv\",\n",
    "                   inferSchema=True,\n",
    "                   header=True)\n",
    "df"
   ]
  },
  {
   "cell_type": "code",
   "execution_count": 59,
   "metadata": {},
   "outputs": [
    {
     "data": {
      "text/plain": [
       "[Row(Lat=40.769, Lon=-73.9549, Base='B02512', date=datetime.datetime(2014, 4, 1, 0, 11), day=1, month=4, year=2014, hour=0, weekday=3),\n",
       " Row(Lat=40.7267, Lon=-74.0345, Base='B02512', date=datetime.datetime(2014, 4, 1, 0, 17), day=1, month=4, year=2014, hour=0, weekday=3),\n",
       " Row(Lat=40.7316, Lon=-73.9873, Base='B02512', date=datetime.datetime(2014, 4, 1, 0, 21), day=1, month=4, year=2014, hour=0, weekday=3)]"
      ]
     },
     "execution_count": 59,
     "metadata": {},
     "output_type": "execute_result"
    }
   ],
   "source": [
    "from pyspark.sql.functions import to_timestamp, col, dayofmonth, month, year, hour, dayofweek\n",
    "from pyspark.sql.types import StringType\n",
    "from more_pyspark import all_but\n",
    "from calendar import day_name\n",
    "\n",
    "\n",
    "df_new = (df\n",
    "          .withColumn('date', to_timestamp(col('Date/Time'), format='M/d/yyyy H:mm:ss'))\n",
    "          .withColumn('day', dayofmonth(col('date')))\n",
    "          .withColumn('month', month(col('date')))\n",
    "          .withColumn('year', year(col('date')))\n",
    "          .withColumn('hour', hour(col('date')))\n",
    "          .withColumn('weekday', dayofweek(col('date')))\n",
    "          .drop('Date/Time')\n",
    "         )\n",
    "df_new.take(3)"
   ]
  },
  {
   "cell_type": "code",
   "execution_count": 67,
   "metadata": {
    "slideshow": {
     "slide_type": "fragment"
    }
   },
   "outputs": [],
   "source": [
    "cnts = (df_new\n",
    "        .select('weekday')\n",
    "        .groupBy('weekday')\n",
    "        .agg(count('weekday').alias('cnt'))\n",
    "        .collect() ) >> to_pandas\n",
    "cnts = (cnts \n",
    "        >> mutate(day_name = X.weekday.apply(lambda n: day_name[n - 1])))"
   ]
  },
  {
   "cell_type": "code",
   "execution_count": 68,
   "metadata": {
    "slideshow": {
     "slide_type": "slide"
    }
   },
   "outputs": [
    {
     "data": {
      "image/png": "[encoded data removed]",
      "text/plain": [
       "<Figure size 360x360 with 1 Axes>"
      ]
     },
     "metadata": {
      "needs_background": "light"
     },
     "output_type": "display_data"
    }
   ],
   "source": [
    "import seaborn as sns\n",
    "%matplotlib inline\n",
    "import matplotlib.pylab as plt\n",
    "ax = (sns\n",
    "      .catplot(x=\"day_name\", \n",
    "               y = 'cnt',\n",
    "               kind=\"bar\", \n",
    "               order=day_name,\n",
    "               palette=\"ch:.25\", \n",
    "               data=cnts\n",
    "              )\n",
    "     )\n",
    "\n",
    "ax.set_xticklabels(ax.ax.get_xticklabels(), rotation=40, ha=\"right\")\n",
    "ax.set(title='Uber Pick-Ups by Day of the Week',\n",
    "       xlabel='Day of the Week', \n",
    "       ylabel='Num of Pick-ups')\n",
    "plt.tight_layout()\n",
    "plt.show()"
   ]
  },
  {
   "cell_type": "markdown",
   "metadata": {},
   "source": [
    "## <font color=\"red\"> Exercise 4 </font>\n",
    "\n",
    "Create a `pyspark.sql` dataframe for the Uber pick-ups from May.  Compute and visualize the hourly frequencies for Uber pick-ups, this time with `pyspark` queries."
   ]
  },
  {
   "cell_type": "code",
   "execution_count": 42,
   "metadata": {},
   "outputs": [],
   "source": [
    "# Your code here"
   ]
  },
  {
   "cell_type": "markdown",
   "metadata": {
    "slideshow": {
     "slide_type": "slide"
    }
   },
   "source": [
    "## <font color=\"blue\"> Key </font>"
   ]
  },
  {
   "cell_type": "code",
   "execution_count": 70,
   "metadata": {
    "slideshow": {
     "slide_type": "slide"
    }
   },
   "outputs": [
    {
     "data": {
      "text/plain": [
       "DataFrame[Date/Time: string, Lat: double, Lon: double, Base: string]"
      ]
     },
     "execution_count": 70,
     "metadata": {},
     "output_type": "execute_result"
    }
   ],
   "source": [
    "df_may = spark.read.csv(\"./data/uber/uber-trip-data/uber-raw-data-may14.csv\",\n",
    "                   inferSchema=True,\n",
    "                   header=True)\n",
    "df_may"
   ]
  },
  {
   "cell_type": "code",
   "execution_count": 73,
   "metadata": {},
   "outputs": [
    {
     "data": {
      "text/plain": [
       "[Row(Lat=40.7521, Lon=-73.9914, Base='B02512', date=datetime.datetime(2014, 5, 1, 0, 2), hour=0),\n",
       " Row(Lat=40.6965, Lon=-73.9715, Base='B02512', date=datetime.datetime(2014, 5, 1, 0, 6), hour=0),\n",
       " Row(Lat=40.7464, Lon=-73.9838, Base='B02512', date=datetime.datetime(2014, 5, 1, 0, 15), hour=0)]"
      ]
     },
     "execution_count": 73,
     "metadata": {},
     "output_type": "execute_result"
    }
   ],
   "source": [
    "df_may_new = (df\n",
    "              .withColumn('date', to_timestamp(col('Date/Time'), format='M/d/yyyy H:mm:ss'))\n",
    "              .withColumn('hour', hour(col('date')))\n",
    "              .drop('Date/Time')\n",
    "         )\n",
    "df_may_new.take(3)"
   ]
  },
  {
   "cell_type": "code",
   "execution_count": 74,
   "metadata": {
    "slideshow": {
     "slide_type": "fragment"
    }
   },
   "outputs": [],
   "source": [
    "cnts_may = (df_new\n",
    "        .select('hour')\n",
    "        .groupBy('hour')\n",
    "        .agg(count('hour').alias('cnt'))\n",
    "        .collect() ) >> to_pandas"
   ]
  },
  {
   "cell_type": "code",
   "execution_count": 77,
   "metadata": {
    "slideshow": {
     "slide_type": "slide"
    }
   },
   "outputs": [
    {
     "data": {
      "image/png": "[encoded data removed]",
      "text/plain": [
       "<Figure size 360x360 with 1 Axes>"
      ]
     },
     "metadata": {
      "needs_background": "light"
     },
     "output_type": "display_data"
    }
   ],
   "source": [
    "import seaborn as sns\n",
    "%matplotlib inline\n",
    "import matplotlib.pylab as plt\n",
    "ax = (sns\n",
    "      .catplot(x=\"hour\", \n",
    "               y = 'cnt',\n",
    "               kind=\"bar\", \n",
    "               palette=\"ch:.25\", \n",
    "               data=cnts_may\n",
    "              )\n",
    "     )\n",
    "\n",
    "ax.set_xticklabels(ax.ax.get_xticklabels(), rotation=40, ha=\"right\")\n",
    "ax.set(title='Uber Pick-Ups by Day of the Week',\n",
    "       xlabel='Day of the Week', \n",
    "       ylabel='Num of Pick-ups')\n",
    "plt.tight_layout()\n",
    "plt.show()"
   ]
  },
  {
   "cell_type": "code",
   "execution_count": null,
   "metadata": {},
   "outputs": [],
   "source": []
  }
 ],
 "metadata": {
  "celltoolbar": "Slideshow",
  "kernelspec": {
   "display_name": "Python (anaconda3-5.0.0)",
   "language": "python",
   "name": "anaconda3-5.0.0"
  },
  "language_info": {
   "codemirror_mode": {
    "name": "ipython",
    "version": 3
   },
   "file_extension": ".py",
   "mimetype": "text/x-python",
   "name": "python",
   "nbconvert_exporter": "python",
   "pygments_lexer": "ipython3",
   "version": "3.6.2"
  },
  "varInspector": {
   "cols": {
    "lenName": 16,
    "lenType": 16,
    "lenVar": 40
   },
   "kernels_config": {
    "python": {
     "delete_cmd_postfix": "",
     "delete_cmd_prefix": "del ",
     "library": "var_list.py",
     "varRefreshCmd": "print(var_dic_list())"
    },
    "r": {
     "delete_cmd_postfix": ") ",
     "delete_cmd_prefix": "rm(",
     "library": "var_list.r",
     "varRefreshCmd": "cat(var_dic_list()) "
    }
   },
   "types_to_exclude": [
    "module",
    "function",
    "builtin_function_or_method",
    "instance",
    "_Feature"
   ],
   "window_display": false
  }
 },
 "nbformat": 4,
 "nbformat_minor": 2
}
