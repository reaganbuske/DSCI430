{
 "cells": [
  {
   "cell_type": "markdown",
   "metadata": {},
   "source": [
    "# Lab 10 - Pruning Lakes\n",
    "\n",
    "Recall that one of the files (starts with `mces`) contains water quality measurements for lakes in the Twin Cities.  In this lab, we will narrow down the list of lakes for which we have at least one of each measurement type (phosphorus and secchi depth) for each year between 2004 and 2015."
   ]
  },
  {
   "cell_type": "markdown",
   "metadata": {},
   "source": [
    "## Tasks\n",
    "\n",
    "Build a query that leads to a list of lake names and codes that fit the following criteria.\n",
    "\n",
    "1. Only contains years after 2003.\n",
    "2. Only contains lakes that have at least one non-null measurement of each type in each year.\n",
    "3. Contains both the lake name and the lake code.\n",
    "\n",
    "\n",
    "## Suggested workflow\n",
    "\n",
    "1. filter and mutate as needed.\n",
    "2. group and aggregate (hint: You will need to do this twice).\n",
    "3. filter on the number of observations per year (we want 11, one for each year between 2004-2014)."
   ]
  }
 ],
 "metadata": {
  "kernelspec": {
   "display_name": "Python 3",
   "language": "python",
   "name": "python3"
  },
  "language_info": {
   "codemirror_mode": {
    "name": "ipython",
    "version": 3
   },
   "file_extension": ".py",
   "mimetype": "text/x-python",
   "name": "python",
   "nbconvert_exporter": "python",
   "pygments_lexer": "ipython3",
   "version": "3.7.2"
  }
 },
 "nbformat": 4,
 "nbformat_minor": 2
}
