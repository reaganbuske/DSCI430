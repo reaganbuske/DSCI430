{
 "cells": [
  {
   "cell_type": "markdown",
   "metadata": {},
   "source": [
    "# Database Creation in Python"
   ]
  },
  {
   "cell_type": "markdown",
   "metadata": {},
   "source": [
    "## Outline\n",
    "\n",
    "* Database engines and the `sqlalchemy` abstractions\n",
    "* Creating a row class\n",
    "* Adding data to a database table\n",
    "* Basic queries"
   ]
  },
  {
   "cell_type": "markdown",
   "metadata": {},
   "source": [
    "## Types of databases\n",
    "\n",
    "* Relational\n",
    "* NoSQL\n",
    "\n",
    "See [this blog post](https://www.alooma.com/blog/types-of-modern-databases) for a nice overview"
   ]
  },
  {
   "cell_type": "markdown",
   "metadata": {},
   "source": [
    "## Some common relational/SQL engines\n",
    "\n",
    "* `sqlite` (comes with Python)\n",
    "* `postgres`\n",
    "* `MySQL`"
   ]
  },
  {
   "cell_type": "markdown",
   "metadata": {},
   "source": [
    "## Types of NoSQL databased\n",
    "\n",
    "* [Key/Value stores](https://en.wikipedia.org/wiki/Key-value_database)\n",
    "* [Wide Column stores](https://en.wikipedia.org/wiki/Wide_column_store)\n",
    "* [Document stores](https://en.wikipedia.org/wiki/Document-oriented_database)"
   ]
  },
  {
   "cell_type": "markdown",
   "metadata": {},
   "source": [
    "## What we will use\n",
    "\n",
    "* `sqllite` SQL database engine\n",
    "* `sqlalchemy` object abstraction"
   ]
  },
  {
   "cell_type": "markdown",
   "metadata": {},
   "source": [
    "## What is `sqlalchemy`?\n",
    "\n",
    "* Everything in Python is an object\n",
    "* `sqlalchemy` allows performing SQL with a dot-chain\n",
    "    * `session.query(Address).filter(Address.person == person).all()`\n",
    "* provides classes/objects for\n",
    "    * Tables\n",
    "    * Rows\n",
    "    * Metadata\n",
    "    * Inspections"
   ]
  },
  {
   "cell_type": "code",
   "execution_count": 1,
   "metadata": {},
   "outputs": [
    {
     "data": {
      "text/plain": [
       "'1.1.13'"
      ]
     },
     "execution_count": 1,
     "metadata": {},
     "output_type": "execute_result"
    }
   ],
   "source": [
    "import sqlalchemy\n",
    "sqlalchemy.__version__ "
   ]
  },
  {
   "cell_type": "markdown",
   "metadata": {},
   "source": [
    "# Case Study - Super Hero Traits\n",
    "\n",
    "The file `./data/heroes_information.csv` contains information an various comic book super heros.  Let's read this file using `csv.Dictreader`"
   ]
  },
  {
   "cell_type": "markdown",
   "metadata": {},
   "source": [
    "## Creating a database with `pandas`\n",
    "\n",
    "We use `pandas` to\n",
    "\n",
    "* Read the data\n",
    "* Clean the column names and `NA`s\n",
    "* Create the `sqlite` database"
   ]
  },
  {
   "cell_type": "markdown",
   "metadata": {},
   "source": [
    "## Step 1 - Read and Clean the Data\n",
    "\n",
    "First step is to\n",
    "\n",
    "* Inspect the data\n",
    "* Read the data, paying attention to `NA`s\n",
    "* Clean up the column names"
   ]
  },
  {
   "cell_type": "markdown",
   "metadata": {},
   "source": [
    "## Inspecting the raw csv file"
   ]
  },
  {
   "cell_type": "code",
   "execution_count": 2,
   "metadata": {},
   "outputs": [
    {
     "name": "stdout",
     "output_type": "stream",
     "text": [
      "Id,name,Gender,Eye color,Race,Hair color,Height,Publisher,Skin color,Alignment,Weight\r",
      "\r\n",
      "0,A-Bomb,Male,yellow,Human,No Hair,203.0,Marvel Comics,-,good,441.0\r",
      "\r\n",
      "1,Abe Sapien,Male,blue,Icthyo Sapien,No Hair,191.0,Dark Horse Comics,blue,good,65.0\r",
      "\r\n",
      "2,Abin Sur,Male,blue,Ungaran,No Hair,185.0,DC Comics,red,good,90.0\r",
      "\r\n",
      "3,Abomination,Male,green,Human / Radiation,No Hair,203.0,Marvel Comics,-,bad,441.0\r",
      "\r\n",
      "4,Abraxas,Male,blue,Cosmic Entity,Black,-99.0,Marvel Comics,-,bad,-99.0\r",
      "\r\n",
      "5,Absorbing Man,Male,blue,Human,No Hair,193.0,Marvel Comics,-,bad,122.0\r",
      "\r\n",
      "6,Adam Monroe,Male,blue,-,Blond,-99.0,NBC - Heroes,-,good,-99.0\r",
      "\r\n",
      "7,Adam Strange,Male,blue,Human,Blond,185.0,DC Comics,-,good,88.0\r",
      "\r\n",
      "8,Agent 13,Female,blue,-,Blond,173.0,Marvel Comics,-,good,61.0\r",
      "\r\n"
     ]
    }
   ],
   "source": [
    "!head  ./data/heroes_information.csv"
   ]
  },
  {
   "cell_type": "markdown",
   "metadata": {},
   "source": [
    "## Be a Data Detective!\n",
    "\n",
    "<img src=\"./img/heroes_problem_1.png\" width=600>"
   ]
  },
  {
   "cell_type": "markdown",
   "metadata": {},
   "source": [
    "## Be a Data Detective!\n",
    "\n",
    "<img src=\"./img/heroes_problem_2.png\" width=600>"
   ]
  },
  {
   "cell_type": "markdown",
   "metadata": {},
   "source": [
    "## Read the file into `pandas`"
   ]
  },
  {
   "cell_type": "code",
   "execution_count": 3,
   "metadata": {},
   "outputs": [
    {
     "data": {
      "text/html": [
       "<div>\n",
       "<style scoped>\n",
       "    .dataframe tbody tr th:only-of-type {\n",
       "        vertical-align: middle;\n",
       "    }\n",
       "\n",
       "    .dataframe tbody tr th {\n",
       "        vertical-align: top;\n",
       "    }\n",
       "\n",
       "    .dataframe thead th {\n",
       "        text-align: right;\n",
       "    }\n",
       "</style>\n",
       "<table border=\"1\" class=\"dataframe\">\n",
       "  <thead>\n",
       "    <tr style=\"text-align: right;\">\n",
       "      <th></th>\n",
       "      <th>Id</th>\n",
       "      <th>name</th>\n",
       "      <th>Gender</th>\n",
       "      <th>Eye color</th>\n",
       "      <th>Race</th>\n",
       "      <th>Hair color</th>\n",
       "      <th>Height</th>\n",
       "      <th>Publisher</th>\n",
       "      <th>Skin color</th>\n",
       "      <th>Alignment</th>\n",
       "      <th>Weight</th>\n",
       "    </tr>\n",
       "  </thead>\n",
       "  <tbody>\n",
       "    <tr>\n",
       "      <th>0</th>\n",
       "      <td>0</td>\n",
       "      <td>A-Bomb</td>\n",
       "      <td>Male</td>\n",
       "      <td>yellow</td>\n",
       "      <td>Human</td>\n",
       "      <td>No Hair</td>\n",
       "      <td>203.0</td>\n",
       "      <td>Marvel Comics</td>\n",
       "      <td>NaN</td>\n",
       "      <td>good</td>\n",
       "      <td>441.0</td>\n",
       "    </tr>\n",
       "    <tr>\n",
       "      <th>1</th>\n",
       "      <td>1</td>\n",
       "      <td>Abe Sapien</td>\n",
       "      <td>Male</td>\n",
       "      <td>blue</td>\n",
       "      <td>Icthyo Sapien</td>\n",
       "      <td>No Hair</td>\n",
       "      <td>191.0</td>\n",
       "      <td>Dark Horse Comics</td>\n",
       "      <td>blue</td>\n",
       "      <td>good</td>\n",
       "      <td>65.0</td>\n",
       "    </tr>\n",
       "    <tr>\n",
       "      <th>2</th>\n",
       "      <td>2</td>\n",
       "      <td>Abin Sur</td>\n",
       "      <td>Male</td>\n",
       "      <td>blue</td>\n",
       "      <td>Ungaran</td>\n",
       "      <td>No Hair</td>\n",
       "      <td>185.0</td>\n",
       "      <td>DC Comics</td>\n",
       "      <td>red</td>\n",
       "      <td>good</td>\n",
       "      <td>90.0</td>\n",
       "    </tr>\n",
       "    <tr>\n",
       "      <th>3</th>\n",
       "      <td>3</td>\n",
       "      <td>Abomination</td>\n",
       "      <td>Male</td>\n",
       "      <td>green</td>\n",
       "      <td>Human / Radiation</td>\n",
       "      <td>No Hair</td>\n",
       "      <td>203.0</td>\n",
       "      <td>Marvel Comics</td>\n",
       "      <td>NaN</td>\n",
       "      <td>bad</td>\n",
       "      <td>441.0</td>\n",
       "    </tr>\n",
       "    <tr>\n",
       "      <th>4</th>\n",
       "      <td>4</td>\n",
       "      <td>Abraxas</td>\n",
       "      <td>Male</td>\n",
       "      <td>blue</td>\n",
       "      <td>Cosmic Entity</td>\n",
       "      <td>Black</td>\n",
       "      <td>NaN</td>\n",
       "      <td>Marvel Comics</td>\n",
       "      <td>NaN</td>\n",
       "      <td>bad</td>\n",
       "      <td>NaN</td>\n",
       "    </tr>\n",
       "  </tbody>\n",
       "</table>\n",
       "</div>"
      ],
      "text/plain": [
       "   Id         name Gender Eye color               Race Hair color  Height  \\\n",
       "0   0       A-Bomb   Male    yellow              Human    No Hair   203.0   \n",
       "1   1   Abe Sapien   Male      blue      Icthyo Sapien    No Hair   191.0   \n",
       "2   2     Abin Sur   Male      blue            Ungaran    No Hair   185.0   \n",
       "3   3  Abomination   Male     green  Human / Radiation    No Hair   203.0   \n",
       "4   4      Abraxas   Male      blue      Cosmic Entity      Black     NaN   \n",
       "\n",
       "           Publisher Skin color Alignment  Weight  \n",
       "0      Marvel Comics        NaN      good   441.0  \n",
       "1  Dark Horse Comics       blue      good    65.0  \n",
       "2          DC Comics        red      good    90.0  \n",
       "3      Marvel Comics        NaN       bad   441.0  \n",
       "4      Marvel Comics        NaN       bad     NaN  "
      ]
     },
     "execution_count": 3,
     "metadata": {},
     "output_type": "execute_result"
    }
   ],
   "source": [
    "import pandas as pd\n",
    "df = pd.read_csv('./data/heroes_information.csv', na_values=['-', '', '-99.0'])\n",
    "df.head()"
   ]
  },
  {
   "cell_type": "markdown",
   "metadata": {},
   "source": [
    "## Cleaning up the column names\n",
    "\n",
    "First, create a `dict` of new-names/old-names."
   ]
  },
  {
   "cell_type": "code",
   "execution_count": 4,
   "metadata": {},
   "outputs": [
    {
     "data": {
      "text/plain": [
       "{'id': 'Id',\n",
       " 'name': 'name',\n",
       " 'gender': 'Gender',\n",
       " 'eye_color': 'Eye color',\n",
       " 'race': 'Race',\n",
       " 'hair_color': 'Hair color',\n",
       " 'height': 'Height',\n",
       " 'publisher': 'Publisher',\n",
       " 'skin_color': 'Skin color',\n",
       " 'alignment': 'Alignment',\n",
       " 'weight': 'Weight'}"
      ]
     },
     "execution_count": 4,
     "metadata": {},
     "output_type": "execute_result"
    }
   ],
   "source": [
    "from dfply import *\n",
    "clean_names = lambda name: name.strip().lower().replace(' ', '_')\n",
    "new_names = {clean_names(old_name):old_name for old_name in df.columns}\n",
    "new_names"
   ]
  },
  {
   "cell_type": "markdown",
   "metadata": {},
   "source": [
    "## Cleaning up the column names\n",
    "\n",
    "Now us rename to fix the names."
   ]
  },
  {
   "cell_type": "code",
   "execution_count": 5,
   "metadata": {},
   "outputs": [
    {
     "data": {
      "text/plain": [
       "Index(['id', 'name', 'gender', 'eye_color', 'race', 'hair_color', 'height',\n",
       "       'publisher', 'skin_color', 'alignment', 'weight'],\n",
       "      dtype='object')"
      ]
     },
     "execution_count": 5,
     "metadata": {},
     "output_type": "execute_result"
    }
   ],
   "source": [
    "from dfply import rename\n",
    "df_renamed = (df >>\n",
    "              rename(**new_names))\n",
    "df_renamed.columns"
   ]
  },
  {
   "cell_type": "markdown",
   "metadata": {},
   "source": [
    "## How to create a database with `pandas`\n",
    "\n",
    "1. Start a `sqlalchemy` engine\n",
    "2. Define the `sqlalchemy` column types\n",
    "4. Use `to_sql` to write the database"
   ]
  },
  {
   "cell_type": "markdown",
   "metadata": {},
   "source": [
    "## Step 1 - Creating a `sqlalchemy` engine"
   ]
  },
  {
   "cell_type": "code",
   "execution_count": 6,
   "metadata": {},
   "outputs": [],
   "source": [
    "from sqlalchemy import create_engine\n",
    "engine = create_engine('sqlite:///heroes.db', echo=False)"
   ]
  },
  {
   "cell_type": "markdown",
   "metadata": {},
   "source": [
    "## Step 2 - Defining the `sqlalchemy` column types"
   ]
  },
  {
   "cell_type": "code",
   "execution_count": 7,
   "metadata": {},
   "outputs": [],
   "source": [
    "from sqlalchemy import Integer, Float, String\n",
    "\n",
    "sql_types = {'id': Integer, \n",
    "             'name': String, \n",
    "             'gender': String, \n",
    "             'eye_color': String, \n",
    "             'race': String, \n",
    "             'hair_color': String, \n",
    "             'height':Float, \n",
    "             'publisher': String, \n",
    "             'skin_color': String, \n",
    "             'alignment': String, \n",
    "             'weight':Float}"
   ]
  },
  {
   "cell_type": "markdown",
   "metadata": {},
   "source": [
    "## Step 3 - Writing the database with `to_sql`"
   ]
  },
  {
   "cell_type": "code",
   "execution_count": 8,
   "metadata": {},
   "outputs": [],
   "source": [
    "df_renamed.to_sql('heroes', \n",
    "                  con=engine, \n",
    "                  dtype=sql_types, \n",
    "                  index=False,\n",
    "                  if_exists='replace')"
   ]
  },
  {
   "cell_type": "markdown",
   "metadata": {},
   "source": [
    "# `sqlalchemy` Queries"
   ]
  },
  {
   "cell_type": "markdown",
   "metadata": {},
   "source": [
    "## Working with an existing database\n",
    "\n",
    "1. Create an engine linked to the database file\n",
    "2. Automatically create Python objects for the tables/columns/etc.\n",
    "3. Inspect the database\n",
    "4. Create a session connected to the session"
   ]
  },
  {
   "cell_type": "markdown",
   "metadata": {},
   "source": [
    "## Step 1 - Connect to a database\n",
    "\n",
    "`create_engine`\n",
    "\n",
    "* connects to an existing db\n",
    "* creates it if necessary\n",
    "* speaks the database's language"
   ]
  },
  {
   "cell_type": "code",
   "execution_count": 9,
   "metadata": {},
   "outputs": [],
   "source": [
    "engine2 = create_engine('sqlite:///heroes.db')"
   ]
  },
  {
   "cell_type": "markdown",
   "metadata": {},
   "source": [
    "## To echo, or not to echo\n",
    "\n",
    "* In this example, `db.echo = True`\n",
    "* Normally, `db.echo = False`\n",
    "    * SHUT UP ALREADY"
   ]
  },
  {
   "cell_type": "code",
   "execution_count": 10,
   "metadata": {},
   "outputs": [],
   "source": [
    "engine2.echo = False"
   ]
  },
  {
   "cell_type": "markdown",
   "metadata": {},
   "source": [
    "## Step 2 - Create Python class for the table(s)\n",
    "\n",
    "To automatically create Python class\n",
    "\n",
    "1. Use `automap_base` to create a `Base` class.\n",
    "2. Connect to the `engine` with `reflect=True`\n",
    "3. Make aliases to class for all tables"
   ]
  },
  {
   "cell_type": "markdown",
   "metadata": {},
   "source": [
    "#### a) Create the `Base` class"
   ]
  },
  {
   "cell_type": "code",
   "execution_count": 11,
   "metadata": {},
   "outputs": [],
   "source": [
    "from sqlalchemy.ext.automap import automap_base\n",
    "Base = automap_base()"
   ]
  },
  {
   "cell_type": "markdown",
   "metadata": {},
   "source": [
    "#### b) Use reflection to `prepare` the `Base` class"
   ]
  },
  {
   "cell_type": "code",
   "execution_count": 23,
   "metadata": {},
   "outputs": [],
   "source": [
    "Base.prepare(engine2, reflect=True)"
   ]
  },
  {
   "cell_type": "markdown",
   "metadata": {},
   "source": [
    "#### c) Create a Python class for each table"
   ]
  },
  {
   "cell_type": "code",
   "execution_count": 36,
   "metadata": {},
   "outputs": [
    {
     "data": {
      "text/plain": [
       "Table('heroes', MetaData(bind=None), Column('id', INTEGER(), table=<heroes>), Column('name', VARCHAR(), table=<heroes>), Column('gender', VARCHAR(), table=<heroes>), Column('eye_color', VARCHAR(), table=<heroes>), Column('race', VARCHAR(), table=<heroes>), Column('hair_color', VARCHAR(), table=<heroes>), Column('height', FLOAT(), table=<heroes>), Column('publisher', VARCHAR(), table=<heroes>), Column('skin_color', VARCHAR(), table=<heroes>), Column('alignment', VARCHAR(), table=<heroes>), Column('weight', FLOAT(), table=<heroes>), schema=None)"
      ]
     },
     "execution_count": 36,
     "metadata": {},
     "output_type": "execute_result"
    }
   ],
   "source": [
    "Hero = Base.metadata.tables['heroes']\n",
    "Hero"
   ]
  },
  {
   "cell_type": "markdown",
   "metadata": {},
   "source": [
    "## Step 3 - Inspecting the database\n",
    "\n",
    "We make a `inspect` object that allows us to inspect with the `db`"
   ]
  },
  {
   "cell_type": "markdown",
   "metadata": {},
   "source": [
    "## Fine-grain Inspection with `inspect`"
   ]
  },
  {
   "cell_type": "code",
   "execution_count": 37,
   "metadata": {},
   "outputs": [],
   "source": [
    "from sqlalchemy import inspect\n",
    "insp = inspect(engine2)"
   ]
  },
  {
   "cell_type": "markdown",
   "metadata": {},
   "source": [
    "## Getting the name of all tables"
   ]
  },
  {
   "cell_type": "code",
   "execution_count": 38,
   "metadata": {},
   "outputs": [
    {
     "data": {
      "text/plain": [
       "['heroes']"
      ]
     },
     "execution_count": 38,
     "metadata": {},
     "output_type": "execute_result"
    }
   ],
   "source": [
    "insp.get_table_names()"
   ]
  },
  {
   "cell_type": "markdown",
   "metadata": {},
   "source": [
    "## Getting detailed information on columns"
   ]
  },
  {
   "cell_type": "code",
   "execution_count": 39,
   "metadata": {
    "scrolled": true
   },
   "outputs": [
    {
     "data": {
      "text/plain": [
       "[{'name': 'id',\n",
       "  'type': INTEGER(),\n",
       "  'nullable': True,\n",
       "  'default': None,\n",
       "  'autoincrement': 'auto',\n",
       "  'primary_key': 0},\n",
       " {'name': 'name',\n",
       "  'type': VARCHAR(),\n",
       "  'nullable': True,\n",
       "  'default': None,\n",
       "  'autoincrement': 'auto',\n",
       "  'primary_key': 0},\n",
       " {'name': 'gender',\n",
       "  'type': VARCHAR(),\n",
       "  'nullable': True,\n",
       "  'default': None,\n",
       "  'autoincrement': 'auto',\n",
       "  'primary_key': 0},\n",
       " {'name': 'eye_color',\n",
       "  'type': VARCHAR(),\n",
       "  'nullable': True,\n",
       "  'default': None,\n",
       "  'autoincrement': 'auto',\n",
       "  'primary_key': 0},\n",
       " {'name': 'race',\n",
       "  'type': VARCHAR(),\n",
       "  'nullable': True,\n",
       "  'default': None,\n",
       "  'autoincrement': 'auto',\n",
       "  'primary_key': 0},\n",
       " {'name': 'hair_color',\n",
       "  'type': VARCHAR(),\n",
       "  'nullable': True,\n",
       "  'default': None,\n",
       "  'autoincrement': 'auto',\n",
       "  'primary_key': 0},\n",
       " {'name': 'height',\n",
       "  'type': FLOAT(),\n",
       "  'nullable': True,\n",
       "  'default': None,\n",
       "  'autoincrement': 'auto',\n",
       "  'primary_key': 0},\n",
       " {'name': 'publisher',\n",
       "  'type': VARCHAR(),\n",
       "  'nullable': True,\n",
       "  'default': None,\n",
       "  'autoincrement': 'auto',\n",
       "  'primary_key': 0},\n",
       " {'name': 'skin_color',\n",
       "  'type': VARCHAR(),\n",
       "  'nullable': True,\n",
       "  'default': None,\n",
       "  'autoincrement': 'auto',\n",
       "  'primary_key': 0},\n",
       " {'name': 'alignment',\n",
       "  'type': VARCHAR(),\n",
       "  'nullable': True,\n",
       "  'default': None,\n",
       "  'autoincrement': 'auto',\n",
       "  'primary_key': 0},\n",
       " {'name': 'weight',\n",
       "  'type': FLOAT(),\n",
       "  'nullable': True,\n",
       "  'default': None,\n",
       "  'autoincrement': 'auto',\n",
       "  'primary_key': 0}]"
      ]
     },
     "execution_count": 39,
     "metadata": {},
     "output_type": "execute_result"
    }
   ],
   "source": [
    "insp.get_columns('heroes')"
   ]
  },
  {
   "cell_type": "markdown",
   "metadata": {},
   "source": [
    "## Step 4 - Making a session object\n",
    "\n",
    "We make a `session` that allows us to interact with the `db`"
   ]
  },
  {
   "cell_type": "markdown",
   "metadata": {},
   "source": [
    "#### a) Make a `Session` class bound to `db`"
   ]
  },
  {
   "cell_type": "code",
   "execution_count": 40,
   "metadata": {},
   "outputs": [],
   "source": [
    "from sqlalchemy.orm import sessionmaker\n",
    "Session = sessionmaker(bind=engine2)"
   ]
  },
  {
   "cell_type": "markdown",
   "metadata": {},
   "source": [
    "#### b) Make an instance of the `Session` class"
   ]
  },
  {
   "cell_type": "code",
   "execution_count": 41,
   "metadata": {},
   "outputs": [],
   "source": [
    "session = Session()"
   ]
  },
  {
   "cell_type": "markdown",
   "metadata": {},
   "source": [
    "## `sqlalchemy` query basics\n",
    "\n",
    "To make a query, we will\n",
    "\n",
    "1. Create a `SQL` statement using \n",
    "    a. `sqlalchemy.select`\n",
    "    b. `text` and a raw `SQL` statement string\n",
    "2. Use the `session` to excute the statement"
   ]
  },
  {
   "cell_type": "markdown",
   "metadata": {},
   "source": [
    "## Our first query, the Python way \n",
    "\n",
    "* `select` allows us to create a statment by dot chaining\n",
    "* The statement is a lazy construct\n",
    "* Need to later execute\n",
    "    * Makes them reusable!"
   ]
  },
  {
   "cell_type": "markdown",
   "metadata": {},
   "source": [
    "#### a) Create the statement"
   ]
  },
  {
   "cell_type": "code",
   "execution_count": 42,
   "metadata": {},
   "outputs": [],
   "source": [
    "from sqlalchemy import select\n",
    "stmt = select('*').select_from(Hero)"
   ]
  },
  {
   "cell_type": "markdown",
   "metadata": {},
   "source": [
    "#### b) Execute the statement"
   ]
  },
  {
   "cell_type": "code",
   "execution_count": 43,
   "metadata": {},
   "outputs": [
    {
     "data": {
      "text/plain": [
       "[(0, 'A-Bomb', 'Male', 'yellow', 'Human', 'No Hair', 203.0, 'Marvel Comics', None, 'good', 441.0),\n",
       " (1, 'Abe Sapien', 'Male', 'blue', 'Icthyo Sapien', 'No Hair', 191.0, 'Dark Horse Comics', 'blue', 'good', 65.0),\n",
       " (2, 'Abin Sur', 'Male', 'blue', 'Ungaran', 'No Hair', 185.0, 'DC Comics', 'red', 'good', 90.0),\n",
       " (3, 'Abomination', 'Male', 'green', 'Human / Radiation', 'No Hair', 203.0, 'Marvel Comics', None, 'bad', 441.0),\n",
       " (4, 'Abraxas', 'Male', 'blue', 'Cosmic Entity', 'Black', None, 'Marvel Comics', None, 'bad', None)]"
      ]
     },
     "execution_count": 43,
     "metadata": {},
     "output_type": "execute_result"
    }
   ],
   "source": [
    "session.execute(stmt).fetchmany(5)"
   ]
  },
  {
   "cell_type": "markdown",
   "metadata": {},
   "source": [
    "## The core of a SQL statement\n",
    "\n",
    "* All `SQL` statements have the form `SELECT .... FROM ...`\n",
    "* We can add other clauses, for example a filter\n",
    "* Notice we don't need the `select_from` due to using `Hero` in select"
   ]
  },
  {
   "cell_type": "code",
   "execution_count": 44,
   "metadata": {},
   "outputs": [
    {
     "data": {
      "text/plain": [
       "[('A-Bomb', 'Male', 'yellow'),\n",
       " ('Abe Sapien', 'Male', 'blue'),\n",
       " ('Abin Sur', 'Male', 'blue'),\n",
       " ('Abomination', 'Male', 'green'),\n",
       " ('Abraxas', 'Male', 'blue')]"
      ]
     },
     "execution_count": 44,
     "metadata": {},
     "output_type": "execute_result"
    }
   ],
   "source": [
    "stmt2 = select([Hero.c.name, Hero.c.gender, Hero.c.eye_color]).where(Hero.c.gender == 'Male')\n",
    "session.execute(stmt2).fetchmany(5)"
   ]
  },
  {
   "cell_type": "markdown",
   "metadata": {},
   "source": [
    "## Grouping and counting\n",
    "\n",
    "We can add `group_by` and `count` to aggregate the data."
   ]
  },
  {
   "cell_type": "code",
   "execution_count": 55,
   "metadata": {},
   "outputs": [
    {
     "data": {
      "text/plain": [
       "[(None, 0), ('Female', 200), ('Male', 505)]"
      ]
     },
     "execution_count": 55,
     "metadata": {},
     "output_type": "execute_result"
    }
   ],
   "source": [
    "from sqlalchemy import func as f\n",
    "stmt3 = select([Hero.c.gender, \n",
    "                f.count(Hero.c.gender).label('gender_count')]).\\\n",
    "          group_by(Hero.c.gender)\n",
    "session.execute(stmt3).fetchall()"
   ]
  },
  {
   "cell_type": "code",
   "execution_count": 54,
   "metadata": {},
   "outputs": [
    {
     "data": {
      "text/plain": [
       "[(None, 177.06666666666666),\n",
       " ('Female', 174.68402777777777),\n",
       " ('Male', 191.97486033519553)]"
      ]
     },
     "execution_count": 54,
     "metadata": {},
     "output_type": "execute_result"
    }
   ],
   "source": [
    "from sqlalchemy import func as f\n",
    "stmt3 = select([Hero.c.gender, \n",
    "                f.avg(Hero.c.height).label('avg_height')]).\\\n",
    "         group_by(Hero.c.gender)\n",
    "session.execute(stmt3).fetchall()"
   ]
  },
  {
   "cell_type": "markdown",
   "metadata": {},
   "source": [
    "## Summary - Database Communication\n",
    "\n",
    "* `engine` \"speaks\" our db language\n",
    "* `session` provides the API to query the db\n",
    "* `session` $\\leftrightarrow$ `engine` $\\leftrightarrow$ `sqlite`"
   ]
  },
  {
   "cell_type": "markdown",
   "metadata": {},
   "source": [
    "## Up Next\n",
    "\n",
    "1. Now you should complete [Lab 1](./lab_1_super_powers_and_SQL.ipynb) to practice creating a `sqlalchemy` database, then\n",
    "2. We will look at using `DataFrame`s in `pyspark` in [Lecture 1.3](./1_3_introduction_to_pyspark_dataframes.ipynb)\n",
    "3. We will take a unified look queries in [Lecture 2.1](./2_1_dataframe_verbs_select_filter_mutate.ipynb)"
   ]
  },
  {
   "cell_type": "markdown",
   "metadata": {},
   "source": [
    "# Appendix 1 - Declarative creation of `sqlalchemy` database tables"
   ]
  },
  {
   "cell_type": "markdown",
   "metadata": {},
   "source": [
    "## An example `sqlalchemy` table"
   ]
  },
  {
   "cell_type": "code",
   "execution_count": null,
   "metadata": {},
   "outputs": [],
   "source": [
    "# Start over by deleting the existing db\n",
    "!rm tutorial.db"
   ]
  },
  {
   "cell_type": "code",
   "execution_count": 54,
   "metadata": {
    "scrolled": true
   },
   "outputs": [
    {
     "name": "stdout",
     "output_type": "stream",
     "text": [
      "2019-01-18 11:40:49,851 INFO sqlalchemy.engine.base.Engine SELECT CAST('test plain returns' AS VARCHAR(60)) AS anon_1\n",
      "2019-01-18 11:40:49,857 INFO sqlalchemy.engine.base.Engine ()\n",
      "2019-01-18 11:40:49,862 INFO sqlalchemy.engine.base.Engine SELECT CAST('test unicode returns' AS VARCHAR(60)) AS anon_1\n",
      "2019-01-18 11:40:49,867 INFO sqlalchemy.engine.base.Engine ()\n",
      "2019-01-18 11:40:49,873 INFO sqlalchemy.engine.base.Engine PRAGMA table_info(\"user\")\n",
      "2019-01-18 11:40:49,875 INFO sqlalchemy.engine.base.Engine ()\n",
      "2019-01-18 11:40:49,883 INFO sqlalchemy.engine.base.Engine \n",
      "CREATE TABLE user (\n",
      "\tid INTEGER NOT NULL, \n",
      "\tname VARCHAR, \n",
      "\tage INTEGER, \n",
      "\tpassword VARCHAR, \n",
      "\tPRIMARY KEY (id)\n",
      ")\n",
      "\n",
      "\n",
      "2019-01-18 11:40:49,885 INFO sqlalchemy.engine.base.Engine ()\n",
      "2019-01-18 11:40:49,902 INFO sqlalchemy.engine.base.Engine COMMIT\n"
     ]
    }
   ],
   "source": [
    "from sqlalchemy import create_engine, Column, Integer, String\n",
    "from sqlalchemy.ext.declarative import declarative_base\n",
    "\n",
    "db = create_engine('sqlite:///tutorial.db')\n",
    "\n",
    "db.echo = True\n",
    "\n",
    "Base = declarative_base()\n",
    "\n",
    "class User(Base):\n",
    "    __tablename__ = 'user'\n",
    "\n",
    "    id = Column(Integer, primary_key=True)\n",
    "    name = Column(String)\n",
    "    age = Column(Integer)\n",
    "    password = Column(String)\n",
    "    \n",
    "    def __repr__(self):\n",
    "        base = \"User(name={0}, age={1}, password={2})\"\n",
    "        return base.format(self.name, self.age, self.password)\n",
    "\n",
    "Base.metadata.create_all(db)"
   ]
  },
  {
   "cell_type": "markdown",
   "metadata": {},
   "source": [
    "## Summary - Database Representation\n",
    "\n",
    "* `Base` class handles the `db` metadata\n",
    "* All tables inherit `Base`\n",
    "* `Column`s are class attributes on the tables\n",
    "* `Column`s hold the type information"
   ]
  },
  {
   "cell_type": "markdown",
   "metadata": {},
   "source": [
    "## The `Base` class\n",
    "\n",
    "<img src=\"./img/db_repr_1.png\" width=400>"
   ]
  },
  {
   "cell_type": "markdown",
   "metadata": {},
   "source": [
    "## The `Used` inherits from `Base`\n",
    "\n",
    "<img src=\"./img/db_repr_2.png\" width=400>"
   ]
  },
  {
   "cell_type": "markdown",
   "metadata": {},
   "source": [
    "## The `Column`s are assigned as class attributes\n",
    "\n",
    "<img src=\"./img/db_repr_3.png\" width=400>"
   ]
  },
  {
   "cell_type": "markdown",
   "metadata": {},
   "source": [
    "## The `__repr__` properly displays each row\n",
    "\n",
    "<img src=\"./img/db_repr_4.png\" width=400>"
   ]
  },
  {
   "cell_type": "markdown",
   "metadata": {},
   "source": [
    "## Step 1 - Connect to a database\n",
    "\n",
    "`create_engine`\n",
    "\n",
    "* connects to an existing db\n",
    "* creates it if necessary\n",
    "* speaks the database's language"
   ]
  },
  {
   "cell_type": "code",
   "execution_count": 36,
   "metadata": {},
   "outputs": [],
   "source": [
    "db = create_engine('sqlite:///tutorial.db')"
   ]
  },
  {
   "cell_type": "markdown",
   "metadata": {},
   "source": [
    "## To echo, or not to echo\n",
    "\n",
    "* In this example, `db.echo = True`\n",
    "* Normally, `db.echo = False`\n",
    "    * SHUT UP ALREADY"
   ]
  },
  {
   "cell_type": "code",
   "execution_count": 37,
   "metadata": {},
   "outputs": [],
   "source": [
    "db.echo = True"
   ]
  },
  {
   "cell_type": "markdown",
   "metadata": {},
   "source": [
    "## Step 2 - Make a base class\n",
    "\n",
    "* Our table will inherit from this class\n",
    "* This class hold the metadata\n",
    "    * metadata == data about our data"
   ]
  },
  {
   "cell_type": "code",
   "execution_count": 38,
   "metadata": {},
   "outputs": [],
   "source": [
    "Base = declarative_base()"
   ]
  },
  {
   "cell_type": "markdown",
   "metadata": {},
   "source": [
    "## Defining a class representation of a table\n",
    "\n",
    "* Needs to match our table\n",
    "* the `__table__` holds the metadata\n",
    "* Will be instanciated later"
   ]
  },
  {
   "cell_type": "code",
   "execution_count": 55,
   "metadata": {},
   "outputs": [
    {
     "data": {
      "text/plain": [
       "Table('user', MetaData(bind=None), Column('id', Integer(), table=<user>, primary_key=True, nullable=False), Column('name', String(), table=<user>), Column('age', Integer(), table=<user>), Column('password', String(), table=<user>), schema=None)"
      ]
     },
     "execution_count": 55,
     "metadata": {},
     "output_type": "execute_result"
    }
   ],
   "source": [
    "User.__table__"
   ]
  },
  {
   "cell_type": "markdown",
   "metadata": {},
   "source": [
    "## Base is a metaclass which creates a subclass\n",
    "\n",
    "<img src=\"./img/base_metaclass.png\" width=600>"
   ]
  },
  {
   "cell_type": "markdown",
   "metadata": {},
   "source": [
    "## Making an instance of our table\n",
    "\n",
    "Here the `db` engine is telling sqlite to create the table(s)"
   ]
  },
  {
   "cell_type": "code",
   "execution_count": 40,
   "metadata": {},
   "outputs": [
    {
     "name": "stdout",
     "output_type": "stream",
     "text": [
      "2019-01-18 11:33:53,697 INFO sqlalchemy.engine.base.Engine SELECT CAST('test plain returns' AS VARCHAR(60)) AS anon_1\n",
      "2019-01-18 11:33:53,698 INFO sqlalchemy.engine.base.Engine ()\n",
      "2019-01-18 11:33:53,701 INFO sqlalchemy.engine.base.Engine SELECT CAST('test unicode returns' AS VARCHAR(60)) AS anon_1\n",
      "2019-01-18 11:33:53,702 INFO sqlalchemy.engine.base.Engine ()\n"
     ]
    }
   ],
   "source": [
    "Base.metadata.create_all(db)"
   ]
  },
  {
   "cell_type": "markdown",
   "metadata": {},
   "source": [
    "## Inspecting the Table - Inspecting Table Names\n",
    "\n",
    "1. Create a instance of `user` with `Table`\n",
    "2. Use a comprehension, as shown below."
   ]
  },
  {
   "cell_type": "code",
   "execution_count": 56,
   "metadata": {},
   "outputs": [
    {
     "data": {
      "text/plain": [
       "['id', 'name', 'age', 'password']"
      ]
     },
     "execution_count": 56,
     "metadata": {},
     "output_type": "execute_result"
    }
   ],
   "source": [
    "from sqlalchemy import Table\n",
    "user = Table('user', Base.metadata, autoload=True, autoload_with=db)\n",
    "[col.name for col in user.columns]"
   ]
  },
  {
   "cell_type": "markdown",
   "metadata": {},
   "source": [
    "## Tables are unique\n",
    "\n",
    "* Only 1 instance of a given table.\n",
    "* Handled by `sqlalchemy`\n",
    "* New instances just point to the older one"
   ]
  },
  {
   "cell_type": "code",
   "execution_count": 57,
   "metadata": {},
   "outputs": [
    {
     "data": {
      "text/plain": [
       "True"
      ]
     },
     "execution_count": 57,
     "metadata": {},
     "output_type": "execute_result"
    }
   ],
   "source": [
    "user2 =  Table('user', Base.metadata)\n",
    "user is user2"
   ]
  },
  {
   "cell_type": "markdown",
   "metadata": {},
   "source": [
    "## Fine-grain Inspection with `inspect`"
   ]
  },
  {
   "cell_type": "code",
   "execution_count": 58,
   "metadata": {},
   "outputs": [],
   "source": [
    "from sqlalchemy import inspect\n",
    "insp = inspect(db)"
   ]
  },
  {
   "cell_type": "markdown",
   "metadata": {},
   "source": [
    "## Getting the name of all tables"
   ]
  },
  {
   "cell_type": "code",
   "execution_count": 59,
   "metadata": {},
   "outputs": [
    {
     "name": "stdout",
     "output_type": "stream",
     "text": [
      "2019-01-18 11:41:20,153 INFO sqlalchemy.engine.base.Engine SELECT name FROM sqlite_master WHERE type='table' ORDER BY name\n",
      "2019-01-18 11:41:20,154 INFO sqlalchemy.engine.base.Engine ()\n"
     ]
    },
    {
     "data": {
      "text/plain": [
       "['user']"
      ]
     },
     "execution_count": 59,
     "metadata": {},
     "output_type": "execute_result"
    }
   ],
   "source": [
    "insp.get_table_names()"
   ]
  },
  {
   "cell_type": "markdown",
   "metadata": {},
   "source": [
    "## Getting detailed information on columns"
   ]
  },
  {
   "cell_type": "code",
   "execution_count": 60,
   "metadata": {
    "scrolled": true
   },
   "outputs": [
    {
     "name": "stdout",
     "output_type": "stream",
     "text": [
      "2019-01-18 11:41:24,102 INFO sqlalchemy.engine.base.Engine PRAGMA table_info(\"user\")\n",
      "2019-01-18 11:41:24,103 INFO sqlalchemy.engine.base.Engine ()\n"
     ]
    },
    {
     "data": {
      "text/plain": [
       "[{'name': 'id',\n",
       "  'type': INTEGER(),\n",
       "  'nullable': False,\n",
       "  'default': None,\n",
       "  'autoincrement': 'auto',\n",
       "  'primary_key': 1},\n",
       " {'name': 'name',\n",
       "  'type': VARCHAR(),\n",
       "  'nullable': True,\n",
       "  'default': None,\n",
       "  'autoincrement': 'auto',\n",
       "  'primary_key': 0},\n",
       " {'name': 'age',\n",
       "  'type': INTEGER(),\n",
       "  'nullable': True,\n",
       "  'default': None,\n",
       "  'autoincrement': 'auto',\n",
       "  'primary_key': 0},\n",
       " {'name': 'password',\n",
       "  'type': VARCHAR(),\n",
       "  'nullable': True,\n",
       "  'default': None,\n",
       "  'autoincrement': 'auto',\n",
       "  'primary_key': 0}]"
      ]
     },
     "execution_count": 60,
     "metadata": {},
     "output_type": "execute_result"
    }
   ],
   "source": [
    "insp.get_columns('user')"
   ]
  },
  {
   "cell_type": "markdown",
   "metadata": {},
   "source": [
    "## More to come\n",
    "\n",
    "We will revisit inspection when we set up table relationships."
   ]
  },
  {
   "cell_type": "markdown",
   "metadata": {},
   "source": [
    "# Adding Data to a Table\n",
    "\n",
    "Next, we will look at adding and commiting data to a table."
   ]
  },
  {
   "cell_type": "markdown",
   "metadata": {},
   "source": [
    "## `sqlalchemy` is lazy\n",
    "\n",
    "* You need to *tell it* to complete tasks\n",
    "* Using `db.echo == True` allows us to see when things actually happen\n",
    "* This is good!\n",
    "* Double check your work before commiting!"
   ]
  },
  {
   "cell_type": "markdown",
   "metadata": {},
   "source": [
    "## Making a session object\n",
    "\n",
    "We make a `session` that allows us to interact with the `db`"
   ]
  },
  {
   "cell_type": "markdown",
   "metadata": {},
   "source": [
    "#### a) Make a Session class bound to `db`"
   ]
  },
  {
   "cell_type": "code",
   "execution_count": 61,
   "metadata": {},
   "outputs": [],
   "source": [
    "from sqlalchemy.orm import sessionmaker\n",
    "Session = sessionmaker(bind=db)"
   ]
  },
  {
   "cell_type": "markdown",
   "metadata": {},
   "source": [
    "#### b) Make an instance of the `Session` class"
   ]
  },
  {
   "cell_type": "code",
   "execution_count": 62,
   "metadata": {},
   "outputs": [],
   "source": [
    "session = Session()"
   ]
  },
  {
   "cell_type": "markdown",
   "metadata": {},
   "source": [
    "## Summary - Database Communication\n",
    "\n",
    "* `engine` \"speaks\" our db language\n",
    "* `session` provides the API to change the db\n",
    "* `session` $\\leftrightarrow$ `engine` $\\leftrightarrow$ `sqlite`"
   ]
  },
  {
   "cell_type": "markdown",
   "metadata": {},
   "source": [
    "## Adding data to a table - one row at a time\n",
    "\n",
    "Use keywords for each column"
   ]
  },
  {
   "cell_type": "code",
   "execution_count": 63,
   "metadata": {},
   "outputs": [],
   "source": [
    "ed_user = User(name='ed', age=42, password='edspassword')\n",
    "session.add(ed_user)"
   ]
  },
  {
   "cell_type": "markdown",
   "metadata": {},
   "source": [
    "## Using a `dict` and keyword unpacking\n",
    "\n",
    "* Information in a `dict`\n",
    "* Unpack the info with `**`"
   ]
  },
  {
   "cell_type": "code",
   "execution_count": 64,
   "metadata": {},
   "outputs": [],
   "source": [
    "beth_info=   {'name':'beth', 'age':39, 'password':'bethspassword'}\n",
    "beth_user = User(**beth_info)\n",
    "session.add(beth_user)"
   ]
  },
  {
   "cell_type": "markdown",
   "metadata": {},
   "source": [
    "## Keyword unpacking illustrated\n",
    "\n",
    "<img src=\"./img/keyword_unpacking_1.png\" width=500>"
   ]
  },
  {
   "cell_type": "markdown",
   "metadata": {},
   "source": [
    "## Keyword unpacking illustrated\n",
    "\n",
    "<img src=\"./img/keyword_unpacking_2.png\" width=500>"
   ]
  },
  {
   "cell_type": "markdown",
   "metadata": {},
   "source": [
    "## Keyword unpacking illustrated\n",
    "\n",
    "<img src=\"./img/keyword_unpacking_3.png\" width=500>"
   ]
  },
  {
   "cell_type": "markdown",
   "metadata": {},
   "source": [
    "## ... did you notice ...\n",
    "\n",
    "* There was no echo\n",
    "* `ed_user` lives in Python\n",
    "* Not in the actual `db`\n",
    "* We need to commit later"
   ]
  },
  {
   "cell_type": "code",
   "execution_count": 65,
   "metadata": {},
   "outputs": [
    {
     "data": {
      "text/plain": [
       "IdentitySet([User(name=ed, age=42, password=edspassword), User(name=beth, age=39, password=bethspassword)])"
      ]
     },
     "execution_count": 65,
     "metadata": {},
     "output_type": "execute_result"
    }
   ],
   "source": [
    "session.new"
   ]
  },
  {
   "cell_type": "code",
   "execution_count": 66,
   "metadata": {},
   "outputs": [
    {
     "name": "stdout",
     "output_type": "stream",
     "text": [
      "2019-01-18 11:41:55,338 INFO sqlalchemy.engine.base.Engine BEGIN (implicit)\n",
      "2019-01-18 11:41:55,342 INFO sqlalchemy.engine.base.Engine INSERT INTO user (name, age, password) VALUES (?, ?, ?)\n",
      "2019-01-18 11:41:55,346 INFO sqlalchemy.engine.base.Engine ('ed', 42, 'edspassword')\n",
      "2019-01-18 11:41:55,352 INFO sqlalchemy.engine.base.Engine INSERT INTO user (name, age, password) VALUES (?, ?, ?)\n",
      "2019-01-18 11:41:55,356 INFO sqlalchemy.engine.base.Engine ('beth', 39, 'bethspassword')\n",
      "2019-01-18 11:41:55,359 INFO sqlalchemy.engine.base.Engine COMMIT\n"
     ]
    }
   ],
   "source": [
    "session.commit()"
   ]
  },
  {
   "cell_type": "markdown",
   "metadata": {},
   "source": [
    "## Adding many users at once\n",
    "\n",
    "#### 1. Store data in a `dict`"
   ]
  },
  {
   "cell_type": "code",
   "execution_count": 67,
   "metadata": {},
   "outputs": [],
   "source": [
    "rows = ({'name': 'John',  'age': 42 , 'password':'johns_password'},\n",
    "        {'name': 'Susan', 'age': 57,  'password':'susan_password'},\n",
    "        {'name': 'Carl',  'age': 33 , 'password':'carl_password'})"
   ]
  },
  {
   "cell_type": "markdown",
   "metadata": {},
   "source": [
    "#### 2. Make instances of `User` for each"
   ]
  },
  {
   "cell_type": "code",
   "execution_count": 68,
   "metadata": {},
   "outputs": [
    {
     "data": {
      "text/plain": [
       "[User(name=John, age=42, password=johns_password),\n",
       " User(name=Susan, age=57, password=susan_password),\n",
       " User(name=Carl, age=33, password=carl_password)]"
      ]
     },
     "execution_count": 68,
     "metadata": {},
     "output_type": "execute_result"
    }
   ],
   "source": [
    "users = [User(**row) for row in rows]\n",
    "users"
   ]
  },
  {
   "cell_type": "markdown",
   "metadata": {},
   "source": [
    "#### 3. Add the users to the `db` using `session`"
   ]
  },
  {
   "cell_type": "code",
   "execution_count": 69,
   "metadata": {},
   "outputs": [],
   "source": [
    "session.add_all(users)"
   ]
  },
  {
   "cell_type": "code",
   "execution_count": 70,
   "metadata": {},
   "outputs": [
    {
     "data": {
      "text/plain": [
       "IdentitySet([User(name=John, age=42, password=johns_password), User(name=Susan, age=57, password=susan_password), User(name=Carl, age=33, password=carl_password)])"
      ]
     },
     "execution_count": 70,
     "metadata": {},
     "output_type": "execute_result"
    }
   ],
   "source": [
    "session.new"
   ]
  },
  {
   "cell_type": "code",
   "execution_count": 71,
   "metadata": {},
   "outputs": [
    {
     "name": "stdout",
     "output_type": "stream",
     "text": [
      "2019-01-18 11:42:09,704 INFO sqlalchemy.engine.base.Engine INSERT INTO user (name, age, password) VALUES (?, ?, ?)\n",
      "2019-01-18 11:42:09,706 INFO sqlalchemy.engine.base.Engine ('John', 42, 'johns_password')\n",
      "2019-01-18 11:42:09,711 INFO sqlalchemy.engine.base.Engine INSERT INTO user (name, age, password) VALUES (?, ?, ?)\n",
      "2019-01-18 11:42:09,715 INFO sqlalchemy.engine.base.Engine ('Susan', 57, 'susan_password')\n",
      "2019-01-18 11:42:09,718 INFO sqlalchemy.engine.base.Engine INSERT INTO user (name, age, password) VALUES (?, ?, ?)\n",
      "2019-01-18 11:42:09,721 INFO sqlalchemy.engine.base.Engine ('Carl', 33, 'carl_password')\n",
      "2019-01-18 11:42:09,723 INFO sqlalchemy.engine.base.Engine COMMIT\n"
     ]
    }
   ],
   "source": [
    "session.commit()"
   ]
  },
  {
   "cell_type": "markdown",
   "metadata": {},
   "source": [
    "## Querying our `db` the Python way"
   ]
  },
  {
   "cell_type": "code",
   "execution_count": 72,
   "metadata": {
    "scrolled": true
   },
   "outputs": [
    {
     "name": "stdout",
     "output_type": "stream",
     "text": [
      "2019-01-18 11:42:14,032 INFO sqlalchemy.engine.base.Engine SELECT user.id AS user_id, user.name AS user_name, user.age AS user_age, user.password AS user_password \n",
      "FROM user\n",
      "2019-01-18 11:42:14,034 INFO sqlalchemy.engine.base.Engine ()\n"
     ]
    },
    {
     "data": {
      "text/plain": [
       "[User(name=ed, age=42, password=edspassword),\n",
       " User(name=beth, age=39, password=bethspassword),\n",
       " User(name=John, age=42, password=johns_password),\n",
       " User(name=Susan, age=57, password=susan_password),\n",
       " User(name=Carl, age=33, password=carl_password)]"
      ]
     },
     "execution_count": 72,
     "metadata": {},
     "output_type": "execute_result"
    }
   ],
   "source": [
    "session.query(User).all()"
   ]
  },
  {
   "cell_type": "markdown",
   "metadata": {},
   "source": [
    "## `sqlalchemy` can help you learn SQL\n",
    "\n",
    "<img src=\"./img/learn_sql.png\" width=400>"
   ]
  },
  {
   "cell_type": "markdown",
   "metadata": {},
   "source": [
    "## Executing raw SQL\n",
    "\n",
    "* SQL commands are Python `str` passed through `text`\n",
    "* Use `execute`"
   ]
  },
  {
   "cell_type": "code",
   "execution_count": 77,
   "metadata": {},
   "outputs": [
    {
     "name": "stdout",
     "output_type": "stream",
     "text": [
      "2019-01-18 11:57:31,719 INFO sqlalchemy.engine.base.Engine SELECT user.id AS user_id, user.name AS user_name, \n",
      "                    user.age AS user_age, user.password AS user_password \n",
      "                    FROM user\n",
      "2019-01-18 11:57:31,723 INFO sqlalchemy.engine.base.Engine ()\n"
     ]
    },
    {
     "data": {
      "text/plain": [
       "[(1, 'ed', 42, 'edspassword'),\n",
       " (2, 'beth', 39, 'bethspassword'),\n",
       " (3, 'John', 42, 'johns_password'),\n",
       " (4, 'Susan', 57, 'susan_password'),\n",
       " (5, 'Carl', 33, 'carl_password')]"
      ]
     },
     "execution_count": 77,
     "metadata": {},
     "output_type": "execute_result"
    }
   ],
   "source": [
    "from sqlalchemy.sql import text\n",
    "statement = text(\"\"\"SELECT user.id AS user_id, user.name AS user_name, \n",
    "                    user.age AS user_age, user.password AS user_password \n",
    "                    FROM user\"\"\")\n",
    "result = session.execute(statement).fetchall()\n",
    "result"
   ]
  },
  {
   "cell_type": "markdown",
   "metadata": {},
   "source": [
    "## Did you notice?\n",
    "\n",
    "<img src=\"./img/fetchall.png\" width=400>\n",
    "\n",
    "`fetchall` returned Python data"
   ]
  },
  {
   "cell_type": "markdown",
   "metadata": {},
   "source": [
    "## Applying a filter `db` the Python way"
   ]
  },
  {
   "cell_type": "code",
   "execution_count": 78,
   "metadata": {
    "scrolled": true
   },
   "outputs": [
    {
     "name": "stdout",
     "output_type": "stream",
     "text": [
      "2019-01-18 11:57:58,344 INFO sqlalchemy.engine.base.Engine SELECT user.id AS user_id, user.name AS user_name, user.age AS user_age, user.password AS user_password \n",
      "FROM user \n",
      "WHERE user.age > ?\n",
      "2019-01-18 11:57:58,347 INFO sqlalchemy.engine.base.Engine (40,)\n"
     ]
    },
    {
     "data": {
      "text/plain": [
       "[User(name=ed, age=42, password=edspassword),\n",
       " User(name=John, age=42, password=johns_password),\n",
       " User(name=Susan, age=57, password=susan_password)]"
      ]
     },
     "execution_count": 78,
     "metadata": {},
     "output_type": "execute_result"
    }
   ],
   "source": [
    "session.query(User).filter(User.age > 40).all()"
   ]
  },
  {
   "cell_type": "markdown",
   "metadata": {},
   "source": [
    "## Inspect the SQL on the last query\n",
    "\n",
    "<img src=\"./img/sql_parameter.png\" width=400>"
   ]
  },
  {
   "cell_type": "markdown",
   "metadata": {},
   "source": [
    "## Executing raw SQL with a parameter\n",
    "\n",
    "* Give the parameter a name\n",
    "* Put `:` before the name\n",
    "* Use `text.param` to assign a value"
   ]
  },
  {
   "cell_type": "code",
   "execution_count": 79,
   "metadata": {},
   "outputs": [
    {
     "name": "stdout",
     "output_type": "stream",
     "text": [
      "2019-01-18 11:58:34,702 INFO sqlalchemy.engine.base.Engine SELECT user.id AS user_id, \n",
      "                      user.name AS user_name, \n",
      "                      user.age AS user_age, \n",
      "                      user.password AS user_password \n",
      "               FROM user \n",
      "               WHERE user.age > ?\n",
      "2019-01-18 11:58:34,704 INFO sqlalchemy.engine.base.Engine (40,)\n"
     ]
    },
    {
     "data": {
      "text/plain": [
       "[(1, 'ed', 42, 'edspassword'),\n",
       " (3, 'John', 42, 'johns_password'),\n",
       " (4, 'Susan', 57, 'susan_password')]"
      ]
     },
     "execution_count": 79,
     "metadata": {},
     "output_type": "execute_result"
    }
   ],
   "source": [
    "stmt = text(\"\"\"SELECT user.id AS user_id, \n",
    "                      user.name AS user_name, \n",
    "                      user.age AS user_age, \n",
    "                      user.password AS user_password \n",
    "               FROM user \n",
    "               WHERE user.age > :limit\"\"\")\n",
    "result = session.execute(stmt.params(limit = 40)).fetchall()\n",
    "result"
   ]
  },
  {
   "cell_type": "markdown",
   "metadata": {},
   "source": [
    "## Using parameters make your code reusable"
   ]
  },
  {
   "cell_type": "code",
   "execution_count": 80,
   "metadata": {},
   "outputs": [
    {
     "name": "stdout",
     "output_type": "stream",
     "text": [
      "2019-01-18 11:58:39,853 INFO sqlalchemy.engine.base.Engine SELECT user.id AS user_id, \n",
      "                      user.name AS user_name, \n",
      "                      user.age AS user_age, \n",
      "                      user.password AS user_password \n",
      "               FROM user \n",
      "               WHERE user.age > ?\n",
      "2019-01-18 11:58:39,855 INFO sqlalchemy.engine.base.Engine (45,)\n"
     ]
    },
    {
     "data": {
      "text/plain": [
       "[(4, 'Susan', 57, 'susan_password')]"
      ]
     },
     "execution_count": 80,
     "metadata": {},
     "output_type": "execute_result"
    }
   ],
   "source": [
    "result = session.execute(stmt.params(limit = 45)).fetchall()\n",
    "result"
   ]
  },
  {
   "cell_type": "code",
   "execution_count": 39,
   "metadata": {},
   "outputs": [
    {
     "data": {
      "text/plain": [
       "[(0, 0, 'A-Bomb', 'Male', 'yellow', 'Human', 'No Hair', 203.0, 'Marvel Comics', None, 'good', 441.0),\n",
       " (1, 1, 'Abe Sapien', 'Male', 'blue', 'Icthyo Sapien', 'No Hair', 191.0, 'Dark Horse Comics', 'blue', 'good', 65.0),\n",
       " (2, 2, 'Abin Sur', 'Male', 'blue', 'Ungaran', 'No Hair', 185.0, 'DC Comics', 'red', 'good', 90.0),\n",
       " (3, 3, 'Abomination', 'Male', 'green', 'Human / Radiation', 'No Hair', 203.0, 'Marvel Comics', None, 'bad', 441.0),\n",
       " (4, 4, 'Abraxas', 'Male', 'blue', 'Cosmic Entity', 'Black', None, 'Marvel Comics', None, 'bad', None)]"
      ]
     },
     "execution_count": 39,
     "metadata": {},
     "output_type": "execute_result"
    }
   ],
   "source": [
    "engine.execute(\"SELECT * FROM heroes\").fetchmany(5)"
   ]
  },
  {
   "cell_type": "code",
   "execution_count": 34,
   "metadata": {},
   "outputs": [],
   "source": [
    "from toolz import first\n",
    "\n",
    "new_names = lambda df: {clean_names(old_name):old_name for old_name in df.columns}\n",
    "fix_all_names = lambda df: (df >> rename(**new_names(df)))\n",
    "\n",
    "df_iter = pd.read_csv('./data/heroes_information.csv', \n",
    "                      na_values=['-', '', '-99.0'],\n",
    "                      chunksize=100)\n",
    "first_chunk = first(df_iter)\n",
    "first_chunk_renamed = fix_all_names(first_chunk)\n",
    "first_chunk_renamed.to_sql('heroes', \n",
    "                           con=engine, \n",
    "                           dtype=sql_types, \n",
    "                           if_exists='replace')\n",
    "for chunk in df_iter:\n",
    "    chunk_renamed = fix_all_names(chunk)\n",
    "    chunk_renamed.to_sql('heroes', \n",
    "                         con=engine, \n",
    "                         dtype=sql_types, \n",
    "                         if_exists='append')"
   ]
  },
  {
   "cell_type": "code",
   "execution_count": 36,
   "metadata": {},
   "outputs": [
    {
     "data": {
      "text/plain": [
       "[(0, 0, 'A-Bomb', 'Male', 'yellow', 'Human', 'No Hair', 203.0, 'Marvel Comics', None, 'good', 441.0),\n",
       " (1, 1, 'Abe Sapien', 'Male', 'blue', 'Icthyo Sapien', 'No Hair', 191.0, 'Dark Horse Comics', 'blue', 'good', 65.0),\n",
       " (2, 2, 'Abin Sur', 'Male', 'blue', 'Ungaran', 'No Hair', 185.0, 'DC Comics', 'red', 'good', 90.0),\n",
       " (3, 3, 'Abomination', 'Male', 'green', 'Human / Radiation', 'No Hair', 203.0, 'Marvel Comics', None, 'bad', 441.0),\n",
       " (4, 4, 'Abraxas', 'Male', 'blue', 'Cosmic Entity', 'Black', None, 'Marvel Comics', None, 'bad', None)]"
      ]
     },
     "execution_count": 36,
     "metadata": {},
     "output_type": "execute_result"
    }
   ],
   "source": [
    "engine.execute(\"SELECT * FROM heroes\").fetchmany(5)"
   ]
  },
  {
   "cell_type": "markdown",
   "metadata": {},
   "source": [
    "## Reading with `csv.DictReader`"
   ]
  },
  {
   "cell_type": "code",
   "execution_count": 85,
   "metadata": {},
   "outputs": [],
   "source": [
    "from csv import DictReader, Sniffer\n",
    "\n",
    "with open('./data/heroes_information.csv') as csvfile:\n",
    "    dialect = Sniffer().sniff(csvfile.read(50))\n",
    "    csvfile.seek(0)\n",
    "    reader = DictReader(csvfile, dialect=dialect)\n",
    "    columns = reader.fieldnames\n",
    "    rows = [row for row in reader]"
   ]
  },
  {
   "cell_type": "markdown",
   "metadata": {},
   "source": [
    "## Deconstruct the last code\n",
    "\n",
    "<img src=\"./img/dict_reader.png\" width=500>"
   ]
  },
  {
   "cell_type": "markdown",
   "metadata": {},
   "source": [
    "## `columns` is a list of column names"
   ]
  },
  {
   "cell_type": "code",
   "execution_count": 89,
   "metadata": {},
   "outputs": [
    {
     "data": {
      "text/plain": [
       "['Id',\n",
       " 'name',\n",
       " 'Gender',\n",
       " 'Eye color',\n",
       " 'Race',\n",
       " 'Hair color',\n",
       " 'Height',\n",
       " 'Publisher',\n",
       " 'Skin color',\n",
       " 'Alignment',\n",
       " 'Weight']"
      ]
     },
     "execution_count": 89,
     "metadata": {},
     "output_type": "execute_result"
    }
   ],
   "source": [
    "columns"
   ]
  },
  {
   "cell_type": "markdown",
   "metadata": {},
   "source": [
    "## Rows are `dict` with `key = col_name` and `val = cell value`"
   ]
  },
  {
   "cell_type": "code",
   "execution_count": 88,
   "metadata": {},
   "outputs": [
    {
     "data": {
      "text/plain": [
       "OrderedDict([('Id', '0'),\n",
       "             ('name', 'A-Bomb'),\n",
       "             ('Gender', 'Male'),\n",
       "             ('Eye color', 'yellow'),\n",
       "             ('Race', 'Human'),\n",
       "             ('Hair color', 'No Hair'),\n",
       "             ('Height', '203.0'),\n",
       "             ('Publisher', 'Marvel Comics'),\n",
       "             ('Skin color', '-'),\n",
       "             ('Alignment', 'good'),\n",
       "             ('Weight', '441.0')])"
      ]
     },
     "execution_count": 88,
     "metadata": {},
     "output_type": "execute_result"
    }
   ],
   "source": [
    "rows[0]"
   ]
  },
  {
   "cell_type": "markdown",
   "metadata": {},
   "source": [
    "## TODO list\n",
    "\n",
    "* Fix the column names\n",
    "* Replace `'-'` and `''` with `None`\n",
    "* Convert height and weight to `float`s"
   ]
  },
  {
   "cell_type": "markdown",
   "metadata": {},
   "source": [
    "## Fix the column names\n",
    "\n",
    "* make lower-case\n",
    "* strip whitespace\n",
    "* replace inner spaces with `_`"
   ]
  },
  {
   "cell_type": "code",
   "execution_count": 90,
   "metadata": {
    "scrolled": true
   },
   "outputs": [
    {
     "data": {
      "text/plain": [
       "[{'id': '0',\n",
       "  'name': 'A-Bomb',\n",
       "  'gender': 'Male',\n",
       "  'eye_color': 'yellow',\n",
       "  'race': 'Human',\n",
       "  'hair_color': 'No Hair',\n",
       "  'height': '203.0',\n",
       "  'publisher': 'Marvel Comics',\n",
       "  'skin_color': '-',\n",
       "  'alignment': 'good',\n",
       "  'weight': '441.0'},\n",
       " {'id': '1',\n",
       "  'name': 'Abe Sapien',\n",
       "  'gender': 'Male',\n",
       "  'eye_color': 'blue',\n",
       "  'race': 'Icthyo Sapien',\n",
       "  'hair_color': 'No Hair',\n",
       "  'height': '191.0',\n",
       "  'publisher': 'Dark Horse Comics',\n",
       "  'skin_color': 'blue',\n",
       "  'alignment': 'good',\n",
       "  'weight': '65.0'}]"
      ]
     },
     "execution_count": 90,
     "metadata": {},
     "output_type": "execute_result"
    }
   ],
   "source": [
    "rows_clean_lbl = [{lbl.lower().strip().replace(' ', '_'):val for lbl, val in row.items()} for row in rows]\n",
    "rows_clean_lbl[:2]"
   ]
  },
  {
   "cell_type": "markdown",
   "metadata": {},
   "source": [
    "## STINKY CABBAGE!\n",
    "\n",
    "The last expression processed two levels of abstraction.\n",
    "\n",
    "* Rows consists of row `dict`\n",
    "* A row consists of `(lbl, val)` pairs\n",
    "\n",
    "**Clean code rule:** Write one function per level of abstraction"
   ]
  },
  {
   "cell_type": "markdown",
   "metadata": {},
   "source": [
    "## Review - Code Smell\n",
    "\n",
    "<img src=\"https://imgs.xkcd.com/comics/code_quality.png\">"
   ]
  },
  {
   "cell_type": "markdown",
   "metadata": {},
   "source": [
    "<img src=\"./img/dictreader_levels.png\" width=600>"
   ]
  },
  {
   "cell_type": "markdown",
   "metadata": {},
   "source": [
    "## Review - Refactoring code\n",
    "\n",
    "* Work inside-out\n",
    "* Put expressions in `lambda` functions\n",
    "* Replace code with function calls\n",
    "* Repeat"
   ]
  },
  {
   "cell_type": "markdown",
   "metadata": {},
   "source": [
    "## Step 0 - Take a big whiff\n",
    "\n",
    "<img src=\"./img/refactor_1.png\" width=800>"
   ]
  },
  {
   "cell_type": "markdown",
   "metadata": {},
   "source": [
    "## Step 1 - Create a value/label function\n",
    "\n",
    "<img src=\"./img/refactor_2.png\" width=800>"
   ]
  },
  {
   "cell_type": "markdown",
   "metadata": {},
   "source": [
    "## Step 2 - Replace value/label expression with a function call\n",
    "\n",
    "<img src=\"./img/refactor_3.png\" width=800>"
   ]
  },
  {
   "cell_type": "markdown",
   "metadata": {},
   "source": [
    "## Step 3 - Create a row function\n",
    "\n",
    "<img src=\"./img/refactor_4.png\" width=800>"
   ]
  },
  {
   "cell_type": "markdown",
   "metadata": {},
   "source": [
    "## Step 4 - Replace row expression with a function call\n",
    "\n",
    "<img src=\"./img/refactor_5.png\" width=800>"
   ]
  },
  {
   "cell_type": "markdown",
   "metadata": {},
   "source": [
    "## Result - One function for each level of abstraction\n",
    "\n",
    "*CLEAN CODE!*\n",
    "\n",
    "<img src=\"./img/refactor_6.png\" width=800>"
   ]
  },
  {
   "cell_type": "code",
   "execution_count": 91,
   "metadata": {},
   "outputs": [
    {
     "data": {
      "text/plain": [
       "[{'id': '0',\n",
       "  'name': 'A-Bomb',\n",
       "  'gender': 'Male',\n",
       "  'eye_color': 'yellow',\n",
       "  'race': 'Human',\n",
       "  'hair_color': 'No Hair',\n",
       "  'height': '203.0',\n",
       "  'publisher': 'Marvel Comics',\n",
       "  'skin_color': '-',\n",
       "  'alignment': 'good',\n",
       "  'weight': '441.0'},\n",
       " {'id': '1',\n",
       "  'name': 'Abe Sapien',\n",
       "  'gender': 'Male',\n",
       "  'eye_color': 'blue',\n",
       "  'race': 'Icthyo Sapien',\n",
       "  'hair_color': 'No Hair',\n",
       "  'height': '191.0',\n",
       "  'publisher': 'Dark Horse Comics',\n",
       "  'skin_color': 'blue',\n",
       "  'alignment': 'good',\n",
       "  'weight': '65.0'}]"
      ]
     },
     "execution_count": 91,
     "metadata": {},
     "output_type": "execute_result"
    }
   ],
   "source": [
    "clean_label = lambda lbl: lbl.lower().strip().replace(' ', '_')\n",
    "clean_lbl_row = lambda row: {clean_label(lbl):val for lbl, val in row.items()}\n",
    "clean_lbl_rows = lambda row: [clean_lbl_row(row) for row in rows]\n",
    "rows_clean_lbl = clean_lbl_rows(rows)\n",
    "rows_clean_lbl[:2]"
   ]
  },
  {
   "cell_type": "markdown",
   "metadata": {},
   "source": [
    "## Replace `\"-\"` and `''` with `None`\n",
    "\n",
    "**Remember:** Rows contain Row contain `(lbl, val)` pairs"
   ]
  },
  {
   "cell_type": "code",
   "execution_count": 92,
   "metadata": {},
   "outputs": [],
   "source": [
    "# Value function\n",
    "clean_missing = lambda val: None if val == '-' or val =='' else val\n",
    "# Row function\n",
    "clean_missing_row = lambda row: {lbl:clean_missing(val) for lbl, val in row.items()}\n",
    "# Table function\n",
    "clean_missing_rows = lambda rows: [clean_missing_row(row) for row in rows]"
   ]
  },
  {
   "cell_type": "code",
   "execution_count": 93,
   "metadata": {},
   "outputs": [
    {
     "data": {
      "text/plain": [
       "{'id': '3',\n",
       " 'name': 'Abomination',\n",
       " 'gender': 'Male',\n",
       " 'eye_color': 'green',\n",
       " 'race': 'Human / Radiation',\n",
       " 'hair_color': 'No Hair',\n",
       " 'height': '203.0',\n",
       " 'publisher': 'Marvel Comics',\n",
       " 'skin_color': None,\n",
       " 'alignment': 'bad',\n",
       " 'weight': '441.0'}"
      ]
     },
     "execution_count": 93,
     "metadata": {},
     "output_type": "execute_result"
    }
   ],
   "source": [
    "rows_clean_missing = clean_missing_rows(rows_clean_lbl)\n",
    "rows_clean_missing[3]"
   ]
  },
  {
   "cell_type": "markdown",
   "metadata": {},
   "source": [
    "## <font color=\"red\"> Exercise 2 </font>\n",
    "    \n",
    "**Task:** Write the functions needed to convert height and weight to floats.  Obey the clean-code rule and use only `lambda` functions.  **Hint:** the inner-most function will need both the `lbl` and `val` and an `if` expression"
   ]
  },
  {
   "cell_type": "code",
   "execution_count": 96,
   "metadata": {
    "scrolled": true
   },
   "outputs": [
    {
     "data": {
      "text/plain": [
       "[{'id': '0',\n",
       "  'name': 'A-Bomb',\n",
       "  'gender': 'Male',\n",
       "  'eye_color': 'yellow',\n",
       "  'race': 'Human',\n",
       "  'hair_color': 'No Hair',\n",
       "  'height': 203.0,\n",
       "  'publisher': 'Marvel Comics',\n",
       "  'skin_color': None,\n",
       "  'alignment': 'good',\n",
       "  'weight': 441.0},\n",
       " {'id': '1',\n",
       "  'name': 'Abe Sapien',\n",
       "  'gender': 'Male',\n",
       "  'eye_color': 'blue',\n",
       "  'race': 'Icthyo Sapien',\n",
       "  'hair_color': 'No Hair',\n",
       "  'height': 191.0,\n",
       "  'publisher': 'Dark Horse Comics',\n",
       "  'skin_color': 'blue',\n",
       "  'alignment': 'good',\n",
       "  'weight': 65.0}]"
      ]
     },
     "execution_count": 96,
     "metadata": {},
     "output_type": "execute_result"
    }
   ],
   "source": [
    "maybe_float  = lambda val: None if not val else float(val) \n",
    "convert_if_needed = lambda lbl, val: maybe_float(val) if lbl in ('height', 'weight') else val\n",
    "convert_row_to_float = lambda row: {lbl:convert_if_needed(lbl, val) for lbl, val in row.items()}\n",
    "convert_rows_to_float = lambda rows: [convert_row_to_float(row) for row in rows]\n",
    "rows_totally_clean = convert_rows_to_float(rows_clean_missing) \n",
    "rows_totally_clean[:2]"
   ]
  },
  {
   "cell_type": "markdown",
   "metadata": {},
   "source": [
    "# Defining a `sqlalchemy` table\n",
    "\n",
    "Now that the data is clean, we define a SQL table"
   ]
  },
  {
   "cell_type": "markdown",
   "metadata": {},
   "source": [
    "## Importing `sqllite`"
   ]
  },
  {
   "cell_type": "code",
   "execution_count": 103,
   "metadata": {},
   "outputs": [
    {
     "data": {
      "text/plain": [
       "'1.1.13'"
      ]
     },
     "execution_count": 103,
     "metadata": {},
     "output_type": "execute_result"
    }
   ],
   "source": [
    "import sqlalchemy\n",
    "sqlalchemy.__version__ "
   ]
  },
  {
   "cell_type": "markdown",
   "metadata": {},
   "source": [
    "## Set Up"
   ]
  },
  {
   "cell_type": "code",
   "execution_count": 121,
   "metadata": {},
   "outputs": [],
   "source": [
    "!rm heroes_new.db"
   ]
  },
  {
   "cell_type": "code",
   "execution_count": 122,
   "metadata": {},
   "outputs": [],
   "source": [
    "from sqlalchemy import create_engine, Column, Integer, String, Float\n",
    "from sqlalchemy.ext.declarative import declarative_base\n",
    "\n",
    "engine = create_engine('sqlite:///heroes_new.db', echo=True)\n",
    "\n",
    "Base = declarative_base()"
   ]
  },
  {
   "cell_type": "markdown",
   "metadata": {},
   "source": [
    "## Table class definition"
   ]
  },
  {
   "cell_type": "code",
   "execution_count": 123,
   "metadata": {
    "scrolled": true
   },
   "outputs": [
    {
     "name": "stdout",
     "output_type": "stream",
     "text": [
      "2019-01-18 12:21:14,928 INFO sqlalchemy.engine.base.Engine SELECT CAST('test plain returns' AS VARCHAR(60)) AS anon_1\n",
      "2019-01-18 12:21:14,930 INFO sqlalchemy.engine.base.Engine ()\n",
      "2019-01-18 12:21:14,934 INFO sqlalchemy.engine.base.Engine SELECT CAST('test unicode returns' AS VARCHAR(60)) AS anon_1\n",
      "2019-01-18 12:21:14,936 INFO sqlalchemy.engine.base.Engine ()\n",
      "2019-01-18 12:21:14,939 INFO sqlalchemy.engine.base.Engine PRAGMA table_info(\"heroes\")\n",
      "2019-01-18 12:21:14,941 INFO sqlalchemy.engine.base.Engine ()\n",
      "2019-01-18 12:21:14,944 INFO sqlalchemy.engine.base.Engine \n",
      "CREATE TABLE heroes (\n",
      "\tid INTEGER NOT NULL, \n",
      "\tname VARCHAR, \n",
      "\tgender VARCHAR, \n",
      "\teye_color VARCHAR, \n",
      "\trace VARCHAR, \n",
      "\thair_color VARCHAR, \n",
      "\theight FLOAT, \n",
      "\tpublisher VARCHAR, \n",
      "\tskin_color VARCHAR, \n",
      "\talignment VARCHAR, \n",
      "\tweight FLOAT, \n",
      "\tPRIMARY KEY (id)\n",
      ")\n",
      "\n",
      "\n",
      "2019-01-18 12:21:14,947 INFO sqlalchemy.engine.base.Engine ()\n",
      "2019-01-18 12:21:14,959 INFO sqlalchemy.engine.base.Engine COMMIT\n"
     ]
    }
   ],
   "source": [
    "class Hero(Base):\n",
    "    __tablename__ = 'heroes'\n",
    "\n",
    "    id          = Column(Integer, primary_key=True)\n",
    "    name        = Column(String)\n",
    "    gender      = Column(String)\n",
    "    eye_color   = Column(String)\n",
    "    race        = Column(String)\n",
    "    hair_color  = Column(String)\n",
    "    height      = Column(Float)\n",
    "    publisher   = Column(String)\n",
    "    skin_color  = Column(String)\n",
    "    alignment   = Column(String)\n",
    "    weight      = Column(Float)\n",
    "\n",
    "    def __repr__(self):\n",
    "       base = ('Hero(id={0}, name={1}, gender={2}, eye_color={3},\\n' + \n",
    "               '\\trace={4}, hair_color={5}, height={6}, publisher={7},\\n' + \n",
    "               '\\tskin_color={8}, alignment={9}, weight={10})')\n",
    "       return base.format(self.id          ,\n",
    "                          self.name        ,\n",
    "                          self.gender      ,\n",
    "                          self.eye_color   ,\n",
    "                          self.race        ,\n",
    "                          self.hair_color  ,\n",
    "                          self.height      ,\n",
    "                          self.publisher   ,\n",
    "                          self.skin_color  ,\n",
    "                          self.alignment   ,\n",
    "                          self.weight)\n",
    "\n",
    "Base.metadata.create_all(engine)"
   ]
  },
  {
   "cell_type": "markdown",
   "metadata": {},
   "source": [
    "## Populating a list of rows"
   ]
  },
  {
   "cell_type": "code",
   "execution_count": 124,
   "metadata": {},
   "outputs": [
    {
     "data": {
      "text/plain": [
       "[Hero(id=0, name=A-Bomb, gender=Male, eye_color=yellow,\n",
       " \trace=Human, hair_color=No Hair, height=203.0, publisher=Marvel Comics,\n",
       " \tskin_color=None, alignment=good, weight=441.0),\n",
       " Hero(id=1, name=Abe Sapien, gender=Male, eye_color=blue,\n",
       " \trace=Icthyo Sapien, hair_color=No Hair, height=191.0, publisher=Dark Horse Comics,\n",
       " \tskin_color=blue, alignment=good, weight=65.0)]"
      ]
     },
     "execution_count": 124,
     "metadata": {},
     "output_type": "execute_result"
    }
   ],
   "source": [
    "heroes = [Hero(**r) for r in rows_totally_clean]\n",
    "heroes[:2]"
   ]
  },
  {
   "cell_type": "markdown",
   "metadata": {},
   "source": [
    "## Connecting a session to the engine/db"
   ]
  },
  {
   "cell_type": "code",
   "execution_count": 125,
   "metadata": {},
   "outputs": [],
   "source": [
    "Session = sessionmaker(bind=engine)\n",
    "session = Session()"
   ]
  },
  {
   "cell_type": "markdown",
   "metadata": {},
   "source": [
    "## Added and committing the rows"
   ]
  },
  {
   "cell_type": "code",
   "execution_count": 126,
   "metadata": {},
   "outputs": [],
   "source": [
    "session.add_all(heroes)"
   ]
  },
  {
   "cell_type": "code",
   "execution_count": 136,
   "metadata": {
    "scrolled": true
   },
   "outputs": [
    {
     "name": "stdout",
     "output_type": "stream",
     "text": [
      "2019-01-18 13:08:23,429 INFO sqlalchemy.engine.base.Engine COMMIT\n"
     ]
    }
   ],
   "source": [
    "session.commit()"
   ]
  },
  {
   "cell_type": "markdown",
   "metadata": {},
   "source": [
    "## Getting the first five rows"
   ]
  },
  {
   "cell_type": "code",
   "execution_count": 131,
   "metadata": {
    "scrolled": true
   },
   "outputs": [
    {
     "name": "stdout",
     "output_type": "stream",
     "text": [
      "2019-01-18 12:23:30,314 INFO sqlalchemy.engine.base.Engine SELECT heroes.id AS heroes_id, heroes.name AS heroes_name, heroes.gender AS heroes_gender, heroes.eye_color AS heroes_eye_color, heroes.race AS heroes_race, heroes.hair_color AS heroes_hair_color, heroes.height AS heroes_height, heroes.publisher AS heroes_publisher, heroes.skin_color AS heroes_skin_color, heroes.alignment AS heroes_alignment, heroes.weight AS heroes_weight \n",
      "FROM heroes\n",
      " LIMIT ? OFFSET ?\n",
      "2019-01-18 12:23:30,316 INFO sqlalchemy.engine.base.Engine (5, 0)\n"
     ]
    },
    {
     "data": {
      "text/plain": [
       "[Hero(id=0, name=A-Bomb, gender=Male, eye_color=yellow,\n",
       " \trace=Human, hair_color=No Hair, height=203.0, publisher=Marvel Comics,\n",
       " \tskin_color=None, alignment=good, weight=441.0),\n",
       " Hero(id=1, name=Abe Sapien, gender=Male, eye_color=blue,\n",
       " \trace=Icthyo Sapien, hair_color=No Hair, height=191.0, publisher=Dark Horse Comics,\n",
       " \tskin_color=blue, alignment=good, weight=65.0),\n",
       " Hero(id=2, name=Abin Sur, gender=Male, eye_color=blue,\n",
       " \trace=Ungaran, hair_color=No Hair, height=185.0, publisher=DC Comics,\n",
       " \tskin_color=red, alignment=good, weight=90.0),\n",
       " Hero(id=3, name=Abomination, gender=Male, eye_color=green,\n",
       " \trace=Human / Radiation, hair_color=No Hair, height=203.0, publisher=Marvel Comics,\n",
       " \tskin_color=None, alignment=bad, weight=441.0),\n",
       " Hero(id=4, name=Abraxas, gender=Male, eye_color=blue,\n",
       " \trace=Cosmic Entity, hair_color=Black, height=-99.0, publisher=Marvel Comics,\n",
       " \tskin_color=None, alignment=bad, weight=-99.0)]"
      ]
     },
     "execution_count": 131,
     "metadata": {},
     "output_type": "execute_result"
    }
   ],
   "source": [
    "first_five = session.query(Hero).slice(0, 5).all()\n",
    "first_five"
   ]
  },
  {
   "cell_type": "markdown",
   "metadata": {},
   "source": [
    "## Hiding these details\n",
    "\n",
    "* Table setup will rarely change\n",
    "* We can hide these static declarations in a module"
   ]
  },
  {
   "cell_type": "markdown",
   "metadata": {},
   "source": [
    "## Making `my_heroes.py`\n",
    "\n",
    "Copy the following code into a file (in the root repo directory) named `my_heroes.py`"
   ]
  },
  {
   "cell_type": "code",
   "execution_count": 122,
   "metadata": {},
   "outputs": [],
   "source": [
    "from sqlalchemy import create_engine, Column, Integer, String, Float\n",
    "from sqlalchemy.ext.declarative import declarative_base\n",
    "\n",
    "engine = create_engine('sqlite:///heroes_new.db', echo=True)\n",
    "\n",
    "Base = declarative_base()\n",
    "\n",
    "class Hero(Base):\n",
    "    __tablename__ = 'heroes'\n",
    "\n",
    "    id          = Column(Integer, primary_key=True)\n",
    "    name        = Column(String)\n",
    "    gender      = Column(String)\n",
    "    eye_color   = Column(String)\n",
    "    race        = Column(String)\n",
    "    hair_color  = Column(String)\n",
    "    height      = Column(Float)\n",
    "    publisher   = Column(String)\n",
    "    skin_color  = Column(String)\n",
    "    alignment   = Column(String)\n",
    "    weight      = Column(Float)\n",
    "\n",
    "    def __repr__(self):\n",
    "       base = ('Hero(id={0}, name={1}, gender={2}, eye_color={3},\\n' + \n",
    "               '\\trace={4}, hair_color={5}, height={6}, publisher={7},\\n' + \n",
    "               '\\tskin_color={8}, alignment={9}, weight={10})')\n",
    "       return base.format(self.id          ,\n",
    "                          self.name        ,\n",
    "                          self.gender      ,\n",
    "                          self.eye_color   ,\n",
    "                          self.race        ,\n",
    "                          self.hair_color  ,\n",
    "                          self.height      ,\n",
    "                          self.publisher   ,\n",
    "                          self.skin_color  ,\n",
    "                          self.alignment   ,\n",
    "                          self.weight)\n",
    "\n",
    "Base.metadata.create_all(engine)"
   ]
  },
  {
   "cell_type": "markdown",
   "metadata": {},
   "source": [
    "## Importing and working with a predefined db\n",
    "\n",
    "We can now import `engine` and `Hero` from `my_heroes`"
   ]
  },
  {
   "cell_type": "code",
   "execution_count": 140,
   "metadata": {},
   "outputs": [
    {
     "data": {
      "text/plain": [
       "[Hero(id=59, name=Bane, gender=Male, eye_color=None,\n",
       " \trace=Human, hair_color=None, height=203.0, publisher=DC Comics,\n",
       " \tskin_color=None, alignment=bad, weight=180.0),\n",
       " Hero(id=71, name=Battlestar, gender=Male, eye_color=brown,\n",
       " \trace=None, hair_color=Black, height=198.0, publisher=Marvel Comics,\n",
       " \tskin_color=None, alignment=good, weight=133.0),\n",
       " Hero(id=78, name=Beta Ray Bill, gender=Male, eye_color=None,\n",
       " \trace=None, hair_color=No Hair, height=201.0, publisher=Marvel Comics,\n",
       " \tskin_color=None, alignment=good, weight=216.0),\n",
       " Hero(id=91, name=Bishop, gender=Male, eye_color=brown,\n",
       " \trace=Mutant, hair_color=No Hair, height=198.0, publisher=Marvel Comics,\n",
       " \tskin_color=None, alignment=good, weight=124.0),\n",
       " Hero(id=119, name=Bloodaxe, gender=Female, eye_color=blue,\n",
       " \trace=Human, hair_color=Brown, height=218.0, publisher=Marvel Comics,\n",
       " \tskin_color=None, alignment=bad, weight=495.0),\n",
       " Hero(id=131, name=Booster Gold, gender=Male, eye_color=blue,\n",
       " \trace=Human, hair_color=Blond, height=196.0, publisher=DC Comics,\n",
       " \tskin_color=None, alignment=good, weight=97.0),\n",
       " Hero(id=135, name=Brainiac, gender=Male, eye_color=green,\n",
       " \trace=Android, hair_color=No Hair, height=198.0, publisher=DC Comics,\n",
       " \tskin_color=green, alignment=bad, weight=135.0)]"
      ]
     },
     "execution_count": 140,
     "metadata": {},
     "output_type": "execute_result"
    }
   ],
   "source": [
    "from my_heroes import engine, Hero\n",
    "engine.echo = False\n",
    "Session2 = sessionmaker(bind=engine)\n",
    "session2 = Session2()\n",
    "session2.query(Hero).filter(Hero.name.startswith('B')).filter(Hero.height > 195).all()"
   ]
  },
  {
   "cell_type": "markdown",
   "metadata": {},
   "source": [
    "## Up Next\n",
    "\n",
    "Next, you should complete [Lab 1](./lab_1_super_powers_and_SQL.ipynb), which involves building and querying a database of super hero powers."
   ]
  }
 ],
 "metadata": {
  "kernelspec": {
   "display_name": "Python 3",
   "language": "python",
   "name": "python3"
  },
  "language_info": {
   "codemirror_mode": {
    "name": "ipython",
    "version": 3
   },
   "file_extension": ".py",
   "mimetype": "text/x-python",
   "name": "python",
   "nbconvert_exporter": "python",
   "pygments_lexer": "ipython3",
   "version": "3.6.2"
  },
  "varInspector": {
   "cols": {
    "lenName": 16,
    "lenType": 16,
    "lenVar": 40
   },
   "kernels_config": {
    "python": {
     "delete_cmd_postfix": "",
     "delete_cmd_prefix": "del ",
     "library": "var_list.py",
     "varRefreshCmd": "print(var_dic_list())"
    },
    "r": {
     "delete_cmd_postfix": ") ",
     "delete_cmd_prefix": "rm(",
     "library": "var_list.r",
     "varRefreshCmd": "cat(var_dic_list()) "
    }
   },
   "types_to_exclude": [
    "module",
    "function",
    "builtin_function_or_method",
    "instance",
    "_Feature"
   ],
   "window_display": false
  }
 },
 "nbformat": 4,
 "nbformat_minor": 2
}
