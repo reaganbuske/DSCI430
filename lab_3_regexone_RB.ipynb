{
 "cells": [
  {
   "cell_type": "markdown",
   "metadata": {},
   "source": [
    "## Lab 3 - RegExOne\n",
    "\n",
    "In this lab, you will read/work through the examples in [RegExOne](https://regexone.com/) and document and double check your work using the `assert` statements given below. "
   ]
  },
  {
   "cell_type": "markdown",
   "metadata": {},
   "source": [
    "## Lesson 1 - Letters\n",
    "\n",
    "**Tasks:** \n",
    "\n",
    "1. Complete Lesson 1, \n",
    "2. Put your solution in the next cell, and \n",
    "3. Make sure you pass the `assert` statements below."
   ]
  },
  {
   "cell_type": "code",
   "execution_count": 84,
   "metadata": {
    "collapsed": true
   },
   "outputs": [],
   "source": [
    "import re\n",
    "s1 = 'abcdefg'\n",
    "s2 = 'abcde'\n",
    "s3 = 'abc'\n",
    "lesson_1 = r\"abc\"\n",
    "r1 = re.compile(lesson_1)"
   ]
  },
  {
   "cell_type": "code",
   "execution_count": 85,
   "metadata": {
    "scrolled": true
   },
   "outputs": [],
   "source": [
    "assert r1.match(s1), 'Failed string 1'\n",
    "assert r1.match(s1), 'Failed string 2'\n",
    "assert r1.match(s1), 'Failed string 3'"
   ]
  },
  {
   "cell_type": "markdown",
   "metadata": {},
   "source": [
    "## Lesson 1.5"
   ]
  },
  {
   "cell_type": "code",
   "execution_count": 211,
   "metadata": {},
   "outputs": [],
   "source": [
    "import re\n",
    "s1 = 'abc123xyz'\n",
    "s2 = 'define \"123\"'\n",
    "s3 = 'var g = 123;'\n",
    "#lesson_2 = r\"123\"\n",
    "lesson_2 = r\"(.*)123(.*)\"\n",
    "r2 = re.compile(lesson_2)"
   ]
  },
  {
   "cell_type": "code",
   "execution_count": 212,
   "metadata": {},
   "outputs": [],
   "source": [
    "assert r2.match(s1), 'Failed string 1'\n",
    "assert r2.match(s2), 'Failed string 2'\n",
    "assert r2.match(s3), 'Failed string 3'"
   ]
  },
  {
   "cell_type": "markdown",
   "metadata": {},
   "source": [
    "## Lesson 3-14\n",
    "\n",
    "**Tasks:** \n",
    "\n",
    "For each lesson on RegexOne, do the following.\n",
    "\n",
    "1. Copy/paste these cells below\n",
    "2. Complete the lesson, \n",
    "3. Edit the strings to match the current lesson, (add new strings if needed)\n",
    "4. Put your solution in the next cell, and \n",
    "5. Make sure you pass the `assert` statements below."
   ]
  },
  {
   "cell_type": "code",
   "execution_count": 209,
   "metadata": {
    "collapsed": true
   },
   "outputs": [],
   "source": [
    "#lesson 2\n",
    "import re\n",
    "s1 = 'cat.'\n",
    "s2 = '896.'\n",
    "s3 = '?=+.'\n",
    "s4 = 'abc1'\n",
    "lesson_new = r\"(.*)\\.\"\n",
    "r_new = re.compile(lesson_new)"
   ]
  },
  {
   "cell_type": "code",
   "execution_count": 210,
   "metadata": {},
   "outputs": [],
   "source": [
    "assert r_new.match(s1), 'Failed string 1'\n",
    "assert r_new.match(s2), 'Failed string 2'\n",
    "assert r_new.match(s3), 'Failed string 3'\n",
    "assert not r_new.match(s4), 'Failed string 4'"
   ]
  },
  {
   "cell_type": "code",
   "execution_count": 141,
   "metadata": {
    "collapsed": true
   },
   "outputs": [],
   "source": [
    "#lesson 3\n",
    "import re\n",
    "s1 = 'can'\n",
    "s2 = 'man'\n",
    "s3 = 'fan'\n",
    "s4 = 'dan'\n",
    "s5 = 'ran'\n",
    "s6 = 'pan'\n",
    "lesson_new = r\"[cmf]an\"\n",
    "r_new = re.compile(lesson_new)"
   ]
  },
  {
   "cell_type": "code",
   "execution_count": 142,
   "metadata": {},
   "outputs": [],
   "source": [
    "assert r_new.match(s1), 'Failed string 1'\n",
    "assert r_new.match(s2), 'Failed string 2'\n",
    "assert r_new.match(s3), 'Failed string 3'\n",
    "assert not r_new.match(s4), 'Failed string 4'\n",
    "assert not r_new.match(s5), 'Failed string 5'\n",
    "assert not r_new.match(s6), 'Failed string 6'"
   ]
  },
  {
   "cell_type": "code",
   "execution_count": 143,
   "metadata": {
    "collapsed": true
   },
   "outputs": [],
   "source": [
    "#lesson 4\n",
    "import re\n",
    "s1 = 'hog'\n",
    "s2 = 'dog'\n",
    "s3 = 'bog'\n",
    "lesson_new = r\"[^b]og\"\n",
    "r_new = re.compile(lesson_new)"
   ]
  },
  {
   "cell_type": "code",
   "execution_count": 145,
   "metadata": {},
   "outputs": [],
   "source": [
    "assert r_new.match(s1), 'Failed string 1'\n",
    "assert r_new.match(s2), 'Failed string 2'\n",
    "assert not r_new.match(s3), 'Failed string 3'"
   ]
  },
  {
   "cell_type": "code",
   "execution_count": 146,
   "metadata": {
    "collapsed": true
   },
   "outputs": [],
   "source": [
    "#lesson 5\n",
    "import re\n",
    "s1 = 'Ana'\n",
    "s2 = 'Bob'\n",
    "s3 = 'Cpc'\n",
    "s4 = 'aax'\n",
    "s5 = 'bby'\n",
    "s6 = 'cca'\n",
    "lesson_new = r\"[A-Z][n-p][a-c]\"\n",
    "r_new = re.compile(lesson_new)"
   ]
  },
  {
   "cell_type": "code",
   "execution_count": 147,
   "metadata": {
    "collapsed": true
   },
   "outputs": [],
   "source": [
    "assert r_new.match(s1), 'Failed string 1'\n",
    "assert r_new.match(s2), 'Failed string 2'\n",
    "assert r_new.match(s3), 'Failed string 3'\n",
    "assert not r_new.match(s4), 'Failed string 4'\n",
    "assert not r_new.match(s5), 'Failed string 5'\n",
    "assert not r_new.match(s6), 'Failed string 6'"
   ]
  },
  {
   "cell_type": "code",
   "execution_count": 148,
   "metadata": {
    "collapsed": true
   },
   "outputs": [],
   "source": [
    "#lesson 6\n",
    "import re\n",
    "s1 = 'wazzzzzup'\n",
    "s2 = 'wazzzup'\n",
    "s3 = 'wazup'\n",
    "lesson_new = r\"waz{3,5}up\"\n",
    "r_new = re.compile(lesson_new)"
   ]
  },
  {
   "cell_type": "code",
   "execution_count": 149,
   "metadata": {
    "collapsed": true
   },
   "outputs": [],
   "source": [
    "assert r_new.match(s1), 'Failed string 1'\n",
    "assert r_new.match(s2), 'Failed string 2'\n",
    "assert not r_new.match(s3), 'Failed string 3'"
   ]
  },
  {
   "cell_type": "code",
   "execution_count": 150,
   "metadata": {
    "collapsed": true
   },
   "outputs": [],
   "source": [
    "#lesson 7\n",
    "import re\n",
    "s1 = 'aaaabcc'\n",
    "s2 = 'aabbbbc'\n",
    "s3 = 'aacc'\n",
    "s4 = 'a'\n",
    "lesson_new = r\"aa+b*c+\"\n",
    "r_new = re.compile(lesson_new)"
   ]
  },
  {
   "cell_type": "code",
   "execution_count": 151,
   "metadata": {
    "collapsed": true
   },
   "outputs": [],
   "source": [
    "assert r_new.match(s1), 'Failed string 1'\n",
    "assert r_new.match(s2), 'Failed string 2'\n",
    "assert r_new.match(s3), 'Failed string 3'\n",
    "assert not r_new.match(s4), 'Failed string 4'"
   ]
  },
  {
   "cell_type": "code",
   "execution_count": 152,
   "metadata": {
    "collapsed": true
   },
   "outputs": [],
   "source": [
    "#lesson 8\n",
    "import re\n",
    "s1 = '1 file found?'\n",
    "s2 = '2 files found?'\n",
    "s3 = '24 files found?'\n",
    "s4 = 'no files found'\n",
    "lesson_new = r\"\\d+ files? found\\?\"\n",
    "r_new = re.compile(lesson_new)"
   ]
  },
  {
   "cell_type": "code",
   "execution_count": 153,
   "metadata": {},
   "outputs": [],
   "source": [
    "assert r_new.match(s1), 'Failed string 1'\n",
    "assert r_new.match(s2), 'Failed string 2'\n",
    "assert r_new.match(s3), 'Failed string 3'\n",
    "assert not r_new.match(s4), 'Failed string 4'"
   ]
  },
  {
   "cell_type": "code",
   "execution_count": 154,
   "metadata": {
    "collapsed": true
   },
   "outputs": [],
   "source": [
    "#lesson 9\n",
    "import re\n",
    "s1 = '1.   abc'\n",
    "s2 = '2.    abc'\n",
    "s3 = '3.           abc'\n",
    "s4 =  '4.abc'\n",
    "lesson_new = r\"\\d\\.\\s+abc\"\n",
    "r_new = re.compile(lesson_new)"
   ]
  },
  {
   "cell_type": "code",
   "execution_count": 155,
   "metadata": {
    "collapsed": true
   },
   "outputs": [],
   "source": [
    "assert r_new.match(s1), 'Failed string 1'\n",
    "assert r_new.match(s2), 'Failed string 2'\n",
    "assert r_new.match(s3), 'Failed string 3'\n",
    "assert not r_new.match(s4), 'Failed string 4'"
   ]
  },
  {
   "cell_type": "code",
   "execution_count": 156,
   "metadata": {
    "collapsed": true
   },
   "outputs": [],
   "source": [
    "#lesson 10\n",
    "import re\n",
    "s1 = 'Mission: successful'\n",
    "s2 = 'Last Mission: unsuccessful'\n",
    "s3 = 'Next Mission: successful upon capture of target'\n",
    "lesson_new = r\"Mission: successful$\"\n",
    "r_new = re.compile(lesson_new)"
   ]
  },
  {
   "cell_type": "code",
   "execution_count": 157,
   "metadata": {
    "collapsed": true
   },
   "outputs": [],
   "source": [
    "assert r_new.match(s1), 'Failed string 1'\n",
    "assert not r_new.match(s2), 'Failed string 2'\n",
    "assert not r_new.match(s3), 'Failed string 3'"
   ]
  },
  {
   "cell_type": "code",
   "execution_count": 158,
   "metadata": {
    "collapsed": true
   },
   "outputs": [],
   "source": [
    "#lesson 11\n",
    "import re\n",
    "s1 = 'file_record_transcript.pdf'\n",
    "s2 = 'file_07241999.pdf'\n",
    "s3 = 'testfile_fake.pdf.tmp'\n",
    "lesson_new = r\"^(file.+)\\.pdf$\"\n",
    "r_new = re.compile(lesson_new)"
   ]
  },
  {
   "cell_type": "code",
   "execution_count": 159,
   "metadata": {},
   "outputs": [],
   "source": [
    "assert r_new.match(s1), 'Failed string 1'\n",
    "assert r_new.match(s2), 'Failed string 2'\n",
    "assert not r_new.match(s3), 'Failed string 3'"
   ]
  },
  {
   "cell_type": "code",
   "execution_count": 160,
   "metadata": {
    "collapsed": true
   },
   "outputs": [],
   "source": [
    "#lesson 12\n",
    "import re\n",
    "s1 = 'Jan 1987'\n",
    "s2 = 'May 1969'\n",
    "s3 = 'Aug 2011'\n",
    "lesson_new = r\"(\\w+ (\\d+))\"\n",
    "r_new = re.compile(lesson_new)"
   ]
  },
  {
   "cell_type": "code",
   "execution_count": 161,
   "metadata": {
    "collapsed": true
   },
   "outputs": [],
   "source": [
    "assert r_new.match(s1), 'Failed string 1'\n",
    "assert r_new.match(s2), 'Failed string 2'\n",
    "assert r_new.match(s3), 'Failed string 3'"
   ]
  },
  {
   "cell_type": "code",
   "execution_count": 162,
   "metadata": {
    "collapsed": true
   },
   "outputs": [],
   "source": [
    "#lesson 13\n",
    "import re\n",
    "s1 = '1280x720'\n",
    "s2 = '1920x1600'\n",
    "s3 = '1024x768'\n",
    "lesson_new = r\"((\\d+)x(\\d+))\"\n",
    "r_new = re.compile(lesson_new)"
   ]
  },
  {
   "cell_type": "code",
   "execution_count": 163,
   "metadata": {
    "collapsed": true
   },
   "outputs": [],
   "source": [
    "assert r_new.match(s1), 'Failed string 1'\n",
    "assert r_new.match(s2), 'Failed string 2'\n",
    "assert r_new.match(s3), 'Failed string 3'"
   ]
  },
  {
   "cell_type": "code",
   "execution_count": 164,
   "metadata": {
    "collapsed": true
   },
   "outputs": [],
   "source": [
    "#lesson 14\n",
    "import re\n",
    "s1 = 'I love cats'\n",
    "s2 = 'I love dogs'\n",
    "s3 = 'I love logs'\n",
    "s4 = 'I love cogs'\n",
    "lesson_new = r\"I love (cats|dogs)\"\n",
    "r_new = re.compile(lesson_new)"
   ]
  },
  {
   "cell_type": "code",
   "execution_count": 165,
   "metadata": {
    "collapsed": true
   },
   "outputs": [],
   "source": [
    "assert r_new.match(s1), 'Failed string 1'\n",
    "assert r_new.match(s2), 'Failed string 2'\n",
    "assert not r_new.match(s3), 'Failed string 3'\n",
    "assert not r_new.match(s4), 'Failed string 4'"
   ]
  },
  {
   "cell_type": "code",
   "execution_count": 166,
   "metadata": {
    "collapsed": true
   },
   "outputs": [],
   "source": [
    "#lesson 15\n",
    "import re\n",
    "s1 = 'The quick brown fox jumps over the lazy dog.'\n",
    "s2 = 'There were 614 instances of students getting 90.0% or above.'\n",
    "s3 = 'The FCC had to censor the network for saying &$#*@!.'\n",
    "lesson_new = r\".*\"\n",
    "r_new = re.compile(lesson_new)"
   ]
  },
  {
   "cell_type": "code",
   "execution_count": 115,
   "metadata": {
    "collapsed": true
   },
   "outputs": [],
   "source": [
    "assert r_new.match(s1), 'Failed string 1'\n",
    "assert r_new.match(s2), 'Failed string 2'\n",
    "assert r_new.match(s3), 'Failed string 3'"
   ]
  }
 ],
 "metadata": {
  "kernelspec": {
   "display_name": "Python 3",
   "language": "python",
   "name": "python3"
  },
  "language_info": {
   "codemirror_mode": {
    "name": "ipython",
    "version": 3
   },
   "file_extension": ".py",
   "mimetype": "text/x-python",
   "name": "python",
   "nbconvert_exporter": "python",
   "pygments_lexer": "ipython3",
   "version": "3.6.2"
  },
  "varInspector": {
   "cols": {
    "lenName": 16,
    "lenType": 16,
    "lenVar": 40
   },
   "kernels_config": {
    "python": {
     "delete_cmd_postfix": "",
     "delete_cmd_prefix": "del ",
     "library": "var_list.py",
     "varRefreshCmd": "print(var_dic_list())"
    },
    "r": {
     "delete_cmd_postfix": ") ",
     "delete_cmd_prefix": "rm(",
     "library": "var_list.r",
     "varRefreshCmd": "cat(var_dic_list()) "
    }
   },
   "types_to_exclude": [
    "module",
    "function",
    "builtin_function_or_method",
    "instance",
    "_Feature"
   ],
   "window_display": false
  }
 },
 "nbformat": 4,
 "nbformat_minor": 2
}
