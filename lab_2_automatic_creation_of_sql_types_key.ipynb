{
 "cells": [
  {
   "cell_type": "markdown",
   "metadata": {},
   "source": [
    "# Lab 2 - Automatic Creation of `sqlalchemy` data type `dict`\n",
    "\n",
    "So far, we have been manually constructing the `sqlalchemy` type `dict`, but this approach quickly becomes unwieldy.  Let's look at using the `pandas` types to programmically construct the type `dict`."
   ]
  },
  {
   "cell_type": "code",
   "execution_count": 2,
   "metadata": {},
   "outputs": [],
   "source": [
    "import pandas as pd\n",
    "from dfply import *"
   ]
  },
  {
   "cell_type": "code",
   "execution_count": null,
   "metadata": {},
   "outputs": [],
   "source": [
    "!rm databases/baseball.db"
   ]
  },
  {
   "cell_type": "markdown",
   "metadata": {},
   "source": [
    "## Case Study - People\n",
    "\n",
    "Let's use the `People.csv` file from the [Lahman’s Baseball Database](http://www.seanlahman.com/baseball-archive/statistics/) as our motivating example, since \n",
    "\n",
    "1. It has examples of a number of types\n",
    "2. It has lots of columns and would be annoying to manually construct the type `dict`."
   ]
  },
  {
   "cell_type": "code",
   "execution_count": 4,
   "metadata": {},
   "outputs": [
    {
     "data": {
      "text/html": [
       "<div>\n",
       "<style scoped>\n",
       "    .dataframe tbody tr th:only-of-type {\n",
       "        vertical-align: middle;\n",
       "    }\n",
       "\n",
       "    .dataframe tbody tr th {\n",
       "        vertical-align: top;\n",
       "    }\n",
       "\n",
       "    .dataframe thead th {\n",
       "        text-align: right;\n",
       "    }\n",
       "</style>\n",
       "<table border=\"1\" class=\"dataframe\">\n",
       "  <thead>\n",
       "    <tr style=\"text-align: right;\">\n",
       "      <th></th>\n",
       "      <th>playerID</th>\n",
       "      <th>birthYear</th>\n",
       "      <th>birthMonth</th>\n",
       "      <th>birthDay</th>\n",
       "      <th>birthCountry</th>\n",
       "      <th>birthState</th>\n",
       "      <th>birthCity</th>\n",
       "      <th>deathYear</th>\n",
       "      <th>deathMonth</th>\n",
       "      <th>deathDay</th>\n",
       "      <th>...</th>\n",
       "      <th>nameLast</th>\n",
       "      <th>nameGiven</th>\n",
       "      <th>weight</th>\n",
       "      <th>height</th>\n",
       "      <th>bats</th>\n",
       "      <th>throws</th>\n",
       "      <th>debut</th>\n",
       "      <th>finalGame</th>\n",
       "      <th>retroID</th>\n",
       "      <th>bbrefID</th>\n",
       "    </tr>\n",
       "  </thead>\n",
       "  <tbody>\n",
       "    <tr>\n",
       "      <th>0</th>\n",
       "      <td>aardsda01</td>\n",
       "      <td>1981.0</td>\n",
       "      <td>12.0</td>\n",
       "      <td>27.0</td>\n",
       "      <td>USA</td>\n",
       "      <td>CO</td>\n",
       "      <td>Denver</td>\n",
       "      <td>NaN</td>\n",
       "      <td>NaN</td>\n",
       "      <td>NaN</td>\n",
       "      <td>...</td>\n",
       "      <td>Aardsma</td>\n",
       "      <td>David Allan</td>\n",
       "      <td>215.0</td>\n",
       "      <td>75.0</td>\n",
       "      <td>R</td>\n",
       "      <td>R</td>\n",
       "      <td>2004-04-06</td>\n",
       "      <td>2015-08-23</td>\n",
       "      <td>aardd001</td>\n",
       "      <td>aardsda01</td>\n",
       "    </tr>\n",
       "    <tr>\n",
       "      <th>1</th>\n",
       "      <td>aaronha01</td>\n",
       "      <td>1934.0</td>\n",
       "      <td>2.0</td>\n",
       "      <td>5.0</td>\n",
       "      <td>USA</td>\n",
       "      <td>AL</td>\n",
       "      <td>Mobile</td>\n",
       "      <td>NaN</td>\n",
       "      <td>NaN</td>\n",
       "      <td>NaN</td>\n",
       "      <td>...</td>\n",
       "      <td>Aaron</td>\n",
       "      <td>Henry Louis</td>\n",
       "      <td>180.0</td>\n",
       "      <td>72.0</td>\n",
       "      <td>R</td>\n",
       "      <td>R</td>\n",
       "      <td>1954-04-13</td>\n",
       "      <td>1976-10-03</td>\n",
       "      <td>aaroh101</td>\n",
       "      <td>aaronha01</td>\n",
       "    </tr>\n",
       "    <tr>\n",
       "      <th>2</th>\n",
       "      <td>aaronto01</td>\n",
       "      <td>1939.0</td>\n",
       "      <td>8.0</td>\n",
       "      <td>5.0</td>\n",
       "      <td>USA</td>\n",
       "      <td>AL</td>\n",
       "      <td>Mobile</td>\n",
       "      <td>1984.0</td>\n",
       "      <td>8.0</td>\n",
       "      <td>16.0</td>\n",
       "      <td>...</td>\n",
       "      <td>Aaron</td>\n",
       "      <td>Tommie Lee</td>\n",
       "      <td>190.0</td>\n",
       "      <td>75.0</td>\n",
       "      <td>R</td>\n",
       "      <td>R</td>\n",
       "      <td>1962-04-10</td>\n",
       "      <td>1971-09-26</td>\n",
       "      <td>aarot101</td>\n",
       "      <td>aaronto01</td>\n",
       "    </tr>\n",
       "    <tr>\n",
       "      <th>3</th>\n",
       "      <td>aasedo01</td>\n",
       "      <td>1954.0</td>\n",
       "      <td>9.0</td>\n",
       "      <td>8.0</td>\n",
       "      <td>USA</td>\n",
       "      <td>CA</td>\n",
       "      <td>Orange</td>\n",
       "      <td>NaN</td>\n",
       "      <td>NaN</td>\n",
       "      <td>NaN</td>\n",
       "      <td>...</td>\n",
       "      <td>Aase</td>\n",
       "      <td>Donald William</td>\n",
       "      <td>190.0</td>\n",
       "      <td>75.0</td>\n",
       "      <td>R</td>\n",
       "      <td>R</td>\n",
       "      <td>1977-07-26</td>\n",
       "      <td>1990-10-03</td>\n",
       "      <td>aased001</td>\n",
       "      <td>aasedo01</td>\n",
       "    </tr>\n",
       "    <tr>\n",
       "      <th>4</th>\n",
       "      <td>abadan01</td>\n",
       "      <td>1972.0</td>\n",
       "      <td>8.0</td>\n",
       "      <td>25.0</td>\n",
       "      <td>USA</td>\n",
       "      <td>FL</td>\n",
       "      <td>Palm Beach</td>\n",
       "      <td>NaN</td>\n",
       "      <td>NaN</td>\n",
       "      <td>NaN</td>\n",
       "      <td>...</td>\n",
       "      <td>Abad</td>\n",
       "      <td>Fausto Andres</td>\n",
       "      <td>184.0</td>\n",
       "      <td>73.0</td>\n",
       "      <td>L</td>\n",
       "      <td>L</td>\n",
       "      <td>2001-09-10</td>\n",
       "      <td>2006-04-13</td>\n",
       "      <td>abada001</td>\n",
       "      <td>abadan01</td>\n",
       "    </tr>\n",
       "  </tbody>\n",
       "</table>\n",
       "<p>5 rows × 24 columns</p>\n",
       "</div>"
      ],
      "text/plain": [
       "    playerID  birthYear  birthMonth  birthDay birthCountry birthState  \\\n",
       "0  aardsda01     1981.0        12.0      27.0          USA         CO   \n",
       "1  aaronha01     1934.0         2.0       5.0          USA         AL   \n",
       "2  aaronto01     1939.0         8.0       5.0          USA         AL   \n",
       "3   aasedo01     1954.0         9.0       8.0          USA         CA   \n",
       "4   abadan01     1972.0         8.0      25.0          USA         FL   \n",
       "\n",
       "    birthCity  deathYear  deathMonth  deathDay    ...     nameLast  \\\n",
       "0      Denver        NaN         NaN       NaN    ...      Aardsma   \n",
       "1      Mobile        NaN         NaN       NaN    ...        Aaron   \n",
       "2      Mobile     1984.0         8.0      16.0    ...        Aaron   \n",
       "3      Orange        NaN         NaN       NaN    ...         Aase   \n",
       "4  Palm Beach        NaN         NaN       NaN    ...         Abad   \n",
       "\n",
       "        nameGiven weight height bats throws       debut   finalGame   retroID  \\\n",
       "0     David Allan  215.0   75.0    R      R  2004-04-06  2015-08-23  aardd001   \n",
       "1     Henry Louis  180.0   72.0    R      R  1954-04-13  1976-10-03  aaroh101   \n",
       "2      Tommie Lee  190.0   75.0    R      R  1962-04-10  1971-09-26  aarot101   \n",
       "3  Donald William  190.0   75.0    R      R  1977-07-26  1990-10-03  aased001   \n",
       "4   Fausto Andres  184.0   73.0    L      L  2001-09-10  2006-04-13  abada001   \n",
       "\n",
       "     bbrefID  \n",
       "0  aardsda01  \n",
       "1  aaronha01  \n",
       "2  aaronto01  \n",
       "3   aasedo01  \n",
       "4   abadan01  \n",
       "\n",
       "[5 rows x 24 columns]"
      ]
     },
     "execution_count": 4,
     "metadata": {},
     "output_type": "execute_result"
    }
   ],
   "source": [
    "people = pd.read_csv('~/Desktop/baseball/core/People.csv')\n",
    "people.head()"
   ]
  },
  {
   "cell_type": "code",
   "execution_count": 5,
   "metadata": {
    "scrolled": true
   },
   "outputs": [
    {
     "data": {
      "text/plain": [
       "(19370, 24)"
      ]
     },
     "execution_count": 5,
     "metadata": {},
     "output_type": "execute_result"
    }
   ],
   "source": [
    "people.shape"
   ]
  },
  {
   "cell_type": "markdown",
   "metadata": {},
   "source": [
    "## <font color=\"red\"> Exercise 1 </font>\n",
    "\n",
    "Inspect the types of the `people` table and make note of any necessary changes."
   ]
  },
  {
   "cell_type": "code",
   "execution_count": 6,
   "metadata": {},
   "outputs": [],
   "source": [
    "# Your code here"
   ]
  },
  {
   "cell_type": "markdown",
   "metadata": {},
   "source": [
    "*Your thoughts here*"
   ]
  },
  {
   "cell_type": "markdown",
   "metadata": {},
   "source": [
    "## <font color=\"blue\"> Key </font>"
   ]
  },
  {
   "cell_type": "code",
   "execution_count": 7,
   "metadata": {
    "scrolled": true
   },
   "outputs": [
    {
     "data": {
      "text/plain": [
       "playerID         object\n",
       "birthYear       float64\n",
       "birthMonth      float64\n",
       "birthDay        float64\n",
       "birthCountry     object\n",
       "birthState       object\n",
       "birthCity        object\n",
       "deathYear       float64\n",
       "deathMonth      float64\n",
       "deathDay        float64\n",
       "deathCountry     object\n",
       "deathState       object\n",
       "deathCity        object\n",
       "nameFirst        object\n",
       "nameLast         object\n",
       "nameGiven        object\n",
       "weight          float64\n",
       "height          float64\n",
       "bats             object\n",
       "throws           object\n",
       "debut            object\n",
       "finalGame        object\n",
       "retroID          object\n",
       "bbrefID          object\n",
       "dtype: object"
      ]
     },
     "execution_count": 7,
     "metadata": {},
     "output_type": "execute_result"
    }
   ],
   "source": [
    "people.dtypes"
   ]
  },
  {
   "cell_type": "markdown",
   "metadata": {},
   "source": [
    "1. The columns `debut` and `finalGame` should be `datetime`\n",
    "2. The birth and death columns should be `Int64` due to missing values."
   ]
  },
  {
   "cell_type": "markdown",
   "metadata": {},
   "source": [
    "## Missing `Int64` columns\n",
    "\n",
    "As mentioned in [Lecture 1/4](./pbpython/notebooks/1_4_more_on_pandas_data_types_key.ipynb), we need to use the most recent version `pandas` (still in development as of this writing) to allow us to have integer columns with missing values."
   ]
  },
  {
   "cell_type": "code",
   "execution_count": 8,
   "metadata": {},
   "outputs": [],
   "source": [
    "assert pd.__version__.startswith('0.24'), \"Please uncomment and run the pip command to upgrade pandas\"\n",
    "#!pip install --upgrade pandas"
   ]
  },
  {
   "cell_type": "markdown",
   "metadata": {},
   "source": [
    "## Correcting the `pandas` types\n",
    "\n",
    "1. We pass `parse_dates` a list of date columns\n",
    "2. We pass `dtypes` a `dict` of types of the birth and death columns"
   ]
  },
  {
   "cell_type": "markdown",
   "metadata": {},
   "source": [
    "#### Constructing the `dtype` `dict`"
   ]
  },
  {
   "cell_type": "code",
   "execution_count": 9,
   "metadata": {},
   "outputs": [
    {
     "data": {
      "text/plain": [
       "['debut', 'finalGame']"
      ]
     },
     "execution_count": 9,
     "metadata": {},
     "output_type": "execute_result"
    }
   ],
   "source": [
    "date_cols = ['debut', 'finalGame']\n",
    "date_cols"
   ]
  },
  {
   "cell_type": "code",
   "execution_count": 12,
   "metadata": {},
   "outputs": [
    {
     "data": {
      "text/plain": [
       "['birthYear', 'birthMonth', 'birthDay', 'deathYear', 'deathMonth', 'deathDay']"
      ]
     },
     "execution_count": 12,
     "metadata": {},
     "output_type": "execute_result"
    }
   ],
   "source": [
    "birth_death_date_cols = [prefix + time \n",
    "                         for prefix in ('birth', 'death') \n",
    "                         for time in ('Year', 'Month', 'Day')]\n",
    "birth_death_date_cols"
   ]
  },
  {
   "cell_type": "code",
   "execution_count": 13,
   "metadata": {},
   "outputs": [
    {
     "data": {
      "text/plain": [
       "{'birthYear': Int64Dtype(),\n",
       " 'birthMonth': Int64Dtype(),\n",
       " 'birthDay': Int64Dtype(),\n",
       " 'deathYear': Int64Dtype(),\n",
       " 'deathMonth': Int64Dtype(),\n",
       " 'deathDay': Int64Dtype()}"
      ]
     },
     "execution_count": 13,
     "metadata": {},
     "output_type": "execute_result"
    }
   ],
   "source": [
    "people_dtypes = {col:pd.Int64Dtype() for col in people.columns if col in birth_death_date_cols}\n",
    "people_dtypes"
   ]
  },
  {
   "cell_type": "markdown",
   "metadata": {},
   "source": [
    "## Rereading the csv with the correct types"
   ]
  },
  {
   "cell_type": "code",
   "execution_count": 15,
   "metadata": {},
   "outputs": [
    {
     "data": {
      "text/plain": [
       "playerID                object\n",
       "birthYear                Int64\n",
       "birthMonth               Int64\n",
       "birthDay                 Int64\n",
       "birthCountry            object\n",
       "birthState              object\n",
       "birthCity               object\n",
       "deathYear                Int64\n",
       "deathMonth               Int64\n",
       "deathDay                 Int64\n",
       "deathCountry            object\n",
       "deathState              object\n",
       "deathCity               object\n",
       "nameFirst               object\n",
       "nameLast                object\n",
       "nameGiven               object\n",
       "weight                 float64\n",
       "height                 float64\n",
       "bats                    object\n",
       "throws                  object\n",
       "debut           datetime64[ns]\n",
       "finalGame       datetime64[ns]\n",
       "retroID                 object\n",
       "bbrefID                 object\n",
       "dtype: object"
      ]
     },
     "execution_count": 15,
     "metadata": {},
     "output_type": "execute_result"
    }
   ],
   "source": [
    "people = pd.read_csv('~/Desktop/baseball/core/People.csv', \n",
    "                     dtype=people_dtypes, \n",
    "                     parse_dates=date_cols)\n",
    "people.dtypes"
   ]
  },
  {
   "cell_type": "code",
   "execution_count": 16,
   "metadata": {},
   "outputs": [
    {
     "data": {
      "text/html": [
       "<div>\n",
       "<style scoped>\n",
       "    .dataframe tbody tr th:only-of-type {\n",
       "        vertical-align: middle;\n",
       "    }\n",
       "\n",
       "    .dataframe tbody tr th {\n",
       "        vertical-align: top;\n",
       "    }\n",
       "\n",
       "    .dataframe thead th {\n",
       "        text-align: right;\n",
       "    }\n",
       "</style>\n",
       "<table border=\"1\" class=\"dataframe\">\n",
       "  <thead>\n",
       "    <tr style=\"text-align: right;\">\n",
       "      <th></th>\n",
       "      <th>playerID</th>\n",
       "      <th>birthYear</th>\n",
       "      <th>birthMonth</th>\n",
       "      <th>birthDay</th>\n",
       "      <th>birthCountry</th>\n",
       "      <th>birthState</th>\n",
       "      <th>birthCity</th>\n",
       "      <th>deathYear</th>\n",
       "      <th>deathMonth</th>\n",
       "      <th>deathDay</th>\n",
       "      <th>...</th>\n",
       "      <th>nameLast</th>\n",
       "      <th>nameGiven</th>\n",
       "      <th>weight</th>\n",
       "      <th>height</th>\n",
       "      <th>bats</th>\n",
       "      <th>throws</th>\n",
       "      <th>debut</th>\n",
       "      <th>finalGame</th>\n",
       "      <th>retroID</th>\n",
       "      <th>bbrefID</th>\n",
       "    </tr>\n",
       "  </thead>\n",
       "  <tbody>\n",
       "    <tr>\n",
       "      <th>0</th>\n",
       "      <td>aardsda01</td>\n",
       "      <td>1981</td>\n",
       "      <td>12</td>\n",
       "      <td>27</td>\n",
       "      <td>USA</td>\n",
       "      <td>CO</td>\n",
       "      <td>Denver</td>\n",
       "      <td>NaN</td>\n",
       "      <td>NaN</td>\n",
       "      <td>NaN</td>\n",
       "      <td>...</td>\n",
       "      <td>Aardsma</td>\n",
       "      <td>David Allan</td>\n",
       "      <td>215.0</td>\n",
       "      <td>75.0</td>\n",
       "      <td>R</td>\n",
       "      <td>R</td>\n",
       "      <td>2004-04-06</td>\n",
       "      <td>2015-08-23</td>\n",
       "      <td>aardd001</td>\n",
       "      <td>aardsda01</td>\n",
       "    </tr>\n",
       "    <tr>\n",
       "      <th>1</th>\n",
       "      <td>aaronha01</td>\n",
       "      <td>1934</td>\n",
       "      <td>2</td>\n",
       "      <td>5</td>\n",
       "      <td>USA</td>\n",
       "      <td>AL</td>\n",
       "      <td>Mobile</td>\n",
       "      <td>NaN</td>\n",
       "      <td>NaN</td>\n",
       "      <td>NaN</td>\n",
       "      <td>...</td>\n",
       "      <td>Aaron</td>\n",
       "      <td>Henry Louis</td>\n",
       "      <td>180.0</td>\n",
       "      <td>72.0</td>\n",
       "      <td>R</td>\n",
       "      <td>R</td>\n",
       "      <td>1954-04-13</td>\n",
       "      <td>1976-10-03</td>\n",
       "      <td>aaroh101</td>\n",
       "      <td>aaronha01</td>\n",
       "    </tr>\n",
       "    <tr>\n",
       "      <th>2</th>\n",
       "      <td>aaronto01</td>\n",
       "      <td>1939</td>\n",
       "      <td>8</td>\n",
       "      <td>5</td>\n",
       "      <td>USA</td>\n",
       "      <td>AL</td>\n",
       "      <td>Mobile</td>\n",
       "      <td>1984</td>\n",
       "      <td>8</td>\n",
       "      <td>16</td>\n",
       "      <td>...</td>\n",
       "      <td>Aaron</td>\n",
       "      <td>Tommie Lee</td>\n",
       "      <td>190.0</td>\n",
       "      <td>75.0</td>\n",
       "      <td>R</td>\n",
       "      <td>R</td>\n",
       "      <td>1962-04-10</td>\n",
       "      <td>1971-09-26</td>\n",
       "      <td>aarot101</td>\n",
       "      <td>aaronto01</td>\n",
       "    </tr>\n",
       "    <tr>\n",
       "      <th>3</th>\n",
       "      <td>aasedo01</td>\n",
       "      <td>1954</td>\n",
       "      <td>9</td>\n",
       "      <td>8</td>\n",
       "      <td>USA</td>\n",
       "      <td>CA</td>\n",
       "      <td>Orange</td>\n",
       "      <td>NaN</td>\n",
       "      <td>NaN</td>\n",
       "      <td>NaN</td>\n",
       "      <td>...</td>\n",
       "      <td>Aase</td>\n",
       "      <td>Donald William</td>\n",
       "      <td>190.0</td>\n",
       "      <td>75.0</td>\n",
       "      <td>R</td>\n",
       "      <td>R</td>\n",
       "      <td>1977-07-26</td>\n",
       "      <td>1990-10-03</td>\n",
       "      <td>aased001</td>\n",
       "      <td>aasedo01</td>\n",
       "    </tr>\n",
       "    <tr>\n",
       "      <th>4</th>\n",
       "      <td>abadan01</td>\n",
       "      <td>1972</td>\n",
       "      <td>8</td>\n",
       "      <td>25</td>\n",
       "      <td>USA</td>\n",
       "      <td>FL</td>\n",
       "      <td>Palm Beach</td>\n",
       "      <td>NaN</td>\n",
       "      <td>NaN</td>\n",
       "      <td>NaN</td>\n",
       "      <td>...</td>\n",
       "      <td>Abad</td>\n",
       "      <td>Fausto Andres</td>\n",
       "      <td>184.0</td>\n",
       "      <td>73.0</td>\n",
       "      <td>L</td>\n",
       "      <td>L</td>\n",
       "      <td>2001-09-10</td>\n",
       "      <td>2006-04-13</td>\n",
       "      <td>abada001</td>\n",
       "      <td>abadan01</td>\n",
       "    </tr>\n",
       "  </tbody>\n",
       "</table>\n",
       "<p>5 rows × 24 columns</p>\n",
       "</div>"
      ],
      "text/plain": [
       "    playerID  birthYear  birthMonth  birthDay birthCountry birthState  \\\n",
       "0  aardsda01       1981          12        27          USA         CO   \n",
       "1  aaronha01       1934           2         5          USA         AL   \n",
       "2  aaronto01       1939           8         5          USA         AL   \n",
       "3   aasedo01       1954           9         8          USA         CA   \n",
       "4   abadan01       1972           8        25          USA         FL   \n",
       "\n",
       "    birthCity  deathYear  deathMonth  deathDay    ...     nameLast  \\\n",
       "0      Denver        NaN         NaN       NaN    ...      Aardsma   \n",
       "1      Mobile        NaN         NaN       NaN    ...        Aaron   \n",
       "2      Mobile       1984           8        16    ...        Aaron   \n",
       "3      Orange        NaN         NaN       NaN    ...         Aase   \n",
       "4  Palm Beach        NaN         NaN       NaN    ...         Abad   \n",
       "\n",
       "        nameGiven weight height bats throws      debut  finalGame   retroID  \\\n",
       "0     David Allan  215.0   75.0    R      R 2004-04-06 2015-08-23  aardd001   \n",
       "1     Henry Louis  180.0   72.0    R      R 1954-04-13 1976-10-03  aaroh101   \n",
       "2      Tommie Lee  190.0   75.0    R      R 1962-04-10 1971-09-26  aarot101   \n",
       "3  Donald William  190.0   75.0    R      R 1977-07-26 1990-10-03  aased001   \n",
       "4   Fausto Andres  184.0   73.0    L      L 2001-09-10 2006-04-13  abada001   \n",
       "\n",
       "     bbrefID  \n",
       "0  aardsda01  \n",
       "1  aaronha01  \n",
       "2  aaronto01  \n",
       "3   aasedo01  \n",
       "4   abadan01  \n",
       "\n",
       "[5 rows x 24 columns]"
      ]
     },
     "execution_count": 16,
     "metadata": {},
     "output_type": "execute_result"
    }
   ],
   "source": [
    "people.head()"
   ]
  },
  {
   "cell_type": "markdown",
   "metadata": {},
   "source": [
    "## <font color=\"red\"> Exercise 2 </font>\n",
    "**Goal:** Find a method/attribute of each `dtype`, which preferably returns something immutable like a `str`, that we can use to identify the general type.\n",
    "**Tasks:**\n",
    "\n",
    "1. Pull off an example `dtype`\n",
    "2. Use `dir` to inspect the available methods\n",
    "3. Test the methods/attributes to find a good candidate."
   ]
  },
  {
   "cell_type": "code",
   "execution_count": 28,
   "metadata": {},
   "outputs": [],
   "source": [
    "# Your code here"
   ]
  },
  {
   "cell_type": "markdown",
   "metadata": {},
   "source": [
    "## <font color=\"blue\"> Key </font>"
   ]
  },
  {
   "cell_type": "code",
   "execution_count": 22,
   "metadata": {},
   "outputs": [
    {
     "data": {
      "text/plain": [
       "dtype('O')"
      ]
     },
     "execution_count": 22,
     "metadata": {},
     "output_type": "execute_result"
    }
   ],
   "source": [
    "from toolz import first\n",
    "example_type = first(people.dtypes)\n",
    "example_type"
   ]
  },
  {
   "cell_type": "code",
   "execution_count": 24,
   "metadata": {},
   "outputs": [
    {
     "data": {
      "text/plain": [
       "['alignment',\n",
       " 'base',\n",
       " 'byteorder',\n",
       " 'char',\n",
       " 'descr',\n",
       " 'fields',\n",
       " 'flags',\n",
       " 'hasobject',\n",
       " 'isalignedstruct',\n",
       " 'isbuiltin',\n",
       " 'isnative',\n",
       " 'itemsize',\n",
       " 'kind',\n",
       " 'metadata',\n",
       " 'name',\n",
       " 'names',\n",
       " 'ndim',\n",
       " 'newbyteorder',\n",
       " 'num',\n",
       " 'shape',\n",
       " 'str',\n",
       " 'subdtype',\n",
       " 'type']"
      ]
     },
     "execution_count": 24,
     "metadata": {},
     "output_type": "execute_result"
    }
   ],
   "source": [
    "[m for m in dir(example_type) if not m.startswith('_')]"
   ]
  },
  {
   "cell_type": "code",
   "execution_count": 27,
   "metadata": {},
   "outputs": [
    {
     "data": {
      "text/plain": [
       "['O',\n",
       " 'i',\n",
       " 'i',\n",
       " 'i',\n",
       " 'O',\n",
       " 'O',\n",
       " 'O',\n",
       " 'i',\n",
       " 'i',\n",
       " 'i',\n",
       " 'O',\n",
       " 'O',\n",
       " 'O',\n",
       " 'O',\n",
       " 'O',\n",
       " 'O',\n",
       " 'f',\n",
       " 'f',\n",
       " 'O',\n",
       " 'O',\n",
       " 'M',\n",
       " 'M',\n",
       " 'O',\n",
       " 'O']"
      ]
     },
     "execution_count": 27,
     "metadata": {},
     "output_type": "execute_result"
    }
   ],
   "source": [
    "[t.kind for t in people.dtypes]"
   ]
  },
  {
   "cell_type": "code",
   "execution_count": 18,
   "metadata": {},
   "outputs": [
    {
     "data": {
      "text/plain": [
       "['O',\n",
       " 'i',\n",
       " 'i',\n",
       " 'i',\n",
       " 'O',\n",
       " 'O',\n",
       " 'O',\n",
       " 'i',\n",
       " 'i',\n",
       " 'i',\n",
       " 'O',\n",
       " 'O',\n",
       " 'O',\n",
       " 'O',\n",
       " 'O',\n",
       " 'O',\n",
       " 'f',\n",
       " 'f',\n",
       " 'O',\n",
       " 'O',\n",
       " 'M',\n",
       " 'M',\n",
       " 'O',\n",
       " 'O']"
      ]
     },
     "execution_count": 18,
     "metadata": {},
     "output_type": "execute_result"
    }
   ],
   "source": [
    "[dt.kind for dt in people.dtypes]"
   ]
  },
  {
   "cell_type": "markdown",
   "metadata": {},
   "source": [
    "## Creating a type conversion dictionary\n",
    "\n",
    "1. keys will be the `dtype.kind` strings\n",
    "2. The `values` will be the associated `sqlalchemy` types"
   ]
  },
  {
   "cell_type": "code",
   "execution_count": 31,
   "metadata": {},
   "outputs": [
    {
     "data": {
      "text/plain": [
       "{'O': sqlalchemy.sql.sqltypes.String,\n",
       " 'i': sqlalchemy.sql.sqltypes.Integer,\n",
       " 'f': sqlalchemy.sql.sqltypes.Float,\n",
       " 'M': sqlalchemy.sql.sqltypes.DateTime}"
      ]
     },
     "execution_count": 31,
     "metadata": {},
     "output_type": "execute_result"
    }
   ],
   "source": [
    "from sqlalchemy import Integer, Float, String, DateTime\n",
    "DTYPES_TO_SQLALCHEMY_TYPES = {'O':String,\n",
    "                              'i':Integer,\n",
    "                              'f':Float,\n",
    "                              'M':DateTime}\n",
    "DTYPES_TO_SQLALCHEMY_TYPES"
   ]
  },
  {
   "cell_type": "markdown",
   "metadata": {},
   "source": [
    "## Use ALL CAPS for global constants\n",
    "\n",
    "When dealing with global constants, we should\n",
    "\n",
    "1. Define them at the top of the file.\n",
    "2. Use an ALL CAPS name to make them stand out."
   ]
  },
  {
   "cell_type": "markdown",
   "metadata": {},
   "source": [
    "## <font color=\"red\"> Exercise 3 </font>\n",
    "\n",
    "Write a `dict` comprehension that uses our conversion `dict` to convert the `pandas` `dtypes` to `sqlalchemy` types."
   ]
  },
  {
   "cell_type": "code",
   "execution_count": 35,
   "metadata": {},
   "outputs": [],
   "source": [
    "# Your code here"
   ]
  },
  {
   "cell_type": "markdown",
   "metadata": {},
   "source": [
    "## <font color=\"blue\"> Key </font>"
   ]
  },
  {
   "cell_type": "code",
   "execution_count": 33,
   "metadata": {
    "scrolled": true
   },
   "outputs": [
    {
     "data": {
      "text/plain": [
       "{'playerID': sqlalchemy.sql.sqltypes.String,\n",
       " 'birthYear': sqlalchemy.sql.sqltypes.Integer,\n",
       " 'birthMonth': sqlalchemy.sql.sqltypes.Integer,\n",
       " 'birthDay': sqlalchemy.sql.sqltypes.Integer,\n",
       " 'birthCountry': sqlalchemy.sql.sqltypes.String,\n",
       " 'birthState': sqlalchemy.sql.sqltypes.String,\n",
       " 'birthCity': sqlalchemy.sql.sqltypes.String,\n",
       " 'deathYear': sqlalchemy.sql.sqltypes.Integer,\n",
       " 'deathMonth': sqlalchemy.sql.sqltypes.Integer,\n",
       " 'deathDay': sqlalchemy.sql.sqltypes.Integer,\n",
       " 'deathCountry': sqlalchemy.sql.sqltypes.String,\n",
       " 'deathState': sqlalchemy.sql.sqltypes.String,\n",
       " 'deathCity': sqlalchemy.sql.sqltypes.String,\n",
       " 'nameFirst': sqlalchemy.sql.sqltypes.String,\n",
       " 'nameLast': sqlalchemy.sql.sqltypes.String,\n",
       " 'nameGiven': sqlalchemy.sql.sqltypes.String,\n",
       " 'weight': sqlalchemy.sql.sqltypes.Float,\n",
       " 'height': sqlalchemy.sql.sqltypes.Float,\n",
       " 'bats': sqlalchemy.sql.sqltypes.String,\n",
       " 'throws': sqlalchemy.sql.sqltypes.String,\n",
       " 'debut': sqlalchemy.sql.sqltypes.DateTime,\n",
       " 'finalGame': sqlalchemy.sql.sqltypes.DateTime,\n",
       " 'retroID': sqlalchemy.sql.sqltypes.String,\n",
       " 'bbrefID': sqlalchemy.sql.sqltypes.String}"
      ]
     },
     "execution_count": 33,
     "metadata": {},
     "output_type": "execute_result"
    }
   ],
   "source": [
    "from toolz import get\n",
    "{col:get(dtype.kind, DTYPES_TO_SQLALCHEMY_TYPES) \n",
    " for col, dtype in zip(people.columns, people.dtypes)}"
   ]
  },
  {
   "cell_type": "markdown",
   "metadata": {},
   "source": [
    "## <font color=\"red\"> Exercise 4 </font>\n",
    "\n",
    "Package your expression in a `lambda` and refactor your code by adding helper functions to clean up the expression."
   ]
  },
  {
   "cell_type": "code",
   "execution_count": null,
   "metadata": {},
   "outputs": [],
   "source": [
    "# lambda function before refactoring"
   ]
  },
  {
   "cell_type": "code",
   "execution_count": 37,
   "metadata": {},
   "outputs": [],
   "source": [
    "# refactored lambda function and helper functions"
   ]
  },
  {
   "cell_type": "markdown",
   "metadata": {},
   "source": [
    "## <font color=\"blue\"> Key </font>"
   ]
  },
  {
   "cell_type": "code",
   "execution_count": 38,
   "metadata": {},
   "outputs": [],
   "source": [
    "get_sql_types = lambda df: {col:DTYPES_TO_SQLALCHEMY_TYPES[dtype.kind] \n",
    "                            for col, dtype in zip(people.columns, people.dtypes)}"
   ]
  },
  {
   "cell_type": "code",
   "execution_count": 35,
   "metadata": {},
   "outputs": [],
   "source": [
    "def get_sql_types(df):\n",
    "    sql_type = lambda dtype: DTYPES_TO_SQLALCHEMY_TYPES[dtype.kind] \n",
    "    cols_and_dtypes = lambda df: zip(df.columns, df.dtypes)\n",
    "    return {col:sql_type(dtype) \n",
    "            for col, dtype in cols_and_dtypes(df)}"
   ]
  },
  {
   "cell_type": "code",
   "execution_count": 36,
   "metadata": {},
   "outputs": [
    {
     "data": {
      "text/plain": [
       "{'playerID': sqlalchemy.sql.sqltypes.String,\n",
       " 'birthYear': sqlalchemy.sql.sqltypes.Integer,\n",
       " 'birthMonth': sqlalchemy.sql.sqltypes.Integer,\n",
       " 'birthDay': sqlalchemy.sql.sqltypes.Integer,\n",
       " 'birthCountry': sqlalchemy.sql.sqltypes.String,\n",
       " 'birthState': sqlalchemy.sql.sqltypes.String,\n",
       " 'birthCity': sqlalchemy.sql.sqltypes.String,\n",
       " 'deathYear': sqlalchemy.sql.sqltypes.Integer,\n",
       " 'deathMonth': sqlalchemy.sql.sqltypes.Integer,\n",
       " 'deathDay': sqlalchemy.sql.sqltypes.Integer,\n",
       " 'deathCountry': sqlalchemy.sql.sqltypes.String,\n",
       " 'deathState': sqlalchemy.sql.sqltypes.String,\n",
       " 'deathCity': sqlalchemy.sql.sqltypes.String,\n",
       " 'nameFirst': sqlalchemy.sql.sqltypes.String,\n",
       " 'nameLast': sqlalchemy.sql.sqltypes.String,\n",
       " 'nameGiven': sqlalchemy.sql.sqltypes.String,\n",
       " 'weight': sqlalchemy.sql.sqltypes.Float,\n",
       " 'height': sqlalchemy.sql.sqltypes.Float,\n",
       " 'bats': sqlalchemy.sql.sqltypes.String,\n",
       " 'throws': sqlalchemy.sql.sqltypes.String,\n",
       " 'debut': sqlalchemy.sql.sqltypes.DateTime,\n",
       " 'finalGame': sqlalchemy.sql.sqltypes.DateTime,\n",
       " 'retroID': sqlalchemy.sql.sqltypes.String,\n",
       " 'bbrefID': sqlalchemy.sql.sqltypes.String}"
      ]
     },
     "execution_count": 36,
     "metadata": {},
     "output_type": "execute_result"
    }
   ],
   "source": [
    "get_sql_types(people)"
   ]
  },
  {
   "cell_type": "markdown",
   "metadata": {},
   "source": [
    "## <font color=\"red\"> Exercise 5 </font>\n",
    "\n",
    "Add the `People.csv` to your `baseball.db`"
   ]
  },
  {
   "cell_type": "code",
   "execution_count": null,
   "metadata": {},
   "outputs": [],
   "source": [
    "# lambda function before refactoring"
   ]
  },
  {
   "cell_type": "code",
   "execution_count": 40,
   "metadata": {},
   "outputs": [],
   "source": [
    "# refactored lambda function and helper functions"
   ]
  },
  {
   "cell_type": "markdown",
   "metadata": {},
   "source": [
    "## <font color=\"blue\"> Key </font>"
   ]
  },
  {
   "cell_type": "markdown",
   "metadata": {},
   "source": [
    "#### Creating the `sqlalchemy` type `dict`"
   ]
  },
  {
   "cell_type": "code",
   "execution_count": 44,
   "metadata": {},
   "outputs": [
    {
     "data": {
      "text/plain": [
       "{'playerID': sqlalchemy.sql.sqltypes.String,\n",
       " 'birthYear': sqlalchemy.sql.sqltypes.Integer,\n",
       " 'birthMonth': sqlalchemy.sql.sqltypes.Integer,\n",
       " 'birthDay': sqlalchemy.sql.sqltypes.Integer,\n",
       " 'birthCountry': sqlalchemy.sql.sqltypes.String,\n",
       " 'birthState': sqlalchemy.sql.sqltypes.String,\n",
       " 'birthCity': sqlalchemy.sql.sqltypes.String,\n",
       " 'deathYear': sqlalchemy.sql.sqltypes.Integer,\n",
       " 'deathMonth': sqlalchemy.sql.sqltypes.Integer,\n",
       " 'deathDay': sqlalchemy.sql.sqltypes.Integer,\n",
       " 'deathCountry': sqlalchemy.sql.sqltypes.String,\n",
       " 'deathState': sqlalchemy.sql.sqltypes.String,\n",
       " 'deathCity': sqlalchemy.sql.sqltypes.String,\n",
       " 'nameFirst': sqlalchemy.sql.sqltypes.String,\n",
       " 'nameLast': sqlalchemy.sql.sqltypes.String,\n",
       " 'nameGiven': sqlalchemy.sql.sqltypes.String,\n",
       " 'weight': sqlalchemy.sql.sqltypes.Float,\n",
       " 'height': sqlalchemy.sql.sqltypes.Float,\n",
       " 'bats': sqlalchemy.sql.sqltypes.String,\n",
       " 'throws': sqlalchemy.sql.sqltypes.String,\n",
       " 'debut': sqlalchemy.sql.sqltypes.DateTime,\n",
       " 'finalGame': sqlalchemy.sql.sqltypes.DateTime,\n",
       " 'retroID': sqlalchemy.sql.sqltypes.String,\n",
       " 'bbrefID': sqlalchemy.sql.sqltypes.String}"
      ]
     },
     "execution_count": 44,
     "metadata": {},
     "output_type": "execute_result"
    }
   ],
   "source": [
    "sql_types = get_sql_types(people)\n",
    "sql_types"
   ]
  },
  {
   "cell_type": "markdown",
   "metadata": {},
   "source": [
    "#### Checking if `playerID` is a unique primary key"
   ]
  },
  {
   "cell_type": "code",
   "execution_count": 45,
   "metadata": {},
   "outputs": [
    {
     "data": {
      "text/plain": [
       "True"
      ]
     },
     "execution_count": 45,
     "metadata": {},
     "output_type": "execute_result"
    }
   ],
   "source": [
    "people.playerID.is_unique"
   ]
  },
  {
   "cell_type": "markdown",
   "metadata": {},
   "source": [
    "#### Creating an `engine` and `schema`"
   ]
  },
  {
   "cell_type": "code",
   "execution_count": 47,
   "metadata": {},
   "outputs": [
    {
     "name": "stdout",
     "output_type": "stream",
     "text": [
      "\n",
      "CREATE TABLE people (\n",
      "\t\"playerID\" VARCHAR NOT NULL, \n",
      "\t\"birthYear\" INTEGER, \n",
      "\t\"birthMonth\" INTEGER, \n",
      "\t\"birthDay\" INTEGER, \n",
      "\t\"birthCountry\" VARCHAR, \n",
      "\t\"birthState\" VARCHAR, \n",
      "\t\"birthCity\" VARCHAR, \n",
      "\t\"deathYear\" INTEGER, \n",
      "\t\"deathMonth\" INTEGER, \n",
      "\t\"deathDay\" INTEGER, \n",
      "\t\"deathCountry\" VARCHAR, \n",
      "\t\"deathState\" VARCHAR, \n",
      "\t\"deathCity\" VARCHAR, \n",
      "\t\"nameFirst\" VARCHAR, \n",
      "\t\"nameLast\" VARCHAR, \n",
      "\t\"nameGiven\" VARCHAR, \n",
      "\tweight FLOAT, \n",
      "\theight FLOAT, \n",
      "\tbats VARCHAR, \n",
      "\tthrows VARCHAR, \n",
      "\tdebut DATETIME, \n",
      "\t\"finalGame\" DATETIME, \n",
      "\t\"retroID\" VARCHAR, \n",
      "\t\"bbrefID\" VARCHAR, \n",
      "\tCONSTRAINT people_pk PRIMARY KEY (\"playerID\")\n",
      ")\n",
      "\n",
      "\n"
     ]
    }
   ],
   "source": [
    "from sqlalchemy import create_engine\n",
    "mang_eng = create_engine(\"sqlite:///databases/baseball.db\")\n",
    "mang_eng.echo = False\n",
    "schema = pd.io.sql.get_schema(people, 'people', keys='playerID', con=mang_eng, dtype=sql_types)\n",
    "print(schema)"
   ]
  },
  {
   "cell_type": "code",
   "execution_count": 48,
   "metadata": {},
   "outputs": [
    {
     "data": {
      "text/plain": [
       "<sqlalchemy.engine.result.ResultProxy at 0x119066828>"
      ]
     },
     "execution_count": 48,
     "metadata": {},
     "output_type": "execute_result"
    }
   ],
   "source": [
    "mang_eng.execute(schema)"
   ]
  },
  {
   "cell_type": "code",
   "execution_count": 49,
   "metadata": {},
   "outputs": [],
   "source": [
    "people.to_sql('people', \n",
    "                con=mang_eng, \n",
    "                dtype=sql_types, \n",
    "                index=False,\n",
    "                if_exists='append')"
   ]
  },
  {
   "cell_type": "code",
   "execution_count": 50,
   "metadata": {},
   "outputs": [],
   "source": [
    "from sqlalchemy.ext.automap import automap_base\n",
    "from sqlalchemy.orm import sessionmaker\n",
    "from sqlalchemy import select\n",
    "\n",
    "mang_eng2 = create_engine(\"sqlite:///databases/baseball.db\") \n",
    "Session = sessionmaker(mang_eng)\n",
    "session = Session()"
   ]
  },
  {
   "cell_type": "code",
   "execution_count": 51,
   "metadata": {},
   "outputs": [],
   "source": [
    "Base = automap_base()\n",
    "Base.prepare(mang_eng2, reflect=True)\n",
    "People = Base.classes.people"
   ]
  },
  {
   "cell_type": "code",
   "execution_count": 53,
   "metadata": {
    "scrolled": true
   },
   "outputs": [
    {
     "data": {
      "text/plain": [
       "[{'playerID': 'aardsda01',\n",
       "  'birthYear': 1981,\n",
       "  'birthMonth': 12,\n",
       "  'birthDay': 27,\n",
       "  'birthCountry': 'USA',\n",
       "  'birthState': 'CO',\n",
       "  'birthCity': 'Denver',\n",
       "  'deathYear': None,\n",
       "  'deathMonth': None,\n",
       "  'deathDay': None,\n",
       "  'deathCountry': None,\n",
       "  'deathState': None,\n",
       "  'deathCity': None,\n",
       "  'nameFirst': 'David',\n",
       "  'nameLast': 'Aardsma',\n",
       "  'nameGiven': 'David Allan',\n",
       "  'weight': 215.0,\n",
       "  'height': 75.0,\n",
       "  'bats': 'R',\n",
       "  'throws': 'R',\n",
       "  'debut': '2004-04-06 00:00:00.000000',\n",
       "  'finalGame': '2015-08-23 00:00:00.000000',\n",
       "  'retroID': 'aardd001',\n",
       "  'bbrefID': 'aardsda01'},\n",
       " {'playerID': 'aaronha01',\n",
       "  'birthYear': 1934,\n",
       "  'birthMonth': 2,\n",
       "  'birthDay': 5,\n",
       "  'birthCountry': 'USA',\n",
       "  'birthState': 'AL',\n",
       "  'birthCity': 'Mobile',\n",
       "  'deathYear': None,\n",
       "  'deathMonth': None,\n",
       "  'deathDay': None,\n",
       "  'deathCountry': None,\n",
       "  'deathState': None,\n",
       "  'deathCity': None,\n",
       "  'nameFirst': 'Hank',\n",
       "  'nameLast': 'Aaron',\n",
       "  'nameGiven': 'Henry Louis',\n",
       "  'weight': 180.0,\n",
       "  'height': 72.0,\n",
       "  'bats': 'R',\n",
       "  'throws': 'R',\n",
       "  'debut': '1954-04-13 00:00:00.000000',\n",
       "  'finalGame': '1976-10-03 00:00:00.000000',\n",
       "  'retroID': 'aaroh101',\n",
       "  'bbrefID': 'aaronha01'},\n",
       " {'playerID': 'aaronto01',\n",
       "  'birthYear': 1939,\n",
       "  'birthMonth': 8,\n",
       "  'birthDay': 5,\n",
       "  'birthCountry': 'USA',\n",
       "  'birthState': 'AL',\n",
       "  'birthCity': 'Mobile',\n",
       "  'deathYear': 1984,\n",
       "  'deathMonth': 8,\n",
       "  'deathDay': 16,\n",
       "  'deathCountry': 'USA',\n",
       "  'deathState': 'GA',\n",
       "  'deathCity': 'Atlanta',\n",
       "  'nameFirst': 'Tommie',\n",
       "  'nameLast': 'Aaron',\n",
       "  'nameGiven': 'Tommie Lee',\n",
       "  'weight': 190.0,\n",
       "  'height': 75.0,\n",
       "  'bats': 'R',\n",
       "  'throws': 'R',\n",
       "  'debut': '1962-04-10 00:00:00.000000',\n",
       "  'finalGame': '1971-09-26 00:00:00.000000',\n",
       "  'retroID': 'aarot101',\n",
       "  'bbrefID': 'aaronto01'},\n",
       " {'playerID': 'aasedo01',\n",
       "  'birthYear': 1954,\n",
       "  'birthMonth': 9,\n",
       "  'birthDay': 8,\n",
       "  'birthCountry': 'USA',\n",
       "  'birthState': 'CA',\n",
       "  'birthCity': 'Orange',\n",
       "  'deathYear': None,\n",
       "  'deathMonth': None,\n",
       "  'deathDay': None,\n",
       "  'deathCountry': None,\n",
       "  'deathState': None,\n",
       "  'deathCity': None,\n",
       "  'nameFirst': 'Don',\n",
       "  'nameLast': 'Aase',\n",
       "  'nameGiven': 'Donald William',\n",
       "  'weight': 190.0,\n",
       "  'height': 75.0,\n",
       "  'bats': 'R',\n",
       "  'throws': 'R',\n",
       "  'debut': '1977-07-26 00:00:00.000000',\n",
       "  'finalGame': '1990-10-03 00:00:00.000000',\n",
       "  'retroID': 'aased001',\n",
       "  'bbrefID': 'aasedo01'},\n",
       " {'playerID': 'abadan01',\n",
       "  'birthYear': 1972,\n",
       "  'birthMonth': 8,\n",
       "  'birthDay': 25,\n",
       "  'birthCountry': 'USA',\n",
       "  'birthState': 'FL',\n",
       "  'birthCity': 'Palm Beach',\n",
       "  'deathYear': None,\n",
       "  'deathMonth': None,\n",
       "  'deathDay': None,\n",
       "  'deathCountry': None,\n",
       "  'deathState': None,\n",
       "  'deathCity': None,\n",
       "  'nameFirst': 'Andy',\n",
       "  'nameLast': 'Abad',\n",
       "  'nameGiven': 'Fausto Andres',\n",
       "  'weight': 184.0,\n",
       "  'height': 73.0,\n",
       "  'bats': 'L',\n",
       "  'throws': 'L',\n",
       "  'debut': '2001-09-10 00:00:00.000000',\n",
       "  'finalGame': '2006-04-13 00:00:00.000000',\n",
       "  'retroID': 'abada001',\n",
       "  'bbrefID': 'abadan01'}]"
      ]
     },
     "execution_count": 53,
     "metadata": {},
     "output_type": "execute_result"
    }
   ],
   "source": [
    "from more_sqlalchemy import result_dicts\n",
    "stmt = select('*').select_from(People)\n",
    "session.execute(stmt).fetchmany(5) >> result_dicts"
   ]
  },
  {
   "cell_type": "markdown",
   "metadata": {},
   "source": [
    "## <font color=\"red\"> Exercise 6 </font>\n",
    "\n",
    "Set up a similar automatic conversion precess for `pyspark.DataFrames`.  You need to build a structure like this:\n",
    "\n",
    "```python\n",
    "schema = StructType([StructField('Name', StringType(), True),\n",
    "                     StructField('DateTime', TimestampType(), True)\n",
    "                     StructField('Age', IntegerType(), True)])\n",
    "```"
   ]
  },
  {
   "cell_type": "code",
   "execution_count": null,
   "metadata": {},
   "outputs": [],
   "source": []
  }
 ],
 "metadata": {
  "kernelspec": {
   "display_name": "Python 3",
   "language": "python",
   "name": "python3"
  },
  "language_info": {
   "codemirror_mode": {
    "name": "ipython",
    "version": 3
   },
   "file_extension": ".py",
   "mimetype": "text/x-python",
   "name": "python",
   "nbconvert_exporter": "python",
   "pygments_lexer": "ipython3",
   "version": "3.6.2"
  },
  "varInspector": {
   "cols": {
    "lenName": 16,
    "lenType": 16,
    "lenVar": 40
   },
   "kernels_config": {
    "python": {
     "delete_cmd_postfix": "",
     "delete_cmd_prefix": "del ",
     "library": "var_list.py",
     "varRefreshCmd": "print(var_dic_list())"
    },
    "r": {
     "delete_cmd_postfix": ") ",
     "delete_cmd_prefix": "rm(",
     "library": "var_list.r",
     "varRefreshCmd": "cat(var_dic_list()) "
    }
   },
   "types_to_exclude": [
    "module",
    "function",
    "builtin_function_or_method",
    "instance",
    "_Feature"
   ],
   "window_display": false
  }
 },
 "nbformat": 4,
 "nbformat_minor": 2
}
