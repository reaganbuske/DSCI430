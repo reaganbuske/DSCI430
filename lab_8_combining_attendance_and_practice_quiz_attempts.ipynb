{
 "cells": [
  {
   "cell_type": "markdown",
   "metadata": {},
   "source": [
    "# Lab 8 - Combining Attendance and Practice Quiz Attempts"
   ]
  },
  {
   "cell_type": "markdown",
   "metadata": {},
   "source": [
    "## Background\n",
    "\n",
    "In all of my class, I use an attendace quiz to track student attendance.  Note that students take multiple attempts at the same quiz, one per class; so that number of attempts a student takes on this quiz represents the number of class session that student has attended.\n",
    "\n",
    "In some, but not all, of my courses I also provide practice quizzes that students can use to prepare for actual quizzes and tests.  These quizzes pull questions randomly from a bank of questions, allow students unlimited attempts, and are not used as part of the students grade.\n",
    "\n",
    "In this lab, you will collect simulated data from mock classes into one table and in the next lab you will summarize these data."
   ]
  },
  {
   "cell_type": "markdown",
   "metadata": {},
   "source": [
    "## Tasks \n",
    "\n",
    "The files found in `attendance_example.zip` contains (made-up and random) examples of the D2L files that I use to summarize my attendance quizzes and practice quizzes\n",
    "Make sure you download `attendance_example.zip` to the `data` folder inside the course repository, then unzip the file.\n",
    "\n",
    "1. Use `glob` to find the path to all csv files.\n",
    "2. Use write functions that use regular expressions to extract the class name, quiz type (`Attendance` and `Practice`), and the module number (if the file is a practice quiz.\n",
    "3. Write a function that takes a path as an argument and returns a dataframe that contains:\n",
    "    * All of the original columns\n",
    "    * A Class column that holds the class identifier\n",
    "    * A Category column that contains the quiz type\n",
    "    * A Module column that (a) contains the module number for a practice quiz, or (b) is otherwise empty.\n",
    "4. Use a loop, `union`, and the accumulator pattern to load all of the data into a single table.\n",
    "5. Write the resulting table to a csv file."
   ]
  }
 ],
 "metadata": {
  "kernelspec": {
   "display_name": "Python 3",
   "language": "python",
   "name": "python3"
  },
  "language_info": {
   "codemirror_mode": {
    "name": "ipython",
    "version": 3
   },
   "file_extension": ".py",
   "mimetype": "text/x-python",
   "name": "python",
   "nbconvert_exporter": "python",
   "pygments_lexer": "ipython3",
   "version": "3.7.2"
  }
 },
 "nbformat": 4,
 "nbformat_minor": 2
}
