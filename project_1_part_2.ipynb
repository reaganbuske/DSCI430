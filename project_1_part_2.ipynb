{
 "cells": [
  {
   "cell_type": "markdown",
   "metadata": {},
   "source": [
    "# Project 1 Part 2\n",
    "\n",
    "\n",
    "In this part of the project, you will create `dict`s to link the parcel/property data to the lakes data.  Then we will use `panda`’s to\n",
    "\n",
    "a. Read each parcel file\n",
    "b. Add a column containing the nearest lake\n",
    "c. Write the result to a new file.\n",
    "\n",
    "To accomplish this task, complete the following steps."
   ]
  },
  {
   "cell_type": "markdown",
   "metadata": {},
   "source": [
    "#### Problem 1\n",
    "\n",
    "Now we want to read in the file `mces_lakes_1999_2014.txt`, which contains water quality measurements for all lakes in the Twin Cities are during the listed years.\n",
    "\n",
    "Use `!head` to inspect the file and determine the details of it's format (header?, sep=?, etc.)."
   ]
  },
  {
   "cell_type": "code",
   "execution_count": 33,
   "metadata": {},
   "outputs": [],
   "source": [
    "# Your code here"
   ]
  },
  {
   "cell_type": "markdown",
   "metadata": {},
   "source": [
    "#### Problem 2\n",
    "\n",
    "Sometimes the easiest way to deal with a problematic file is to open it in JMP or Excel then save it using that program.  Use JMP to read in `mces_lakes_1999_2014.txt` and export/save it as a csv file.\n",
    "\n",
    "1. On a Mac, you will select **File > Export > Text File**.  The default setting are fine here, just change the file extension from `dat` to `csv` to clearly communicate the format.\n",
    "2. On a PC, you will select **File > Save As** and change the output type to csv.\n",
    "\n",
    "Now read this new version of the file using `pandas`. **Make sure you read the `latitude` and `longitude` columns as string!**"
   ]
  },
  {
   "cell_type": "code",
   "execution_count": 33,
   "metadata": {},
   "outputs": [],
   "source": [
    "# Your code here"
   ]
  },
  {
   "cell_type": "markdown",
   "metadata": {},
   "source": [
    "#### Problem 3\n",
    "\n",
    "Now we want to read in the file `Parcel_Lake_Monitoring_Site_Xref.txt`, which is as cross-reference (Xref) file that is used to make the bridge between the parcel data and the lakes data.  \n",
    "\n",
    "1. Use `!head` to inspect the file and determine the details of it's format (header?, sep=?, etc.).\n",
    "2. Read the file using `pandas`."
   ]
  },
  {
   "cell_type": "code",
   "execution_count": 33,
   "metadata": {},
   "outputs": [],
   "source": [
    "# Your code here"
   ]
  },
  {
   "cell_type": "markdown",
   "metadata": {},
   "source": [
    "#### Problem 4\n",
    "\n",
    "We need to find a way to link these two files.  Inspect the columns for each file and suggest a column from each that can be used to make a link."
   ]
  },
  {
   "cell_type": "markdown",
   "metadata": {},
   "source": [
    "> *Your thoughts here*"
   ]
  },
  {
   "cell_type": "markdown",
   "metadata": {},
   "source": [
    "#### Problem 5\n",
    "\n",
    "Let's investigate these columns and use `set`s to explore.\n",
    "\n",
    "1. For each file, make a `set` of the contents of the respective file.\n",
    "2. Explore the relationship between the files using `intersection` and `difference`.\n",
    "\n",
    "What did you learn about these columns in regards to using them as a link between the files?  Any problems?"
   ]
  },
  {
   "cell_type": "code",
   "execution_count": 33,
   "metadata": {},
   "outputs": [],
   "source": [
    "# Your code here"
   ]
  },
  {
   "cell_type": "markdown",
   "metadata": {},
   "source": [
    "> *Your thoughts here*"
   ]
  },
  {
   "cell_type": "markdown",
   "metadata": {},
   "source": [
    "#### Problem 6\n",
    "\n",
    "Use group_by/aggregation to investigate any missing keys.  Suggest some options for how we might proceed."
   ]
  },
  {
   "cell_type": "code",
   "execution_count": 53,
   "metadata": {},
   "outputs": [],
   "source": [
    "# Your code here"
   ]
  },
  {
   "cell_type": "markdown",
   "metadata": {},
   "source": [
    "> *Your thoughts here*"
   ]
  },
  {
   "cell_type": "markdown",
   "metadata": {},
   "source": [
    "#### Problem 7\n",
    "\n",
    "Use select/group_by/aggregation to reduce the lakes table to a table with one row per lake that contains the lake name and corresponding code."
   ]
  },
  {
   "cell_type": "code",
   "execution_count": 53,
   "metadata": {},
   "outputs": [],
   "source": [
    "# Your code here"
   ]
  },
  {
   "cell_type": "markdown",
   "metadata": {},
   "source": [
    "#### Problem 8\n",
    "\n",
    "Make a `dict` that with the lake id as the key and the lake name as the value.  You will want to zip the columns from the last table together and use a `dict` comp."
   ]
  },
  {
   "cell_type": "code",
   "execution_count": 53,
   "metadata": {},
   "outputs": [],
   "source": [
    "# Your code here"
   ]
  },
  {
   "cell_type": "markdown",
   "metadata": {},
   "source": [
    "#### Problem 9\n",
    "\n",
    "Now we want to link the Xref file to the parcel files, which will be done by matching the latitudes and longitudes in the parcel files to `xref.latitude` and `xref.longitude`.  First, let's investigate the relationship between these columns.  \n",
    "\n",
    "1. Make a `set` of lat/long tuples from the Xref file.<br>\n",
    "2. Make a list of lat/long sets, one for each chunk of each parcel file for 2004+.  Do this with a list comprehension that uses double for clauses.\n",
    "3. Reduce the sets in the list to one set using the union to combine sets.\n",
    "4. Investigate the relationship between the lat/long pairs from the two types of files.  Are there any missing on either side? How many?\n",
    "\n",
    "Discuss what you have learned and suggest how we might proceed."
   ]
  },
  {
   "cell_type": "code",
   "execution_count": 53,
   "metadata": {},
   "outputs": [],
   "source": [
    "# Your code here"
   ]
  },
  {
   "cell_type": "markdown",
   "metadata": {},
   "source": [
    "> *Your thoughts here*"
   ]
  },
  {
   "cell_type": "markdown",
   "metadata": {},
   "source": [
    "#### Problem 10\n",
    "\n",
    "Use select/group_by/aggregation to reduce the lakes table to a table with one row per lake that contains latitude, longitude, and the lake ID code."
   ]
  },
  {
   "cell_type": "code",
   "execution_count": 53,
   "metadata": {},
   "outputs": [],
   "source": [
    "# Your code here"
   ]
  },
  {
   "cell_type": "markdown",
   "metadata": {},
   "source": [
    "#### Problem 11\n",
    "\n",
    "Make a `dict` that with the (lat, long) tuple as the key and the lake code as the value.  You will want to zip the columns from the last table together and use a `dict` comp."
   ]
  },
  {
   "cell_type": "code",
   "execution_count": 53,
   "metadata": {},
   "outputs": [],
   "source": [
    "# Your code here"
   ]
  },
  {
   "cell_type": "markdown",
   "metadata": {},
   "source": [
    "#### Problem 12\n",
    "\n",
    "Now make a `dict` that combines the last two `dict`s into a single `dict` that translates the lat/long tuple into a lake name."
   ]
  },
  {
   "cell_type": "code",
   "execution_count": 53,
   "metadata": {},
   "outputs": [],
   "source": [
    "# Your code here"
   ]
  }
 ],
 "metadata": {
  "kernelspec": {
   "display_name": "Python 3",
   "language": "python",
   "name": "python3"
  },
  "language_info": {
   "codemirror_mode": {
    "name": "ipython",
    "version": 3
   },
   "file_extension": ".py",
   "mimetype": "text/x-python",
   "name": "python",
   "nbconvert_exporter": "python",
   "pygments_lexer": "ipython3",
   "version": "3.7.0"
  }
 },
 "nbformat": 4,
 "nbformat_minor": 2
}
