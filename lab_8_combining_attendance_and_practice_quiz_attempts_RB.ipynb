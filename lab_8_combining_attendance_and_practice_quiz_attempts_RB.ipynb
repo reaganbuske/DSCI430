{
 "cells": [
  {
   "cell_type": "markdown",
   "metadata": {},
   "source": [
    "# Lab 8 - Combining Attendance and Practice Quiz Attempts"
   ]
  },
  {
   "cell_type": "markdown",
   "metadata": {},
   "source": [
    "## Background\n",
    "\n",
    "In all of my class, I use an attendace quiz to track student attendance.  Note that students take multiple attempts at the same quiz, one per class; so that number of attempts a student takes on this quiz represents the number of class session that student has attended.\n",
    "\n",
    "In some, but not all, of my courses I also provide practice quizzes that students can use to prepare for actual quizzes and tests.  These quizzes pull questions randomly from a bank of questions, allow students unlimited attempts, and are not used as part of the students grade.\n",
    "\n",
    "In this lab, you will collect simulated data from mock classes into one table and in the next lab you will summarize these data."
   ]
  },
  {
   "cell_type": "markdown",
   "metadata": {},
   "source": [
    "## Tasks \n",
    "\n",
    "The files found in `attendance_example.zip` contains (made-up and random) examples of the D2L files that I use to summarize my attendance quizzes and practice quizzes\n",
    "Make sure you download `attendance_example.zip` to the `data` folder inside the course repository, then unzip the file.\n",
    "\n",
    "1. Use `glob` to find the path to all csv files.\n",
    "2. Use write functions that use regular expressions to extract the class name, quiz type (`Attendance` and `Practice`), and the module number (if the file is a practice quiz.\n",
    "3. Write a function that takes a path as an argument and returns a dataframe that contains:\n",
    "    * All of the original columns\n",
    "    * A Class column that holds the class identifier\n",
    "    * A Category column that contains the quiz type\n",
    "    * A Module column that (a) contains the module number for a practice quiz, or (b) is otherwise empty.\n",
    "4. Use a loop, `union`, and the accumulator pattern to load all of the data into a single table.\n",
    "5. Write the resulting table to a csv file."
   ]
  },
  {
   "cell_type": "code",
   "execution_count": 46,
   "metadata": {},
   "outputs": [
    {
     "data": {
      "text/plain": [
       "['./data/attendance_example/dsci494s7/Attendance Quiz - User Attempts.csv',\n",
       " './data/attendance_example/dsci494s7/Practice Quiz - Module 1 - User Attempts.csv',\n",
       " './data/attendance_example/dsci494s7/Practice Quiz - Module 2 - User Attempts.csv',\n",
       " './data/attendance_example/dsci494s7/Practice Quiz - Module 3 - User Attempts.csv',\n",
       " './data/attendance_example/dsci494s7/Practice Quiz - Module 4 - User Attempts.csv',\n",
       " './data/attendance_example/stat180s18/Attendance Quiz - User Attempts.csv',\n",
       " './data/attendance_example/stat491s1/Attendance Quiz - User Attempts.csv',\n",
       " './data/attendance_example/stat491s1/Practice Quiz - Module 1 - User Attempts.csv',\n",
       " './data/attendance_example/stat491s1/Practice Quiz - Module 2 - User Attempts.csv',\n",
       " './data/attendance_example/stat491s1/Practice Quiz - Module 3 - User Attempts.csv',\n",
       " './data/attendance_example/stat491s1/Practice Quiz - Module 4 - User Attempts.csv']"
      ]
     },
     "execution_count": 46,
     "metadata": {},
     "output_type": "execute_result"
    }
   ],
   "source": [
    "from glob import glob\n",
    "files = glob('./data/attendance_example/*/*.csv')\n",
    "files"
   ]
  },
  {
   "cell_type": "code",
   "execution_count": 47,
   "metadata": {},
   "outputs": [
    {
     "data": {
      "text/plain": [
       "['dsci494',\n",
       " 'dsci494',\n",
       " 'dsci494',\n",
       " 'dsci494',\n",
       " 'dsci494',\n",
       " 'stat180',\n",
       " 'stat491',\n",
       " 'stat491',\n",
       " 'stat491',\n",
       " 'stat491',\n",
       " 'stat491']"
      ]
     },
     "execution_count": 47,
     "metadata": {},
     "output_type": "execute_result"
    }
   ],
   "source": [
    "import re\n",
    "CLASS_NAME_RE = re.compile(r'^\\./data/attendance_example/([a-z]*[0-9]*).*\\.csv$')\n",
    "class_name = lambda p: CLASS_NAME_RE.match(p).group(1) \n",
    "class_names = lambda files: [class_name(p) for p in files]\n",
    "class_names(files)"
   ]
  },
  {
   "cell_type": "code",
   "execution_count": 99,
   "metadata": {},
   "outputs": [
    {
     "data": {
      "text/plain": [
       "['Attendance',\n",
       " 'Practice',\n",
       " 'Practice',\n",
       " 'Practice',\n",
       " 'Practice',\n",
       " 'Attendance',\n",
       " 'Attendance',\n",
       " 'Practice',\n",
       " 'Practice',\n",
       " 'Practice',\n",
       " 'Practice']"
      ]
     },
     "execution_count": 99,
     "metadata": {},
     "output_type": "execute_result"
    }
   ],
   "source": [
    "QUIZ_NAME_RE = re.compile(r'^\\./data/attendance_example/.*/([A-Z][a-z]*).*\\.csv$')\n",
    "quiz_name = lambda p: QUIZ_NAME_RE.match(p).group(1) \n",
    "quiz_names = lambda files: [quiz_name(p) for p in files]\n",
    "quiz_names(files)"
   ]
  },
  {
   "cell_type": "code",
   "execution_count": 208,
   "metadata": {},
   "outputs": [
    {
     "data": {
      "text/plain": [
       "['1', '2', '3', '4', '1', '2', '3', '4']"
      ]
     },
     "execution_count": 208,
     "metadata": {},
     "output_type": "execute_result"
    }
   ],
   "source": [
    "MODULE_NAME_RE = re.compile(r'^\\./data/attendance_example/.*/Practice.*([0-5]).*\\.csv$')\n",
    "module_name = lambda p: MODULE_NAME_RE.match(p).group(1)\n",
    "#module_check = lambda path: ifelse(module_name(path) is None, \"\", module_name(path))\n",
    "match = lambda p:MODULE_NAME_RE.match(p)\n",
    "module_names = lambda files: [module_name(p) for p in files if quiz_name(p) == 'Practice']\n",
    "module_names(files)\n",
    "#match('./data/attendance_example/dsci494s7/Attendance Quiz - User Attempts.csv')\n",
    "#module_name('./data/attendance_example/dsci494s7/Practice Quiz - Module 3 - User Attempts.csv')"
   ]
  },
  {
   "cell_type": "code",
   "execution_count": 85,
   "metadata": {},
   "outputs": [
    {
     "data": {
      "text/html": [
       "<div>\n",
       "<style scoped>\n",
       "    .dataframe tbody tr th:only-of-type {\n",
       "        vertical-align: middle;\n",
       "    }\n",
       "\n",
       "    .dataframe tbody tr th {\n",
       "        vertical-align: top;\n",
       "    }\n",
       "\n",
       "    .dataframe thead th {\n",
       "        text-align: right;\n",
       "    }\n",
       "</style>\n",
       "<table border=\"1\" class=\"dataframe\">\n",
       "  <thead>\n",
       "    <tr style=\"text-align: right;\">\n",
       "      <th></th>\n",
       "      <th>Org Defined ID</th>\n",
       "      <th>UserName</th>\n",
       "      <th>FirstName</th>\n",
       "      <th>LastName</th>\n",
       "      <th>Attempt #</th>\n",
       "      <th>Score</th>\n",
       "      <th>Out Of</th>\n",
       "      <th>Attempt_Start</th>\n",
       "      <th>Attempt_End</th>\n",
       "      <th>Percent</th>\n",
       "    </tr>\n",
       "  </thead>\n",
       "  <tbody>\n",
       "    <tr>\n",
       "      <th>0</th>\n",
       "      <td>14460432</td>\n",
       "      <td>au9747cp</td>\n",
       "      <td>Jericho</td>\n",
       "      <td>Greer</td>\n",
       "      <td>1</td>\n",
       "      <td>1</td>\n",
       "      <td>1</td>\n",
       "      <td>2019-01-14 14:00:00</td>\n",
       "      <td>2019-01-14 14:06:00</td>\n",
       "      <td>100 %</td>\n",
       "    </tr>\n",
       "    <tr>\n",
       "      <th>1</th>\n",
       "      <td>14460432</td>\n",
       "      <td>au9747cp</td>\n",
       "      <td>Jericho</td>\n",
       "      <td>Greer</td>\n",
       "      <td>2</td>\n",
       "      <td>1</td>\n",
       "      <td>1</td>\n",
       "      <td>2019-01-16 14:00:00</td>\n",
       "      <td>2019-01-16 14:08:00</td>\n",
       "      <td>100 %</td>\n",
       "    </tr>\n",
       "    <tr>\n",
       "      <th>2</th>\n",
       "      <td>14460432</td>\n",
       "      <td>au9747cp</td>\n",
       "      <td>Jericho</td>\n",
       "      <td>Greer</td>\n",
       "      <td>3</td>\n",
       "      <td>1</td>\n",
       "      <td>1</td>\n",
       "      <td>2019-01-18 14:00:00</td>\n",
       "      <td>2019-01-18 14:05:00</td>\n",
       "      <td>100 %</td>\n",
       "    </tr>\n",
       "    <tr>\n",
       "      <th>3</th>\n",
       "      <td>14460432</td>\n",
       "      <td>au9747cp</td>\n",
       "      <td>Jericho</td>\n",
       "      <td>Greer</td>\n",
       "      <td>4</td>\n",
       "      <td>1</td>\n",
       "      <td>1</td>\n",
       "      <td>2019-01-23 14:00:00</td>\n",
       "      <td>2019-01-23 14:06:00</td>\n",
       "      <td>100 %</td>\n",
       "    </tr>\n",
       "    <tr>\n",
       "      <th>4</th>\n",
       "      <td>14460432</td>\n",
       "      <td>au9747cp</td>\n",
       "      <td>Jericho</td>\n",
       "      <td>Greer</td>\n",
       "      <td>5</td>\n",
       "      <td>1</td>\n",
       "      <td>1</td>\n",
       "      <td>2019-01-25 14:00:00</td>\n",
       "      <td>2019-01-25 14:10:00</td>\n",
       "      <td>100 %</td>\n",
       "    </tr>\n",
       "  </tbody>\n",
       "</table>\n",
       "</div>"
      ],
      "text/plain": [
       "   Org Defined ID  UserName FirstName LastName  Attempt #  Score  Out Of  \\\n",
       "0        14460432  au9747cp   Jericho    Greer          1      1       1   \n",
       "1        14460432  au9747cp   Jericho    Greer          2      1       1   \n",
       "2        14460432  au9747cp   Jericho    Greer          3      1       1   \n",
       "3        14460432  au9747cp   Jericho    Greer          4      1       1   \n",
       "4        14460432  au9747cp   Jericho    Greer          5      1       1   \n",
       "\n",
       "         Attempt_Start          Attempt_End Percent  \n",
       "0  2019-01-14 14:00:00  2019-01-14 14:06:00   100 %  \n",
       "1  2019-01-16 14:00:00  2019-01-16 14:08:00   100 %  \n",
       "2  2019-01-18 14:00:00  2019-01-18 14:05:00   100 %  \n",
       "3  2019-01-23 14:00:00  2019-01-23 14:06:00   100 %  \n",
       "4  2019-01-25 14:00:00  2019-01-25 14:10:00   100 %  "
      ]
     },
     "execution_count": 85,
     "metadata": {},
     "output_type": "execute_result"
    }
   ],
   "source": [
    "import pandas as pd\n",
    "from dfply import *\n",
    "df = {path:pd.read_csv(path) for path in files}\n",
    "df['./data/attendance_example/dsci494s7/Attendance Quiz - User Attempts.csv'].head()"
   ]
  },
  {
   "cell_type": "code",
   "execution_count": 198,
   "metadata": {},
   "outputs": [],
   "source": [
    "from more_dfply import ifelse\n",
    "def createdf(path):\n",
    "    return df[path] >> mutate(Class = class_name(path), Category = quiz_name(path), \n",
    "                              Module = ifelse(quiz_name(path)=='Practice', module_name(path), ''))"
   ]
  },
  {
   "cell_type": "markdown",
   "metadata": {},
   "source": [
    " "
   ]
  },
  {
   "cell_type": "code",
   "execution_count": 211,
   "metadata": {},
   "outputs": [
    {
     "ename": "AttributeError",
     "evalue": "'NoneType' object has no attribute 'group'",
     "output_type": "error",
     "traceback": [
      "\u001b[0;31m---------------------------------------------------------------------------\u001b[0m",
      "\u001b[0;31mAttributeError\u001b[0m                            Traceback (most recent call last)",
      "\u001b[0;32m<ipython-input-211-c00b576ec960>\u001b[0m in \u001b[0;36m<module>\u001b[0;34m()\u001b[0m\n\u001b[0;32m----> 1\u001b[0;31m \u001b[0mcreatedf\u001b[0m\u001b[0;34m(\u001b[0m\u001b[0;34m'./data/attendance_example/dsci494s7/Attendance Quiz - User Attempts.csv'\u001b[0m\u001b[0;34m)\u001b[0m\u001b[0;34m.\u001b[0m\u001b[0mhead\u001b[0m\u001b[0;34m(\u001b[0m\u001b[0;34m)\u001b[0m\u001b[0;34m\u001b[0m\u001b[0m\n\u001b[0m",
      "\u001b[0;32m<ipython-input-198-fe36b61c509a>\u001b[0m in \u001b[0;36mcreatedf\u001b[0;34m(path)\u001b[0m\n\u001b[1;32m      2\u001b[0m \u001b[0;32mdef\u001b[0m \u001b[0mcreatedf\u001b[0m\u001b[0;34m(\u001b[0m\u001b[0mpath\u001b[0m\u001b[0;34m)\u001b[0m\u001b[0;34m:\u001b[0m\u001b[0;34m\u001b[0m\u001b[0m\n\u001b[1;32m      3\u001b[0m     return df[path] >> mutate(Class = class_name(path), Category = quiz_name(path), \n\u001b[0;32m----> 4\u001b[0;31m                               Module = ifelse(quiz_name(path)=='Practice', module_name(path), ''))\n\u001b[0m",
      "\u001b[0;32m<ipython-input-208-fda28878e435>\u001b[0m in \u001b[0;36m<lambda>\u001b[0;34m(p)\u001b[0m\n\u001b[1;32m      1\u001b[0m \u001b[0mMODULE_NAME_RE\u001b[0m \u001b[0;34m=\u001b[0m \u001b[0mre\u001b[0m\u001b[0;34m.\u001b[0m\u001b[0mcompile\u001b[0m\u001b[0;34m(\u001b[0m\u001b[0;34mr'^\\./data/attendance_example/.*/Practice.*([0-5]).*\\.csv$'\u001b[0m\u001b[0;34m)\u001b[0m\u001b[0;34m\u001b[0m\u001b[0m\n\u001b[0;32m----> 2\u001b[0;31m \u001b[0mmodule_name\u001b[0m \u001b[0;34m=\u001b[0m \u001b[0;32mlambda\u001b[0m \u001b[0mp\u001b[0m\u001b[0;34m:\u001b[0m \u001b[0mMODULE_NAME_RE\u001b[0m\u001b[0;34m.\u001b[0m\u001b[0mmatch\u001b[0m\u001b[0;34m(\u001b[0m\u001b[0mp\u001b[0m\u001b[0;34m)\u001b[0m\u001b[0;34m.\u001b[0m\u001b[0mgroup\u001b[0m\u001b[0;34m(\u001b[0m\u001b[0;36m1\u001b[0m\u001b[0;34m)\u001b[0m\u001b[0;34m\u001b[0m\u001b[0m\n\u001b[0m\u001b[1;32m      3\u001b[0m \u001b[0;31m#module_check = lambda path: ifelse(module_name(path) is None, \"\", module_name(path))\u001b[0m\u001b[0;34m\u001b[0m\u001b[0;34m\u001b[0m\u001b[0m\n\u001b[1;32m      4\u001b[0m \u001b[0mmatch\u001b[0m \u001b[0;34m=\u001b[0m \u001b[0;32mlambda\u001b[0m \u001b[0mp\u001b[0m\u001b[0;34m:\u001b[0m\u001b[0mMODULE_NAME_RE\u001b[0m\u001b[0;34m.\u001b[0m\u001b[0mmatch\u001b[0m\u001b[0;34m(\u001b[0m\u001b[0mp\u001b[0m\u001b[0;34m)\u001b[0m\u001b[0;34m\u001b[0m\u001b[0m\n\u001b[1;32m      5\u001b[0m \u001b[0mmodule_names\u001b[0m \u001b[0;34m=\u001b[0m \u001b[0;32mlambda\u001b[0m \u001b[0mfiles\u001b[0m\u001b[0;34m:\u001b[0m \u001b[0;34m[\u001b[0m\u001b[0mmodule_name\u001b[0m\u001b[0;34m(\u001b[0m\u001b[0mp\u001b[0m\u001b[0;34m)\u001b[0m \u001b[0;32mfor\u001b[0m \u001b[0mp\u001b[0m \u001b[0;32min\u001b[0m \u001b[0mfiles\u001b[0m \u001b[0;32mif\u001b[0m \u001b[0mquiz_name\u001b[0m\u001b[0;34m(\u001b[0m\u001b[0mp\u001b[0m\u001b[0;34m)\u001b[0m \u001b[0;34m==\u001b[0m \u001b[0;34m'Practice'\u001b[0m\u001b[0;34m]\u001b[0m\u001b[0;34m\u001b[0m\u001b[0m\n",
      "\u001b[0;31mAttributeError\u001b[0m: 'NoneType' object has no attribute 'group'"
     ]
    }
   ],
   "source": [
    "createdf('./data/attendance_example/dsci494s7/Attendance Quiz - User Attempts.csv').head()"
   ]
  },
  {
   "cell_type": "code",
   "execution_count": 215,
   "metadata": {},
   "outputs": [
    {
     "ename": "TypeError",
     "evalue": "object of type 'bool' has no len()",
     "output_type": "error",
     "traceback": [
      "\u001b[0;31m---------------------------------------------------------------------------\u001b[0m",
      "\u001b[0;31mTypeError\u001b[0m                                 Traceback (most recent call last)",
      "\u001b[0;32m<ipython-input-215-142b16247444>\u001b[0m in \u001b[0;36m<module>\u001b[0;34m()\u001b[0m\n\u001b[0;32m----> 1\u001b[0;31m \u001b[0mcreatedf\u001b[0m\u001b[0;34m(\u001b[0m\u001b[0;34m'./data/attendance_example/dsci494s7/Practice Quiz - Module 1 - User Attempts.csv'\u001b[0m\u001b[0;34m)\u001b[0m\u001b[0;34m\u001b[0m\u001b[0m\n\u001b[0m",
      "\u001b[0;32m<ipython-input-198-fe36b61c509a>\u001b[0m in \u001b[0;36mcreatedf\u001b[0;34m(path)\u001b[0m\n\u001b[1;32m      2\u001b[0m \u001b[0;32mdef\u001b[0m \u001b[0mcreatedf\u001b[0m\u001b[0;34m(\u001b[0m\u001b[0mpath\u001b[0m\u001b[0;34m)\u001b[0m\u001b[0;34m:\u001b[0m\u001b[0;34m\u001b[0m\u001b[0m\n\u001b[1;32m      3\u001b[0m     return df[path] >> mutate(Class = class_name(path), Category = quiz_name(path), \n\u001b[0;32m----> 4\u001b[0;31m                               Module = ifelse(quiz_name(path)=='Practice', module_name(path), ''))\n\u001b[0m",
      "\u001b[0;32m~/Desktop/DSCI430/DSCI430/more_dfply.py\u001b[0m in \u001b[0;36mifelse\u001b[0;34m(cond, then, else_)\u001b[0m\n\u001b[1;32m    196\u001b[0m         \u001b[0melse_out\u001b[0m \u001b[0;34m=\u001b[0m \u001b[0mcond_eval\u001b[0m\u001b[0;34m(\u001b[0m\u001b[0;32mnot\u001b[0m \u001b[0mcond_out\u001b[0m\u001b[0;34m.\u001b[0m\u001b[0mall\u001b[0m\u001b[0;34m(\u001b[0m\u001b[0;34m)\u001b[0m\u001b[0;34m,\u001b[0m \u001b[0melse_\u001b[0m\u001b[0;34m,\u001b[0m \u001b[0mdf\u001b[0m\u001b[0;34m)\u001b[0m\u001b[0;34m\u001b[0m\u001b[0m\n\u001b[1;32m    197\u001b[0m         \u001b[0;32mreturn\u001b[0m \u001b[0mpd\u001b[0m\u001b[0;34m.\u001b[0m\u001b[0mSeries\u001b[0m\u001b[0;34m(\u001b[0m\u001b[0mtiled_where\u001b[0m\u001b[0;34m(\u001b[0m\u001b[0mcond_out\u001b[0m\u001b[0;34m,\u001b[0m \u001b[0mthen_out\u001b[0m\u001b[0;34m,\u001b[0m \u001b[0melse_out\u001b[0m\u001b[0;34m)\u001b[0m\u001b[0;34m)\u001b[0m\u001b[0;34m\u001b[0m\u001b[0m\n\u001b[0;32m--> 198\u001b[0;31m     \u001b[0;32mreturn\u001b[0m \u001b[0mIntention\u001b[0m\u001b[0;34m(\u001b[0m\u001b[0moutfunc\u001b[0m\u001b[0;34m)\u001b[0m \u001b[0;32mif\u001b[0m \u001b[0many_intention\u001b[0m\u001b[0;34m(\u001b[0m\u001b[0mcond\u001b[0m\u001b[0;34m,\u001b[0m \u001b[0mthen\u001b[0m\u001b[0;34m,\u001b[0m \u001b[0melse_\u001b[0m\u001b[0;34m)\u001b[0m \u001b[0;32melse\u001b[0m \u001b[0mpd\u001b[0m\u001b[0;34m.\u001b[0m\u001b[0mSeries\u001b[0m\u001b[0;34m(\u001b[0m\u001b[0mtiled_where\u001b[0m\u001b[0;34m(\u001b[0m\u001b[0mcond\u001b[0m\u001b[0;34m,\u001b[0m \u001b[0mthen\u001b[0m\u001b[0;34m,\u001b[0m \u001b[0melse_\u001b[0m\u001b[0;34m)\u001b[0m\u001b[0;34m)\u001b[0m\u001b[0;34m\u001b[0m\u001b[0m\n\u001b[0m\u001b[1;32m    199\u001b[0m \u001b[0;34m\u001b[0m\u001b[0m\n\u001b[1;32m    200\u001b[0m \u001b[0;32mdef\u001b[0m \u001b[0mtest_ifelse\u001b[0m\u001b[0;34m(\u001b[0m\u001b[0;34m)\u001b[0m\u001b[0;34m:\u001b[0m\u001b[0;34m\u001b[0m\u001b[0m\n",
      "\u001b[0;32m~/Desktop/DSCI430/DSCI430/more_dfply.py\u001b[0m in \u001b[0;36mtiled_where\u001b[0;34m(cond, then, else_)\u001b[0m\n\u001b[1;32m    155\u001b[0m \u001b[0;32mdef\u001b[0m \u001b[0mtiled_where\u001b[0m\u001b[0;34m(\u001b[0m\u001b[0mcond\u001b[0m\u001b[0;34m,\u001b[0m \u001b[0mthen\u001b[0m\u001b[0;34m,\u001b[0m \u001b[0melse_\u001b[0m\u001b[0;34m)\u001b[0m\u001b[0;34m:\u001b[0m\u001b[0;34m\u001b[0m\u001b[0m\n\u001b[1;32m    156\u001b[0m     \u001b[0;34m\"\"\"Make then and else_ the same length as cond then perform np.where\"\"\"\u001b[0m\u001b[0;34m\u001b[0m\u001b[0m\n\u001b[0;32m--> 157\u001b[0;31m     \u001b[0mn\u001b[0m \u001b[0;34m=\u001b[0m \u001b[0mlen\u001b[0m\u001b[0;34m(\u001b[0m\u001b[0mcond\u001b[0m\u001b[0;34m)\u001b[0m\u001b[0;34m\u001b[0m\u001b[0m\n\u001b[0m\u001b[1;32m    158\u001b[0m     \u001b[0;32mreturn\u001b[0m \u001b[0mnp\u001b[0m\u001b[0;34m.\u001b[0m\u001b[0mwhere\u001b[0m\u001b[0;34m(\u001b[0m\u001b[0mcond\u001b[0m\u001b[0;34m,\u001b[0m \u001b[0mmaybe_tile\u001b[0m\u001b[0;34m(\u001b[0m\u001b[0mn\u001b[0m\u001b[0;34m,\u001b[0m \u001b[0mthen\u001b[0m\u001b[0;34m)\u001b[0m\u001b[0;34m,\u001b[0m \u001b[0mmaybe_tile\u001b[0m\u001b[0;34m(\u001b[0m\u001b[0mn\u001b[0m\u001b[0;34m,\u001b[0m \u001b[0melse_\u001b[0m\u001b[0;34m)\u001b[0m\u001b[0;34m)\u001b[0m\u001b[0;34m\u001b[0m\u001b[0m\n\u001b[1;32m    159\u001b[0m \u001b[0;34m\u001b[0m\u001b[0m\n",
      "\u001b[0;31mTypeError\u001b[0m: object of type 'bool' has no len()"
     ]
    }
   ],
   "source": [
    "createdf('./data/attendance_example/dsci494s7/Practice Quiz - Module 1 - User Attempts.csv')"
   ]
  },
  {
   "cell_type": "code",
   "execution_count": 213,
   "metadata": {},
   "outputs": [],
   "source": [
    "#alldata = {f:createdf(f) for f in files}"
   ]
  },
  {
   "cell_type": "code",
   "execution_count": 214,
   "metadata": {},
   "outputs": [],
   "source": [
    "#for d in alldata.values():\n",
    "#    df = df >> union_all(d)"
   ]
  },
  {
   "cell_type": "code",
   "execution_count": null,
   "metadata": {},
   "outputs": [],
   "source": [
    "df"
   ]
  },
  {
   "cell_type": "code",
   "execution_count": null,
   "metadata": {},
   "outputs": [],
   "source": [
    "df.to_csv(\"attendance.csv\", index = False)"
   ]
  }
 ],
 "metadata": {
  "kernelspec": {
   "display_name": "Python 3",
   "language": "python",
   "name": "python3"
  },
  "language_info": {
   "codemirror_mode": {
    "name": "ipython",
    "version": 3
   },
   "file_extension": ".py",
   "mimetype": "text/x-python",
   "name": "python",
   "nbconvert_exporter": "python",
   "pygments_lexer": "ipython3",
   "version": "3.7.0"
  }
 },
 "nbformat": 4,
 "nbformat_minor": 2
}
