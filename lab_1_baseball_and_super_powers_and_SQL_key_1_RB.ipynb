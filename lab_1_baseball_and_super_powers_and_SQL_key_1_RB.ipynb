{
 "cells": [
  {
   "cell_type": "markdown",
   "metadata": {},
   "source": [
    "# Lab 1 - Creating the SQL Tables\n",
    "\n",
    "In this lab, use `sqlalchemy` to create, populate, and query a table from the baseball database, as well as for the `super_hero_powers.csv` table.  "
   ]
  },
  {
   "cell_type": "code",
   "execution_count": 1,
   "metadata": {
    "collapsed": true
   },
   "outputs": [],
   "source": [
    "import pandas as pd\n",
    "artwork = pd.read_csv(\"./data/Artworks.csv\")"
   ]
  },
  {
   "cell_type": "markdown",
   "metadata": {},
   "source": [
    "## Part 1 - Baseball Managers\n",
    "\n",
    "In this part of the lab, you will walk through the process of creating a manager table from [Lahman’s Baseball Database](http://www.seanlahman.com/baseball-archive/statistics/)"
   ]
  },
  {
   "cell_type": "markdown",
   "metadata": {},
   "source": [
    "## Task 1 - Download, unzip, rename \n",
    "\n",
    "1. Download the baseball database linked above (save to desktop)\n",
    "2. Unzip the file and rename to `baseball`\n",
    "3. Load the `core/Managers.csv` file into a pandas `DataFrame` using `read_csv`\n",
    "4. Inspect the `column` names and `dtypes`"
   ]
  },
  {
   "cell_type": "code",
   "execution_count": 2,
   "metadata": {},
   "outputs": [
    {
     "data": {
      "text/html": [
       "<div>\n",
       "<style>\n",
       "    .dataframe thead tr:only-child th {\n",
       "        text-align: right;\n",
       "    }\n",
       "\n",
       "    .dataframe thead th {\n",
       "        text-align: left;\n",
       "    }\n",
       "\n",
       "    .dataframe tbody tr th {\n",
       "        vertical-align: top;\n",
       "    }\n",
       "</style>\n",
       "<table border=\"1\" class=\"dataframe\">\n",
       "  <thead>\n",
       "    <tr style=\"text-align: right;\">\n",
       "      <th></th>\n",
       "      <th>playerID</th>\n",
       "      <th>yearID</th>\n",
       "      <th>teamID</th>\n",
       "      <th>lgID</th>\n",
       "      <th>inseason</th>\n",
       "      <th>G</th>\n",
       "      <th>W</th>\n",
       "      <th>L</th>\n",
       "      <th>rank</th>\n",
       "      <th>plyrMgr</th>\n",
       "    </tr>\n",
       "  </thead>\n",
       "  <tbody>\n",
       "    <tr>\n",
       "      <th>0</th>\n",
       "      <td>wrighha01</td>\n",
       "      <td>1871</td>\n",
       "      <td>BS1</td>\n",
       "      <td>NaN</td>\n",
       "      <td>1</td>\n",
       "      <td>31</td>\n",
       "      <td>20</td>\n",
       "      <td>10</td>\n",
       "      <td>3.0</td>\n",
       "      <td>Y</td>\n",
       "    </tr>\n",
       "    <tr>\n",
       "      <th>1</th>\n",
       "      <td>woodji01</td>\n",
       "      <td>1871</td>\n",
       "      <td>CH1</td>\n",
       "      <td>NaN</td>\n",
       "      <td>1</td>\n",
       "      <td>28</td>\n",
       "      <td>19</td>\n",
       "      <td>9</td>\n",
       "      <td>2.0</td>\n",
       "      <td>Y</td>\n",
       "    </tr>\n",
       "    <tr>\n",
       "      <th>2</th>\n",
       "      <td>paborch01</td>\n",
       "      <td>1871</td>\n",
       "      <td>CL1</td>\n",
       "      <td>NaN</td>\n",
       "      <td>1</td>\n",
       "      <td>29</td>\n",
       "      <td>10</td>\n",
       "      <td>19</td>\n",
       "      <td>8.0</td>\n",
       "      <td>Y</td>\n",
       "    </tr>\n",
       "    <tr>\n",
       "      <th>3</th>\n",
       "      <td>lennobi01</td>\n",
       "      <td>1871</td>\n",
       "      <td>FW1</td>\n",
       "      <td>NaN</td>\n",
       "      <td>1</td>\n",
       "      <td>14</td>\n",
       "      <td>5</td>\n",
       "      <td>9</td>\n",
       "      <td>8.0</td>\n",
       "      <td>Y</td>\n",
       "    </tr>\n",
       "    <tr>\n",
       "      <th>4</th>\n",
       "      <td>deaneha01</td>\n",
       "      <td>1871</td>\n",
       "      <td>FW1</td>\n",
       "      <td>NaN</td>\n",
       "      <td>2</td>\n",
       "      <td>5</td>\n",
       "      <td>2</td>\n",
       "      <td>3</td>\n",
       "      <td>8.0</td>\n",
       "      <td>Y</td>\n",
       "    </tr>\n",
       "  </tbody>\n",
       "</table>\n",
       "</div>"
      ],
      "text/plain": [
       "    playerID  yearID teamID lgID  inseason   G   W   L  rank plyrMgr\n",
       "0  wrighha01    1871    BS1  NaN         1  31  20  10   3.0       Y\n",
       "1   woodji01    1871    CH1  NaN         1  28  19   9   2.0       Y\n",
       "2  paborch01    1871    CL1  NaN         1  29  10  19   8.0       Y\n",
       "3  lennobi01    1871    FW1  NaN         1  14   5   9   8.0       Y\n",
       "4  deaneha01    1871    FW1  NaN         2   5   2   3   8.0       Y"
      ]
     },
     "execution_count": 2,
     "metadata": {},
     "output_type": "execute_result"
    }
   ],
   "source": [
    "import pandas as pd\n",
    "managers = pd.read_csv('~/Desktop/baseball/core/Managers.csv')\n",
    "managers.head()"
   ]
  },
  {
   "cell_type": "code",
   "execution_count": 3,
   "metadata": {},
   "outputs": [
    {
     "data": {
      "text/plain": [
       "Index(['playerID', 'yearID', 'teamID', 'lgID', 'inseason', 'G', 'W', 'L',\n",
       "       'rank', 'plyrMgr'],\n",
       "      dtype='object')"
      ]
     },
     "execution_count": 3,
     "metadata": {},
     "output_type": "execute_result"
    }
   ],
   "source": [
    "managers.columns"
   ]
  },
  {
   "cell_type": "markdown",
   "metadata": {},
   "source": [
    "**Question:** Is there a candidate for a primary key?"
   ]
  },
  {
   "cell_type": "code",
   "execution_count": 4,
   "metadata": {},
   "outputs": [
    {
     "data": {
      "text/plain": [
       "[('playerID', False),\n",
       " ('yearID', False),\n",
       " ('teamID', False),\n",
       " ('lgID', False),\n",
       " ('inseason', False),\n",
       " ('G', False),\n",
       " ('W', False),\n",
       " ('L', False),\n",
       " ('rank', False),\n",
       " ('plyrMgr', False)]"
      ]
     },
     "execution_count": 4,
     "metadata": {},
     "output_type": "execute_result"
    }
   ],
   "source": [
    "[(col, managers[col].is_unique) for col in managers]"
   ]
  },
  {
   "cell_type": "markdown",
   "metadata": {},
   "source": [
    "**Solution:** Add the `index` as an actual column"
   ]
  },
  {
   "cell_type": "code",
   "execution_count": 5,
   "metadata": {
    "collapsed": true
   },
   "outputs": [],
   "source": [
    "from dfply import mutate\n",
    "managers = (managers >>\n",
    "            mutate(id = managers.index))"
   ]
  },
  {
   "cell_type": "code",
   "execution_count": 6,
   "metadata": {},
   "outputs": [
    {
     "data": {
      "text/plain": [
       "True"
      ]
     },
     "execution_count": 6,
     "metadata": {},
     "output_type": "execute_result"
    }
   ],
   "source": [
    "managers.id.is_unique"
   ]
  },
  {
   "cell_type": "code",
   "execution_count": 7,
   "metadata": {
    "scrolled": true
   },
   "outputs": [
    {
     "data": {
      "text/plain": [
       "playerID     object\n",
       "yearID        int64\n",
       "teamID       object\n",
       "lgID         object\n",
       "inseason      int64\n",
       "G             int64\n",
       "W             int64\n",
       "L             int64\n",
       "rank        float64\n",
       "plyrMgr      object\n",
       "id            int64\n",
       "dtype: object"
      ]
     },
     "execution_count": 7,
     "metadata": {},
     "output_type": "execute_result"
    }
   ],
   "source": [
    "managers.dtypes"
   ]
  },
  {
   "cell_type": "code",
   "execution_count": 8,
   "metadata": {},
   "outputs": [
    {
     "data": {
      "text/plain": [
       "(3469, 11)"
      ]
     },
     "execution_count": 8,
     "metadata": {},
     "output_type": "execute_result"
    }
   ],
   "source": [
    "managers.shape"
   ]
  },
  {
   "cell_type": "code",
   "execution_count": 9,
   "metadata": {},
   "outputs": [
    {
     "data": {
      "text/html": [
       "<div>\n",
       "<style>\n",
       "    .dataframe thead tr:only-child th {\n",
       "        text-align: right;\n",
       "    }\n",
       "\n",
       "    .dataframe thead th {\n",
       "        text-align: left;\n",
       "    }\n",
       "\n",
       "    .dataframe tbody tr th {\n",
       "        vertical-align: top;\n",
       "    }\n",
       "</style>\n",
       "<table border=\"1\" class=\"dataframe\">\n",
       "  <thead>\n",
       "    <tr style=\"text-align: right;\">\n",
       "      <th></th>\n",
       "      <th>playerID</th>\n",
       "      <th>yearID</th>\n",
       "      <th>teamID</th>\n",
       "      <th>lgID</th>\n",
       "      <th>inseason</th>\n",
       "      <th>G</th>\n",
       "      <th>W</th>\n",
       "      <th>L</th>\n",
       "      <th>rank</th>\n",
       "      <th>plyrMgr</th>\n",
       "      <th>id</th>\n",
       "    </tr>\n",
       "  </thead>\n",
       "  <tbody>\n",
       "    <tr>\n",
       "      <th>0</th>\n",
       "      <td>wrighha01</td>\n",
       "      <td>1871</td>\n",
       "      <td>BS1</td>\n",
       "      <td>NaN</td>\n",
       "      <td>1</td>\n",
       "      <td>31</td>\n",
       "      <td>20</td>\n",
       "      <td>10</td>\n",
       "      <td>3.0</td>\n",
       "      <td>Y</td>\n",
       "      <td>0</td>\n",
       "    </tr>\n",
       "    <tr>\n",
       "      <th>1</th>\n",
       "      <td>woodji01</td>\n",
       "      <td>1871</td>\n",
       "      <td>CH1</td>\n",
       "      <td>NaN</td>\n",
       "      <td>1</td>\n",
       "      <td>28</td>\n",
       "      <td>19</td>\n",
       "      <td>9</td>\n",
       "      <td>2.0</td>\n",
       "      <td>Y</td>\n",
       "      <td>1</td>\n",
       "    </tr>\n",
       "    <tr>\n",
       "      <th>2</th>\n",
       "      <td>paborch01</td>\n",
       "      <td>1871</td>\n",
       "      <td>CL1</td>\n",
       "      <td>NaN</td>\n",
       "      <td>1</td>\n",
       "      <td>29</td>\n",
       "      <td>10</td>\n",
       "      <td>19</td>\n",
       "      <td>8.0</td>\n",
       "      <td>Y</td>\n",
       "      <td>2</td>\n",
       "    </tr>\n",
       "    <tr>\n",
       "      <th>3</th>\n",
       "      <td>lennobi01</td>\n",
       "      <td>1871</td>\n",
       "      <td>FW1</td>\n",
       "      <td>NaN</td>\n",
       "      <td>1</td>\n",
       "      <td>14</td>\n",
       "      <td>5</td>\n",
       "      <td>9</td>\n",
       "      <td>8.0</td>\n",
       "      <td>Y</td>\n",
       "      <td>3</td>\n",
       "    </tr>\n",
       "    <tr>\n",
       "      <th>4</th>\n",
       "      <td>deaneha01</td>\n",
       "      <td>1871</td>\n",
       "      <td>FW1</td>\n",
       "      <td>NaN</td>\n",
       "      <td>2</td>\n",
       "      <td>5</td>\n",
       "      <td>2</td>\n",
       "      <td>3</td>\n",
       "      <td>8.0</td>\n",
       "      <td>Y</td>\n",
       "      <td>4</td>\n",
       "    </tr>\n",
       "  </tbody>\n",
       "</table>\n",
       "</div>"
      ],
      "text/plain": [
       "    playerID  yearID teamID lgID  inseason   G   W   L  rank plyrMgr  id\n",
       "0  wrighha01    1871    BS1  NaN         1  31  20  10   3.0       Y   0\n",
       "1   woodji01    1871    CH1  NaN         1  28  19   9   2.0       Y   1\n",
       "2  paborch01    1871    CL1  NaN         1  29  10  19   8.0       Y   2\n",
       "3  lennobi01    1871    FW1  NaN         1  14   5   9   8.0       Y   3\n",
       "4  deaneha01    1871    FW1  NaN         2   5   2   3   8.0       Y   4"
      ]
     },
     "execution_count": 9,
     "metadata": {},
     "output_type": "execute_result"
    }
   ],
   "source": [
    "managers.head()"
   ]
  },
  {
   "cell_type": "markdown",
   "metadata": {},
   "source": [
    "#### Task 2 - Create a `sqlalchemy` types `dict`"
   ]
  },
  {
   "cell_type": "code",
   "execution_count": 10,
   "metadata": {
    "collapsed": true
   },
   "outputs": [],
   "source": [
    "from sqlalchemy import String, Integer\n",
    "sql_types = {'id':Integer,\n",
    "             'playerID':String, \n",
    "             'plyrMgr':String,\n",
    "             'teamID':String, \n",
    "             'lgID':String, \n",
    "             'yearID':Integer, \n",
    "             'inseason':Integer, \n",
    "             'G':Integer, \n",
    "             'W':Integer, \n",
    "             'L':Integer,\n",
    "             'rank':Integer}"
   ]
  },
  {
   "cell_type": "markdown",
   "metadata": {},
   "source": [
    "#### Task 4 - Create an `engine` and `schema`"
   ]
  },
  {
   "cell_type": "code",
   "execution_count": 11,
   "metadata": {
    "collapsed": true
   },
   "outputs": [],
   "source": [
    "!rm databases/baseball.db"
   ]
  },
  {
   "cell_type": "code",
   "execution_count": 12,
   "metadata": {},
   "outputs": [
    {
     "name": "stdout",
     "output_type": "stream",
     "text": [
      "\n",
      "CREATE TABLE manager (\n",
      "\t\"playerID\" VARCHAR, \n",
      "\t\"yearID\" INTEGER, \n",
      "\t\"teamID\" VARCHAR, \n",
      "\t\"lgID\" VARCHAR, \n",
      "\tinseason INTEGER, \n",
      "\t\"G\" INTEGER, \n",
      "\t\"W\" INTEGER, \n",
      "\t\"L\" INTEGER, \n",
      "\trank INTEGER, \n",
      "\t\"plyrMgr\" VARCHAR, \n",
      "\tid INTEGER NOT NULL, \n",
      "\tCONSTRAINT manager_pk PRIMARY KEY (id)\n",
      ")\n",
      "\n",
      "\n"
     ]
    }
   ],
   "source": [
    "from sqlalchemy import create_engine\n",
    "mang_eng = create_engine(\"sqlite:///databases/baseball.db\")\n",
    "mang_eng.echo = True\n",
    "schema = pd.io.sql.get_schema(managers, 'manager', keys='id', con=mang_eng, dtype=sql_types)\n",
    "print(schema)"
   ]
  },
  {
   "cell_type": "markdown",
   "metadata": {},
   "source": [
    "#### Execute the `schema`"
   ]
  },
  {
   "cell_type": "code",
   "execution_count": 13,
   "metadata": {},
   "outputs": [
    {
     "name": "stdout",
     "output_type": "stream",
     "text": [
      "2019-01-28 08:24:24,407 INFO sqlalchemy.engine.base.Engine SELECT CAST('test plain returns' AS VARCHAR(60)) AS anon_1\n",
      "2019-01-28 08:24:24,410 INFO sqlalchemy.engine.base.Engine ()\n",
      "2019-01-28 08:24:24,415 INFO sqlalchemy.engine.base.Engine SELECT CAST('test unicode returns' AS VARCHAR(60)) AS anon_1\n",
      "2019-01-28 08:24:24,418 INFO sqlalchemy.engine.base.Engine ()\n",
      "2019-01-28 08:24:24,422 INFO sqlalchemy.engine.base.Engine \n",
      "CREATE TABLE manager (\n",
      "\t\"playerID\" VARCHAR, \n",
      "\t\"yearID\" INTEGER, \n",
      "\t\"teamID\" VARCHAR, \n",
      "\t\"lgID\" VARCHAR, \n",
      "\tinseason INTEGER, \n",
      "\t\"G\" INTEGER, \n",
      "\t\"W\" INTEGER, \n",
      "\t\"L\" INTEGER, \n",
      "\trank INTEGER, \n",
      "\t\"plyrMgr\" VARCHAR, \n",
      "\tid INTEGER NOT NULL, \n",
      "\tCONSTRAINT manager_pk PRIMARY KEY (id)\n",
      ")\n",
      "\n",
      "\n",
      "2019-01-28 08:24:24,428 INFO sqlalchemy.engine.base.Engine ()\n",
      "2019-01-28 08:24:24,435 INFO sqlalchemy.engine.base.Engine COMMIT\n"
     ]
    },
    {
     "data": {
      "text/plain": [
       "<sqlalchemy.engine.result.ResultProxy at 0x108281ac8>"
      ]
     },
     "execution_count": 13,
     "metadata": {},
     "output_type": "execute_result"
    }
   ],
   "source": [
    "mang_eng.execute(schema)"
   ]
  },
  {
   "cell_type": "markdown",
   "metadata": {},
   "source": [
    "#### Task 5 - Use `to_sql` with `if_exists='append'` to insert the data"
   ]
  },
  {
   "cell_type": "code",
   "execution_count": 14,
   "metadata": {},
   "outputs": [
    {
     "name": "stdout",
     "output_type": "stream",
     "text": [
      "2019-01-28 08:24:26,987 INFO sqlalchemy.engine.base.Engine PRAGMA table_info(\"manager\")\n",
      "2019-01-28 08:24:26,989 INFO sqlalchemy.engine.base.Engine ()\n",
      "2019-01-28 08:24:26,995 INFO sqlalchemy.engine.base.Engine BEGIN (implicit)\n",
      "2019-01-28 08:24:27,060 INFO sqlalchemy.engine.base.Engine INSERT INTO manager (\"playerID\", \"yearID\", \"teamID\", \"lgID\", inseason, \"G\", \"W\", \"L\", rank, \"plyrMgr\", id) VALUES (?, ?, ?, ?, ?, ?, ?, ?, ?, ?, ?)\n",
      "2019-01-28 08:24:27,061 INFO sqlalchemy.engine.base.Engine (('wrighha01', 1871, 'BS1', None, 1, 31, 20, 10, 3.0, 'Y', 0), ('woodji01', 1871, 'CH1', None, 1, 28, 19, 9, 2.0, 'Y', 1), ('paborch01', 1871, 'CL1', None, 1, 29, 10, 19, 8.0, 'Y', 2), ('lennobi01', 1871, 'FW1', None, 1, 14, 5, 9, 8.0, 'Y', 3), ('deaneha01', 1871, 'FW1', None, 2, 5, 2, 3, 8.0, 'Y', 4), ('fergubo01', 1871, 'NY2', None, 1, 33, 16, 17, 5.0, 'Y', 5), ('mcbridi01', 1871, 'PH1', None, 1, 28, 21, 7, 1.0, 'Y', 6), ('hastisc01', 1871, 'RC1', None, 1, 25, 4, 21, 9.0, 'Y', 7)  ... displaying 10 of 3469 total bound parameter sets ...  ('bakerdu01', 2017, 'WAS', 'NL', 1, 160, 95, 65, 1.0, 'N', 3467), ('speiech01', 2017, 'WAS', 'NL', 2, 2, 2, 0, 1.0, 'N', 3468))\n",
      "2019-01-28 08:24:27,077 INFO sqlalchemy.engine.base.Engine COMMIT\n"
     ]
    }
   ],
   "source": [
    "managers.to_sql('manager', \n",
    "                con=mang_eng, \n",
    "                dtype=sql_types, \n",
    "                index=False,\n",
    "                if_exists='append')"
   ]
  },
  {
   "cell_type": "markdown",
   "metadata": {},
   "source": [
    "#### Task 6 - Query the table to make sure it all worked"
   ]
  },
  {
   "cell_type": "code",
   "execution_count": 15,
   "metadata": {
    "collapsed": true
   },
   "outputs": [],
   "source": [
    "from sqlalchemy.ext.automap import automap_base\n",
    "from sqlalchemy.orm import sessionmaker\n",
    "from sqlalchemy import select\n",
    "\n",
    "mang_eng2 = create_engine(\"sqlite:///databases/baseball.db\") \n",
    "Session = sessionmaker(mang_eng)\n",
    "session = Session()"
   ]
  },
  {
   "cell_type": "code",
   "execution_count": 16,
   "metadata": {
    "collapsed": true
   },
   "outputs": [],
   "source": [
    "Base = automap_base()\n",
    "Base.prepare(mang_eng2, reflect=True)\n",
    "Manager = Base.classes.manager"
   ]
  },
  {
   "cell_type": "code",
   "execution_count": 17,
   "metadata": {
    "scrolled": true
   },
   "outputs": [
    {
     "name": "stdout",
     "output_type": "stream",
     "text": [
      "2019-01-28 08:24:29,633 INFO sqlalchemy.engine.base.Engine BEGIN (implicit)\n",
      "2019-01-28 08:24:29,635 INFO sqlalchemy.engine.base.Engine SELECT * \n",
      "FROM manager\n",
      "2019-01-28 08:24:29,636 INFO sqlalchemy.engine.base.Engine ()\n"
     ]
    },
    {
     "data": {
      "text/plain": [
       "[{'G': 31,\n",
       "  'L': 10,\n",
       "  'W': 20,\n",
       "  'id': 0,\n",
       "  'inseason': 1,\n",
       "  'lgID': None,\n",
       "  'playerID': 'wrighha01',\n",
       "  'plyrMgr': 'Y',\n",
       "  'rank': 3,\n",
       "  'teamID': 'BS1',\n",
       "  'yearID': 1871},\n",
       " {'G': 28,\n",
       "  'L': 9,\n",
       "  'W': 19,\n",
       "  'id': 1,\n",
       "  'inseason': 1,\n",
       "  'lgID': None,\n",
       "  'playerID': 'woodji01',\n",
       "  'plyrMgr': 'Y',\n",
       "  'rank': 2,\n",
       "  'teamID': 'CH1',\n",
       "  'yearID': 1871},\n",
       " {'G': 29,\n",
       "  'L': 19,\n",
       "  'W': 10,\n",
       "  'id': 2,\n",
       "  'inseason': 1,\n",
       "  'lgID': None,\n",
       "  'playerID': 'paborch01',\n",
       "  'plyrMgr': 'Y',\n",
       "  'rank': 8,\n",
       "  'teamID': 'CL1',\n",
       "  'yearID': 1871},\n",
       " {'G': 14,\n",
       "  'L': 9,\n",
       "  'W': 5,\n",
       "  'id': 3,\n",
       "  'inseason': 1,\n",
       "  'lgID': None,\n",
       "  'playerID': 'lennobi01',\n",
       "  'plyrMgr': 'Y',\n",
       "  'rank': 8,\n",
       "  'teamID': 'FW1',\n",
       "  'yearID': 1871},\n",
       " {'G': 5,\n",
       "  'L': 3,\n",
       "  'W': 2,\n",
       "  'id': 4,\n",
       "  'inseason': 2,\n",
       "  'lgID': None,\n",
       "  'playerID': 'deaneha01',\n",
       "  'plyrMgr': 'Y',\n",
       "  'rank': 8,\n",
       "  'teamID': 'FW1',\n",
       "  'yearID': 1871}]"
      ]
     },
     "execution_count": 17,
     "metadata": {},
     "output_type": "execute_result"
    }
   ],
   "source": [
    "from more_sqlalchemy import result_dicts\n",
    "stmt = select('*').select_from(Manager)\n",
    "session.execute(stmt).fetchmany(5) >> result_dicts"
   ]
  },
  {
   "cell_type": "markdown",
   "metadata": {},
   "source": [
    "## Part 2 - Awards for Managers\n",
    "\n",
    "Now add a table for the `AwardsManagers.csv` table."
   ]
  },
  {
   "cell_type": "code",
   "execution_count": 20,
   "metadata": {},
   "outputs": [
    {
     "data": {
      "text/html": [
       "<div>\n",
       "<style>\n",
       "    .dataframe thead tr:only-child th {\n",
       "        text-align: right;\n",
       "    }\n",
       "\n",
       "    .dataframe thead th {\n",
       "        text-align: left;\n",
       "    }\n",
       "\n",
       "    .dataframe tbody tr th {\n",
       "        vertical-align: top;\n",
       "    }\n",
       "</style>\n",
       "<table border=\"1\" class=\"dataframe\">\n",
       "  <thead>\n",
       "    <tr style=\"text-align: right;\">\n",
       "      <th></th>\n",
       "      <th>playerID</th>\n",
       "      <th>awardID</th>\n",
       "      <th>yearID</th>\n",
       "      <th>lgID</th>\n",
       "      <th>tie</th>\n",
       "      <th>notes</th>\n",
       "    </tr>\n",
       "  </thead>\n",
       "  <tbody>\n",
       "    <tr>\n",
       "      <th>0</th>\n",
       "      <td>larusto01</td>\n",
       "      <td>BBWAA Manager of the Year</td>\n",
       "      <td>1983</td>\n",
       "      <td>AL</td>\n",
       "      <td>NaN</td>\n",
       "      <td>NaN</td>\n",
       "    </tr>\n",
       "    <tr>\n",
       "      <th>1</th>\n",
       "      <td>lasorto01</td>\n",
       "      <td>BBWAA Manager of the Year</td>\n",
       "      <td>1983</td>\n",
       "      <td>NL</td>\n",
       "      <td>NaN</td>\n",
       "      <td>NaN</td>\n",
       "    </tr>\n",
       "    <tr>\n",
       "      <th>2</th>\n",
       "      <td>andersp01</td>\n",
       "      <td>BBWAA Manager of the Year</td>\n",
       "      <td>1984</td>\n",
       "      <td>AL</td>\n",
       "      <td>NaN</td>\n",
       "      <td>NaN</td>\n",
       "    </tr>\n",
       "    <tr>\n",
       "      <th>3</th>\n",
       "      <td>freyji99</td>\n",
       "      <td>BBWAA Manager of the Year</td>\n",
       "      <td>1984</td>\n",
       "      <td>NL</td>\n",
       "      <td>NaN</td>\n",
       "      <td>NaN</td>\n",
       "    </tr>\n",
       "    <tr>\n",
       "      <th>4</th>\n",
       "      <td>coxbo01</td>\n",
       "      <td>BBWAA Manager of the Year</td>\n",
       "      <td>1985</td>\n",
       "      <td>AL</td>\n",
       "      <td>NaN</td>\n",
       "      <td>NaN</td>\n",
       "    </tr>\n",
       "  </tbody>\n",
       "</table>\n",
       "</div>"
      ],
      "text/plain": [
       "    playerID                    awardID  yearID lgID  tie notes\n",
       "0  larusto01  BBWAA Manager of the Year    1983   AL  NaN   NaN\n",
       "1  lasorto01  BBWAA Manager of the Year    1983   NL  NaN   NaN\n",
       "2  andersp01  BBWAA Manager of the Year    1984   AL  NaN   NaN\n",
       "3   freyji99  BBWAA Manager of the Year    1984   NL  NaN   NaN\n",
       "4    coxbo01  BBWAA Manager of the Year    1985   AL  NaN   NaN"
      ]
     },
     "execution_count": 20,
     "metadata": {},
     "output_type": "execute_result"
    }
   ],
   "source": [
    "import pandas as pd\n",
    "amanagers = pd.read_csv('~/Desktop/baseball/core/AwardsManagers.csv')\n",
    "amanagers.head()"
   ]
  },
  {
   "cell_type": "code",
   "execution_count": 22,
   "metadata": {},
   "outputs": [
    {
     "data": {
      "text/plain": [
       "Index(['playerID', 'awardID', 'yearID', 'lgID', 'tie', 'notes'], dtype='object')"
      ]
     },
     "execution_count": 22,
     "metadata": {},
     "output_type": "execute_result"
    }
   ],
   "source": [
    "amanagers.columns"
   ]
  },
  {
   "cell_type": "code",
   "execution_count": 23,
   "metadata": {},
   "outputs": [
    {
     "data": {
      "text/plain": [
       "[('playerID', False),\n",
       " ('awardID', False),\n",
       " ('yearID', False),\n",
       " ('lgID', False),\n",
       " ('tie', False),\n",
       " ('notes', False)]"
      ]
     },
     "execution_count": 23,
     "metadata": {},
     "output_type": "execute_result"
    }
   ],
   "source": [
    "[(col, amanagers[col].is_unique) for col in amanagers]"
   ]
  },
  {
   "cell_type": "code",
   "execution_count": 24,
   "metadata": {
    "collapsed": true
   },
   "outputs": [],
   "source": [
    "from dfply import mutate\n",
    "amanagers = (amanagers >>\n",
    "            mutate(id = amanagers.index))"
   ]
  },
  {
   "cell_type": "code",
   "execution_count": 26,
   "metadata": {},
   "outputs": [
    {
     "data": {
      "text/plain": [
       "True"
      ]
     },
     "execution_count": 26,
     "metadata": {},
     "output_type": "execute_result"
    }
   ],
   "source": [
    "amanagers.id.is_unique"
   ]
  },
  {
   "cell_type": "code",
   "execution_count": 27,
   "metadata": {},
   "outputs": [
    {
     "data": {
      "text/plain": [
       "playerID    object\n",
       "awardID     object\n",
       "yearID       int64\n",
       "lgID        object\n",
       "tie         object\n",
       "notes       object\n",
       "id           int64\n",
       "dtype: object"
      ]
     },
     "execution_count": 27,
     "metadata": {},
     "output_type": "execute_result"
    }
   ],
   "source": [
    "amanagers.dtypes"
   ]
  },
  {
   "cell_type": "code",
   "execution_count": 28,
   "metadata": {},
   "outputs": [
    {
     "data": {
      "text/plain": [
       "(179, 7)"
      ]
     },
     "execution_count": 28,
     "metadata": {},
     "output_type": "execute_result"
    }
   ],
   "source": [
    "amanagers.shape"
   ]
  },
  {
   "cell_type": "code",
   "execution_count": 29,
   "metadata": {},
   "outputs": [
    {
     "data": {
      "text/html": [
       "<div>\n",
       "<style>\n",
       "    .dataframe thead tr:only-child th {\n",
       "        text-align: right;\n",
       "    }\n",
       "\n",
       "    .dataframe thead th {\n",
       "        text-align: left;\n",
       "    }\n",
       "\n",
       "    .dataframe tbody tr th {\n",
       "        vertical-align: top;\n",
       "    }\n",
       "</style>\n",
       "<table border=\"1\" class=\"dataframe\">\n",
       "  <thead>\n",
       "    <tr style=\"text-align: right;\">\n",
       "      <th></th>\n",
       "      <th>playerID</th>\n",
       "      <th>awardID</th>\n",
       "      <th>yearID</th>\n",
       "      <th>lgID</th>\n",
       "      <th>tie</th>\n",
       "      <th>notes</th>\n",
       "      <th>id</th>\n",
       "    </tr>\n",
       "  </thead>\n",
       "  <tbody>\n",
       "    <tr>\n",
       "      <th>0</th>\n",
       "      <td>larusto01</td>\n",
       "      <td>BBWAA Manager of the Year</td>\n",
       "      <td>1983</td>\n",
       "      <td>AL</td>\n",
       "      <td>NaN</td>\n",
       "      <td>NaN</td>\n",
       "      <td>0</td>\n",
       "    </tr>\n",
       "    <tr>\n",
       "      <th>1</th>\n",
       "      <td>lasorto01</td>\n",
       "      <td>BBWAA Manager of the Year</td>\n",
       "      <td>1983</td>\n",
       "      <td>NL</td>\n",
       "      <td>NaN</td>\n",
       "      <td>NaN</td>\n",
       "      <td>1</td>\n",
       "    </tr>\n",
       "    <tr>\n",
       "      <th>2</th>\n",
       "      <td>andersp01</td>\n",
       "      <td>BBWAA Manager of the Year</td>\n",
       "      <td>1984</td>\n",
       "      <td>AL</td>\n",
       "      <td>NaN</td>\n",
       "      <td>NaN</td>\n",
       "      <td>2</td>\n",
       "    </tr>\n",
       "    <tr>\n",
       "      <th>3</th>\n",
       "      <td>freyji99</td>\n",
       "      <td>BBWAA Manager of the Year</td>\n",
       "      <td>1984</td>\n",
       "      <td>NL</td>\n",
       "      <td>NaN</td>\n",
       "      <td>NaN</td>\n",
       "      <td>3</td>\n",
       "    </tr>\n",
       "    <tr>\n",
       "      <th>4</th>\n",
       "      <td>coxbo01</td>\n",
       "      <td>BBWAA Manager of the Year</td>\n",
       "      <td>1985</td>\n",
       "      <td>AL</td>\n",
       "      <td>NaN</td>\n",
       "      <td>NaN</td>\n",
       "      <td>4</td>\n",
       "    </tr>\n",
       "  </tbody>\n",
       "</table>\n",
       "</div>"
      ],
      "text/plain": [
       "    playerID                    awardID  yearID lgID  tie notes  id\n",
       "0  larusto01  BBWAA Manager of the Year    1983   AL  NaN   NaN   0\n",
       "1  lasorto01  BBWAA Manager of the Year    1983   NL  NaN   NaN   1\n",
       "2  andersp01  BBWAA Manager of the Year    1984   AL  NaN   NaN   2\n",
       "3   freyji99  BBWAA Manager of the Year    1984   NL  NaN   NaN   3\n",
       "4    coxbo01  BBWAA Manager of the Year    1985   AL  NaN   NaN   4"
      ]
     },
     "execution_count": 29,
     "metadata": {},
     "output_type": "execute_result"
    }
   ],
   "source": [
    "amanagers.head()"
   ]
  },
  {
   "cell_type": "code",
   "execution_count": 30,
   "metadata": {
    "collapsed": true
   },
   "outputs": [],
   "source": [
    "from sqlalchemy import String, Integer\n",
    "sql_types = {'id':Integer,\n",
    "             'playerID': String, \n",
    "             'awardID': String, \n",
    "             'yearID': Integer, \n",
    "             'lgID': String, \n",
    "             'tie': String, \n",
    "             'notes': String}"
   ]
  },
  {
   "cell_type": "code",
   "execution_count": 31,
   "metadata": {
    "collapsed": true
   },
   "outputs": [],
   "source": [
    "!rm databases/baseball.db"
   ]
  },
  {
   "cell_type": "code",
   "execution_count": 32,
   "metadata": {},
   "outputs": [
    {
     "name": "stdout",
     "output_type": "stream",
     "text": [
      "\n",
      "CREATE TABLE amanager (\n",
      "\t\"playerID\" VARCHAR, \n",
      "\t\"awardID\" VARCHAR, \n",
      "\t\"yearID\" INTEGER, \n",
      "\t\"lgID\" VARCHAR, \n",
      "\ttie VARCHAR, \n",
      "\tnotes VARCHAR, \n",
      "\tid INTEGER NOT NULL, \n",
      "\tCONSTRAINT amanager_pk PRIMARY KEY (id)\n",
      ")\n",
      "\n",
      "\n"
     ]
    }
   ],
   "source": [
    "from sqlalchemy import create_engine\n",
    "mang_eng = create_engine(\"sqlite:///databases/baseball.db\")\n",
    "mang_eng.echo = True\n",
    "schema = pd.io.sql.get_schema(amanagers, 'amanager', keys='id', con=mang_eng, dtype=sql_types)\n",
    "print(schema)"
   ]
  },
  {
   "cell_type": "code",
   "execution_count": 33,
   "metadata": {},
   "outputs": [
    {
     "name": "stdout",
     "output_type": "stream",
     "text": [
      "2019-01-28 08:31:09,356 INFO sqlalchemy.engine.base.Engine SELECT CAST('test plain returns' AS VARCHAR(60)) AS anon_1\n",
      "2019-01-28 08:31:09,358 INFO sqlalchemy.engine.base.Engine ()\n",
      "2019-01-28 08:31:09,360 INFO sqlalchemy.engine.base.Engine SELECT CAST('test unicode returns' AS VARCHAR(60)) AS anon_1\n",
      "2019-01-28 08:31:09,361 INFO sqlalchemy.engine.base.Engine ()\n",
      "2019-01-28 08:31:09,364 INFO sqlalchemy.engine.base.Engine \n",
      "CREATE TABLE amanager (\n",
      "\t\"playerID\" VARCHAR, \n",
      "\t\"awardID\" VARCHAR, \n",
      "\t\"yearID\" INTEGER, \n",
      "\t\"lgID\" VARCHAR, \n",
      "\ttie VARCHAR, \n",
      "\tnotes VARCHAR, \n",
      "\tid INTEGER NOT NULL, \n",
      "\tCONSTRAINT amanager_pk PRIMARY KEY (id)\n",
      ")\n",
      "\n",
      "\n",
      "2019-01-28 08:31:09,366 INFO sqlalchemy.engine.base.Engine ()\n",
      "2019-01-28 08:31:09,370 INFO sqlalchemy.engine.base.Engine COMMIT\n"
     ]
    },
    {
     "data": {
      "text/plain": [
       "<sqlalchemy.engine.result.ResultProxy at 0x10d173b00>"
      ]
     },
     "execution_count": 33,
     "metadata": {},
     "output_type": "execute_result"
    }
   ],
   "source": [
    "mang_eng.execute(schema)"
   ]
  },
  {
   "cell_type": "code",
   "execution_count": 34,
   "metadata": {},
   "outputs": [
    {
     "name": "stdout",
     "output_type": "stream",
     "text": [
      "2019-01-28 08:31:33,779 INFO sqlalchemy.engine.base.Engine PRAGMA table_info(\"amanager\")\n",
      "2019-01-28 08:31:33,781 INFO sqlalchemy.engine.base.Engine ()\n",
      "2019-01-28 08:31:33,785 INFO sqlalchemy.engine.base.Engine BEGIN (implicit)\n",
      "2019-01-28 08:31:33,789 INFO sqlalchemy.engine.base.Engine INSERT INTO amanager (\"playerID\", \"awardID\", \"yearID\", \"lgID\", tie, notes, id) VALUES (?, ?, ?, ?, ?, ?, ?)\n",
      "2019-01-28 08:31:33,790 INFO sqlalchemy.engine.base.Engine (('larusto01', 'BBWAA Manager of the Year', 1983, 'AL', None, None, 0), ('lasorto01', 'BBWAA Manager of the Year', 1983, 'NL', None, None, 1), ('andersp01', 'BBWAA Manager of the Year', 1984, 'AL', None, None, 2), ('freyji99', 'BBWAA Manager of the Year', 1984, 'NL', None, None, 3), ('coxbo01', 'BBWAA Manager of the Year', 1985, 'AL', None, None, 4), ('herzowh01', 'BBWAA Manager of the Year', 1985, 'NL', None, None, 5), ('mcnamjo99', 'BBWAA Manager of the Year', 1986, 'AL', None, None, 6), ('lanieha01', 'BBWAA Manager of the Year', 1986, 'NL', None, None, 7)  ... displaying 10 of 179 total bound parameter sets ...  ('francte01', 'BBWAA Manager of the Year', 2016, 'AL', None, '\\t', 177), ('roberda07', 'BBWAA Manager of the Year', 2016, 'NL', None, None, 178))\n",
      "2019-01-28 08:31:33,795 INFO sqlalchemy.engine.base.Engine COMMIT\n"
     ]
    }
   ],
   "source": [
    "amanagers.to_sql('amanager', \n",
    "                con=mang_eng, \n",
    "                dtype=sql_types, \n",
    "                index=False,\n",
    "                if_exists='append')"
   ]
  },
  {
   "cell_type": "code",
   "execution_count": 35,
   "metadata": {
    "collapsed": true
   },
   "outputs": [],
   "source": [
    "from sqlalchemy.ext.automap import automap_base\n",
    "from sqlalchemy.orm import sessionmaker\n",
    "from sqlalchemy import select\n",
    "\n",
    "mang_eng2 = create_engine(\"sqlite:///databases/baseball.db\") \n",
    "Session = sessionmaker(mang_eng)\n",
    "session = Session()"
   ]
  },
  {
   "cell_type": "code",
   "execution_count": 36,
   "metadata": {
    "collapsed": true
   },
   "outputs": [],
   "source": [
    "Base = automap_base()\n",
    "Base.prepare(mang_eng2, reflect=True)\n",
    "Manager = Base.classes.amanager"
   ]
  },
  {
   "cell_type": "code",
   "execution_count": 38,
   "metadata": {},
   "outputs": [
    {
     "name": "stdout",
     "output_type": "stream",
     "text": [
      "2019-01-28 08:33:18,576 INFO sqlalchemy.engine.base.Engine BEGIN (implicit)\n",
      "2019-01-28 08:33:18,578 INFO sqlalchemy.engine.base.Engine SELECT * \n",
      "FROM amanager\n",
      "2019-01-28 08:33:18,580 INFO sqlalchemy.engine.base.Engine ()\n"
     ]
    },
    {
     "data": {
      "text/plain": [
       "[{'awardID': 'BBWAA Manager of the Year',\n",
       "  'id': 0,\n",
       "  'lgID': 'AL',\n",
       "  'notes': None,\n",
       "  'playerID': 'larusto01',\n",
       "  'tie': None,\n",
       "  'yearID': 1983},\n",
       " {'awardID': 'BBWAA Manager of the Year',\n",
       "  'id': 1,\n",
       "  'lgID': 'NL',\n",
       "  'notes': None,\n",
       "  'playerID': 'lasorto01',\n",
       "  'tie': None,\n",
       "  'yearID': 1983},\n",
       " {'awardID': 'BBWAA Manager of the Year',\n",
       "  'id': 2,\n",
       "  'lgID': 'AL',\n",
       "  'notes': None,\n",
       "  'playerID': 'andersp01',\n",
       "  'tie': None,\n",
       "  'yearID': 1984},\n",
       " {'awardID': 'BBWAA Manager of the Year',\n",
       "  'id': 3,\n",
       "  'lgID': 'NL',\n",
       "  'notes': None,\n",
       "  'playerID': 'freyji99',\n",
       "  'tie': None,\n",
       "  'yearID': 1984},\n",
       " {'awardID': 'BBWAA Manager of the Year',\n",
       "  'id': 4,\n",
       "  'lgID': 'AL',\n",
       "  'notes': None,\n",
       "  'playerID': 'coxbo01',\n",
       "  'tie': None,\n",
       "  'yearID': 1985}]"
      ]
     },
     "execution_count": 38,
     "metadata": {},
     "output_type": "execute_result"
    }
   ],
   "source": [
    "from more_sqlalchemy import result_dicts\n",
    "stmt = select('*').select_from(Manager)\n",
    "session.execute(stmt).fetchmany(5) >> result_dicts"
   ]
  },
  {
   "cell_type": "markdown",
   "metadata": {},
   "source": [
    "## Part 3 - Super Hero Powers\n",
    "\n",
    "Now make a database and table for the super hero powers."
   ]
  },
  {
   "cell_type": "markdown",
   "metadata": {},
   "source": [
    "## Problem 1\n",
    "    \n",
    "**Task:** One the `super_hero_powers.csv` and verify that the contents of the columns are all Boolean.  In this problem, you need to\n",
    "\n",
    "1. Create a `dict` that defines the `pandas` column type\n",
    "2. Read the file in using a `pd.read_csv`.\n",
    "3. Clean up all the column labels.\n",
    "    \n",
    "**Be sure to write clean code!**\n"
   ]
  },
  {
   "cell_type": "code",
   "execution_count": 2,
   "metadata": {
    "collapsed": true
   },
   "outputs": [],
   "source": [
    "import pandas as pd\n",
    "powers = pd.read_csv(\"./data/super_hero_powers.csv\")"
   ]
  },
  {
   "cell_type": "code",
   "execution_count": 3,
   "metadata": {},
   "outputs": [
    {
     "data": {
      "text/html": [
       "<div>\n",
       "<style>\n",
       "    .dataframe thead tr:only-child th {\n",
       "        text-align: right;\n",
       "    }\n",
       "\n",
       "    .dataframe thead th {\n",
       "        text-align: left;\n",
       "    }\n",
       "\n",
       "    .dataframe tbody tr th {\n",
       "        vertical-align: top;\n",
       "    }\n",
       "</style>\n",
       "<table border=\"1\" class=\"dataframe\">\n",
       "  <thead>\n",
       "    <tr style=\"text-align: right;\">\n",
       "      <th></th>\n",
       "      <th>hero_names</th>\n",
       "      <th>Agility</th>\n",
       "      <th>Accelerated Healing</th>\n",
       "      <th>Lantern Power Ring</th>\n",
       "      <th>Dimensional Awareness</th>\n",
       "      <th>Cold Resistance</th>\n",
       "      <th>Durability</th>\n",
       "      <th>Stealth</th>\n",
       "      <th>Energy Absorption</th>\n",
       "      <th>Flight</th>\n",
       "      <th>...</th>\n",
       "      <th>Web Creation</th>\n",
       "      <th>Reality Warping</th>\n",
       "      <th>Odin Force</th>\n",
       "      <th>Symbiote Costume</th>\n",
       "      <th>Speed Force</th>\n",
       "      <th>Phoenix Force</th>\n",
       "      <th>Molecular Dissipation</th>\n",
       "      <th>Vision - Cryo</th>\n",
       "      <th>Omnipresent</th>\n",
       "      <th>Omniscient</th>\n",
       "    </tr>\n",
       "  </thead>\n",
       "  <tbody>\n",
       "    <tr>\n",
       "      <th>0</th>\n",
       "      <td>3-D Man</td>\n",
       "      <td>True</td>\n",
       "      <td>False</td>\n",
       "      <td>False</td>\n",
       "      <td>False</td>\n",
       "      <td>False</td>\n",
       "      <td>False</td>\n",
       "      <td>False</td>\n",
       "      <td>False</td>\n",
       "      <td>False</td>\n",
       "      <td>...</td>\n",
       "      <td>False</td>\n",
       "      <td>False</td>\n",
       "      <td>False</td>\n",
       "      <td>False</td>\n",
       "      <td>False</td>\n",
       "      <td>False</td>\n",
       "      <td>False</td>\n",
       "      <td>False</td>\n",
       "      <td>False</td>\n",
       "      <td>False</td>\n",
       "    </tr>\n",
       "    <tr>\n",
       "      <th>1</th>\n",
       "      <td>A-Bomb</td>\n",
       "      <td>False</td>\n",
       "      <td>True</td>\n",
       "      <td>False</td>\n",
       "      <td>False</td>\n",
       "      <td>False</td>\n",
       "      <td>True</td>\n",
       "      <td>False</td>\n",
       "      <td>False</td>\n",
       "      <td>False</td>\n",
       "      <td>...</td>\n",
       "      <td>False</td>\n",
       "      <td>False</td>\n",
       "      <td>False</td>\n",
       "      <td>False</td>\n",
       "      <td>False</td>\n",
       "      <td>False</td>\n",
       "      <td>False</td>\n",
       "      <td>False</td>\n",
       "      <td>False</td>\n",
       "      <td>False</td>\n",
       "    </tr>\n",
       "    <tr>\n",
       "      <th>2</th>\n",
       "      <td>Abe Sapien</td>\n",
       "      <td>True</td>\n",
       "      <td>True</td>\n",
       "      <td>False</td>\n",
       "      <td>False</td>\n",
       "      <td>True</td>\n",
       "      <td>True</td>\n",
       "      <td>False</td>\n",
       "      <td>False</td>\n",
       "      <td>False</td>\n",
       "      <td>...</td>\n",
       "      <td>False</td>\n",
       "      <td>False</td>\n",
       "      <td>False</td>\n",
       "      <td>False</td>\n",
       "      <td>False</td>\n",
       "      <td>False</td>\n",
       "      <td>False</td>\n",
       "      <td>False</td>\n",
       "      <td>False</td>\n",
       "      <td>False</td>\n",
       "    </tr>\n",
       "    <tr>\n",
       "      <th>3</th>\n",
       "      <td>Abin Sur</td>\n",
       "      <td>False</td>\n",
       "      <td>False</td>\n",
       "      <td>True</td>\n",
       "      <td>False</td>\n",
       "      <td>False</td>\n",
       "      <td>False</td>\n",
       "      <td>False</td>\n",
       "      <td>False</td>\n",
       "      <td>False</td>\n",
       "      <td>...</td>\n",
       "      <td>False</td>\n",
       "      <td>False</td>\n",
       "      <td>False</td>\n",
       "      <td>False</td>\n",
       "      <td>False</td>\n",
       "      <td>False</td>\n",
       "      <td>False</td>\n",
       "      <td>False</td>\n",
       "      <td>False</td>\n",
       "      <td>False</td>\n",
       "    </tr>\n",
       "    <tr>\n",
       "      <th>4</th>\n",
       "      <td>Abomination</td>\n",
       "      <td>False</td>\n",
       "      <td>True</td>\n",
       "      <td>False</td>\n",
       "      <td>False</td>\n",
       "      <td>False</td>\n",
       "      <td>False</td>\n",
       "      <td>False</td>\n",
       "      <td>False</td>\n",
       "      <td>False</td>\n",
       "      <td>...</td>\n",
       "      <td>False</td>\n",
       "      <td>False</td>\n",
       "      <td>False</td>\n",
       "      <td>False</td>\n",
       "      <td>False</td>\n",
       "      <td>False</td>\n",
       "      <td>False</td>\n",
       "      <td>False</td>\n",
       "      <td>False</td>\n",
       "      <td>False</td>\n",
       "    </tr>\n",
       "  </tbody>\n",
       "</table>\n",
       "<p>5 rows × 168 columns</p>\n",
       "</div>"
      ],
      "text/plain": [
       "    hero_names  Agility  Accelerated Healing  Lantern Power Ring  \\\n",
       "0      3-D Man     True                False               False   \n",
       "1       A-Bomb    False                 True               False   \n",
       "2   Abe Sapien     True                 True               False   \n",
       "3     Abin Sur    False                False                True   \n",
       "4  Abomination    False                 True               False   \n",
       "\n",
       "   Dimensional Awareness  Cold Resistance  Durability  Stealth  \\\n",
       "0                  False            False       False    False   \n",
       "1                  False            False        True    False   \n",
       "2                  False             True        True    False   \n",
       "3                  False            False       False    False   \n",
       "4                  False            False       False    False   \n",
       "\n",
       "   Energy Absorption  Flight     ...      Web Creation  Reality Warping  \\\n",
       "0              False   False     ...             False            False   \n",
       "1              False   False     ...             False            False   \n",
       "2              False   False     ...             False            False   \n",
       "3              False   False     ...             False            False   \n",
       "4              False   False     ...             False            False   \n",
       "\n",
       "   Odin Force  Symbiote Costume  Speed Force  Phoenix Force  \\\n",
       "0       False             False        False          False   \n",
       "1       False             False        False          False   \n",
       "2       False             False        False          False   \n",
       "3       False             False        False          False   \n",
       "4       False             False        False          False   \n",
       "\n",
       "   Molecular Dissipation  Vision - Cryo  Omnipresent  Omniscient  \n",
       "0                  False          False        False       False  \n",
       "1                  False          False        False       False  \n",
       "2                  False          False        False       False  \n",
       "3                  False          False        False       False  \n",
       "4                  False          False        False       False  \n",
       "\n",
       "[5 rows x 168 columns]"
      ]
     },
     "execution_count": 3,
     "metadata": {},
     "output_type": "execute_result"
    }
   ],
   "source": [
    "powers.head()"
   ]
  },
  {
   "cell_type": "code",
   "execution_count": 4,
   "metadata": {},
   "outputs": [
    {
     "data": {
      "text/plain": [
       "Index(['hero_names', 'Agility', 'Accelerated Healing', 'Lantern Power Ring',\n",
       "       'Dimensional Awareness', 'Cold Resistance', 'Durability', 'Stealth',\n",
       "       'Energy Absorption', 'Flight',\n",
       "       ...\n",
       "       'Web Creation', 'Reality Warping', 'Odin Force', 'Symbiote Costume',\n",
       "       'Speed Force', 'Phoenix Force', 'Molecular Dissipation',\n",
       "       'Vision - Cryo', 'Omnipresent', 'Omniscient'],\n",
       "      dtype='object', length=168)"
      ]
     },
     "execution_count": 4,
     "metadata": {},
     "output_type": "execute_result"
    }
   ],
   "source": [
    "powers.columns"
   ]
  },
  {
   "cell_type": "code",
   "execution_count": 5,
   "metadata": {},
   "outputs": [
    {
     "data": {
      "text/plain": [
       "[('hero_names', True),\n",
       " ('Agility', False),\n",
       " ('Accelerated Healing', False),\n",
       " ('Lantern Power Ring', False),\n",
       " ('Dimensional Awareness', False),\n",
       " ('Cold Resistance', False),\n",
       " ('Durability', False),\n",
       " ('Stealth', False),\n",
       " ('Energy Absorption', False),\n",
       " ('Flight', False),\n",
       " ('Danger Sense', False),\n",
       " ('Underwater breathing', False),\n",
       " ('Marksmanship', False),\n",
       " ('Weapons Master', False),\n",
       " ('Power Augmentation', False),\n",
       " ('Animal Attributes', False),\n",
       " ('Longevity', False),\n",
       " ('Intelligence', False),\n",
       " ('Super Strength', False),\n",
       " ('Cryokinesis', False),\n",
       " ('Telepathy', False),\n",
       " ('Energy Armor', False),\n",
       " ('Energy Blasts', False),\n",
       " ('Duplication', False),\n",
       " ('Size Changing', False),\n",
       " ('Density Control', False),\n",
       " ('Stamina', False),\n",
       " ('Astral Travel', False),\n",
       " ('Audio Control', False),\n",
       " ('Dexterity', False),\n",
       " ('Omnitrix', False),\n",
       " ('Super Speed', False),\n",
       " ('Possession', False),\n",
       " ('Animal Oriented Powers', False),\n",
       " ('Weapon-based Powers', False),\n",
       " ('Electrokinesis', False),\n",
       " ('Darkforce Manipulation', False),\n",
       " ('Death Touch', False),\n",
       " ('Teleportation', False),\n",
       " ('Enhanced Senses', False),\n",
       " ('Telekinesis', False),\n",
       " ('Energy Beams', False),\n",
       " ('Magic', False),\n",
       " ('Hyperkinesis', False),\n",
       " ('Jump', False),\n",
       " ('Clairvoyance', False),\n",
       " ('Dimensional Travel', False),\n",
       " ('Power Sense', False),\n",
       " ('Shapeshifting', False),\n",
       " ('Peak Human Condition', False),\n",
       " ('Immortality', False),\n",
       " ('Camouflage', False),\n",
       " ('Element Control', False),\n",
       " ('Phasing', False),\n",
       " ('Astral Projection', False),\n",
       " ('Electrical Transport', False),\n",
       " ('Fire Control', False),\n",
       " ('Projection', False),\n",
       " ('Summoning', False),\n",
       " ('Enhanced Memory', False),\n",
       " ('Reflexes', False),\n",
       " ('Invulnerability', False),\n",
       " ('Energy Constructs', False),\n",
       " ('Force Fields', False),\n",
       " ('Self-Sustenance', False),\n",
       " ('Anti-Gravity', False),\n",
       " ('Empathy', False),\n",
       " ('Power Nullifier', False),\n",
       " ('Radiation Control', False),\n",
       " ('Psionic Powers', False),\n",
       " ('Elasticity', False),\n",
       " ('Substance Secretion', False),\n",
       " ('Elemental Transmogrification', False),\n",
       " ('Technopath/Cyberpath', False),\n",
       " ('Photographic Reflexes', False),\n",
       " ('Seismic Power', False),\n",
       " ('Animation', False),\n",
       " ('Precognition', False),\n",
       " ('Mind Control', False),\n",
       " ('Fire Resistance', False),\n",
       " ('Power Absorption', False),\n",
       " ('Enhanced Hearing', False),\n",
       " ('Nova Force', False),\n",
       " ('Insanity', False),\n",
       " ('Hypnokinesis', False),\n",
       " ('Animal Control', False),\n",
       " ('Natural Armor', False),\n",
       " ('Intangibility', False),\n",
       " ('Enhanced Sight', False),\n",
       " ('Molecular Manipulation', False),\n",
       " ('Heat Generation', False),\n",
       " ('Adaptation', False),\n",
       " ('Gliding', False),\n",
       " ('Power Suit', False),\n",
       " ('Mind Blast', False),\n",
       " ('Probability Manipulation', False),\n",
       " ('Gravity Control', False),\n",
       " ('Regeneration', False),\n",
       " ('Light Control', False),\n",
       " ('Echolocation', False),\n",
       " ('Levitation', False),\n",
       " ('Toxin and Disease Control', False),\n",
       " ('Banish', False),\n",
       " ('Energy Manipulation', False),\n",
       " ('Heat Resistance', False),\n",
       " ('Natural Weapons', False),\n",
       " ('Time Travel', False),\n",
       " ('Enhanced Smell', False),\n",
       " ('Illusions', False),\n",
       " ('Thirstokinesis', False),\n",
       " ('Hair Manipulation', False),\n",
       " ('Illumination', False),\n",
       " ('Omnipotent', False),\n",
       " ('Cloaking', False),\n",
       " ('Changing Armor', False),\n",
       " ('Power Cosmic', False),\n",
       " ('Biokinesis', False),\n",
       " ('Water Control', False),\n",
       " ('Radiation Immunity', False),\n",
       " ('Vision - Telescopic', False),\n",
       " ('Toxin and Disease Resistance', False),\n",
       " ('Spatial Awareness', False),\n",
       " ('Energy Resistance', False),\n",
       " ('Telepathy Resistance', False),\n",
       " ('Molecular Combustion', False),\n",
       " ('Omnilingualism', False),\n",
       " ('Portal Creation', False),\n",
       " ('Magnetism', False),\n",
       " ('Mind Control Resistance', False),\n",
       " ('Plant Control', False),\n",
       " ('Sonar', False),\n",
       " ('Sonic Scream', False),\n",
       " ('Time Manipulation', False),\n",
       " ('Enhanced Touch', False),\n",
       " ('Magic Resistance', False),\n",
       " ('Invisibility', False),\n",
       " ('Sub-Mariner', False),\n",
       " ('Radiation Absorption', False),\n",
       " ('Intuitive aptitude', False),\n",
       " ('Vision - Microscopic', False),\n",
       " ('Melting', False),\n",
       " ('Wind Control', False),\n",
       " ('Super Breath', False),\n",
       " ('Wallcrawling', False),\n",
       " ('Vision - Night', False),\n",
       " ('Vision - Infrared', False),\n",
       " ('Grim Reaping', False),\n",
       " ('Matter Absorption', False),\n",
       " ('The Force', False),\n",
       " ('Resurrection', False),\n",
       " ('Terrakinesis', False),\n",
       " ('Vision - Heat', False),\n",
       " ('Vitakinesis', False),\n",
       " ('Radar Sense', False),\n",
       " ('Qwardian Power Ring', False),\n",
       " ('Weather Control', False),\n",
       " ('Vision - X-Ray', False),\n",
       " ('Vision - Thermal', False),\n",
       " ('Web Creation', False),\n",
       " ('Reality Warping', False),\n",
       " ('Odin Force', False),\n",
       " ('Symbiote Costume', False),\n",
       " ('Speed Force', False),\n",
       " ('Phoenix Force', False),\n",
       " ('Molecular Dissipation', False),\n",
       " ('Vision - Cryo', False),\n",
       " ('Omnipresent', False),\n",
       " ('Omniscient', False)]"
      ]
     },
     "execution_count": 5,
     "metadata": {},
     "output_type": "execute_result"
    }
   ],
   "source": [
    "[(col, powers[col].is_unique) for col in powers]"
   ]
  },
  {
   "cell_type": "code",
   "execution_count": 6,
   "metadata": {},
   "outputs": [
    {
     "data": {
      "text/plain": [
       "{'accelerated_healing': 'Accelerated Healing',\n",
       " 'adaptation': 'Adaptation',\n",
       " 'agility': 'Agility',\n",
       " 'animal_attributes': 'Animal Attributes',\n",
       " 'animal_control': 'Animal Control',\n",
       " 'animal_oriented_powers': 'Animal Oriented Powers',\n",
       " 'animation': 'Animation',\n",
       " 'anti-gravity': 'Anti-Gravity',\n",
       " 'astral_projection': 'Astral Projection',\n",
       " 'astral_travel': 'Astral Travel',\n",
       " 'audio_control': 'Audio Control',\n",
       " 'banish': 'Banish',\n",
       " 'biokinesis': 'Biokinesis',\n",
       " 'camouflage': 'Camouflage',\n",
       " 'changing_armor': 'Changing Armor',\n",
       " 'clairvoyance': 'Clairvoyance',\n",
       " 'cloaking': 'Cloaking',\n",
       " 'cold_resistance': 'Cold Resistance',\n",
       " 'cryokinesis': 'Cryokinesis',\n",
       " 'danger_sense': 'Danger Sense',\n",
       " 'darkforce_manipulation': 'Darkforce Manipulation',\n",
       " 'death_touch': 'Death Touch',\n",
       " 'density_control': 'Density Control',\n",
       " 'dexterity': 'Dexterity',\n",
       " 'dimensional_awareness': 'Dimensional Awareness',\n",
       " 'dimensional_travel': 'Dimensional Travel',\n",
       " 'duplication': 'Duplication',\n",
       " 'durability': 'Durability',\n",
       " 'echolocation': 'Echolocation',\n",
       " 'elasticity': 'Elasticity',\n",
       " 'electrical_transport': 'Electrical Transport',\n",
       " 'electrokinesis': 'Electrokinesis',\n",
       " 'element_control': 'Element Control',\n",
       " 'elemental_transmogrification': 'Elemental Transmogrification',\n",
       " 'empathy': 'Empathy',\n",
       " 'energy_absorption': 'Energy Absorption',\n",
       " 'energy_armor': 'Energy Armor',\n",
       " 'energy_beams': 'Energy Beams',\n",
       " 'energy_blasts': 'Energy Blasts',\n",
       " 'energy_constructs': 'Energy Constructs',\n",
       " 'energy_manipulation': 'Energy Manipulation',\n",
       " 'energy_resistance': 'Energy Resistance',\n",
       " 'enhanced_hearing': 'Enhanced Hearing',\n",
       " 'enhanced_memory': 'Enhanced Memory',\n",
       " 'enhanced_senses': 'Enhanced Senses',\n",
       " 'enhanced_sight': 'Enhanced Sight',\n",
       " 'enhanced_smell': 'Enhanced Smell',\n",
       " 'enhanced_touch': 'Enhanced Touch',\n",
       " 'fire_control': 'Fire Control',\n",
       " 'fire_resistance': 'Fire Resistance',\n",
       " 'flight': 'Flight',\n",
       " 'force_fields': 'Force Fields',\n",
       " 'gliding': 'Gliding',\n",
       " 'gravity_control': 'Gravity Control',\n",
       " 'grim_reaping': 'Grim Reaping',\n",
       " 'hair_manipulation': 'Hair Manipulation',\n",
       " 'heat_generation': 'Heat Generation',\n",
       " 'heat_resistance': 'Heat Resistance',\n",
       " 'hero_names': 'hero_names',\n",
       " 'hyperkinesis': 'Hyperkinesis',\n",
       " 'hypnokinesis': 'Hypnokinesis',\n",
       " 'illumination': 'Illumination',\n",
       " 'illusions': 'Illusions',\n",
       " 'immortality': 'Immortality',\n",
       " 'insanity': 'Insanity',\n",
       " 'intangibility': 'Intangibility',\n",
       " 'intelligence': 'Intelligence',\n",
       " 'intuitive_aptitude': 'Intuitive aptitude',\n",
       " 'invisibility': 'Invisibility',\n",
       " 'invulnerability': 'Invulnerability',\n",
       " 'jump': 'Jump',\n",
       " 'lantern_power_ring': 'Lantern Power Ring',\n",
       " 'levitation': 'Levitation',\n",
       " 'light_control': 'Light Control',\n",
       " 'longevity': 'Longevity',\n",
       " 'magic': 'Magic',\n",
       " 'magic_resistance': 'Magic Resistance',\n",
       " 'magnetism': 'Magnetism',\n",
       " 'marksmanship': 'Marksmanship',\n",
       " 'matter_absorption': 'Matter Absorption',\n",
       " 'melting': 'Melting',\n",
       " 'mind_blast': 'Mind Blast',\n",
       " 'mind_control': 'Mind Control',\n",
       " 'mind_control_resistance': 'Mind Control Resistance',\n",
       " 'molecular_combustion': 'Molecular Combustion',\n",
       " 'molecular_dissipation': 'Molecular Dissipation',\n",
       " 'molecular_manipulation': 'Molecular Manipulation',\n",
       " 'natural_armor': 'Natural Armor',\n",
       " 'natural_weapons': 'Natural Weapons',\n",
       " 'nova_force': 'Nova Force',\n",
       " 'odin_force': 'Odin Force',\n",
       " 'omnilingualism': 'Omnilingualism',\n",
       " 'omnipotent': 'Omnipotent',\n",
       " 'omnipresent': 'Omnipresent',\n",
       " 'omniscient': 'Omniscient',\n",
       " 'omnitrix': 'Omnitrix',\n",
       " 'peak_human_condition': 'Peak Human Condition',\n",
       " 'phasing': 'Phasing',\n",
       " 'phoenix_force': 'Phoenix Force',\n",
       " 'photographic_reflexes': 'Photographic Reflexes',\n",
       " 'plant_control': 'Plant Control',\n",
       " 'portal_creation': 'Portal Creation',\n",
       " 'possession': 'Possession',\n",
       " 'power_absorption': 'Power Absorption',\n",
       " 'power_augmentation': 'Power Augmentation',\n",
       " 'power_cosmic': 'Power Cosmic',\n",
       " 'power_nullifier': 'Power Nullifier',\n",
       " 'power_sense': 'Power Sense',\n",
       " 'power_suit': 'Power Suit',\n",
       " 'precognition': 'Precognition',\n",
       " 'probability_manipulation': 'Probability Manipulation',\n",
       " 'projection': 'Projection',\n",
       " 'psionic_powers': 'Psionic Powers',\n",
       " 'qwardian_power_ring': 'Qwardian Power Ring',\n",
       " 'radar_sense': 'Radar Sense',\n",
       " 'radiation_absorption': 'Radiation Absorption',\n",
       " 'radiation_control': 'Radiation Control',\n",
       " 'radiation_immunity': 'Radiation Immunity',\n",
       " 'reality_warping': 'Reality Warping',\n",
       " 'reflexes': 'Reflexes',\n",
       " 'regeneration': 'Regeneration',\n",
       " 'resurrection': 'Resurrection',\n",
       " 'seismic_power': 'Seismic Power',\n",
       " 'self-sustenance': 'Self-Sustenance',\n",
       " 'shapeshifting': 'Shapeshifting',\n",
       " 'size_changing': 'Size Changing',\n",
       " 'sonar': 'Sonar',\n",
       " 'sonic_scream': 'Sonic Scream',\n",
       " 'spatial_awareness': 'Spatial Awareness',\n",
       " 'speed_force': 'Speed Force',\n",
       " 'stamina': 'Stamina',\n",
       " 'stealth': 'Stealth',\n",
       " 'sub-mariner': 'Sub-Mariner',\n",
       " 'substance_secretion': 'Substance Secretion',\n",
       " 'summoning': 'Summoning',\n",
       " 'super_breath': 'Super Breath',\n",
       " 'super_speed': 'Super Speed',\n",
       " 'super_strength': 'Super Strength',\n",
       " 'symbiote_costume': 'Symbiote Costume',\n",
       " 'technopath/cyberpath': 'Technopath/Cyberpath',\n",
       " 'telekinesis': 'Telekinesis',\n",
       " 'telepathy': 'Telepathy',\n",
       " 'telepathy_resistance': 'Telepathy Resistance',\n",
       " 'teleportation': 'Teleportation',\n",
       " 'terrakinesis': 'Terrakinesis',\n",
       " 'the_force': 'The Force',\n",
       " 'thirstokinesis': 'Thirstokinesis',\n",
       " 'time_manipulation': 'Time Manipulation',\n",
       " 'time_travel': 'Time Travel',\n",
       " 'toxin_and_disease_control': 'Toxin and Disease Control',\n",
       " 'toxin_and_disease_resistance': 'Toxin and Disease Resistance',\n",
       " 'underwater_breathing': 'Underwater breathing',\n",
       " 'vision_-_cryo': 'Vision - Cryo',\n",
       " 'vision_-_heat': 'Vision - Heat',\n",
       " 'vision_-_infrared': 'Vision - Infrared',\n",
       " 'vision_-_microscopic': 'Vision - Microscopic',\n",
       " 'vision_-_night': 'Vision - Night',\n",
       " 'vision_-_telescopic': 'Vision - Telescopic',\n",
       " 'vision_-_thermal': 'Vision - Thermal',\n",
       " 'vision_-_x-ray': 'Vision - X-Ray',\n",
       " 'vitakinesis': 'Vitakinesis',\n",
       " 'wallcrawling': 'Wallcrawling',\n",
       " 'water_control': 'Water Control',\n",
       " 'weapon-based_powers': 'Weapon-based Powers',\n",
       " 'weapons_master': 'Weapons Master',\n",
       " 'weather_control': 'Weather Control',\n",
       " 'web_creation': 'Web Creation',\n",
       " 'wind_control': 'Wind Control'}"
      ]
     },
     "execution_count": 6,
     "metadata": {},
     "output_type": "execute_result"
    }
   ],
   "source": [
    "from dfply import *\n",
    "clean_names = lambda name: name.strip().lower().replace(' ', '_')\n",
    "new_names = {clean_names(old_name):old_name for old_name in powers.columns}\n",
    "new_names"
   ]
  },
  {
   "cell_type": "code",
   "execution_count": 7,
   "metadata": {},
   "outputs": [
    {
     "data": {
      "text/plain": [
       "Index(['hero_names', 'agility', 'accelerated_healing', 'lantern_power_ring',\n",
       "       'dimensional_awareness', 'cold_resistance', 'durability', 'stealth',\n",
       "       'energy_absorption', 'flight',\n",
       "       ...\n",
       "       'web_creation', 'reality_warping', 'odin_force', 'symbiote_costume',\n",
       "       'speed_force', 'phoenix_force', 'molecular_dissipation',\n",
       "       'vision_-_cryo', 'omnipresent', 'omniscient'],\n",
       "      dtype='object', length=168)"
      ]
     },
     "execution_count": 7,
     "metadata": {},
     "output_type": "execute_result"
    }
   ],
   "source": [
    "from dfply import rename\n",
    "powers_renamed = (powers >>\n",
    "              rename(**new_names))\n",
    "powers_renamed.columns"
   ]
  },
  {
   "cell_type": "code",
   "execution_count": 8,
   "metadata": {},
   "outputs": [
    {
     "name": "stdout",
     "output_type": "stream",
     "text": [
      "<class 'pandas.core.frame.DataFrame'>\n",
      "RangeIndex: 667 entries, 0 to 666\n",
      "Columns: 168 entries, hero_names to omniscient\n",
      "dtypes: bool(167), object(1)\n",
      "memory usage: 114.1+ KB\n"
     ]
    }
   ],
   "source": [
    "powers_renamed.info()"
   ]
  },
  {
   "cell_type": "code",
   "execution_count": 9,
   "metadata": {},
   "outputs": [
    {
     "data": {
      "text/plain": [
       "hero_names               object\n",
       "agility                    bool\n",
       "accelerated_healing        bool\n",
       "lantern_power_ring         bool\n",
       "dimensional_awareness      bool\n",
       "cold_resistance            bool\n",
       "durability                 bool\n",
       "stealth                    bool\n",
       "energy_absorption          bool\n",
       "flight                     bool\n",
       "danger_sense               bool\n",
       "underwater_breathing       bool\n",
       "marksmanship               bool\n",
       "weapons_master             bool\n",
       "power_augmentation         bool\n",
       "animal_attributes          bool\n",
       "longevity                  bool\n",
       "intelligence               bool\n",
       "super_strength             bool\n",
       "cryokinesis                bool\n",
       "telepathy                  bool\n",
       "energy_armor               bool\n",
       "energy_blasts              bool\n",
       "duplication                bool\n",
       "size_changing              bool\n",
       "density_control            bool\n",
       "stamina                    bool\n",
       "astral_travel              bool\n",
       "audio_control              bool\n",
       "dexterity                  bool\n",
       "                          ...  \n",
       "intuitive_aptitude         bool\n",
       "vision_-_microscopic       bool\n",
       "melting                    bool\n",
       "wind_control               bool\n",
       "super_breath               bool\n",
       "wallcrawling               bool\n",
       "vision_-_night             bool\n",
       "vision_-_infrared          bool\n",
       "grim_reaping               bool\n",
       "matter_absorption          bool\n",
       "the_force                  bool\n",
       "resurrection               bool\n",
       "terrakinesis               bool\n",
       "vision_-_heat              bool\n",
       "vitakinesis                bool\n",
       "radar_sense                bool\n",
       "qwardian_power_ring        bool\n",
       "weather_control            bool\n",
       "vision_-_x-ray             bool\n",
       "vision_-_thermal           bool\n",
       "web_creation               bool\n",
       "reality_warping            bool\n",
       "odin_force                 bool\n",
       "symbiote_costume           bool\n",
       "speed_force                bool\n",
       "phoenix_force              bool\n",
       "molecular_dissipation      bool\n",
       "vision_-_cryo              bool\n",
       "omnipresent                bool\n",
       "omniscient                 bool\n",
       "Length: 168, dtype: object"
      ]
     },
     "execution_count": 9,
     "metadata": {},
     "output_type": "execute_result"
    }
   ],
   "source": [
    "powers_renamed.dtypes"
   ]
  },
  {
   "cell_type": "code",
   "execution_count": 10,
   "metadata": {},
   "outputs": [
    {
     "data": {
      "text/html": [
       "<div>\n",
       "<style>\n",
       "    .dataframe thead tr:only-child th {\n",
       "        text-align: right;\n",
       "    }\n",
       "\n",
       "    .dataframe thead th {\n",
       "        text-align: left;\n",
       "    }\n",
       "\n",
       "    .dataframe tbody tr th {\n",
       "        vertical-align: top;\n",
       "    }\n",
       "</style>\n",
       "<table border=\"1\" class=\"dataframe\">\n",
       "  <thead>\n",
       "    <tr style=\"text-align: right;\">\n",
       "      <th></th>\n",
       "      <th>hero_names</th>\n",
       "      <th>agility</th>\n",
       "      <th>accelerated_healing</th>\n",
       "      <th>lantern_power_ring</th>\n",
       "      <th>dimensional_awareness</th>\n",
       "      <th>cold_resistance</th>\n",
       "      <th>durability</th>\n",
       "      <th>stealth</th>\n",
       "      <th>energy_absorption</th>\n",
       "      <th>flight</th>\n",
       "      <th>...</th>\n",
       "      <th>web_creation</th>\n",
       "      <th>reality_warping</th>\n",
       "      <th>odin_force</th>\n",
       "      <th>symbiote_costume</th>\n",
       "      <th>speed_force</th>\n",
       "      <th>phoenix_force</th>\n",
       "      <th>molecular_dissipation</th>\n",
       "      <th>vision_-_cryo</th>\n",
       "      <th>omnipresent</th>\n",
       "      <th>omniscient</th>\n",
       "    </tr>\n",
       "  </thead>\n",
       "  <tbody>\n",
       "    <tr>\n",
       "      <th>0</th>\n",
       "      <td>3-D Man</td>\n",
       "      <td>True</td>\n",
       "      <td>False</td>\n",
       "      <td>False</td>\n",
       "      <td>False</td>\n",
       "      <td>False</td>\n",
       "      <td>False</td>\n",
       "      <td>False</td>\n",
       "      <td>False</td>\n",
       "      <td>False</td>\n",
       "      <td>...</td>\n",
       "      <td>False</td>\n",
       "      <td>False</td>\n",
       "      <td>False</td>\n",
       "      <td>False</td>\n",
       "      <td>False</td>\n",
       "      <td>False</td>\n",
       "      <td>False</td>\n",
       "      <td>False</td>\n",
       "      <td>False</td>\n",
       "      <td>False</td>\n",
       "    </tr>\n",
       "    <tr>\n",
       "      <th>1</th>\n",
       "      <td>A-Bomb</td>\n",
       "      <td>False</td>\n",
       "      <td>True</td>\n",
       "      <td>False</td>\n",
       "      <td>False</td>\n",
       "      <td>False</td>\n",
       "      <td>True</td>\n",
       "      <td>False</td>\n",
       "      <td>False</td>\n",
       "      <td>False</td>\n",
       "      <td>...</td>\n",
       "      <td>False</td>\n",
       "      <td>False</td>\n",
       "      <td>False</td>\n",
       "      <td>False</td>\n",
       "      <td>False</td>\n",
       "      <td>False</td>\n",
       "      <td>False</td>\n",
       "      <td>False</td>\n",
       "      <td>False</td>\n",
       "      <td>False</td>\n",
       "    </tr>\n",
       "    <tr>\n",
       "      <th>2</th>\n",
       "      <td>Abe Sapien</td>\n",
       "      <td>True</td>\n",
       "      <td>True</td>\n",
       "      <td>False</td>\n",
       "      <td>False</td>\n",
       "      <td>True</td>\n",
       "      <td>True</td>\n",
       "      <td>False</td>\n",
       "      <td>False</td>\n",
       "      <td>False</td>\n",
       "      <td>...</td>\n",
       "      <td>False</td>\n",
       "      <td>False</td>\n",
       "      <td>False</td>\n",
       "      <td>False</td>\n",
       "      <td>False</td>\n",
       "      <td>False</td>\n",
       "      <td>False</td>\n",
       "      <td>False</td>\n",
       "      <td>False</td>\n",
       "      <td>False</td>\n",
       "    </tr>\n",
       "    <tr>\n",
       "      <th>3</th>\n",
       "      <td>Abin Sur</td>\n",
       "      <td>False</td>\n",
       "      <td>False</td>\n",
       "      <td>True</td>\n",
       "      <td>False</td>\n",
       "      <td>False</td>\n",
       "      <td>False</td>\n",
       "      <td>False</td>\n",
       "      <td>False</td>\n",
       "      <td>False</td>\n",
       "      <td>...</td>\n",
       "      <td>False</td>\n",
       "      <td>False</td>\n",
       "      <td>False</td>\n",
       "      <td>False</td>\n",
       "      <td>False</td>\n",
       "      <td>False</td>\n",
       "      <td>False</td>\n",
       "      <td>False</td>\n",
       "      <td>False</td>\n",
       "      <td>False</td>\n",
       "    </tr>\n",
       "    <tr>\n",
       "      <th>4</th>\n",
       "      <td>Abomination</td>\n",
       "      <td>False</td>\n",
       "      <td>True</td>\n",
       "      <td>False</td>\n",
       "      <td>False</td>\n",
       "      <td>False</td>\n",
       "      <td>False</td>\n",
       "      <td>False</td>\n",
       "      <td>False</td>\n",
       "      <td>False</td>\n",
       "      <td>...</td>\n",
       "      <td>False</td>\n",
       "      <td>False</td>\n",
       "      <td>False</td>\n",
       "      <td>False</td>\n",
       "      <td>False</td>\n",
       "      <td>False</td>\n",
       "      <td>False</td>\n",
       "      <td>False</td>\n",
       "      <td>False</td>\n",
       "      <td>False</td>\n",
       "    </tr>\n",
       "  </tbody>\n",
       "</table>\n",
       "<p>5 rows × 168 columns</p>\n",
       "</div>"
      ],
      "text/plain": [
       "    hero_names  agility  accelerated_healing  lantern_power_ring  \\\n",
       "0      3-D Man     True                False               False   \n",
       "1       A-Bomb    False                 True               False   \n",
       "2   Abe Sapien     True                 True               False   \n",
       "3     Abin Sur    False                False                True   \n",
       "4  Abomination    False                 True               False   \n",
       "\n",
       "   dimensional_awareness  cold_resistance  durability  stealth  \\\n",
       "0                  False            False       False    False   \n",
       "1                  False            False        True    False   \n",
       "2                  False             True        True    False   \n",
       "3                  False            False       False    False   \n",
       "4                  False            False       False    False   \n",
       "\n",
       "   energy_absorption  flight     ...      web_creation  reality_warping  \\\n",
       "0              False   False     ...             False            False   \n",
       "1              False   False     ...             False            False   \n",
       "2              False   False     ...             False            False   \n",
       "3              False   False     ...             False            False   \n",
       "4              False   False     ...             False            False   \n",
       "\n",
       "   odin_force  symbiote_costume  speed_force  phoenix_force  \\\n",
       "0       False             False        False          False   \n",
       "1       False             False        False          False   \n",
       "2       False             False        False          False   \n",
       "3       False             False        False          False   \n",
       "4       False             False        False          False   \n",
       "\n",
       "   molecular_dissipation  vision_-_cryo  omnipresent  omniscient  \n",
       "0                  False          False        False       False  \n",
       "1                  False          False        False       False  \n",
       "2                  False          False        False       False  \n",
       "3                  False          False        False       False  \n",
       "4                  False          False        False       False  \n",
       "\n",
       "[5 rows x 168 columns]"
      ]
     },
     "execution_count": 10,
     "metadata": {},
     "output_type": "execute_result"
    }
   ],
   "source": [
    "powers_renamed.head()"
   ]
  },
  {
   "cell_type": "code",
   "execution_count": 23,
   "metadata": {
    "scrolled": true
   },
   "outputs": [],
   "source": [
    "from sqlalchemy import String, Boolean\n",
    "sql_types = {'hero_names': String,\n",
    "            'agility':Boolean,\n",
    "             'accelerated_healing':Boolean,\n",
    "             'lantern_power_ring':Boolean,\n",
    "             'dimensional_awareness':Boolean,\n",
    "             'cold_resistance':Boolean,\n",
    "             'durability':Boolean,\n",
    "             'stealth':Boolean,\n",
    "             'energy_absorption':Boolean,\n",
    "             'flight':Boolean,\n",
    "             'danger_sense':Boolean,\n",
    "             'underwater_breathing':Boolean,\n",
    "             'marksmanship':Boolean,\n",
    "             'weapons_master':Boolean,\n",
    "             'power_augmentation':Boolean,\n",
    "             'animal_attributes':Boolean,\n",
    "             'longevity':Boolean,\n",
    "             'intelligence':Boolean,\n",
    "             'super_strength':Boolean,\n",
    "             'cryokinesis':Boolean,\n",
    "             'telepathy':Boolean,\n",
    "             'energy_armor':Boolean,\n",
    "             'energy_blasts':Boolean,\n",
    "             'duplication':Boolean,\n",
    "             'size_changing':Boolean,\n",
    "             'density_control':Boolean,\n",
    "             'stamina':Boolean,\n",
    "             'astral_travel':Boolean,\n",
    "             'audio_control':Boolean,\n",
    "             'dexterity':Boolean,\n",
    "             'omnitrix':Boolean,\n",
    "             'super_speed':Boolean,\n",
    "             'possession':Boolean,\n",
    "             'animal_oriented_powers':Boolean,\n",
    "             'weapon-based_powers':Boolean,\n",
    "             'electrokinesis':Boolean,\n",
    "             'darkforce_manipulation':Boolean,\n",
    "             'death_touch':Boolean,\n",
    "             'teleportation':Boolean,\n",
    "             'enhanced_senses':Boolean,\n",
    "             'telekinesis':Boolean,\n",
    "             'energy_beams':Boolean,\n",
    "             'magic':Boolean,\n",
    "             'hyperkinesis':Boolean,\n",
    "             'jump':Boolean,\n",
    "             'clairvoyance':Boolean,\n",
    "             'dimensional_travel':Boolean,\n",
    "             'power_sense':Boolean,\n",
    "             'shapeshifting':Boolean,\n",
    "             'peak_human_condition':Boolean,\n",
    "             'immortality':Boolean,\n",
    "             'camouflage':Boolean,\n",
    "             'element_control':Boolean,\n",
    "             'phasing':Boolean,\n",
    "             'astral_projection':Boolean,\n",
    "             'electrical_transport':Boolean,\n",
    "             'fire_control':Boolean,\n",
    "             'projection':Boolean,\n",
    "             'summoning':Boolean,\n",
    "             'enhanced_memory':Boolean,\n",
    "             'reflexes':Boolean,\n",
    "             'invulnerability':Boolean,\n",
    "             'energy_constructs':Boolean,\n",
    "             'force_fields':Boolean,\n",
    "             'self-sustenance':Boolean,\n",
    "             'anti-gravity':Boolean,\n",
    "             'empathy':Boolean,\n",
    "             'power_nullifier':Boolean,\n",
    "             'radiation_control':Boolean,\n",
    "             'psionic_powers':Boolean,\n",
    "             'elasticity':Boolean,\n",
    "             'substance_secretion':Boolean,\n",
    "             'elemental_transmogrification':Boolean,\n",
    "             'technopath/cyberpath':Boolean,\n",
    "             'photographic_reflexes':Boolean,\n",
    "             'seismic_power':Boolean,\n",
    "             'animation':Boolean,\n",
    "             'precognition':Boolean,\n",
    "             'mind_control':Boolean,\n",
    "             'fire_resistance':Boolean,\n",
    "             'power_absorption':Boolean,\n",
    "             'enhanced_hearing':Boolean,\n",
    "             'nova_force':Boolean,\n",
    "             'insanity':Boolean,\n",
    "             'hypnokinesis':Boolean,\n",
    "             'animal_control':Boolean,\n",
    "             'natural_armor':Boolean,\n",
    "             'intangibility':Boolean,\n",
    "             'enhanced_sight':Boolean,\n",
    "             'molecular_manipulation':Boolean,\n",
    "             'heat_generation':Boolean,\n",
    "             'adaptation':Boolean,\n",
    "             'gliding':Boolean,\n",
    "             'power_suit':Boolean,\n",
    "             'mind_blast':Boolean,\n",
    "             'probability_manipulation':Boolean,\n",
    "             'gravity_control':Boolean,\n",
    "             'regeneration':Boolean,\n",
    "             'light_control':Boolean,\n",
    "             'echolocation':Boolean,\n",
    "             'levitation':Boolean,\n",
    "             'toxin_and_disease_control':Boolean,\n",
    "             'banish':Boolean,\n",
    "             'energy_manipulation':Boolean,\n",
    "             'heat_resistance':Boolean,\n",
    "             'natural_weapons':Boolean,\n",
    "             'time_travel':Boolean,\n",
    "             'enhanced_smell':Boolean,\n",
    "             'illusions':Boolean,\n",
    "             'thirstokinesis':Boolean,\n",
    "             'hair_manipulation':Boolean,\n",
    "             'illumination':Boolean,\n",
    "             'omnipotent':Boolean,\n",
    "             'cloaking':Boolean,\n",
    "             'changing_armor':Boolean,\n",
    "             'power_cosmic':Boolean,\n",
    "             'biokinesis':Boolean,\n",
    "             'water_control':Boolean,\n",
    "             'radiation_immunity':Boolean,\n",
    "             'vision_-_telescopic':Boolean,\n",
    "             'toxin_and_disease_resistance':Boolean,\n",
    "             'spatial_awareness':Boolean,\n",
    "             'energy_resistance':Boolean,\n",
    "             'telepathy_resistance':Boolean,\n",
    "             'molecular_combustion':Boolean,\n",
    "             'omnilingualism':Boolean,\n",
    "             'portal_creation':Boolean,\n",
    "             'magnetism':Boolean,\n",
    "             'mind_control_resistance':Boolean,\n",
    "             'plant_control':Boolean,\n",
    "             'sonar':Boolean,\n",
    "             'sonic_scream':Boolean,\n",
    "             'time_manipulation':Boolean,\n",
    "             'enhanced_touch':Boolean,\n",
    "             'magic_resistance':Boolean,\n",
    "             'invisibility':Boolean,\n",
    "             'sub-mariner':Boolean,\n",
    "             'radiation_absorption':Boolean,\n",
    "             'intuitive_aptitude':Boolean,\n",
    "             'vision_-_microscopic':Boolean,\n",
    "             'melting':Boolean,\n",
    "             'wind_control':Boolean,\n",
    "             'super_breath':Boolean,\n",
    "             'wallcrawling':Boolean,\n",
    "             'vision_-_night':Boolean,\n",
    "             'vision_-_infrared':Boolean,\n",
    "             'grim_reaping':Boolean,\n",
    "             'matter_absorption':Boolean,\n",
    "             'the_force':Boolean,\n",
    "             'resurrection':Boolean,\n",
    "             'terrakinesis':Boolean,\n",
    "             'vision_-_heat':Boolean,\n",
    "             'vitakinesis':Boolean,\n",
    "             'radar_sense':Boolean,\n",
    "             'qwardian_power_ring':Boolean,\n",
    "             'weather_control':Boolean,\n",
    "             'vision_-_x-ray':Boolean,\n",
    "             'vision_-_thermal':Boolean,\n",
    "             'web_creation':Boolean,\n",
    "             'reality_warping':Boolean,\n",
    "             'odin_force':Boolean,\n",
    "             'symbiote_costume':Boolean,\n",
    "             'speed_force':Boolean,\n",
    "             'phoenix_force':Boolean,\n",
    "             'molecular_dissipation':Boolean,\n",
    "             'vision_-_cryo':Boolean,\n",
    "             'omnipresent':Boolean,\n",
    "             'omniscient':Boolean\n",
    "              }"
   ]
  },
  {
   "cell_type": "code",
   "execution_count": null,
   "metadata": {},
   "outputs": [],
   "source": [
    "     "
   ]
  },
  {
   "cell_type": "markdown",
   "metadata": {},
   "source": [
    "## Problem 2\n",
    "    \n",
    "Now define an `sqlalchemy` table for these data using `pandas` `to_sql` dataframe method.  You can use the `sqlalchemy.String` and `sqlalchemy.Boolean` columns type, which are [documented here](https://docs.sqlalchemy.org/en/latest/core/type_basics.html)"
   ]
  },
  {
   "cell_type": "code",
   "execution_count": null,
   "metadata": {
    "collapsed": true
   },
   "outputs": [],
   "source": []
  },
  {
   "cell_type": "markdown",
   "metadata": {},
   "source": [
    "## Problem 3\n",
    "    \n",
    "Now you need to make a new `engine`, `inspect` your database, and make a `session` to query the database."
   ]
  },
  {
   "cell_type": "code",
   "execution_count": null,
   "metadata": {
    "collapsed": true
   },
   "outputs": [],
   "source": [
    "from sqlalchemy import create_engine\n",
    "power_eng = create_engine(\"sqlite:///databases/powers.db\")\n",
    "power_eng.echo = True\n",
    "schema = pd.io.sql.get_schema(managers, 'manager', keys='id', con=mang_eng, dtype=sql_types)\n",
    "print(schema)"
   ]
  },
  {
   "cell_type": "markdown",
   "metadata": {},
   "source": [
    "## Problem 4\n",
    "    \n",
    "Perform `sqlalchemy` queries to answer each of the following questions.\n",
    "\n",
    "1. How many heroes have both Super Strength and Super Speed?\n",
    "2. How many heroes have names that start with the word *Black*\n",
    "3. Are heroes with Agility more likely to have Stealth?\n",
    "4. What fraction of all heroes that can fly also have Super Strength?\n",
    "5. Consider heroes that have names that contain `\"girl\"`, `\"boy\"`, `\"woman\"`, or `\"man\"`.  Compute the following ratio\n",
    "\n",
    "$$\\frac{N(\\text{boy or man})}{N(\\text{girl or woman}}$$\n",
    "\n",
    "**Hint:** You will need to use some combination of `where`, `group_by`, and `count` for each part."
   ]
  },
  {
   "cell_type": "markdown",
   "metadata": {},
   "source": [
    "## Problem 5\n",
    "\n",
    "Tell me another cool fact about the super powers."
   ]
  },
  {
   "cell_type": "code",
   "execution_count": null,
   "metadata": {
    "collapsed": true
   },
   "outputs": [],
   "source": []
  }
 ],
 "metadata": {
  "kernelspec": {
   "display_name": "Python 3",
   "language": "python",
   "name": "python3"
  },
  "language_info": {
   "codemirror_mode": {
    "name": "ipython",
    "version": 3
   },
   "file_extension": ".py",
   "mimetype": "text/x-python",
   "name": "python",
   "nbconvert_exporter": "python",
   "pygments_lexer": "ipython3",
   "version": "3.6.2"
  },
  "varInspector": {
   "cols": {
    "lenName": 16,
    "lenType": 16,
    "lenVar": 40
   },
   "kernels_config": {
    "python": {
     "delete_cmd_postfix": "",
     "delete_cmd_prefix": "del ",
     "library": "var_list.py",
     "varRefreshCmd": "print(var_dic_list())"
    },
    "r": {
     "delete_cmd_postfix": ") ",
     "delete_cmd_prefix": "rm(",
     "library": "var_list.r",
     "varRefreshCmd": "cat(var_dic_list()) "
    }
   },
   "types_to_exclude": [
    "module",
    "function",
    "builtin_function_or_method",
    "instance",
    "_Feature"
   ],
   "window_display": false
  }
 },
 "nbformat": 4,
 "nbformat_minor": 2
}
