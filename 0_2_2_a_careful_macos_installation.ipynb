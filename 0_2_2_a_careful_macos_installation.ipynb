{
 "cells": [
  {
   "cell_type": "markdown",
   "metadata": {},
   "source": [
    "# A Careful MacOS Installation\n",
    "\n",
    "1. Install `brew`\n",
    "2. Install `pyenv`\n",
    "3. Use `pyenv` to install anaconda\n",
    "4. Install java and DSCI 430 specfic modules"
   ]
  },
  {
   "cell_type": "markdown",
   "metadata": {},
   "source": [
    "## Step 1 - Install `brew` and `brew cask`"
   ]
  },
  {
   "cell_type": "markdown",
   "metadata": {},
   "source": [
    "Run the following in the terminal to install `brew` and `brew cask`\n",
    "\n",
    "```bash\n",
    "/usr/bin/ruby -e \"$(curl -fsSL https://raw.githubusercontent.com/Homebrew/install/master/install)\"\n",
    "```"
   ]
  },
  {
   "cell_type": "markdown",
   "metadata": {},
   "source": [
    "## Step 2 - Install and update `pyenv`\n",
    "\n",
    "1. Run the following code to install `pyenv`\n",
    "\n",
    "```bash\n",
    "brew update\n",
    "brew install pyenv\n",
    "brew install pyenv-virtualenv\n",
    "```\n",
    "\n",
    "2. Use Nano text editor to edit Bash profile \n",
    "\n",
    "```bash\n",
    "nano ~/.bash_profile \n",
    "```\n",
    "\n",
    "3. Paste into bash profile export\n",
    " \n",
    "**Note:** Change `your_linux_username` to the username you selected for Ubuntu\n",
    "\n",
    "```bash\n",
    "PATH=\"/Users/your_linux_username/.pyenv/bin:$PATH\" \n",
    "eval \"$(pyenv init -)\" \n",
    "eval \"$(pyenv virtualenv-init -)\" \n",
    "```\n",
    "\n",
    "If you don't want to use `nano`, you can use `echo` to redirect this to the file directly from the shell using.\n",
    "\n",
    "```bash\n",
    "echo 'PATH=\"/Users/your_linux_username/.pyenv/bin:$PATH\"' >> ~/.bash_profile\n",
    "echo 'eval \"$(pyenv init -)\"' >> ~/.bash_profile\n",
    "echo 'eval \"$(pyenv virtualenv-init -)\"' >> ~/.bash_profile\n",
    "```\n",
    "\n",
    "4. Source\n",
    "\n",
    "```bash\n",
    "source ~/.bash_profile\n",
    "```\n",
    "\n",
    "5. Update `pyenv`\n",
    "\n",
    "```bash\n",
    "brew upgrade pyenv \n",
    "```"
   ]
  },
  {
   "cell_type": "markdown",
   "metadata": {},
   "source": [
    "## Step 3 - Use pyenv to install anaconda\n",
    "\n",
    "* To see a list of all possible installations, run\n",
    "\n",
    "```bash\n",
    "pyenv install --list\n",
    "```\n",
    "\n",
    "* To narrow the list to just anaconda, use\n",
    "\n",
    "```bash\n",
    "pyenv install --list | grep anaconda\n",
    "```\n",
    "\n",
    "* To install a recent anaconda, use\n",
    "\n",
    "```bash\n",
    "# This will take a while\n",
    "pyenv install anaconda3-5.3.1\n",
    "```"
   ]
  },
  {
   "cell_type": "markdown",
   "metadata": {},
   "source": [
    "## Step 4 - Install `java`\n",
    "\n",
    "Install the open source version of Java 8\n",
    "\n",
    "1. Tap the cag\n",
    "\n",
    "```bash\n",
    "brew tap AdoptOpenJDK/openjdk\n",
    "```\n",
    "\n",
    "2. Search for possible java versions\n",
    "\n",
    "```bash\n",
    "brew search /adoptopenjdk/\n",
    "```\n",
    "\n",
    "3. Install the version of choice.\n",
    "\n",
    "```bash\n",
    "brew cask install adoptopenjdk8-jre\n",
    "```\n",
    "\n",
    "4. Verify the installation location.\n",
    "\n",
    "```bash\n",
    "ls /Library/Java/JavaVirtualMachines/adoptopenjdk-8.jre\n",
    "```"
   ]
  },
  {
   "cell_type": "markdown",
   "metadata": {},
   "source": [
    "## Step 5 - Install `jenv` to manage java installations\n",
    "\n",
    "The utility `jenv` allows you to control different Java installations in the same way that `pyenv` controls Python instances.\n",
    "\n",
    "1. Install `jenv`\n",
    "\n",
    "```bash\n",
    "brew install jenv\n",
    "echo 'export PATH=\"$HOME/.jenv/bin:$PATH\"' >> ~/.bash_profile\n",
    "echo 'eval \"$(jenv init -)\"' >> ~/.bash_profile\n",
    "source ~/.bash_profile\n",
    "```\n",
    "\n",
    "2. Set the `adoptopenjdk8-jre` as the global java\n",
    "\n",
    "```bash\n",
    "jenv add /Library/Java/JavaVirtualMachines/adoptopenjdk-8.jre/Contents/Home/\n",
    "```\n",
    "\n",
    "3. Verify that this is the current java version\n",
    "\n",
    "Note that \n",
    "```bash\n",
    "jenv versions\n",
    "```\n",
    "\n",
    "4. Make openjdk global\n",
    "\n",
    "```bash\n",
    "jenv global openjdk64-1.8.0.202\n",
    "```\n",
    "\n",
    "Now the following should return something like  \n",
    "\n",
    "```bash\n",
    "jenv versions\n",
    "```\n",
    "\n",
    "```bash\n",
    " system\n",
    "  1.8\n",
    "  1.8.0.202\n",
    "* openjdk64-1.8.0.202 (set by /Users/tiverson/.jenv/version)\n",
    "```\n",
    "\n",
    "and \n",
    "\n",
    "```bash\n",
    "java -version\n",
    "```\n",
    "\n",
    "should return \n",
    "\n",
    "```bash\n",
    "openjdk version \"1.8.0_202\"\n",
    "OpenJDK Runtime Environment (AdoptOpenJDK)(build 1.8.0_202-b08)\n",
    "OpenJDK 64-Bit Server VM (AdoptOpenJDK)(build 25.202-b08, mixed mode)\n",
    "```\n"
   ]
  },
  {
   "cell_type": "markdown",
   "metadata": {},
   "source": [
    "## Step 6 - Install other python packages\n",
    "\n",
    "```bash\n",
    "pip install toolz sqlparse altair dfply vega_datasets vega more-itertools pdvega pyrsistent pyspark\n",
    "```\n"
   ]
  },
  {
   "cell_type": "markdown",
   "metadata": {},
   "source": [
    "## Upgrade `pandas`\n",
    "\n",
    "```bash\n",
    "pip install --upgrade pandas\n",
    "```"
   ]
  },
  {
   "cell_type": "markdown",
   "metadata": {},
   "source": [
    "## Step 7 - Installing Docker \n",
    "\n",
    "[This article](https://nickjanetakis.com/blog/should-you-use-the-docker-toolbox-or-docker-for-mac-windows) goes into the details of various Docker solutions.  Take a look if you want more details, but let me summarize: The best MacOS option is [Docker for Mac](https://docs.docker.com/v17.09/docker-for-mac/install/)"
   ]
  },
  {
   "cell_type": "markdown",
   "metadata": {},
   "source": [
    "## Step 8 - Installing ITerm\n",
    "\n",
    "I would highly suggest installing `ITerm 2`, which is offers a better terminal experience than the system terminal.\n",
    "\n",
    "```bash\n",
    "brew cask install iterm2\n",
    "```"
   ]
  }
 ],
 "metadata": {
  "kernelspec": {
   "display_name": "Python 3",
   "language": "python",
   "name": "python3"
  },
  "language_info": {
   "codemirror_mode": {
    "name": "ipython",
    "version": 3
   },
   "file_extension": ".py",
   "mimetype": "text/x-python",
   "name": "python",
   "nbconvert_exporter": "python",
   "pygments_lexer": "ipython3",
   "version": "3.6.2"
  },
  "varInspector": {
   "cols": {
    "lenName": 16,
    "lenType": 16,
    "lenVar": 40
   },
   "kernels_config": {
    "python": {
     "delete_cmd_postfix": "",
     "delete_cmd_prefix": "del ",
     "library": "var_list.py",
     "varRefreshCmd": "print(var_dic_list())"
    },
    "r": {
     "delete_cmd_postfix": ") ",
     "delete_cmd_prefix": "rm(",
     "library": "var_list.r",
     "varRefreshCmd": "cat(var_dic_list()) "
    }
   },
   "types_to_exclude": [
    "module",
    "function",
    "builtin_function_or_method",
    "instance",
    "_Feature"
   ],
   "window_display": false
  }
 },
 "nbformat": 4,
 "nbformat_minor": 2
}
