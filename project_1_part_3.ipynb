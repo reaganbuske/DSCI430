{
 "cells": [
  {
   "cell_type": "markdown",
   "metadata": {},
   "source": [
    "# Project 1 Part 3 - Cleaning Up Our Mess\n",
    "\n",
    "So far, we have determined the common columns in the parcel data files (Part 1) and created translation dictionaries for binding important information about the closest late (lake code, name, and the parcel's distance to the lake) to a row in the parcel file.  What we *haven't* yet done is think carefully about how we will access this information later.\n",
    "\n",
    "In this part of the project, we will rectify this issue by \n",
    "\n",
    "a. Writing out important information to csv files.<br>\n",
    "b. Making a Python module that will translate the data in these files into the appropriate data structure.<br>"
   ]
  },
  {
   "cell_type": "markdown",
   "metadata": {},
   "source": [
    "## Packaging our previous work\n",
    "\n",
    "1. Open your solution to the first part of the project. If necessary, make changes to your code so that you have list of all of the common columns for the years 2004+. Write these columns into a csv file at the path `./data/parcel_common_columns_2004_2014.csv`.  Note that this is a 1-column table."
   ]
  },
  {
   "cell_type": "markdown",
   "metadata": {},
   "source": [
    "2. Create a python file at `./project_data_lastname.py`, where you replace `lastname` with your last name. (This name, while clunky, will help facilitate grading your project ... sorry!)   Place the code necessary to read in the data from the file in the past part and create a list of column names called `common_columns`.  Be sure to also include all necessary import statements.  Save this file and verify that you can import `common_columns` from this module using `from project_data_lastname import common_columns` in a Jupyter notebook (again replace `lastname` with your last name and make sure the notebook and the python file are both located in the course root directory)."
   ]
  },
  {
   "cell_type": "markdown",
   "metadata": {},
   "source": [
    "3. Open your solution to the second part of the project.  A primary outcome of this part of the project is code that translates the information in the XRef file into a number of translation dictionaries.  Transfer the relevant code to your `.py` file and then verify that you can import each translation dictionary into a Jupyter notebook.<br>"
   ]
  },
  {
   "cell_type": "markdown",
   "metadata": {},
   "source": [
    "4. To factilate the grading of this part of the project, I would like you to create/upload the four files described below. Submit each of these files to the D2L assignment folder.  <br>\n",
    "    a. Your `.py` file (which should include your last name).<br>\n",
    "    b. A notebook named `project_1_part_3_lastname.ipynb` that demonstrates importing data from your `.py` file.<br>\n",
    "    c. A Word document with screen shots of the code and output from your notebook.<br>\n",
    "    d. The `parcel_common_columns_2004_2014.csv` file created in part 1.<br>"
   ]
  },
  {
   "cell_type": "code",
   "execution_count": null,
   "metadata": {},
   "outputs": [],
   "source": []
  }
 ],
 "metadata": {
  "kernelspec": {
   "display_name": "Python 3",
   "language": "python",
   "name": "python3"
  },
  "language_info": {
   "codemirror_mode": {
    "name": "ipython",
    "version": 3
   },
   "file_extension": ".py",
   "mimetype": "text/x-python",
   "name": "python",
   "nbconvert_exporter": "python",
   "pygments_lexer": "ipython3",
   "version": "3.7.2"
  }
 },
 "nbformat": 4,
 "nbformat_minor": 2
}
