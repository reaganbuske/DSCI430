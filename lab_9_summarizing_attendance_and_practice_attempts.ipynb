{
 "cells": [
  {
   "cell_type": "markdown",
   "metadata": {},
   "source": [
    "# Lab 8 - Summarizing Attendance and Practice Attempts\n",
    "\n",
    "In the last lab, you combined the information for attendance and practice quizzes into one combined table.  In this lab, you will transform these data into two summary tables.\n",
    "\n",
    "1. For each class, you will create a table that summarizes the attendance of all students in that class.\n",
    "2. For each class that has practice quizzes, you will create a table that summarized the number of attempts, overall and for each module."
   ]
  },
  {
   "cell_type": "markdown",
   "metadata": {},
   "source": [
    "## Tasks\n",
    "\n",
    "To complete this lab, complete each of the following tasks."
   ]
  },
  {
   "cell_type": "markdown",
   "metadata": {},
   "source": [
    "#### Task 1 - Attendance Summary\n",
    "\n",
    "For each of the classes contained in `attendance_example.zip`, we want to create a table with three columns: `FirstName`, `LastName`, `Attendance`.  Note that `Attendance` will represent the maximum number of attempts on the quiz, which corresponds to that students number of days they have attended.  To complete this task, do the following.\n",
    "\n",
    "1. Write a helper function that takes a class identifier and the overall dataframe as arguments; and returns the table described above.\n",
    "2. Use a loop and your helper functions to create the attendance quiz table for each class and then write the contents to a csv file."
   ]
  },
  {
   "cell_type": "markdown",
   "metadata": {},
   "source": [
    "#### Task 2 - Practice Quiz Summary\n",
    "\n",
    "Some of the classes contained in `attendance_example.zip` contain information about attempts on practice quizzes for four modules.  We want to create a table for each class that summarizes the practice quiz attempts.  This table should contain the following columns: `FirstName`, `LastName`, `Module 1`, `Module 2`, `Module 3`, `Module 4`, and `Total Attempts`.  Note that, for example, `Module 1` contains the total number of attempts each student made on the corresponding quiz and `Total Attempts` contains the total number of attempts on all four quizzes.\n",
    "\n",
    "\n",
    "1. Create a list of class that have practice quizzes.\n",
    "2. Write a helper function that takes a class identifier and the overall dataframe as arguments; and returns the table described above.\n",
    "3. Use a loop and your helper functions to create the practice quiz table for each class and then write the contents to a csv file."
   ]
  }
 ],
 "metadata": {
  "kernelspec": {
   "display_name": "Python 3",
   "language": "python",
   "name": "python3"
  },
  "language_info": {
   "codemirror_mode": {
    "name": "ipython",
    "version": 3
   },
   "file_extension": ".py",
   "mimetype": "text/x-python",
   "name": "python",
   "nbconvert_exporter": "python",
   "pygments_lexer": "ipython3",
   "version": "3.7.2"
  }
 },
 "nbformat": 4,
 "nbformat_minor": 2
}
