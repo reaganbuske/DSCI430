{
 "cells": [
  {
   "cell_type": "markdown",
   "metadata": {},
   "source": [
    "# Introduction to Pandas"
   ]
  },
  {
   "cell_type": "markdown",
   "metadata": {},
   "source": [
    "## Pandas provides Python data frames\n",
    "\n",
    "* Popular and established\n",
    "* Inspired by R dataframes\n",
    "* Built on `numpy` for fast computation"
   ]
  },
  {
   "cell_type": "code",
   "execution_count": 1,
   "metadata": {},
   "outputs": [],
   "source": [
    "import pandas as pd"
   ]
  },
  {
   "cell_type": "markdown",
   "metadata": {},
   "source": [
    "## Our first dataframe"
   ]
  },
  {
   "cell_type": "code",
   "execution_count": 73,
   "metadata": {
    "scrolled": true
   },
   "outputs": [
    {
     "data": {
      "text/html": [
       "<div>\n",
       "<style scoped>\n",
       "    .dataframe tbody tr th:only-of-type {\n",
       "        vertical-align: middle;\n",
       "    }\n",
       "\n",
       "    .dataframe tbody tr th {\n",
       "        vertical-align: top;\n",
       "    }\n",
       "\n",
       "    .dataframe thead th {\n",
       "        text-align: right;\n",
       "    }\n",
       "</style>\n",
       "<table border=\"1\" class=\"dataframe\">\n",
       "  <thead>\n",
       "    <tr style=\"text-align: right;\">\n",
       "      <th></th>\n",
       "      <th>Names</th>\n",
       "      <th>Python_mastery</th>\n",
       "      <th>Love_of_R</th>\n",
       "      <th>years_at_wsu</th>\n",
       "    </tr>\n",
       "  </thead>\n",
       "  <tbody>\n",
       "    <tr>\n",
       "      <th>0</th>\n",
       "      <td>Iverson</td>\n",
       "      <td>10.0</td>\n",
       "      <td>2</td>\n",
       "      <td>3</td>\n",
       "    </tr>\n",
       "    <tr>\n",
       "      <th>1</th>\n",
       "      <td>Malone</td>\n",
       "      <td>5.0</td>\n",
       "      <td>5</td>\n",
       "      <td>16</td>\n",
       "    </tr>\n",
       "    <tr>\n",
       "      <th>2</th>\n",
       "      <td>Bergen</td>\n",
       "      <td>1.0</td>\n",
       "      <td>11</td>\n",
       "      <td>4</td>\n",
       "    </tr>\n",
       "  </tbody>\n",
       "</table>\n",
       "</div>"
      ],
      "text/plain": [
       "     Names  Python_mastery  Love_of_R  years_at_wsu\n",
       "0  Iverson            10.0          2             3\n",
       "1   Malone             5.0          5            16\n",
       "2   Bergen             1.0         11             4"
      ]
     },
     "execution_count": 73,
     "metadata": {},
     "output_type": "execute_result"
    }
   ],
   "source": [
    "df = pd.DataFrame({\"Names\": [\"Iverson\", \"Malone\", \"Bergen\"],\n",
    "                   \"Python_mastery\": [10, 5, 1.0],\n",
    "                   \"Love_of_R\": [2, 5, 11],\n",
    "                   \"years_at_wsu\": [3, 16, 4]})\n",
    "df.head()"
   ]
  },
  {
   "cell_type": "markdown",
   "metadata": {},
   "source": [
    "## Reading from a csv\n",
    "\n",
    "* Most data sets will be read in from a csv or JSON data file\n",
    "* `Pandas` provides `read_csv` and `read_json`"
   ]
  },
  {
   "cell_type": "code",
   "execution_count": 4,
   "metadata": {},
   "outputs": [
    {
     "data": {
      "text/html": [
       "<div>\n",
       "<style scoped>\n",
       "    .dataframe tbody tr th:only-of-type {\n",
       "        vertical-align: middle;\n",
       "    }\n",
       "\n",
       "    .dataframe tbody tr th {\n",
       "        vertical-align: top;\n",
       "    }\n",
       "\n",
       "    .dataframe thead th {\n",
       "        text-align: right;\n",
       "    }\n",
       "</style>\n",
       "<table border=\"1\" class=\"dataframe\">\n",
       "  <thead>\n",
       "    <tr style=\"text-align: right;\">\n",
       "      <th></th>\n",
       "      <th>ConstituentID</th>\n",
       "      <th>DisplayName</th>\n",
       "      <th>ArtistBio</th>\n",
       "      <th>Nationality</th>\n",
       "      <th>Gender</th>\n",
       "      <th>BeginDate</th>\n",
       "      <th>EndDate</th>\n",
       "      <th>Wiki QID</th>\n",
       "      <th>ULAN</th>\n",
       "    </tr>\n",
       "  </thead>\n",
       "  <tbody>\n",
       "    <tr>\n",
       "      <th>0</th>\n",
       "      <td>1</td>\n",
       "      <td>Robert Arneson</td>\n",
       "      <td>American, 1930–1992</td>\n",
       "      <td>American</td>\n",
       "      <td>Male</td>\n",
       "      <td>1930</td>\n",
       "      <td>1992</td>\n",
       "      <td>NaN</td>\n",
       "      <td>NaN</td>\n",
       "    </tr>\n",
       "    <tr>\n",
       "      <th>1</th>\n",
       "      <td>2</td>\n",
       "      <td>Doroteo Arnaiz</td>\n",
       "      <td>Spanish, born 1936</td>\n",
       "      <td>Spanish</td>\n",
       "      <td>Male</td>\n",
       "      <td>1936</td>\n",
       "      <td>0</td>\n",
       "      <td>NaN</td>\n",
       "      <td>NaN</td>\n",
       "    </tr>\n",
       "    <tr>\n",
       "      <th>2</th>\n",
       "      <td>3</td>\n",
       "      <td>Bill Arnold</td>\n",
       "      <td>American, born 1941</td>\n",
       "      <td>American</td>\n",
       "      <td>Male</td>\n",
       "      <td>1941</td>\n",
       "      <td>0</td>\n",
       "      <td>NaN</td>\n",
       "      <td>NaN</td>\n",
       "    </tr>\n",
       "    <tr>\n",
       "      <th>3</th>\n",
       "      <td>4</td>\n",
       "      <td>Charles Arnoldi</td>\n",
       "      <td>American, born 1946</td>\n",
       "      <td>American</td>\n",
       "      <td>Male</td>\n",
       "      <td>1946</td>\n",
       "      <td>0</td>\n",
       "      <td>Q1063584</td>\n",
       "      <td>500027998.0</td>\n",
       "    </tr>\n",
       "    <tr>\n",
       "      <th>4</th>\n",
       "      <td>5</td>\n",
       "      <td>Per Arnoldi</td>\n",
       "      <td>Danish, born 1941</td>\n",
       "      <td>Danish</td>\n",
       "      <td>Male</td>\n",
       "      <td>1941</td>\n",
       "      <td>0</td>\n",
       "      <td>NaN</td>\n",
       "      <td>NaN</td>\n",
       "    </tr>\n",
       "  </tbody>\n",
       "</table>\n",
       "</div>"
      ],
      "text/plain": [
       "   ConstituentID      DisplayName            ArtistBio Nationality Gender  \\\n",
       "0              1   Robert Arneson  American, 1930–1992    American   Male   \n",
       "1              2   Doroteo Arnaiz   Spanish, born 1936     Spanish   Male   \n",
       "2              3      Bill Arnold  American, born 1941    American   Male   \n",
       "3              4  Charles Arnoldi  American, born 1946    American   Male   \n",
       "4              5      Per Arnoldi    Danish, born 1941      Danish   Male   \n",
       "\n",
       "   BeginDate  EndDate  Wiki QID         ULAN  \n",
       "0       1930     1992       NaN          NaN  \n",
       "1       1936        0       NaN          NaN  \n",
       "2       1941        0       NaN          NaN  \n",
       "3       1946        0  Q1063584  500027998.0  \n",
       "4       1941        0       NaN          NaN  "
      ]
     },
     "execution_count": 4,
     "metadata": {},
     "output_type": "execute_result"
    }
   ],
   "source": [
    "artists = pd.read_csv(\"./data/Artists.csv\")\n",
    "artists.head()"
   ]
  },
  {
   "cell_type": "markdown",
   "metadata": {},
   "source": [
    "# JSON data file\n",
    "\n",
    "* Another (more modern) storage\n",
    "* Here the data is stored in row `dict`"
   ]
  },
  {
   "cell_type": "code",
   "execution_count": 5,
   "metadata": {},
   "outputs": [
    {
     "name": "stdout",
     "output_type": "stream",
     "text": [
      "[\r\n",
      "{\r\n",
      "  \"ConstituentID\": 1,\r\n",
      "  \"DisplayName\": \"Robert Arneson\",\r\n",
      "  \"ArtistBio\": \"American, 1930–1992\",\r\n",
      "  \"Nationality\": \"American\",\r\n",
      "  \"Gender\": \"Male\",\r\n",
      "  \"BeginDate\": 1930,\r\n",
      "  \"EndDate\": 1992,\r\n",
      "  \"Wiki QID\": null,\r\n",
      "  \"ULAN\": null\r\n",
      "},\r\n",
      "{\r\n",
      "  \"ConstituentID\": 2,\r\n",
      "  \"DisplayName\": \"Doroteo Arnaiz\",\r\n",
      "  \"ArtistBio\": \"Spanish, born 1936\",\r\n",
      "  \"Nationality\": \"Spanish\",\r\n",
      "  \"Gender\": \"Male\",\r\n",
      "  \"BeginDate\": 1936,\r\n",
      "  \"EndDate\": 0,\r\n",
      "  \"Wiki QID\": null,\r\n",
      "  \"ULAN\": null\r\n",
      "},\r\n"
     ]
    }
   ],
   "source": [
    "!head -n 23 ./data/Artists.json"
   ]
  },
  {
   "cell_type": "markdown",
   "metadata": {},
   "source": [
    "## Reading a JSON data file\n",
    "\n",
    "* Another (more modern) storage\n",
    "* Here the data is stored in row `dict`"
   ]
  },
  {
   "cell_type": "code",
   "execution_count": 59,
   "metadata": {
    "scrolled": false
   },
   "outputs": [
    {
     "data": {
      "text/html": [
       "<div>\n",
       "<style scoped>\n",
       "    .dataframe tbody tr th:only-of-type {\n",
       "        vertical-align: middle;\n",
       "    }\n",
       "\n",
       "    .dataframe tbody tr th {\n",
       "        vertical-align: top;\n",
       "    }\n",
       "\n",
       "    .dataframe thead th {\n",
       "        text-align: right;\n",
       "    }\n",
       "</style>\n",
       "<table border=\"1\" class=\"dataframe\">\n",
       "  <thead>\n",
       "    <tr style=\"text-align: right;\">\n",
       "      <th></th>\n",
       "      <th>ArtistBio</th>\n",
       "      <th>BeginDate</th>\n",
       "      <th>ConstituentID</th>\n",
       "      <th>DisplayName</th>\n",
       "      <th>EndDate</th>\n",
       "      <th>Gender</th>\n",
       "      <th>Nationality</th>\n",
       "      <th>ULAN</th>\n",
       "      <th>Wiki QID</th>\n",
       "    </tr>\n",
       "  </thead>\n",
       "  <tbody>\n",
       "    <tr>\n",
       "      <th>0</th>\n",
       "      <td>American, 1930–1992</td>\n",
       "      <td>1930</td>\n",
       "      <td>1</td>\n",
       "      <td>Robert Arneson</td>\n",
       "      <td>1992</td>\n",
       "      <td>Male</td>\n",
       "      <td>American</td>\n",
       "      <td>NaN</td>\n",
       "      <td>None</td>\n",
       "    </tr>\n",
       "    <tr>\n",
       "      <th>1</th>\n",
       "      <td>Spanish, born 1936</td>\n",
       "      <td>1936</td>\n",
       "      <td>2</td>\n",
       "      <td>Doroteo Arnaiz</td>\n",
       "      <td>0</td>\n",
       "      <td>Male</td>\n",
       "      <td>Spanish</td>\n",
       "      <td>NaN</td>\n",
       "      <td>None</td>\n",
       "    </tr>\n",
       "    <tr>\n",
       "      <th>2</th>\n",
       "      <td>American, born 1941</td>\n",
       "      <td>1941</td>\n",
       "      <td>3</td>\n",
       "      <td>Bill Arnold</td>\n",
       "      <td>0</td>\n",
       "      <td>Male</td>\n",
       "      <td>American</td>\n",
       "      <td>NaN</td>\n",
       "      <td>None</td>\n",
       "    </tr>\n",
       "    <tr>\n",
       "      <th>3</th>\n",
       "      <td>American, born 1946</td>\n",
       "      <td>1946</td>\n",
       "      <td>4</td>\n",
       "      <td>Charles Arnoldi</td>\n",
       "      <td>0</td>\n",
       "      <td>Male</td>\n",
       "      <td>American</td>\n",
       "      <td>500027998.0</td>\n",
       "      <td>Q1063584</td>\n",
       "    </tr>\n",
       "    <tr>\n",
       "      <th>4</th>\n",
       "      <td>Danish, born 1941</td>\n",
       "      <td>1941</td>\n",
       "      <td>5</td>\n",
       "      <td>Per Arnoldi</td>\n",
       "      <td>0</td>\n",
       "      <td>Male</td>\n",
       "      <td>Danish</td>\n",
       "      <td>NaN</td>\n",
       "      <td>None</td>\n",
       "    </tr>\n",
       "  </tbody>\n",
       "</table>\n",
       "</div>"
      ],
      "text/plain": [
       "             ArtistBio  BeginDate  ConstituentID      DisplayName  EndDate  \\\n",
       "0  American, 1930–1992       1930              1   Robert Arneson     1992   \n",
       "1   Spanish, born 1936       1936              2   Doroteo Arnaiz        0   \n",
       "2  American, born 1941       1941              3      Bill Arnold        0   \n",
       "3  American, born 1946       1946              4  Charles Arnoldi        0   \n",
       "4    Danish, born 1941       1941              5      Per Arnoldi        0   \n",
       "\n",
       "  Gender Nationality         ULAN  Wiki QID  \n",
       "0   Male    American          NaN      None  \n",
       "1   Male     Spanish          NaN      None  \n",
       "2   Male    American          NaN      None  \n",
       "3   Male    American  500027998.0  Q1063584  \n",
       "4   Male      Danish          NaN      None  "
      ]
     },
     "execution_count": 59,
     "metadata": {},
     "output_type": "execute_result"
    }
   ],
   "source": [
    "artists = pd.read_json(\"/Users/tiverson/Desktop/dsci430data/MoMA/Artists.json\")\n",
    "artists.head()"
   ]
  },
  {
   "cell_type": "markdown",
   "metadata": {},
   "source": [
    "## <font color=\"red\"> Exercise 2 </font>\n",
    "    \n",
    "Use tab-completion and `help` to discover and explore two more methods of reading a file into a `Pandas` dataframe.\n"
   ]
  },
  {
   "cell_type": "code",
   "execution_count": null,
   "metadata": {},
   "outputs": [],
   "source": [
    "pd.read_ #<-- Tab here"
   ]
  },
  {
   "cell_type": "markdown",
   "metadata": {},
   "source": [
    "## So what is a `DateFrame`\n",
    "\n",
    "* Like R, Pandas focuses on columns\n",
    "* Think `dict` of `(str, Series)` pairs \n",
    "* A series is a typed list-like structure"
   ]
  },
  {
   "cell_type": "code",
   "execution_count": 7,
   "metadata": {
    "scrolled": true
   },
   "outputs": [],
   "source": [
    "# This is how I imagine a dataframe\n",
    "df = pd.DataFrame({\"Names\": [\"Iverson\", \"Malone\", \"Bergen\"],\n",
    "                   \"Python_mastery\": [10, 5, 1.0],\n",
    "                   \"years_at_wsu\": [3, 14, 4]})"
   ]
  },
  {
   "cell_type": "markdown",
   "metadata": {},
   "source": [
    "## Columns are `Series` and hold one type of data"
   ]
  },
  {
   "cell_type": "code",
   "execution_count": 8,
   "metadata": {},
   "outputs": [
    {
     "data": {
      "text/plain": [
       "(pandas.core.series.Series, pandas.core.series.Series)"
      ]
     },
     "execution_count": 8,
     "metadata": {},
     "output_type": "execute_result"
    }
   ],
   "source": [
    "type(artists.BeginDate), type(artists.DisplayName)"
   ]
  },
  {
   "cell_type": "code",
   "execution_count": 9,
   "metadata": {},
   "outputs": [
    {
     "data": {
      "text/plain": [
       "(dtype('int64'), dtype('O'))"
      ]
     },
     "execution_count": 9,
     "metadata": {},
     "output_type": "execute_result"
    }
   ],
   "source": [
    "artists.BeginDate.dtype, artists.DisplayName.dtype"
   ]
  },
  {
   "cell_type": "markdown",
   "metadata": {},
   "source": [
    "## Two ways to access a column\n",
    "\n",
    "* **Method 1:** like a dictionary\n",
    "    * `df[\"column_name\"]`\n",
    "* **Method 2:** like an object attribute\n",
    "    * `df.column_name`\n",
    "    * Only for proper names!"
   ]
  },
  {
   "cell_type": "code",
   "execution_count": 10,
   "metadata": {},
   "outputs": [
    {
     "data": {
      "text/plain": [
       "0    1930\n",
       "1    1936\n",
       "Name: BeginDate, dtype: int64"
      ]
     },
     "execution_count": 10,
     "metadata": {},
     "output_type": "execute_result"
    }
   ],
   "source": [
    "artists.BeginDate.head(2)"
   ]
  },
  {
   "cell_type": "code",
   "execution_count": 11,
   "metadata": {
    "scrolled": true
   },
   "outputs": [
    {
     "data": {
      "text/plain": [
       "0    1930\n",
       "1    1936\n",
       "Name: BeginDate, dtype: int64"
      ]
     },
     "execution_count": 11,
     "metadata": {},
     "output_type": "execute_result"
    }
   ],
   "source": [
    "artists['BeginDate'].head(2)"
   ]
  },
  {
   "cell_type": "markdown",
   "metadata": {},
   "source": [
    "## More on data types\n",
    "\n",
    "* See all data types with `df.dtypes`\n",
    "* You can set the `dtypes` when you read a dataframe\n",
    "* Read more about types: [Pandas docs](https://pandas.pydata.org/pandas-docs/stable/generated/pandas.DataFrame.dtypes.html)"
   ]
  },
  {
   "cell_type": "code",
   "execution_count": 12,
   "metadata": {
    "scrolled": true
   },
   "outputs": [
    {
     "data": {
      "text/plain": [
       "ArtistBio         object\n",
       "BeginDate          int64\n",
       "ConstituentID      int64\n",
       "DisplayName       object\n",
       "EndDate            int64\n",
       "Gender            object\n",
       "Nationality       object\n",
       "ULAN             float64\n",
       "Wiki QID          object\n",
       "dtype: object"
      ]
     },
     "execution_count": 12,
     "metadata": {},
     "output_type": "execute_result"
    }
   ],
   "source": [
    "artists.dtypes"
   ]
  },
  {
   "cell_type": "markdown",
   "metadata": {},
   "source": [
    "# Getting to know your data"
   ]
  },
  {
   "cell_type": "markdown",
   "metadata": {},
   "source": [
    "## Data Cleaning Checklist\n",
    "\n",
    "1. Deal with column names\n",
    "2. Deal with text columns\n",
    "3. Deal with numeric columns\n",
    "4. Deal with dates\n",
    "5. Look at relationships between columns"
   ]
  },
  {
   "cell_type": "markdown",
   "metadata": {},
   "source": [
    "## Basic inspection tools\n",
    "\n",
    "* `df.head()`        first five rows\n",
    "* `df.tail()`        last five rows\n",
    "* `df.sample(5)`     random sample of rows\n",
    "* `df.shape`         number of rows/columns in a tuple\n",
    "* `df.describe()`    calculates measures of central tendency\n",
    "* `df.info()`"
   ]
  },
  {
   "cell_type": "markdown",
   "metadata": {},
   "source": [
    "## <font color=\"red\"> Exercise 1: Load and inspect the artwork from MoMA </font>\n",
    "\n",
    "Make sure you can load both the csv and json files\n",
    "\n",
    "[Data source](https://github.com/MuseumofModernArt/collection)"
   ]
  },
  {
   "cell_type": "code",
   "execution_count": null,
   "metadata": {},
   "outputs": [],
   "source": []
  },
  {
   "cell_type": "markdown",
   "metadata": {},
   "source": [
    "## Inpecting columns\n",
    "\n",
    "* First step in understanding data\n",
    "* Look for problems with\n",
    "    * the *column names*\n",
    "    * column types\n",
    "    * column statistics\n",
    "    * column plots\n"
   ]
  },
  {
   "cell_type": "markdown",
   "metadata": {},
   "source": [
    "## Data Cleaning Checklist\n",
    "\n",
    "1. Deal with column names\n",
    "2. Deal with text columns\n",
    "3. Deal with numeric columns\n",
    "4. Deal with dates\n",
    "5. Look at relationships between columns"
   ]
  },
  {
   "cell_type": "markdown",
   "metadata": {},
   "source": [
    "## Data Cleaning Step 1 - Dealing with column names\n",
    "\n",
    "#### Necessary Steps\n",
    "\n",
    "* Carefully inspect the names \n",
    "* Strip whitespace\n",
    "* Replace spaces with `_`\n",
    "* Remove other offending characters\n",
    "    * Punctuation\n",
    "    * Latin symbols like å\n",
    "* Make sure column names are unique\n",
    "* Inspect the column type.  Anything unexpected?\n",
    "* **Advanced** Is there measurement data in the labels?  If so, you need to reshape"
   ]
  },
  {
   "cell_type": "markdown",
   "metadata": {},
   "source": [
    "#### Optional Steps\n",
    "\n",
    "* Make all lowercase \n",
    "* Add prefix \n",
    "    * if combining with another table \n",
    "* Look for other ways to make them meaningful but short"
   ]
  },
  {
   "cell_type": "markdown",
   "metadata": {},
   "source": [
    "## Inspecting column names  - Pandas\n",
    "\n",
    "Use the `df.columns` attribute"
   ]
  },
  {
   "cell_type": "code",
   "execution_count": 60,
   "metadata": {},
   "outputs": [
    {
     "data": {
      "text/plain": [
       "Index(['ArtistBio', 'BeginDate', 'ConstituentID', 'DisplayName', 'EndDate',\n",
       "       'Gender', 'Nationality', 'ULAN', 'Wiki QID'],\n",
       "      dtype='object')"
      ]
     },
     "execution_count": 60,
     "metadata": {},
     "output_type": "execute_result"
    }
   ],
   "source": [
    "artists.columns"
   ]
  },
  {
   "cell_type": "markdown",
   "metadata": {},
   "source": [
    "## <font color=\"red\"> Exercise 2: Run through the checklist. </font>\n",
    "\n",
    "What are the issues that need to be fixed in the `artist` header?"
   ]
  },
  {
   "cell_type": "markdown",
   "metadata": {},
   "source": [
    "*Your thoughts here*"
   ]
  },
  {
   "cell_type": "markdown",
   "metadata": {},
   "source": [
    "## <font color=\"red\"> Exercise 3 </font>\n",
    "\n",
    "Apply the checklist to the `artwork` data frame.  What issues need to be fixed?"
   ]
  },
  {
   "cell_type": "markdown",
   "metadata": {},
   "source": [
    "*Your thoughts here*"
   ]
  },
  {
   "cell_type": "markdown",
   "metadata": {},
   "source": [
    "## Accessing columns with improper names\n",
    "\n",
    "Note the column `'Wiki QID'`.\n",
    "\n",
    "* Not a proper Python name\n",
    "* No attribute\n",
    "* Access with `artists['Wiki QID']`"
   ]
  },
  {
   "cell_type": "code",
   "execution_count": null,
   "metadata": {},
   "outputs": [],
   "source": [
    "artists.Wiki # <-- Try tab ... doesn't work ... no attribute"
   ]
  },
  {
   "cell_type": "code",
   "execution_count": 21,
   "metadata": {
    "scrolled": true
   },
   "outputs": [
    {
     "data": {
      "text/plain": [
       "0        None\n",
       "1        None\n",
       "2        None\n",
       "3    Q1063584\n",
       "4        None\n",
       "Name: Wiki QID, dtype: object"
      ]
     },
     "execution_count": 21,
     "metadata": {},
     "output_type": "execute_result"
    }
   ],
   "source": [
    "artists['Wiki QID'].head()"
   ]
  },
  {
   "cell_type": "markdown",
   "metadata": {},
   "source": [
    "## Fixing column names\n",
    "\n",
    "Most Python string methods are available in `df.columns.str`"
   ]
  },
  {
   "cell_type": "code",
   "execution_count": 22,
   "metadata": {},
   "outputs": [
    {
     "data": {
      "text/plain": [
       "Index(['ArtistBio', 'BeginDate', 'ConstituentID', 'DisplayName', 'EndDate',\n",
       "       'Gender', 'Nationality', 'ULAN', 'Wiki_QID'],\n",
       "      dtype='object')"
      ]
     },
     "execution_count": 22,
     "metadata": {},
     "output_type": "execute_result"
    }
   ],
   "source": [
    "artists.columns.str.replace(' ', '_')"
   ]
  },
  {
   "cell_type": "code",
   "execution_count": 61,
   "metadata": {},
   "outputs": [
    {
     "data": {
      "text/plain": [
       "0        None\n",
       "1        None\n",
       "2        None\n",
       "3    Q1063584\n",
       "4        None\n",
       "Name: Wiki_QID, dtype: object"
      ]
     },
     "execution_count": 61,
     "metadata": {},
     "output_type": "execute_result"
    }
   ],
   "source": [
    "artists.columns = artists.columns.str.replace(' ', '_')\n",
    "artists.Wiki_QID.head()"
   ]
  },
  {
   "cell_type": "markdown",
   "metadata": {},
   "source": [
    "## Renaming columns, a functional approach\n",
    "\n",
    "* Using assignment can break our flow.\n",
    "* Mutation makes reasoning about programs hard.\n",
    "* In practice, we will use `dfply.rename` in a pipe"
   ]
  },
  {
   "cell_type": "code",
   "execution_count": 62,
   "metadata": {},
   "outputs": [
    {
     "data": {
      "text/html": [
       "<div>\n",
       "<style scoped>\n",
       "    .dataframe tbody tr th:only-of-type {\n",
       "        vertical-align: middle;\n",
       "    }\n",
       "\n",
       "    .dataframe tbody tr th {\n",
       "        vertical-align: top;\n",
       "    }\n",
       "\n",
       "    .dataframe thead th {\n",
       "        text-align: right;\n",
       "    }\n",
       "</style>\n",
       "<table border=\"1\" class=\"dataframe\">\n",
       "  <thead>\n",
       "    <tr style=\"text-align: right;\">\n",
       "      <th></th>\n",
       "      <th>ArtistBio</th>\n",
       "      <th>BeginDate</th>\n",
       "      <th>ConstituentID</th>\n",
       "      <th>DisplayName</th>\n",
       "      <th>EndDate</th>\n",
       "      <th>Gender</th>\n",
       "      <th>Nationality</th>\n",
       "      <th>ULAN</th>\n",
       "      <th>Wiki_QID</th>\n",
       "    </tr>\n",
       "  </thead>\n",
       "  <tbody>\n",
       "    <tr>\n",
       "      <th>0</th>\n",
       "      <td>American, 1930–1992</td>\n",
       "      <td>1930</td>\n",
       "      <td>1</td>\n",
       "      <td>Robert Arneson</td>\n",
       "      <td>1992</td>\n",
       "      <td>Male</td>\n",
       "      <td>American</td>\n",
       "      <td>NaN</td>\n",
       "      <td>None</td>\n",
       "    </tr>\n",
       "    <tr>\n",
       "      <th>1</th>\n",
       "      <td>Spanish, born 1936</td>\n",
       "      <td>1936</td>\n",
       "      <td>2</td>\n",
       "      <td>Doroteo Arnaiz</td>\n",
       "      <td>0</td>\n",
       "      <td>Male</td>\n",
       "      <td>Spanish</td>\n",
       "      <td>NaN</td>\n",
       "      <td>None</td>\n",
       "    </tr>\n",
       "    <tr>\n",
       "      <th>2</th>\n",
       "      <td>American, born 1941</td>\n",
       "      <td>1941</td>\n",
       "      <td>3</td>\n",
       "      <td>Bill Arnold</td>\n",
       "      <td>0</td>\n",
       "      <td>Male</td>\n",
       "      <td>American</td>\n",
       "      <td>NaN</td>\n",
       "      <td>None</td>\n",
       "    </tr>\n",
       "    <tr>\n",
       "      <th>3</th>\n",
       "      <td>American, born 1946</td>\n",
       "      <td>1946</td>\n",
       "      <td>4</td>\n",
       "      <td>Charles Arnoldi</td>\n",
       "      <td>0</td>\n",
       "      <td>Male</td>\n",
       "      <td>American</td>\n",
       "      <td>500027998.0</td>\n",
       "      <td>Q1063584</td>\n",
       "    </tr>\n",
       "    <tr>\n",
       "      <th>4</th>\n",
       "      <td>Danish, born 1941</td>\n",
       "      <td>1941</td>\n",
       "      <td>5</td>\n",
       "      <td>Per Arnoldi</td>\n",
       "      <td>0</td>\n",
       "      <td>Male</td>\n",
       "      <td>Danish</td>\n",
       "      <td>NaN</td>\n",
       "      <td>None</td>\n",
       "    </tr>\n",
       "  </tbody>\n",
       "</table>\n",
       "</div>"
      ],
      "text/plain": [
       "             ArtistBio  BeginDate  ConstituentID      DisplayName  EndDate  \\\n",
       "0  American, 1930–1992       1930              1   Robert Arneson     1992   \n",
       "1   Spanish, born 1936       1936              2   Doroteo Arnaiz        0   \n",
       "2  American, born 1941       1941              3      Bill Arnold        0   \n",
       "3  American, born 1946       1946              4  Charles Arnoldi        0   \n",
       "4    Danish, born 1941       1941              5      Per Arnoldi        0   \n",
       "\n",
       "  Gender Nationality         ULAN  Wiki_QID  \n",
       "0   Male    American          NaN      None  \n",
       "1   Male     Spanish          NaN      None  \n",
       "2   Male    American          NaN      None  \n",
       "3   Male    American  500027998.0  Q1063584  \n",
       "4   Male      Danish          NaN      None  "
      ]
     },
     "execution_count": 62,
     "metadata": {},
     "output_type": "execute_result"
    }
   ],
   "source": [
    "from dfply import rename, head\n",
    "(artists >>\n",
    "  rename(Wiki_QID = \"Wiki QID\") >>\n",
    "  head)"
   ]
  },
  {
   "cell_type": "markdown",
   "metadata": {},
   "source": [
    "## <font color=\"red\"> Exercise 3 </font>\n",
    "    \n",
    "Inspect `dir(artwork.columns.str)` and say hello to some old friends\n"
   ]
  },
  {
   "cell_type": "code",
   "execution_count": null,
   "metadata": {},
   "outputs": [],
   "source": []
  },
  {
   "cell_type": "markdown",
   "metadata": {},
   "source": [
    "## <font color=\"red\"> Exercise 4 </font>\n",
    "    \n",
    "Identify and fix any problems with the column names of `artwork`\n"
   ]
  },
  {
   "cell_type": "code",
   "execution_count": null,
   "metadata": {},
   "outputs": [],
   "source": []
  },
  {
   "cell_type": "markdown",
   "metadata": {},
   "source": [
    "## Inspecting types and counts"
   ]
  },
  {
   "cell_type": "code",
   "execution_count": 43,
   "metadata": {
    "scrolled": true
   },
   "outputs": [
    {
     "name": "stdout",
     "output_type": "stream",
     "text": [
      "<class 'pandas.core.frame.DataFrame'>\n",
      "RangeIndex: 15817 entries, 0 to 15816\n",
      "Data columns (total 9 columns):\n",
      "ArtistBio        13540 non-null object\n",
      "BeginDate        15817 non-null int64\n",
      "ConstituentID    15817 non-null int64\n",
      "DisplayName      15817 non-null object\n",
      "EndDate          15817 non-null int64\n",
      "Gender           12669 non-null object\n",
      "Nationality      13321 non-null object\n",
      "ULAN             2941 non-null float64\n",
      "Wiki_QID         3281 non-null object\n",
      "dtypes: float64(1), int64(3), object(5)\n",
      "memory usage: 1.1+ MB\n"
     ]
    }
   ],
   "source": [
    "artists.info()"
   ]
  },
  {
   "cell_type": "markdown",
   "metadata": {},
   "source": [
    "## Step 1 - Inspect counts to see missing data\n",
    "\n",
    "<img src=\"img/info_1.png\" widht=400>"
   ]
  },
  {
   "cell_type": "markdown",
   "metadata": {},
   "source": [
    "## Step 2 - Look for unexpected types\n",
    "\n",
    "<img src=\"img/info_2.png\" widht=400>"
   ]
  },
  {
   "cell_type": "markdown",
   "metadata": {},
   "source": [
    "## <font color=\"red\"> Exercise 5 </font>\n",
    "    \n",
    "**Task:** Inspect the types and head of `artwork`.  \n",
    "\n",
    "1. Which columns have the wrong type?  \n",
    "2. What should the types be?  \n",
    "3. Why are they \n"
   ]
  },
  {
   "cell_type": "code",
   "execution_count": 1,
   "metadata": {},
   "outputs": [],
   "source": [
    "# Your code there"
   ]
  },
  {
   "cell_type": "markdown",
   "metadata": {},
   "source": [
    "*Your thoughts here*"
   ]
  },
  {
   "cell_type": "markdown",
   "metadata": {},
   "source": [
    "## Data Cleaning Step 2 - Dealing with a numeric column\n",
    "\n",
    "#### Necessary steps\n",
    "\n",
    "* Inspect numeric summaries.  Do they make sense?\n",
    "* Plot a histogram.  Anything unusual?\n",
    "* Look at the min/max values.  Are they reasonable?\n",
    "* Think about practical bounds\n",
    "    * 0 <= percent <= 100\n",
    "    * 0 <= fraction <= 1\n",
    "    * Height > 0\n",
    "* How are missing values represented?  Is if consistent?\n",
    "    * Watch out for `0` in place of missing.\n",
    "    "
   ]
  },
  {
   "cell_type": "markdown",
   "metadata": {},
   "source": [
    "#### Optional steps\n",
    "\n",
    "* Apply a log/sqrt transform to skewed data\n",
    "* Remove outliers?\n",
    "* Impute missing values?"
   ]
  },
  {
   "cell_type": "markdown",
   "metadata": {},
   "source": [
    "## Inspecting numeric columns\n",
    "\n",
    "* Statistic: `describe()`"
   ]
  },
  {
   "cell_type": "code",
   "execution_count": 46,
   "metadata": {
    "scrolled": true
   },
   "outputs": [
    {
     "data": {
      "text/plain": [
       "count    15817.000000\n",
       "mean      1467.455143\n",
       "std        825.486628\n",
       "min          0.000000\n",
       "25%       1830.000000\n",
       "50%       1922.000000\n",
       "75%       1949.000000\n",
       "max       2017.000000\n",
       "Name: BeginDate, dtype: float64"
      ]
     },
     "execution_count": 46,
     "metadata": {},
     "output_type": "execute_result"
    }
   ],
   "source": [
    "artists.BeginDate.describe()"
   ]
  },
  {
   "cell_type": "markdown",
   "metadata": {},
   "source": [
    "## Be a data detective\n",
    "\n",
    "<img src=\"./img/artist_describe.png\" width=400>"
   ]
  },
  {
   "cell_type": "markdown",
   "metadata": {},
   "source": [
    "## Be a data detective\n",
    "\n",
    "<img src=\"./img/artist_describe_really.png\" width=400>"
   ]
  },
  {
   "cell_type": "markdown",
   "metadata": {},
   "source": [
    "## Inspecting numeric columns\n",
    "\n",
    "* Plots: `plot('hist')`\n",
    "    * Requires `matplotlib.pylab`\n",
    "\n",
    "**Question:** What's up with the left-most bar?  How should this be fixed?"
   ]
  },
  {
   "cell_type": "code",
   "execution_count": 65,
   "metadata": {
    "scrolled": false
   },
   "outputs": [
    {
     "data": {
      "text/plain": [
       "<matplotlib.axes._subplots.AxesSubplot at 0x1174c7d30>"
      ]
     },
     "execution_count": 65,
     "metadata": {},
     "output_type": "execute_result"
    },
    {
     "data": {
      "image/png": "[encoded data removed]",
      "text/plain": [
       "<Figure size 432x288 with 1 Axes>"
      ]
     },
     "metadata": {
      "needs_background": "light"
     },
     "output_type": "display_data"
    }
   ],
   "source": [
    "import matplotlib.pylab as plt\n",
    "%matplotlib inline\n",
    "artists.BeginDate.plot('hist', bins = 50)"
   ]
  },
  {
   "cell_type": "markdown",
   "metadata": {},
   "source": [
    "## How is missing data represented?\n",
    "\n",
    "<img src=\"./img/artist_zero_is_missing.png\" width=400>\n",
    "\n",
    "We will fix this soon!"
   ]
  },
  {
   "cell_type": "markdown",
   "metadata": {},
   "source": [
    "## Data Cleaning Step 2 - Dealing with a text column\n",
    "\n",
    "#### Necessary steps\n",
    "\n",
    "* Inspect a list of unique labels and their counts\n",
    "    * Look at the most common and fix common errors\n",
    "    * Look at the least common, odd cases hide here\n",
    "* Plot the frequency distribution.  Anything unusual?\n",
    "* How are missing data represented?  Is it consistent?\n",
    "    * Switch to `np.NaN` (Pandas), `None` (pure Python), `null` (Spark SQL)\n",
    "* Look for and fix similarities in the labels\n",
    "    * i.e. \"Todd\" vs. \"todd\""
   ]
  },
  {
   "cell_type": "markdown",
   "metadata": {},
   "source": [
    "## Data Cleaning Step 2 - Dealing with a text column\n",
    "#### Optional steps\n",
    "\n",
    "* Consider switching to lowercase\n",
    "* Consider adding a `\"Other\"` category for rare labels\n",
    "* Consider recoding into broader categories"
   ]
  },
  {
   "cell_type": "markdown",
   "metadata": {},
   "source": [
    "## Inspecting text columns\n",
    "\n",
    "* Stats: `value_counts()`\n",
    "* Number of labels: `value_counts().shape"
   ]
  },
  {
   "cell_type": "code",
   "execution_count": 31,
   "metadata": {},
   "outputs": [
    {
     "data": {
      "text/plain": [
       "(130,)"
      ]
     },
     "execution_count": 31,
     "metadata": {},
     "output_type": "execute_result"
    }
   ],
   "source": [
    "artists.Nationality.value_counts().shape # Number of unique labels"
   ]
  },
  {
   "cell_type": "code",
   "execution_count": 32,
   "metadata": {
    "scrolled": true
   },
   "outputs": [
    {
     "data": {
      "text/plain": [
       "American               5454\n",
       "German                  976\n",
       "French                  898\n",
       "British                 872\n",
       "Italian                 554\n",
       "Japanese                509\n",
       "Swiss                   294\n",
       "Dutch                   270\n",
       "Russian                 259\n",
       "Austrian                248\n",
       "Nationality unknown     209\n",
       "Canadian                207\n",
       "Brazilian               177\n",
       "Spanish                 158\n",
       "Argentine               151\n",
       "Mexican                 135\n",
       "Polish                  135\n",
       "Swedish                 134\n",
       "Danish                  121\n",
       "Chinese                  97\n",
       "Belgian                  95\n",
       "Czech                    85\n",
       "Israeli                  79\n",
       "Chilean                  74\n",
       "Cuban                    70\n",
       "South African            70\n",
       "Australian               65\n",
       "Finnish                  63\n",
       "Hungarian                55\n",
       "Venezuelan               52\n",
       "                       ... \n",
       "Paraguayan                2\n",
       "Congolese                 2\n",
       "Native American           1\n",
       "Cypriot                   1\n",
       "Kuwaiti                   1\n",
       "Afghan                    1\n",
       "Indonesian                1\n",
       "Guyanese                  1\n",
       "Ivorian                   1\n",
       "Armenian                  1\n",
       "Azerbaijani               1\n",
       "Ugandan                   1\n",
       "Tajik                     1\n",
       "Mozambican                1\n",
       "Saudi Arabian             1\n",
       "Cambodian                 1\n",
       "Tanzanian                 1\n",
       "Mauritanian               1\n",
       "Bangladeshi               1\n",
       "Kazakh                    1\n",
       "Sudanese                  1\n",
       "Sahrawi                   1\n",
       "Bahamian                  1\n",
       "Cameroonian               1\n",
       "Angolan                   1\n",
       "Catalan                   1\n",
       "Persian                   1\n",
       "Emirati                   1\n",
       "Rwandan                   1\n",
       "Coptic                    1\n",
       "Name: Nationality, Length: 130, dtype: int64"
      ]
     },
     "execution_count": 32,
     "metadata": {},
     "output_type": "execute_result"
    }
   ],
   "source": [
    "artists.Nationality.value_counts()"
   ]
  },
  {
   "cell_type": "markdown",
   "metadata": {},
   "source": [
    "## Inspecting text columns\n",
    "\n",
    "* Plot: `value_counts().plot('bar')`\n",
    "\n",
    "**Question:** Do you see any problems?"
   ]
  },
  {
   "cell_type": "code",
   "execution_count": 33,
   "metadata": {
    "scrolled": true
   },
   "outputs": [
    {
     "data": {
      "text/plain": [
       "<matplotlib.axes._subplots.AxesSubplot at 0x112cdbb00>"
      ]
     },
     "execution_count": 33,
     "metadata": {},
     "output_type": "execute_result"
    },
    {
     "data": {
      "image/png": "[encoded data removed]",
      "text/plain": [
       "<Figure size 1440x360 with 1 Axes>"
      ]
     },
     "metadata": {
      "needs_background": "light"
     },
     "output_type": "display_data"
    }
   ],
   "source": [
    "plt.figure(figsize=(20,5))\n",
    "artists.Nationality.value_counts().plot('bar')"
   ]
  },
  {
   "cell_type": "markdown",
   "metadata": {},
   "source": [
    "## Be a Data Detective\n",
    "\n",
    "<img src=\"./img/nationality_unknown.png\" width=400>"
   ]
  },
  {
   "cell_type": "markdown",
   "metadata": {},
   "source": [
    "## Using `head` to inspect the most common labels\n",
    "\n",
    "Note that\n",
    "\n",
    "* `value_counts` are sorted in descending order\n",
    "* we can add `head` to the chain to "
   ]
  },
  {
   "cell_type": "code",
   "execution_count": 34,
   "metadata": {
    "scrolled": false
   },
   "outputs": [
    {
     "data": {
      "text/plain": [
       "American    5454\n",
       "German       976\n",
       "French       898\n",
       "British      872\n",
       "Italian      554\n",
       "Japanese     509\n",
       "Swiss        294\n",
       "Dutch        270\n",
       "Russian      259\n",
       "Austrian     248\n",
       "Name: Nationality, dtype: int64"
      ]
     },
     "execution_count": 34,
     "metadata": {},
     "output_type": "execute_result"
    }
   ],
   "source": [
    "artists.Nationality.value_counts().head(10)"
   ]
  },
  {
   "cell_type": "markdown",
   "metadata": {},
   "source": [
    "## Using `head` with `plot`\n",
    "\n",
    "Note that\n",
    "\n",
    "* `value_counts` are sorted in descending order\n",
    "* we can add `head` to the chain to "
   ]
  },
  {
   "cell_type": "code",
   "execution_count": 79,
   "metadata": {
    "scrolled": false
   },
   "outputs": [
    {
     "data": {
      "text/plain": [
       "<matplotlib.axes._subplots.AxesSubplot at 0x11ca8ebe0>"
      ]
     },
     "execution_count": 79,
     "metadata": {},
     "output_type": "execute_result"
    },
    {
     "data": {
      "image/png": "[encoded data removed]",
      "text/plain": [
       "<Figure size 432x288 with 1 Axes>"
      ]
     },
     "metadata": {
      "needs_background": "light"
     },
     "output_type": "display_data"
    }
   ],
   "source": [
    "artists.Nationality.value_counts().head(10).plot('bar')"
   ]
  },
  {
   "cell_type": "markdown",
   "metadata": {},
   "source": [
    "## <font color=\"red\"> Exercise 5 </font>\n",
    "    \n",
    "**Task:** Inspect the statistics and plots for `artwork`.  Be sure to look at one variable of each type."
   ]
  },
  {
   "cell_type": "code",
   "execution_count": null,
   "metadata": {},
   "outputs": [],
   "source": []
  },
  {
   "cell_type": "markdown",
   "metadata": {},
   "source": [
    "## Data Cleaning Step 4 - Dealing with a date column\n",
    "\n",
    "#### Necessary steps\n",
    "\n",
    "* Is the formating consistent?\n",
    "* Correct conversion?\n",
    "    * Two digit year?  How is this converted?\n",
    "* Make columns for various date-parts\n",
    "    * year\n",
    "    * month\n",
    "    * day\n",
    "    * etc.\n",
    "* Make plots of the date-parts and look for unusual values"
   ]
  },
  {
   "cell_type": "markdown",
   "metadata": {},
   "source": [
    "## Data Cleaning Step 5 - Inspect relationship between columns\n",
    "\n",
    "#### Necessary steps\n",
    "\n",
    "* Compute cross-tabulated summary methods\n",
    "    * **Text + Numeric** Group-by mean/median/SD/IQR\n",
    "    * **Text + Text** Group-by counts/percents\n",
    "* Plot the relationship\n",
    "    * **Text + Numeric** side-by-side box plot\n",
    "    * **Text + Text** mosiac plot\n",
    "    * **Numeric + Numeric** scatter plot\n",
    "* Look for unusual values.\n",
    "    * i.e. `0` as missing often shows up in scatterplots"
   ]
  },
  {
   "cell_type": "markdown",
   "metadata": {},
   "source": [
    "# Preview of Coming Attractions"
   ]
  },
  {
   "cell_type": "markdown",
   "metadata": {},
   "source": [
    "## R and Python can interact!"
   ]
  },
  {
   "cell_type": "code",
   "execution_count": 66,
   "metadata": {},
   "outputs": [
    {
     "name": "stdout",
     "output_type": "stream",
     "text": [
      "The rpy2.ipython extension is already loaded. To reload it, use:\n",
      "  %reload_ext rpy2.ipython\n"
     ]
    }
   ],
   "source": [
    "#!pip install rpy2 tzlocal\n",
    "import rpy2\n",
    "%load_ext rpy2.ipython"
   ]
  },
  {
   "cell_type": "code",
   "execution_count": 67,
   "metadata": {},
   "outputs": [],
   "source": [
    "import warnings\n",
    "warnings.filterwarnings('ignore')"
   ]
  },
  {
   "cell_type": "code",
   "execution_count": 68,
   "metadata": {},
   "outputs": [
    {
     "data": {
      "text/plain": [
       "[1] -1.787447  4.034125  1.743742  1.597456  4.410406\n"
      ]
     },
     "metadata": {},
     "output_type": "display_data"
    }
   ],
   "source": [
    "%%R\n",
    "rnorm(5, 2, 3)"
   ]
  },
  {
   "cell_type": "markdown",
   "metadata": {},
   "source": [
    "## We love dplyr!"
   ]
  },
  {
   "cell_type": "code",
   "execution_count": 69,
   "metadata": {},
   "outputs": [
    {
     "data": {
      "text/plain": [
       "  BeginDate     DisplayName Nationality\n",
       "1      1930  Robert Arneson    American\n",
       "2      1936  Doroteo Arnaiz     Spanish\n",
       "3      1941     Bill Arnold    American\n",
       "4      1946 Charles Arnoldi    American\n",
       "5      1941     Per Arnoldi      Danish\n",
       "6      1925   Danilo Aroldi     Italian\n"
      ]
     },
     "metadata": {},
     "output_type": "display_data"
    }
   ],
   "source": [
    "%%R -i artists -o output\n",
    "library(dplyr)\n",
    "\n",
    "(artists %>%\n",
    "select(BeginDate, DisplayName, Nationality) %>%\n",
    "filter(BeginDate > 0) %>%\n",
    "head) -> output\n",
    "output"
   ]
  },
  {
   "cell_type": "markdown",
   "metadata": {},
   "source": [
    "## Wait ... did you just run R dplyr code in a jupyter notebook?\n",
    "<img src='./img/r_magic_1.png' width=400>\n",
    "\n",
    "#### Yep"
   ]
  },
  {
   "cell_type": "markdown",
   "metadata": {},
   "source": [
    "## Wait ... did you just pass a `Pandas` dataframe to `dplyr`\n",
    "\n",
    "<img src='./img/r_magic_2.png' width=400>\n",
    "\n",
    "#### Yes ... yes I did."
   ]
  },
  {
   "cell_type": "markdown",
   "metadata": {},
   "source": [
    "## Wait ... OMG ... did you just pass the result BACK TO PYTHON!!1!one! \n",
    "\n",
    "<img src='./img/r_magic_3.png' width=400>"
   ]
  },
  {
   "cell_type": "markdown",
   "metadata": {},
   "source": [
    "#### Ummm hmmmm"
   ]
  },
  {
   "cell_type": "code",
   "execution_count": 70,
   "metadata": {},
   "outputs": [
    {
     "data": {
      "text/html": [
       "<div>\n",
       "<style scoped>\n",
       "    .dataframe tbody tr th:only-of-type {\n",
       "        vertical-align: middle;\n",
       "    }\n",
       "\n",
       "    .dataframe tbody tr th {\n",
       "        vertical-align: top;\n",
       "    }\n",
       "\n",
       "    .dataframe thead th {\n",
       "        text-align: right;\n",
       "    }\n",
       "</style>\n",
       "<table border=\"1\" class=\"dataframe\">\n",
       "  <thead>\n",
       "    <tr style=\"text-align: right;\">\n",
       "      <th></th>\n",
       "      <th>BeginDate</th>\n",
       "      <th>DisplayName</th>\n",
       "      <th>Nationality</th>\n",
       "    </tr>\n",
       "  </thead>\n",
       "  <tbody>\n",
       "    <tr>\n",
       "      <th>0</th>\n",
       "      <td>1930</td>\n",
       "      <td>Robert Arneson</td>\n",
       "      <td>American</td>\n",
       "    </tr>\n",
       "    <tr>\n",
       "      <th>1</th>\n",
       "      <td>1936</td>\n",
       "      <td>Doroteo Arnaiz</td>\n",
       "      <td>Spanish</td>\n",
       "    </tr>\n",
       "    <tr>\n",
       "      <th>2</th>\n",
       "      <td>1941</td>\n",
       "      <td>Bill Arnold</td>\n",
       "      <td>American</td>\n",
       "    </tr>\n",
       "    <tr>\n",
       "      <th>3</th>\n",
       "      <td>1946</td>\n",
       "      <td>Charles Arnoldi</td>\n",
       "      <td>American</td>\n",
       "    </tr>\n",
       "    <tr>\n",
       "      <th>4</th>\n",
       "      <td>1941</td>\n",
       "      <td>Per Arnoldi</td>\n",
       "      <td>Danish</td>\n",
       "    </tr>\n",
       "    <tr>\n",
       "      <th>5</th>\n",
       "      <td>1925</td>\n",
       "      <td>Danilo Aroldi</td>\n",
       "      <td>Italian</td>\n",
       "    </tr>\n",
       "  </tbody>\n",
       "</table>\n",
       "</div>"
      ],
      "text/plain": [
       "   BeginDate      DisplayName Nationality\n",
       "0       1930   Robert Arneson    American\n",
       "1       1936   Doroteo Arnaiz     Spanish\n",
       "2       1941      Bill Arnold    American\n",
       "3       1946  Charles Arnoldi    American\n",
       "4       1941      Per Arnoldi      Danish\n",
       "5       1925    Danilo Aroldi     Italian"
      ]
     },
     "execution_count": 70,
     "metadata": {},
     "output_type": "execute_result"
    }
   ],
   "source": [
    "output"
   ]
  },
  {
   "cell_type": "markdown",
   "metadata": {},
   "source": [
    "## HOLD ON! ... isn't that CHEATING!\n",
    "\n",
    "#### ... maybe your right ..."
   ]
  },
  {
   "cell_type": "markdown",
   "metadata": {},
   "source": [
    "## Up Next\n",
    "\n",
    "In the [next lecture](./1_2_dfply_and_data_cleaning.ipynb), we will introduce `dfply`, which provides pipeable `dplyr`-like table processing."
   ]
  }
 ],
 "metadata": {
  "kernelspec": {
   "display_name": "Python 3",
   "language": "python",
   "name": "python3"
  },
  "language_info": {
   "codemirror_mode": {
    "name": "ipython",
    "version": 3
   },
   "file_extension": ".py",
   "mimetype": "text/x-python",
   "name": "python",
   "nbconvert_exporter": "python",
   "pygments_lexer": "ipython3",
   "version": "3.6.2"
  },
  "varInspector": {
   "cols": {
    "lenName": 16,
    "lenType": 16,
    "lenVar": 40
   },
   "kernels_config": {
    "python": {
     "delete_cmd_postfix": "",
     "delete_cmd_prefix": "del ",
     "library": "var_list.py",
     "varRefreshCmd": "print(var_dic_list())"
    },
    "r": {
     "delete_cmd_postfix": ") ",
     "delete_cmd_prefix": "rm(",
     "library": "var_list.r",
     "varRefreshCmd": "cat(var_dic_list()) "
    }
   },
   "types_to_exclude": [
    "module",
    "function",
    "builtin_function_or_method",
    "instance",
    "_Feature"
   ],
   "window_display": false
  }
 },
 "nbformat": 4,
 "nbformat_minor": 2
}
