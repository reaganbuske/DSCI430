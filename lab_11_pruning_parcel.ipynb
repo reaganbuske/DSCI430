{
 "cells": [
  {
   "cell_type": "markdown",
   "metadata": {},
   "source": [
    "# Lab 11 - Pruning Parcels"
   ]
  },
  {
   "cell_type": "markdown",
   "metadata": {},
   "source": [
    "## Tasks\n",
    "\n",
    "#### Task 1 - Proptype on 2004 parcel data\n",
    "\n",
    "Build a query that will filter the 2004 parcel file\n",
    "\n",
    "1. Read in the 2004 parce file\n",
    "2. Create a column that contains True if the parcel is close to our 49 lakes (see lab 10) and flase otherwise. (Hint: create `lat_long` -> map to `code` -> check `isin` for the lakes we identified in lab 10).\n",
    "3. Create a query that selects the correct columns, filters on the new column, then adds lake_names, lake_codes, and lake distance.  Finally filter by distance to the lake.\n",
    "\n",
    "How much have we reduced the size of the parcel file?  Can you safely union all the files after these filters?\n",
    "\n",
    "#### Task 2 - Read all 11 files and apply the process defined in the last task\n",
    "\n",
    "\n",
    "#### Task 3 - Union all 11 files then write out the result."
   ]
  }
 ],
 "metadata": {
  "kernelspec": {
   "display_name": "Python 3",
   "language": "python",
   "name": "python3"
  },
  "language_info": {
   "codemirror_mode": {
    "name": "ipython",
    "version": 3
   },
   "file_extension": ".py",
   "mimetype": "text/x-python",
   "name": "python",
   "nbconvert_exporter": "python",
   "pygments_lexer": "ipython3",
   "version": "3.7.2"
  }
 },
 "nbformat": 4,
 "nbformat_minor": 2
}
