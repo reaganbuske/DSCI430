{
 "cells": [
  {
   "cell_type": "markdown",
   "metadata": {
    "slideshow": {
     "slide_type": "slide"
    }
   },
   "source": [
    "# Processing many large files\n",
    "\n",
    "* Use `glob` to find file names\n",
    "* Use a double loop to process all files in chunks\n",
    "* We will show a more functional, lazy solution in a later section."
   ]
  },
  {
   "cell_type": "code",
   "execution_count": 1,
   "metadata": {
    "slideshow": {
     "slide_type": "fragment"
    }
   },
   "outputs": [],
   "source": [
    "import pandas as pd\n",
    "from dfply import *"
   ]
  },
  {
   "cell_type": "markdown",
   "metadata": {
    "slideshow": {
     "slide_type": "slide"
    }
   },
   "source": [
    "## Example 3 - Compute the weekday totals for all months\n",
    "\n",
    "Assume that we have many csv files, all with the same columns. Now we will step up the scale by processing many large files by\n",
    "\n",
    "* Using `glob` to get all the filenames\n",
    "* Prototyping our code on the first chunk of the first file\n",
    "* Creating a list of aggregated chunks with a double loop\n",
    "* Use the accumulator pattern to reduce the chunk aggregations to a single table."
   ]
  },
  {
   "cell_type": "code",
   "execution_count": 2,
   "metadata": {
    "slideshow": {
     "slide_type": "fragment"
    }
   },
   "outputs": [
    {
     "name": "stdout",
     "output_type": "stream",
     "text": [
      "fatal: destination path './data/uber' already exists and is not an empty directory.\r\n"
     ]
    }
   ],
   "source": [
    "!git clone https://github.com/fivethirtyeight/uber-tlc-foil-response.git ./data/uber"
   ]
  },
  {
   "cell_type": "markdown",
   "metadata": {
    "slideshow": {
     "slide_type": "slide"
    }
   },
   "source": [
    "#### Get all files with `glob`"
   ]
  },
  {
   "cell_type": "code",
   "execution_count": 3,
   "metadata": {
    "slideshow": {
     "slide_type": "fragment"
    }
   },
   "outputs": [
    {
     "data": {
      "text/plain": [
       "['./data/uber/uber-trip-data/uber-raw-data-apr14.csv',\n",
       " './data/uber/uber-trip-data/uber-raw-data-aug14.csv',\n",
       " './data/uber/uber-trip-data/uber-raw-data-jul14.csv',\n",
       " './data/uber/uber-trip-data/uber-raw-data-jun14.csv',\n",
       " './data/uber/uber-trip-data/uber-raw-data-may14.csv',\n",
       " './data/uber/uber-trip-data/uber-raw-data-sep14.csv']"
      ]
     },
     "execution_count": 3,
     "metadata": {},
     "output_type": "execute_result"
    }
   ],
   "source": [
    "from glob import glob\n",
    "files = glob('./data/uber/uber-trip-data/uber-raw-data-*.csv')\n",
    "files = [f for f in files if 'jan' not in f]\n",
    "files"
   ]
  },
  {
   "cell_type": "markdown",
   "metadata": {
    "slideshow": {
     "slide_type": "slide"
    }
   },
   "source": [
    "#### Helper functions developed in an earlier section"
   ]
  },
  {
   "cell_type": "code",
   "execution_count": 4,
   "metadata": {
    "slideshow": {
     "slide_type": "fragment"
    }
   },
   "outputs": [],
   "source": [
    "from calendar import day_name\n",
    "from functoolz import pipeable\n",
    "weekday_categories = pd.CategoricalDtype(categories=list(day_name),\n",
    "                                     ordered=True)\n",
    "weekday_cnts = pipeable(lambda df: (df \n",
    "                                    >> mutate(weekday = X.date.dt.weekday_name.astype(weekday_categories)) \n",
    "                                    >> select(X.date, X.weekday))\n",
    "                                    >> group_by(X.weekday) \n",
    "                                    >> summarise(cnt = n(X.weekday)))\n",
    "        "
   ]
  },
  {
   "cell_type": "code",
   "execution_count": 5,
   "metadata": {
    "slideshow": {
     "slide_type": "fragment"
    }
   },
   "outputs": [],
   "source": [
    "c_size = 100000\n",
    "new_names = ['date', 'lat', 'lon', 'base']\n",
    "date_cols = ['date']\n",
    "df_iter = lambda file: pd.read_csv(file, \n",
    "                                   header=0, names=new_names,\n",
    "                                   parse_dates=date_cols,\n",
    "                                   sep=',',\n",
    "                                   engine='python',\n",
    "                                   chunksize=c_size)"
   ]
  },
  {
   "cell_type": "code",
   "execution_count": 6,
   "metadata": {
    "scrolled": true,
    "slideshow": {
     "slide_type": "slide"
    }
   },
   "outputs": [
    {
     "name": "stdout",
     "output_type": "stream",
     "text": [
      "Processing file ./data/uber/uber-trip-data/uber-raw-data-apr14.csv chunk 0\n",
      "Processing file ./data/uber/uber-trip-data/uber-raw-data-apr14.csv chunk 1\n",
      "Processing file ./data/uber/uber-trip-data/uber-raw-data-apr14.csv chunk 2\n",
      "Processing file ./data/uber/uber-trip-data/uber-raw-data-apr14.csv chunk 3\n",
      "Processing file ./data/uber/uber-trip-data/uber-raw-data-apr14.csv chunk 4\n",
      "Processing file ./data/uber/uber-trip-data/uber-raw-data-apr14.csv chunk 5\n",
      "Processing file ./data/uber/uber-trip-data/uber-raw-data-aug14.csv chunk 0\n",
      "Processing file ./data/uber/uber-trip-data/uber-raw-data-aug14.csv chunk 1\n",
      "Processing file ./data/uber/uber-trip-data/uber-raw-data-aug14.csv chunk 2\n",
      "Processing file ./data/uber/uber-trip-data/uber-raw-data-aug14.csv chunk 3\n",
      "Processing file ./data/uber/uber-trip-data/uber-raw-data-aug14.csv chunk 4\n",
      "Processing file ./data/uber/uber-trip-data/uber-raw-data-aug14.csv chunk 5\n",
      "Processing file ./data/uber/uber-trip-data/uber-raw-data-aug14.csv chunk 6\n",
      "Processing file ./data/uber/uber-trip-data/uber-raw-data-aug14.csv chunk 7\n",
      "Processing file ./data/uber/uber-trip-data/uber-raw-data-aug14.csv chunk 8\n",
      "Processing file ./data/uber/uber-trip-data/uber-raw-data-jul14.csv chunk 0\n",
      "Processing file ./data/uber/uber-trip-data/uber-raw-data-jul14.csv chunk 1\n",
      "Processing file ./data/uber/uber-trip-data/uber-raw-data-jul14.csv chunk 2\n",
      "Processing file ./data/uber/uber-trip-data/uber-raw-data-jul14.csv chunk 3\n",
      "Processing file ./data/uber/uber-trip-data/uber-raw-data-jul14.csv chunk 4\n",
      "Processing file ./data/uber/uber-trip-data/uber-raw-data-jul14.csv chunk 5\n",
      "Processing file ./data/uber/uber-trip-data/uber-raw-data-jul14.csv chunk 6\n",
      "Processing file ./data/uber/uber-trip-data/uber-raw-data-jul14.csv chunk 7\n",
      "Processing file ./data/uber/uber-trip-data/uber-raw-data-jun14.csv chunk 0\n",
      "Processing file ./data/uber/uber-trip-data/uber-raw-data-jun14.csv chunk 1\n",
      "Processing file ./data/uber/uber-trip-data/uber-raw-data-jun14.csv chunk 2\n",
      "Processing file ./data/uber/uber-trip-data/uber-raw-data-jun14.csv chunk 3\n",
      "Processing file ./data/uber/uber-trip-data/uber-raw-data-jun14.csv chunk 4\n",
      "Processing file ./data/uber/uber-trip-data/uber-raw-data-jun14.csv chunk 5\n",
      "Processing file ./data/uber/uber-trip-data/uber-raw-data-jun14.csv chunk 6\n",
      "Processing file ./data/uber/uber-trip-data/uber-raw-data-may14.csv chunk 0\n",
      "Processing file ./data/uber/uber-trip-data/uber-raw-data-may14.csv chunk 1\n",
      "Processing file ./data/uber/uber-trip-data/uber-raw-data-may14.csv chunk 2\n",
      "Processing file ./data/uber/uber-trip-data/uber-raw-data-may14.csv chunk 3\n",
      "Processing file ./data/uber/uber-trip-data/uber-raw-data-may14.csv chunk 4\n",
      "Processing file ./data/uber/uber-trip-data/uber-raw-data-may14.csv chunk 5\n",
      "Processing file ./data/uber/uber-trip-data/uber-raw-data-may14.csv chunk 6\n",
      "Processing file ./data/uber/uber-trip-data/uber-raw-data-sep14.csv chunk 0\n",
      "Processing file ./data/uber/uber-trip-data/uber-raw-data-sep14.csv chunk 1\n",
      "Processing file ./data/uber/uber-trip-data/uber-raw-data-sep14.csv chunk 2\n",
      "Processing file ./data/uber/uber-trip-data/uber-raw-data-sep14.csv chunk 3\n",
      "Processing file ./data/uber/uber-trip-data/uber-raw-data-sep14.csv chunk 4\n",
      "Processing file ./data/uber/uber-trip-data/uber-raw-data-sep14.csv chunk 5\n",
      "Processing file ./data/uber/uber-trip-data/uber-raw-data-sep14.csv chunk 6\n",
      "Processing file ./data/uber/uber-trip-data/uber-raw-data-sep14.csv chunk 7\n",
      "Processing file ./data/uber/uber-trip-data/uber-raw-data-sep14.csv chunk 8\n",
      "Processing file ./data/uber/uber-trip-data/uber-raw-data-sep14.csv chunk 9\n",
      "Processing file ./data/uber/uber-trip-data/uber-raw-data-sep14.csv chunk 10\n"
     ]
    }
   ],
   "source": [
    "from unpythonic import begin\n",
    "weekday_cnts = [begin(print(\"Processing file {0} chunk {1}\".format(f, i)),\n",
    "                      chunk >> weekday_cnts)\n",
    "                for f in files\n",
    "                for i, chunk in enumerate(df_iter(f))]"
   ]
  },
  {
   "cell_type": "code",
   "execution_count": 8,
   "metadata": {
    "slideshow": {
     "slide_type": "slide"
    }
   },
   "outputs": [
    {
     "data": {
      "text/html": [
       "<div>\n",
       "<style scoped>\n",
       "    .dataframe tbody tr th:only-of-type {\n",
       "        vertical-align: middle;\n",
       "    }\n",
       "\n",
       "    .dataframe tbody tr th {\n",
       "        vertical-align: top;\n",
       "    }\n",
       "\n",
       "    .dataframe thead th {\n",
       "        text-align: right;\n",
       "    }\n",
       "</style>\n",
       "<table border=\"1\" class=\"dataframe\">\n",
       "  <thead>\n",
       "    <tr style=\"text-align: right;\">\n",
       "      <th></th>\n",
       "      <th>weekday</th>\n",
       "      <th>cnt</th>\n",
       "    </tr>\n",
       "  </thead>\n",
       "  <tbody>\n",
       "    <tr>\n",
       "      <th>0</th>\n",
       "      <td>Monday</td>\n",
       "      <td>10206</td>\n",
       "    </tr>\n",
       "    <tr>\n",
       "      <th>1</th>\n",
       "      <td>Tuesday</td>\n",
       "      <td>12160</td>\n",
       "    </tr>\n",
       "    <tr>\n",
       "      <th>2</th>\n",
       "      <td>Wednesday</td>\n",
       "      <td>12607</td>\n",
       "    </tr>\n",
       "    <tr>\n",
       "      <th>3</th>\n",
       "      <td>Thursday</td>\n",
       "      <td>15240</td>\n",
       "    </tr>\n",
       "    <tr>\n",
       "      <th>4</th>\n",
       "      <td>Friday</td>\n",
       "      <td>21327</td>\n",
       "    </tr>\n",
       "    <tr>\n",
       "      <th>5</th>\n",
       "      <td>Saturday</td>\n",
       "      <td>17830</td>\n",
       "    </tr>\n",
       "    <tr>\n",
       "      <th>6</th>\n",
       "      <td>Sunday</td>\n",
       "      <td>10630</td>\n",
       "    </tr>\n",
       "  </tbody>\n",
       "</table>\n",
       "</div>"
      ],
      "text/plain": [
       "     weekday    cnt\n",
       "0     Monday  10206\n",
       "1    Tuesday  12160\n",
       "2  Wednesday  12607\n",
       "3   Thursday  15240\n",
       "4     Friday  21327\n",
       "5   Saturday  17830\n",
       "6     Sunday  10630"
      ]
     },
     "execution_count": 8,
     "metadata": {},
     "output_type": "execute_result"
    }
   ],
   "source": [
    "weekday_cnts[-2]"
   ]
  },
  {
   "cell_type": "code",
   "execution_count": 9,
   "metadata": {
    "slideshow": {
     "slide_type": "fragment"
    }
   },
   "outputs": [],
   "source": [
    "combine = pipeable(lambda df1, df2: (pd.concat([df1, df2], sort = False) \n",
    "                                     >> group_by(X.weekday) \n",
    "                                     >> summarise(cnt = X.cnt.sum())))"
   ]
  },
  {
   "cell_type": "markdown",
   "metadata": {
    "slideshow": {
     "slide_type": "slide"
    }
   },
   "source": [
    "#### Initial accumulator"
   ]
  },
  {
   "cell_type": "code",
   "execution_count": 10,
   "metadata": {
    "slideshow": {
     "slide_type": "fragment"
    }
   },
   "outputs": [
    {
     "data": {
      "text/html": [
       "<div>\n",
       "<style scoped>\n",
       "    .dataframe tbody tr th:only-of-type {\n",
       "        vertical-align: middle;\n",
       "    }\n",
       "\n",
       "    .dataframe tbody tr th {\n",
       "        vertical-align: top;\n",
       "    }\n",
       "\n",
       "    .dataframe thead th {\n",
       "        text-align: right;\n",
       "    }\n",
       "</style>\n",
       "<table border=\"1\" class=\"dataframe\">\n",
       "  <thead>\n",
       "    <tr style=\"text-align: right;\">\n",
       "      <th></th>\n",
       "      <th>weekday</th>\n",
       "      <th>cnt</th>\n",
       "    </tr>\n",
       "  </thead>\n",
       "  <tbody>\n",
       "    <tr>\n",
       "      <th>0</th>\n",
       "      <td>Monday</td>\n",
       "      <td>541472</td>\n",
       "    </tr>\n",
       "    <tr>\n",
       "      <th>1</th>\n",
       "      <td>Tuesday</td>\n",
       "      <td>663789</td>\n",
       "    </tr>\n",
       "    <tr>\n",
       "      <th>2</th>\n",
       "      <td>Wednesday</td>\n",
       "      <td>696488</td>\n",
       "    </tr>\n",
       "    <tr>\n",
       "      <th>3</th>\n",
       "      <td>Thursday</td>\n",
       "      <td>755145</td>\n",
       "    </tr>\n",
       "    <tr>\n",
       "      <th>4</th>\n",
       "      <td>Friday</td>\n",
       "      <td>741139</td>\n",
       "    </tr>\n",
       "    <tr>\n",
       "      <th>5</th>\n",
       "      <td>Saturday</td>\n",
       "      <td>646114</td>\n",
       "    </tr>\n",
       "    <tr>\n",
       "      <th>6</th>\n",
       "      <td>Sunday</td>\n",
       "      <td>490180</td>\n",
       "    </tr>\n",
       "  </tbody>\n",
       "</table>\n",
       "</div>"
      ],
      "text/plain": [
       "     weekday     cnt\n",
       "0     Monday  541472\n",
       "1    Tuesday  663789\n",
       "2  Wednesday  696488\n",
       "3   Thursday  755145\n",
       "4     Friday  741139\n",
       "5   Saturday  646114\n",
       "6     Sunday  490180"
      ]
     },
     "execution_count": 10,
     "metadata": {},
     "output_type": "execute_result"
    }
   ],
   "source": [
    "cnts = weekday_cnts[0] \n",
    "for next_cnts in weekday_cnts[1:]:\n",
    "    cnts = next_cnts >> combine(cnts)\n",
    "cnts"
   ]
  },
  {
   "cell_type": "markdown",
   "metadata": {
    "slideshow": {
     "slide_type": "slide"
    }
   },
   "source": [
    "#### Visualizing the results"
   ]
  },
  {
   "cell_type": "code",
   "execution_count": 11,
   "metadata": {
    "slideshow": {
     "slide_type": "fragment"
    }
   },
   "outputs": [
    {
     "data": {
      "image/png": "[encoded data removed]",
      "text/plain": [
       "<Figure size 360x360 with 1 Axes>"
      ]
     },
     "metadata": {
      "needs_background": "light"
     },
     "output_type": "display_data"
    }
   ],
   "source": [
    "import seaborn as sns\n",
    "import matplotlib.pylab as plt\n",
    "%matplotlib inline\n",
    "ax = (sns\n",
    "      .catplot(x=\"weekday\", \n",
    "               y = 'cnt',\n",
    "               kind=\"bar\", \n",
    "               palette=\"ch:.25\", \n",
    "               data=cnts))\n",
    "\n",
    "ax.set_xticklabels(ax.ax.get_xticklabels(), rotation=40, ha=\"right\")\n",
    "ax.set(title='Uber Pick-Ups by Day of the Week',\n",
    "       xlabel='Day of the Week', \n",
    "       ylabel='Num of Pick-ups')\n",
    "plt.tight_layout()\n",
    "plt.show()"
   ]
  },
  {
   "cell_type": "markdown",
   "metadata": {
    "slideshow": {
     "slide_type": "slide"
    }
   },
   "source": [
    "## <font color=\"red\"> Exercise 2 </font>\n",
    "\n",
    "Compute and visualize the hourly frequencies for Uber pick-ups across all of the files."
   ]
  },
  {
   "cell_type": "code",
   "execution_count": 12,
   "metadata": {
    "slideshow": {
     "slide_type": "fragment"
    }
   },
   "outputs": [
    {
     "data": {
      "text/plain": [
       "['./data/uber/uber-trip-data/uber-raw-data-apr14.csv',\n",
       " './data/uber/uber-trip-data/uber-raw-data-aug14.csv',\n",
       " './data/uber/uber-trip-data/uber-raw-data-jul14.csv',\n",
       " './data/uber/uber-trip-data/uber-raw-data-jun14.csv',\n",
       " './data/uber/uber-trip-data/uber-raw-data-may14.csv',\n",
       " './data/uber/uber-trip-data/uber-raw-data-sep14.csv']"
      ]
     },
     "execution_count": 12,
     "metadata": {},
     "output_type": "execute_result"
    }
   ],
   "source": [
    "from glob import glob\n",
    "files = glob('./data/uber/uber-trip-data/uber-raw-data-*.csv')\n",
    "files = [f for f in files if 'jan' not in f]\n",
    "files"
   ]
  },
  {
   "cell_type": "code",
   "execution_count": 20,
   "metadata": {},
   "outputs": [],
   "source": [
    "from calendar import day_name\n",
    "from functoolz import pipeable\n",
    "#weekday_categories = pd.CategoricalDtype(categories=list(day_name),\n",
    "                                     #ordered=True)\n",
    "hour_cnts = pipeable(lambda df: (df \n",
    "                                    >> mutate(hour = X.date.dt.hour) \n",
    "                                    >> select(X.date, X.hour))\n",
    "                                    >> group_by(X.hour) \n",
    "                                    >> summarise(cnt = n(X.hour)))"
   ]
  },
  {
   "cell_type": "code",
   "execution_count": 21,
   "metadata": {},
   "outputs": [],
   "source": [
    "c_size = 100000\n",
    "new_names = ['date', 'lat', 'lon', 'base']\n",
    "date_cols = ['date']\n",
    "df_iter = lambda file: pd.read_csv(file, \n",
    "                                   header=0, names=new_names,\n",
    "                                   parse_dates=date_cols,\n",
    "                                   sep=',',\n",
    "                                   engine='python',\n",
    "                                   chunksize=c_size)"
   ]
  },
  {
   "cell_type": "code",
   "execution_count": 22,
   "metadata": {},
   "outputs": [
    {
     "name": "stdout",
     "output_type": "stream",
     "text": [
      "Processing file ./data/uber/uber-trip-data/uber-raw-data-apr14.csv chunk 0\n",
      "Processing file ./data/uber/uber-trip-data/uber-raw-data-apr14.csv chunk 1\n",
      "Processing file ./data/uber/uber-trip-data/uber-raw-data-apr14.csv chunk 2\n",
      "Processing file ./data/uber/uber-trip-data/uber-raw-data-apr14.csv chunk 3\n",
      "Processing file ./data/uber/uber-trip-data/uber-raw-data-apr14.csv chunk 4\n",
      "Processing file ./data/uber/uber-trip-data/uber-raw-data-apr14.csv chunk 5\n",
      "Processing file ./data/uber/uber-trip-data/uber-raw-data-aug14.csv chunk 0\n",
      "Processing file ./data/uber/uber-trip-data/uber-raw-data-aug14.csv chunk 1\n",
      "Processing file ./data/uber/uber-trip-data/uber-raw-data-aug14.csv chunk 2\n",
      "Processing file ./data/uber/uber-trip-data/uber-raw-data-aug14.csv chunk 3\n",
      "Processing file ./data/uber/uber-trip-data/uber-raw-data-aug14.csv chunk 4\n",
      "Processing file ./data/uber/uber-trip-data/uber-raw-data-aug14.csv chunk 5\n",
      "Processing file ./data/uber/uber-trip-data/uber-raw-data-aug14.csv chunk 6\n",
      "Processing file ./data/uber/uber-trip-data/uber-raw-data-aug14.csv chunk 7\n",
      "Processing file ./data/uber/uber-trip-data/uber-raw-data-aug14.csv chunk 8\n",
      "Processing file ./data/uber/uber-trip-data/uber-raw-data-jul14.csv chunk 0\n",
      "Processing file ./data/uber/uber-trip-data/uber-raw-data-jul14.csv chunk 1\n",
      "Processing file ./data/uber/uber-trip-data/uber-raw-data-jul14.csv chunk 2\n",
      "Processing file ./data/uber/uber-trip-data/uber-raw-data-jul14.csv chunk 3\n",
      "Processing file ./data/uber/uber-trip-data/uber-raw-data-jul14.csv chunk 4\n",
      "Processing file ./data/uber/uber-trip-data/uber-raw-data-jul14.csv chunk 5\n",
      "Processing file ./data/uber/uber-trip-data/uber-raw-data-jul14.csv chunk 6\n",
      "Processing file ./data/uber/uber-trip-data/uber-raw-data-jul14.csv chunk 7\n",
      "Processing file ./data/uber/uber-trip-data/uber-raw-data-jun14.csv chunk 0\n",
      "Processing file ./data/uber/uber-trip-data/uber-raw-data-jun14.csv chunk 1\n",
      "Processing file ./data/uber/uber-trip-data/uber-raw-data-jun14.csv chunk 2\n",
      "Processing file ./data/uber/uber-trip-data/uber-raw-data-jun14.csv chunk 3\n",
      "Processing file ./data/uber/uber-trip-data/uber-raw-data-jun14.csv chunk 4\n",
      "Processing file ./data/uber/uber-trip-data/uber-raw-data-jun14.csv chunk 5\n",
      "Processing file ./data/uber/uber-trip-data/uber-raw-data-jun14.csv chunk 6\n",
      "Processing file ./data/uber/uber-trip-data/uber-raw-data-may14.csv chunk 0\n",
      "Processing file ./data/uber/uber-trip-data/uber-raw-data-may14.csv chunk 1\n",
      "Processing file ./data/uber/uber-trip-data/uber-raw-data-may14.csv chunk 2\n",
      "Processing file ./data/uber/uber-trip-data/uber-raw-data-may14.csv chunk 3\n",
      "Processing file ./data/uber/uber-trip-data/uber-raw-data-may14.csv chunk 4\n",
      "Processing file ./data/uber/uber-trip-data/uber-raw-data-may14.csv chunk 5\n",
      "Processing file ./data/uber/uber-trip-data/uber-raw-data-may14.csv chunk 6\n",
      "Processing file ./data/uber/uber-trip-data/uber-raw-data-sep14.csv chunk 0\n",
      "Processing file ./data/uber/uber-trip-data/uber-raw-data-sep14.csv chunk 1\n",
      "Processing file ./data/uber/uber-trip-data/uber-raw-data-sep14.csv chunk 2\n",
      "Processing file ./data/uber/uber-trip-data/uber-raw-data-sep14.csv chunk 3\n",
      "Processing file ./data/uber/uber-trip-data/uber-raw-data-sep14.csv chunk 4\n",
      "Processing file ./data/uber/uber-trip-data/uber-raw-data-sep14.csv chunk 5\n",
      "Processing file ./data/uber/uber-trip-data/uber-raw-data-sep14.csv chunk 6\n",
      "Processing file ./data/uber/uber-trip-data/uber-raw-data-sep14.csv chunk 7\n",
      "Processing file ./data/uber/uber-trip-data/uber-raw-data-sep14.csv chunk 8\n",
      "Processing file ./data/uber/uber-trip-data/uber-raw-data-sep14.csv chunk 9\n",
      "Processing file ./data/uber/uber-trip-data/uber-raw-data-sep14.csv chunk 10\n"
     ]
    }
   ],
   "source": [
    "from unpythonic import begin\n",
    "hour_cnts = [begin(print(\"Processing file {0} chunk {1}\".format(f, i)),\n",
    "                      chunk >> hour_cnts)\n",
    "                for f in files\n",
    "                for i, chunk in enumerate(df_iter(f))]"
   ]
  },
  {
   "cell_type": "code",
   "execution_count": 24,
   "metadata": {},
   "outputs": [
    {
     "data": {
      "text/html": [
       "<div>\n",
       "<style scoped>\n",
       "    .dataframe tbody tr th:only-of-type {\n",
       "        vertical-align: middle;\n",
       "    }\n",
       "\n",
       "    .dataframe tbody tr th {\n",
       "        vertical-align: top;\n",
       "    }\n",
       "\n",
       "    .dataframe thead th {\n",
       "        text-align: right;\n",
       "    }\n",
       "</style>\n",
       "<table border=\"1\" class=\"dataframe\">\n",
       "  <thead>\n",
       "    <tr style=\"text-align: right;\">\n",
       "      <th></th>\n",
       "      <th>hour</th>\n",
       "      <th>cnt</th>\n",
       "    </tr>\n",
       "  </thead>\n",
       "  <tbody>\n",
       "    <tr>\n",
       "      <th>0</th>\n",
       "      <td>0</td>\n",
       "      <td>1616</td>\n",
       "    </tr>\n",
       "    <tr>\n",
       "      <th>1</th>\n",
       "      <td>1</td>\n",
       "      <td>1015</td>\n",
       "    </tr>\n",
       "    <tr>\n",
       "      <th>2</th>\n",
       "      <td>2</td>\n",
       "      <td>624</td>\n",
       "    </tr>\n",
       "    <tr>\n",
       "      <th>3</th>\n",
       "      <td>3</td>\n",
       "      <td>760</td>\n",
       "    </tr>\n",
       "    <tr>\n",
       "      <th>4</th>\n",
       "      <td>4</td>\n",
       "      <td>960</td>\n",
       "    </tr>\n",
       "    <tr>\n",
       "      <th>5</th>\n",
       "      <td>5</td>\n",
       "      <td>1563</td>\n",
       "    </tr>\n",
       "    <tr>\n",
       "      <th>6</th>\n",
       "      <td>6</td>\n",
       "      <td>3398</td>\n",
       "    </tr>\n",
       "    <tr>\n",
       "      <th>7</th>\n",
       "      <td>7</td>\n",
       "      <td>4593</td>\n",
       "    </tr>\n",
       "    <tr>\n",
       "      <th>8</th>\n",
       "      <td>8</td>\n",
       "      <td>4241</td>\n",
       "    </tr>\n",
       "    <tr>\n",
       "      <th>9</th>\n",
       "      <td>9</td>\n",
       "      <td>3336</td>\n",
       "    </tr>\n",
       "    <tr>\n",
       "      <th>10</th>\n",
       "      <td>10</td>\n",
       "      <td>3358</td>\n",
       "    </tr>\n",
       "    <tr>\n",
       "      <th>11</th>\n",
       "      <td>11</td>\n",
       "      <td>3451</td>\n",
       "    </tr>\n",
       "    <tr>\n",
       "      <th>12</th>\n",
       "      <td>12</td>\n",
       "      <td>3570</td>\n",
       "    </tr>\n",
       "    <tr>\n",
       "      <th>13</th>\n",
       "      <td>13</td>\n",
       "      <td>4065</td>\n",
       "    </tr>\n",
       "    <tr>\n",
       "      <th>14</th>\n",
       "      <td>14</td>\n",
       "      <td>4771</td>\n",
       "    </tr>\n",
       "    <tr>\n",
       "      <th>15</th>\n",
       "      <td>15</td>\n",
       "      <td>6786</td>\n",
       "    </tr>\n",
       "    <tr>\n",
       "      <th>16</th>\n",
       "      <td>16</td>\n",
       "      <td>7929</td>\n",
       "    </tr>\n",
       "    <tr>\n",
       "      <th>17</th>\n",
       "      <td>17</td>\n",
       "      <td>8269</td>\n",
       "    </tr>\n",
       "    <tr>\n",
       "      <th>18</th>\n",
       "      <td>18</td>\n",
       "      <td>7693</td>\n",
       "    </tr>\n",
       "    <tr>\n",
       "      <th>19</th>\n",
       "      <td>19</td>\n",
       "      <td>6854</td>\n",
       "    </tr>\n",
       "    <tr>\n",
       "      <th>20</th>\n",
       "      <td>20</td>\n",
       "      <td>6453</td>\n",
       "    </tr>\n",
       "    <tr>\n",
       "      <th>21</th>\n",
       "      <td>21</td>\n",
       "      <td>6363</td>\n",
       "    </tr>\n",
       "    <tr>\n",
       "      <th>22</th>\n",
       "      <td>22</td>\n",
       "      <td>5141</td>\n",
       "    </tr>\n",
       "    <tr>\n",
       "      <th>23</th>\n",
       "      <td>23</td>\n",
       "      <td>3191</td>\n",
       "    </tr>\n",
       "  </tbody>\n",
       "</table>\n",
       "</div>"
      ],
      "text/plain": [
       "    hour   cnt\n",
       "0      0  1616\n",
       "1      1  1015\n",
       "2      2   624\n",
       "3      3   760\n",
       "4      4   960\n",
       "5      5  1563\n",
       "6      6  3398\n",
       "7      7  4593\n",
       "8      8  4241\n",
       "9      9  3336\n",
       "10    10  3358\n",
       "11    11  3451\n",
       "12    12  3570\n",
       "13    13  4065\n",
       "14    14  4771\n",
       "15    15  6786\n",
       "16    16  7929\n",
       "17    17  8269\n",
       "18    18  7693\n",
       "19    19  6854\n",
       "20    20  6453\n",
       "21    21  6363\n",
       "22    22  5141\n",
       "23    23  3191"
      ]
     },
     "execution_count": 24,
     "metadata": {},
     "output_type": "execute_result"
    }
   ],
   "source": [
    "hour_cnts[2]"
   ]
  },
  {
   "cell_type": "code",
   "execution_count": 25,
   "metadata": {},
   "outputs": [],
   "source": [
    "combine = pipeable(lambda df1, df2: (pd.concat([df1, df2], sort = False) \n",
    "                                     >> group_by(X.hour) \n",
    "                                     >> summarise(cnt = X.cnt.sum())))"
   ]
  },
  {
   "cell_type": "code",
   "execution_count": 26,
   "metadata": {},
   "outputs": [
    {
     "data": {
      "text/html": [
       "<div>\n",
       "<style scoped>\n",
       "    .dataframe tbody tr th:only-of-type {\n",
       "        vertical-align: middle;\n",
       "    }\n",
       "\n",
       "    .dataframe tbody tr th {\n",
       "        vertical-align: top;\n",
       "    }\n",
       "\n",
       "    .dataframe thead th {\n",
       "        text-align: right;\n",
       "    }\n",
       "</style>\n",
       "<table border=\"1\" class=\"dataframe\">\n",
       "  <thead>\n",
       "    <tr style=\"text-align: right;\">\n",
       "      <th></th>\n",
       "      <th>hour</th>\n",
       "      <th>cnt</th>\n",
       "    </tr>\n",
       "  </thead>\n",
       "  <tbody>\n",
       "    <tr>\n",
       "      <th>0</th>\n",
       "      <td>0</td>\n",
       "      <td>103836</td>\n",
       "    </tr>\n",
       "    <tr>\n",
       "      <th>1</th>\n",
       "      <td>1</td>\n",
       "      <td>67227</td>\n",
       "    </tr>\n",
       "    <tr>\n",
       "      <th>2</th>\n",
       "      <td>2</td>\n",
       "      <td>45865</td>\n",
       "    </tr>\n",
       "    <tr>\n",
       "      <th>3</th>\n",
       "      <td>3</td>\n",
       "      <td>48287</td>\n",
       "    </tr>\n",
       "    <tr>\n",
       "      <th>4</th>\n",
       "      <td>4</td>\n",
       "      <td>55230</td>\n",
       "    </tr>\n",
       "    <tr>\n",
       "      <th>5</th>\n",
       "      <td>5</td>\n",
       "      <td>83939</td>\n",
       "    </tr>\n",
       "    <tr>\n",
       "      <th>6</th>\n",
       "      <td>6</td>\n",
       "      <td>143213</td>\n",
       "    </tr>\n",
       "    <tr>\n",
       "      <th>7</th>\n",
       "      <td>7</td>\n",
       "      <td>193094</td>\n",
       "    </tr>\n",
       "    <tr>\n",
       "      <th>8</th>\n",
       "      <td>8</td>\n",
       "      <td>190504</td>\n",
       "    </tr>\n",
       "    <tr>\n",
       "      <th>9</th>\n",
       "      <td>9</td>\n",
       "      <td>159967</td>\n",
       "    </tr>\n",
       "    <tr>\n",
       "      <th>10</th>\n",
       "      <td>10</td>\n",
       "      <td>159148</td>\n",
       "    </tr>\n",
       "    <tr>\n",
       "      <th>11</th>\n",
       "      <td>11</td>\n",
       "      <td>165703</td>\n",
       "    </tr>\n",
       "    <tr>\n",
       "      <th>12</th>\n",
       "      <td>12</td>\n",
       "      <td>170452</td>\n",
       "    </tr>\n",
       "    <tr>\n",
       "      <th>13</th>\n",
       "      <td>13</td>\n",
       "      <td>195877</td>\n",
       "    </tr>\n",
       "    <tr>\n",
       "      <th>14</th>\n",
       "      <td>14</td>\n",
       "      <td>230625</td>\n",
       "    </tr>\n",
       "    <tr>\n",
       "      <th>15</th>\n",
       "      <td>15</td>\n",
       "      <td>275466</td>\n",
       "    </tr>\n",
       "    <tr>\n",
       "      <th>16</th>\n",
       "      <td>16</td>\n",
       "      <td>313400</td>\n",
       "    </tr>\n",
       "    <tr>\n",
       "      <th>17</th>\n",
       "      <td>17</td>\n",
       "      <td>336190</td>\n",
       "    </tr>\n",
       "    <tr>\n",
       "      <th>18</th>\n",
       "      <td>18</td>\n",
       "      <td>324679</td>\n",
       "    </tr>\n",
       "    <tr>\n",
       "      <th>19</th>\n",
       "      <td>19</td>\n",
       "      <td>294513</td>\n",
       "    </tr>\n",
       "    <tr>\n",
       "      <th>20</th>\n",
       "      <td>20</td>\n",
       "      <td>284604</td>\n",
       "    </tr>\n",
       "    <tr>\n",
       "      <th>21</th>\n",
       "      <td>21</td>\n",
       "      <td>281460</td>\n",
       "    </tr>\n",
       "    <tr>\n",
       "      <th>22</th>\n",
       "      <td>22</td>\n",
       "      <td>241858</td>\n",
       "    </tr>\n",
       "    <tr>\n",
       "      <th>23</th>\n",
       "      <td>23</td>\n",
       "      <td>169190</td>\n",
       "    </tr>\n",
       "  </tbody>\n",
       "</table>\n",
       "</div>"
      ],
      "text/plain": [
       "    hour     cnt\n",
       "0      0  103836\n",
       "1      1   67227\n",
       "2      2   45865\n",
       "3      3   48287\n",
       "4      4   55230\n",
       "5      5   83939\n",
       "6      6  143213\n",
       "7      7  193094\n",
       "8      8  190504\n",
       "9      9  159967\n",
       "10    10  159148\n",
       "11    11  165703\n",
       "12    12  170452\n",
       "13    13  195877\n",
       "14    14  230625\n",
       "15    15  275466\n",
       "16    16  313400\n",
       "17    17  336190\n",
       "18    18  324679\n",
       "19    19  294513\n",
       "20    20  284604\n",
       "21    21  281460\n",
       "22    22  241858\n",
       "23    23  169190"
      ]
     },
     "execution_count": 26,
     "metadata": {},
     "output_type": "execute_result"
    }
   ],
   "source": [
    "cnts = hour_cnts[0] \n",
    "for next_cnts in hour_cnts[1:]:\n",
    "    cnts = next_cnts >> combine(cnts)\n",
    "cnts"
   ]
  },
  {
   "cell_type": "code",
   "execution_count": 27,
   "metadata": {},
   "outputs": [
    {
     "data": {
      "image/png": "[encoded data removed]",
      "text/plain": [
       "<Figure size 360x360 with 1 Axes>"
      ]
     },
     "metadata": {
      "needs_background": "light"
     },
     "output_type": "display_data"
    }
   ],
   "source": [
    "import seaborn as sns\n",
    "import matplotlib.pylab as plt\n",
    "%matplotlib inline\n",
    "ax = (sns\n",
    "      .catplot(x=\"hour\", \n",
    "               y = 'cnt',\n",
    "               kind=\"bar\", \n",
    "               palette=\"ch:.25\", \n",
    "               data=cnts))\n",
    "\n",
    "ax.set_xticklabels(ax.ax.get_xticklabels(), rotation=40, ha=\"right\")\n",
    "ax.set(title='Uber Pick-Ups by Hour',\n",
    "       xlabel='Hour', \n",
    "       ylabel='Num of Pick-ups')\n",
    "plt.tight_layout()\n",
    "plt.show()"
   ]
  },
  {
   "cell_type": "markdown",
   "metadata": {
    "slideshow": {
     "slide_type": "slide"
    }
   },
   "source": [
    "## Up Next\n",
    "\n",
    "Stuff"
   ]
  }
 ],
 "metadata": {
  "celltoolbar": "Slideshow",
  "kernelspec": {
   "display_name": "Python 3",
   "language": "python",
   "name": "python3"
  },
  "language_info": {
   "codemirror_mode": {
    "name": "ipython",
    "version": 3
   },
   "file_extension": ".py",
   "mimetype": "text/x-python",
   "name": "python",
   "nbconvert_exporter": "python",
   "pygments_lexer": "ipython3",
   "version": "3.7.0"
  },
  "varInspector": {
   "cols": {
    "lenName": 16,
    "lenType": 16,
    "lenVar": 40
   },
   "kernels_config": {
    "python": {
     "delete_cmd_postfix": "",
     "delete_cmd_prefix": "del ",
     "library": "var_list.py",
     "varRefreshCmd": "print(var_dic_list())"
    },
    "r": {
     "delete_cmd_postfix": ") ",
     "delete_cmd_prefix": "rm(",
     "library": "var_list.r",
     "varRefreshCmd": "cat(var_dic_list()) "
    }
   },
   "types_to_exclude": [
    "module",
    "function",
    "builtin_function_or_method",
    "instance",
    "_Feature"
   ],
   "window_display": false
  }
 },
 "nbformat": 4,
 "nbformat_minor": 2
}
