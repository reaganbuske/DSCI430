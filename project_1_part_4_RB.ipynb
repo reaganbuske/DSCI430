{
 "cells": [
  {
   "cell_type": "markdown",
   "metadata": {},
   "source": [
    "# Project 1 Part 4 - Creating a master parcel database\n",
    "\n",
    "In this part of the project, we will use Python to read, process, and double all of the parcel data into a database.  Note that this is not our only alternative, and in Project 1 Part 4 b, we will look at another alternative, that is reading all the of original, raw files into their own database table, then using SQL to join/link/aggregate the tables.\n",
    "\n",
    "## Chunking Files in Pandas – Part 1 (20 Points)\n",
    "\n",
    "In this part of the project, you will use `Panda`’s to process the data from the MinneMUDAC 2016 competition Dive into Water Data.  The data can be found at the [MinneMUDAC site](http://minneanalytics.org/minnemudac/data/).  You should document your work in a Jupyter notebook, which will be used to submit your solution.  **For the rest of the parts of this project, we will limit ourselves to the years 2004-2014.**\n",
    "\n",
    "1. Remind me why we want to skip 2003."
   ]
  },
  {
   "cell_type": "markdown",
   "metadata": {},
   "source": [
    "2003 has a lot less columns in common with the other years"
   ]
  },
  {
   "cell_type": "markdown",
   "metadata": {},
   "source": [
    "2. Import the common columns list and translation dictionaries from the `.py` file you created in the last part of the project."
   ]
  },
  {
   "cell_type": "code",
   "execution_count": 1,
   "metadata": {},
   "outputs": [],
   "source": [
    "from project_data_Buske import common_columns"
   ]
  },
  {
   "cell_type": "code",
   "execution_count": 2,
   "metadata": {},
   "outputs": [],
   "source": [
    "from project_data_Buske import latlong_to_code"
   ]
  },
  {
   "cell_type": "code",
   "execution_count": 3,
   "metadata": {},
   "outputs": [],
   "source": [
    "from project_data_Buske import latlong_to_name"
   ]
  },
  {
   "cell_type": "code",
   "execution_count": 4,
   "metadata": {},
   "outputs": [],
   "source": [
    "from project_data_Buske import code_to_name"
   ]
  },
  {
   "cell_type": "code",
   "execution_count": 5,
   "metadata": {},
   "outputs": [],
   "source": [
    "from project_data_Buske import code_to_distance"
   ]
  },
  {
   "cell_type": "code",
   "execution_count": 6,
   "metadata": {},
   "outputs": [],
   "source": [
    "from project_data_Buske import latlong_to_distance"
   ]
  },
  {
   "cell_type": "markdown",
   "metadata": {},
   "source": [
    "3. Use glob and a list comprehension to get a list of file names for the years 2004-2014."
   ]
  },
  {
   "cell_type": "code",
   "execution_count": 7,
   "metadata": {},
   "outputs": [
    {
     "data": {
      "text/plain": [
       "['./data/MinneMUDAC_raw_files/2004_metro_tax_parcels.txt',\n",
       " './data/MinneMUDAC_raw_files/2005_metro_tax_parcels.txt',\n",
       " './data/MinneMUDAC_raw_files/2006_metro_tax_parcels.txt',\n",
       " './data/MinneMUDAC_raw_files/2007_metro_tax_parcels.txt',\n",
       " './data/MinneMUDAC_raw_files/2008_metro_tax_parcels.txt',\n",
       " './data/MinneMUDAC_raw_files/2009_metro_tax_parcels.txt',\n",
       " './data/MinneMUDAC_raw_files/2010_metro_tax_parcels.txt',\n",
       " './data/MinneMUDAC_raw_files/2011_metro_tax_parcels.txt',\n",
       " './data/MinneMUDAC_raw_files/2012_metro_tax_parcels.txt',\n",
       " './data/MinneMUDAC_raw_files/2013_metro_tax_parcels.txt',\n",
       " './data/MinneMUDAC_raw_files/2014_metro_tax_parcels.txt']"
      ]
     },
     "execution_count": 7,
     "metadata": {},
     "output_type": "execute_result"
    }
   ],
   "source": [
    "from glob import glob\n",
    "files = glob('./data/MinneMUDAC_raw_files/20**_metro_tax_parcels.txt')[2:-1]\n",
    "[file for file in files]"
   ]
  },
  {
   "cell_type": "code",
   "execution_count": 8,
   "metadata": {},
   "outputs": [],
   "source": [
    "#parc = pd.read_csv('./data/MinneMUDAC_raw_files/2004_metro_tax_parcels.txt',sep = '|', dtype={'centroid_lat':str, 'centroid_long':str})"
   ]
  },
  {
   "cell_type": "code",
   "execution_count": 9,
   "metadata": {},
   "outputs": [],
   "source": [
    "#parc.columns.shape"
   ]
  },
  {
   "cell_type": "code",
   "execution_count": 10,
   "metadata": {},
   "outputs": [],
   "source": [
    "#list((sorted(common_columns)))"
   ]
  },
  {
   "cell_type": "markdown",
   "metadata": {},
   "source": [
    "4. Use the first chunk of the first file to prototype an expression that <br>\n",
    "    a. Selects the common columns <br>\n",
    "    b. Fixes any issues with the column names <br>\n",
    "    c. Changes columns to the correct types (if necessary).  More information about the columns can be found [here](ftp://ftp.gisdata.mn.gov/pub/gdrs/data/pub/us_mn_state_metrogis/plan_regonal_prcls_open/metadata/metadata.html). It is **imperative** that you keep the lat and long columns as strings. <br>\n",
    "    d. Use the translation dictionaries from the last part to add three new columns to the chunk: lake code, lake name, parcel distance to the lake.\n",
    "    e. Filters to only properties that are within 1600 m (~1 mile) of the closest lake."
   ]
  },
  {
   "cell_type": "code",
   "execution_count": 8,
   "metadata": {
    "scrolled": true
   },
   "outputs": [
    {
     "data": {
      "text/plain": [
       "[<pandas.io.parsers.TextFileReader at 0x13dd2e630>,\n",
       " <pandas.io.parsers.TextFileReader at 0x13dd3ee80>,\n",
       " <pandas.io.parsers.TextFileReader at 0x13dd446d8>,\n",
       " <pandas.io.parsers.TextFileReader at 0x13dd44978>,\n",
       " <pandas.io.parsers.TextFileReader at 0x13dd621d0>,\n",
       " <pandas.io.parsers.TextFileReader at 0x13dd51048>,\n",
       " <pandas.io.parsers.TextFileReader at 0x13dd51630>,\n",
       " <pandas.io.parsers.TextFileReader at 0x13dd6bc18>,\n",
       " <pandas.io.parsers.TextFileReader at 0x13dd6b550>,\n",
       " <pandas.io.parsers.TextFileReader at 0x13dd73dd8>,\n",
       " <pandas.io.parsers.TextFileReader at 0x13dd73278>]"
      ]
     },
     "execution_count": 8,
     "metadata": {},
     "output_type": "execute_result"
    }
   ],
   "source": [
    "import pandas as pd\n",
    "fileiterator = [pd.read_csv(file, chunksize = 50000, sep = '|', dtype={'centroid_lat': str, 'centroid_long': str}) for file in files]\n",
    "fileiterator"
   ]
  },
  {
   "cell_type": "code",
   "execution_count": 12,
   "metadata": {},
   "outputs": [
    {
     "name": "stdout",
     "output_type": "stream",
     "text": [
      "<pandas.io.parsers.TextFileReader object at 0x13dd2e630>\n",
      "<pandas.io.parsers.TextFileReader object at 0x13dd3ee80>\n",
      "<pandas.io.parsers.TextFileReader object at 0x13dd446d8>\n",
      "<pandas.io.parsers.TextFileReader object at 0x13dd44978>\n",
      "<pandas.io.parsers.TextFileReader object at 0x13dd621d0>\n",
      "<pandas.io.parsers.TextFileReader object at 0x13dd51048>\n",
      "<pandas.io.parsers.TextFileReader object at 0x13dd51630>\n",
      "<pandas.io.parsers.TextFileReader object at 0x13dd6bc18>\n",
      "<pandas.io.parsers.TextFileReader object at 0x13dd6b550>\n",
      "<pandas.io.parsers.TextFileReader object at 0x13dd73dd8>\n",
      "<pandas.io.parsers.TextFileReader object at 0x13dd73278>\n"
     ]
    }
   ],
   "source": [
    "for i, f in enumerate(fileiterator):\n",
    "    print()"
   ]
  },
  {
   "cell_type": "code",
   "execution_count": 12,
   "metadata": {},
   "outputs": [],
   "source": [
    "from toolz import first"
   ]
  },
  {
   "cell_type": "code",
   "execution_count": 13,
   "metadata": {},
   "outputs": [
    {
     "name": "stderr",
     "output_type": "stream",
     "text": [
      "/Users/tr8934qw/.pyenv/versions/anaconda3-5.3.1/lib/python3.7/site-packages/IPython/core/interactiveshell.py:2901: DtypeWarning: Columns (38,67) have mixed types. Specify dtype option on import or set low_memory=False.\n",
      "  if self.run_code(code, result):\n"
     ]
    },
    {
     "data": {
      "text/html": [
       "<div>\n",
       "<style scoped>\n",
       "    .dataframe tbody tr th:only-of-type {\n",
       "        vertical-align: middle;\n",
       "    }\n",
       "\n",
       "    .dataframe tbody tr th {\n",
       "        vertical-align: top;\n",
       "    }\n",
       "\n",
       "    .dataframe thead th {\n",
       "        text-align: right;\n",
       "    }\n",
       "</style>\n",
       "<table border=\"1\" class=\"dataframe\">\n",
       "  <thead>\n",
       "    <tr style=\"text-align: right;\">\n",
       "      <th></th>\n",
       "      <th>ACRES_DEED</th>\n",
       "      <th>ACRES_POLY</th>\n",
       "      <th>AGPRE_ENRD</th>\n",
       "      <th>AGPRE_EXPD</th>\n",
       "      <th>AG_PRESERV</th>\n",
       "      <th>BASEMENT</th>\n",
       "      <th>BLDG_NUM</th>\n",
       "      <th>BLOCK</th>\n",
       "      <th>CITY</th>\n",
       "      <th>CITY_USPS</th>\n",
       "      <th>...</th>\n",
       "      <th>XUSE1_DESC</th>\n",
       "      <th>XUSE2_DESC</th>\n",
       "      <th>XUSE3_DESC</th>\n",
       "      <th>XUSE4_DESC</th>\n",
       "      <th>YEAR_BUILT</th>\n",
       "      <th>Year</th>\n",
       "      <th>ZIP</th>\n",
       "      <th>ZIP4</th>\n",
       "      <th>centroid_lat</th>\n",
       "      <th>centroid_long</th>\n",
       "    </tr>\n",
       "  </thead>\n",
       "  <tbody>\n",
       "    <tr>\n",
       "      <th>0</th>\n",
       "      <td>0.0</td>\n",
       "      <td>8.03</td>\n",
       "      <td>NaN</td>\n",
       "      <td>NaN</td>\n",
       "      <td>N</td>\n",
       "      <td>NaN</td>\n",
       "      <td>NaN</td>\n",
       "      <td>NaN</td>\n",
       "      <td>SAINT FRANCIS</td>\n",
       "      <td>NaN</td>\n",
       "      <td>...</td>\n",
       "      <td>NaN</td>\n",
       "      <td>NaN</td>\n",
       "      <td>NaN</td>\n",
       "      <td>NaN</td>\n",
       "      <td>1980.0</td>\n",
       "      <td>2004</td>\n",
       "      <td>NaN</td>\n",
       "      <td>NaN</td>\n",
       "      <td>45.41332</td>\n",
       "      <td>-93.26739</td>\n",
       "    </tr>\n",
       "    <tr>\n",
       "      <th>1</th>\n",
       "      <td>0.0</td>\n",
       "      <td>0.93</td>\n",
       "      <td>NaN</td>\n",
       "      <td>NaN</td>\n",
       "      <td>N</td>\n",
       "      <td>NaN</td>\n",
       "      <td>24457.0</td>\n",
       "      <td>NaN</td>\n",
       "      <td>SAINT FRANCIS</td>\n",
       "      <td>BETHEL</td>\n",
       "      <td>...</td>\n",
       "      <td>NaN</td>\n",
       "      <td>NaN</td>\n",
       "      <td>NaN</td>\n",
       "      <td>NaN</td>\n",
       "      <td>1974.0</td>\n",
       "      <td>2004</td>\n",
       "      <td>55005</td>\n",
       "      <td>NaN</td>\n",
       "      <td>45.41354</td>\n",
       "      <td>-93.2701</td>\n",
       "    </tr>\n",
       "    <tr>\n",
       "      <th>2</th>\n",
       "      <td>0.0</td>\n",
       "      <td>8.75</td>\n",
       "      <td>NaN</td>\n",
       "      <td>NaN</td>\n",
       "      <td>N</td>\n",
       "      <td>NaN</td>\n",
       "      <td>24442.0</td>\n",
       "      <td>NaN</td>\n",
       "      <td>SAINT FRANCIS</td>\n",
       "      <td>BETHEL</td>\n",
       "      <td>...</td>\n",
       "      <td>NaN</td>\n",
       "      <td>NaN</td>\n",
       "      <td>NaN</td>\n",
       "      <td>NaN</td>\n",
       "      <td>1969.0</td>\n",
       "      <td>2004</td>\n",
       "      <td>55005</td>\n",
       "      <td>NaN</td>\n",
       "      <td>45.41318</td>\n",
       "      <td>-93.27344</td>\n",
       "    </tr>\n",
       "    <tr>\n",
       "      <th>3</th>\n",
       "      <td>0.0</td>\n",
       "      <td>11.17</td>\n",
       "      <td>NaN</td>\n",
       "      <td>NaN</td>\n",
       "      <td>N</td>\n",
       "      <td>NaN</td>\n",
       "      <td>410.0</td>\n",
       "      <td>NaN</td>\n",
       "      <td>SAINT FRANCIS</td>\n",
       "      <td>BETHEL</td>\n",
       "      <td>...</td>\n",
       "      <td>NaN</td>\n",
       "      <td>NaN</td>\n",
       "      <td>NaN</td>\n",
       "      <td>NaN</td>\n",
       "      <td>1989.0</td>\n",
       "      <td>2004</td>\n",
       "      <td>55005</td>\n",
       "      <td>NaN</td>\n",
       "      <td>45.41167</td>\n",
       "      <td>-93.27684</td>\n",
       "    </tr>\n",
       "    <tr>\n",
       "      <th>4</th>\n",
       "      <td>0.0</td>\n",
       "      <td>14.46</td>\n",
       "      <td>NaN</td>\n",
       "      <td>NaN</td>\n",
       "      <td>N</td>\n",
       "      <td>NaN</td>\n",
       "      <td>480.0</td>\n",
       "      <td>NaN</td>\n",
       "      <td>SAINT FRANCIS</td>\n",
       "      <td>BETHEL</td>\n",
       "      <td>...</td>\n",
       "      <td>NaN</td>\n",
       "      <td>NaN</td>\n",
       "      <td>NaN</td>\n",
       "      <td>NaN</td>\n",
       "      <td>1995.0</td>\n",
       "      <td>2004</td>\n",
       "      <td>55070</td>\n",
       "      <td>NaN</td>\n",
       "      <td>45.41169</td>\n",
       "      <td>-93.27849</td>\n",
       "    </tr>\n",
       "  </tbody>\n",
       "</table>\n",
       "<p>5 rows × 71 columns</p>\n",
       "</div>"
      ],
      "text/plain": [
       "   ACRES_DEED  ACRES_POLY  AGPRE_ENRD  AGPRE_EXPD AG_PRESERV  BASEMENT  \\\n",
       "0         0.0        8.03         NaN         NaN          N       NaN   \n",
       "1         0.0        0.93         NaN         NaN          N       NaN   \n",
       "2         0.0        8.75         NaN         NaN          N       NaN   \n",
       "3         0.0       11.17         NaN         NaN          N       NaN   \n",
       "4         0.0       14.46         NaN         NaN          N       NaN   \n",
       "\n",
       "   BLDG_NUM BLOCK           CITY CITY_USPS  ...  XUSE1_DESC  XUSE2_DESC  \\\n",
       "0       NaN   NaN  SAINT FRANCIS       NaN  ...         NaN         NaN   \n",
       "1   24457.0   NaN  SAINT FRANCIS    BETHEL  ...         NaN         NaN   \n",
       "2   24442.0   NaN  SAINT FRANCIS    BETHEL  ...         NaN         NaN   \n",
       "3     410.0   NaN  SAINT FRANCIS    BETHEL  ...         NaN         NaN   \n",
       "4     480.0   NaN  SAINT FRANCIS    BETHEL  ...         NaN         NaN   \n",
       "\n",
       "   XUSE3_DESC  XUSE4_DESC  YEAR_BUILT  Year    ZIP  ZIP4  centroid_lat  \\\n",
       "0         NaN         NaN      1980.0  2004    NaN   NaN      45.41332   \n",
       "1         NaN         NaN      1974.0  2004  55005   NaN      45.41354   \n",
       "2         NaN         NaN      1969.0  2004  55005   NaN      45.41318   \n",
       "3         NaN         NaN      1989.0  2004  55005   NaN      45.41167   \n",
       "4         NaN         NaN      1995.0  2004  55070   NaN      45.41169   \n",
       "\n",
       "  centroid_long  \n",
       "0     -93.26739  \n",
       "1      -93.2701  \n",
       "2     -93.27344  \n",
       "3     -93.27684  \n",
       "4     -93.27849  \n",
       "\n",
       "[5 rows x 71 columns]"
      ]
     },
     "execution_count": 13,
     "metadata": {},
     "output_type": "execute_result"
    }
   ],
   "source": [
    "firstchunk = first(fileiterator[0])\n",
    "firstchunk.head()"
   ]
  },
  {
   "cell_type": "code",
   "execution_count": 14,
   "metadata": {},
   "outputs": [],
   "source": [
    "from dfply import *\n",
    "from more_dfply import *"
   ]
  },
  {
   "cell_type": "code",
   "execution_count": 15,
   "metadata": {},
   "outputs": [],
   "source": [
    "cols_to_keep = ['ACRES_DEED',\n",
    "                'ACRES_POLY',\n",
    "                'AGPRE_ENRD',\n",
    "                'AG_PRESERV',\n",
    "                'BASEMENT',\n",
    "                'CITY',\n",
    "                'COOLING',\n",
    "                'DWELL_TYPE',\n",
    "                'EMV_BLDG',\n",
    "                'EMV_LAND',\n",
    "                'FIN_SQ_FT',\n",
    "                'GARAGE', \n",
    "                'GARAGESQFT', \n",
    "                'GREEN_ACRE',\n",
    "                'HOMESTEAD',\n",
    "                #'ID',\n",
    "                'LANDMARK',\n",
    "                'OWN_ADD_L1',\n",
    "                'OWN_ADD_L2',\n",
    "                'OWN_ADD_L3',\n",
    "                'PARC_CODE',\n",
    "                'PIN', \n",
    "                'SALE_VALUE', \n",
    "                'SPEC_ASSES',\n",
    "                'TAX_CAPAC', \n",
    "                'TAX_EXEMPT', \n",
    "                'TOTAL_TAX', \n",
    "                'USE1_DESC',\n",
    "                'USE2_DESC',\n",
    "                'USE3_DESC',\n",
    "                'USE4_DESC',\n",
    "                'WSHD_DIST',\n",
    "                'XUSE1_DESC',\n",
    "                'XUSE2_DESC',\n",
    "                'XUSE3_DESC',\n",
    "                'XUSE4_DESC',\n",
    "                'YEAR_BUILT',\n",
    "                'Year',\n",
    "                'centroid_lat',\n",
    "                'centroid_long']"
   ]
  },
  {
   "cell_type": "code",
   "execution_count": 69,
   "metadata": {},
   "outputs": [
    {
     "data": {
      "text/html": [
       "<div>\n",
       "<style scoped>\n",
       "    .dataframe tbody tr th:only-of-type {\n",
       "        vertical-align: middle;\n",
       "    }\n",
       "\n",
       "    .dataframe tbody tr th {\n",
       "        vertical-align: top;\n",
       "    }\n",
       "\n",
       "    .dataframe thead th {\n",
       "        text-align: right;\n",
       "    }\n",
       "</style>\n",
       "<table border=\"1\" class=\"dataframe\">\n",
       "  <thead>\n",
       "    <tr style=\"text-align: right;\">\n",
       "      <th></th>\n",
       "      <th>ACRES_DEED</th>\n",
       "      <th>ACRES_POLY</th>\n",
       "      <th>AGPRE_ENRD</th>\n",
       "      <th>AG_PRESERV</th>\n",
       "      <th>BASEMENT</th>\n",
       "      <th>CITY</th>\n",
       "      <th>COOLING</th>\n",
       "      <th>DWELL_TYPE</th>\n",
       "      <th>EMV_BLDG</th>\n",
       "      <th>EMV_LAND</th>\n",
       "      <th>...</th>\n",
       "      <th>XUSE2_DESC</th>\n",
       "      <th>XUSE3_DESC</th>\n",
       "      <th>XUSE4_DESC</th>\n",
       "      <th>YEAR_BUILT</th>\n",
       "      <th>Year</th>\n",
       "      <th>centroid_lat</th>\n",
       "      <th>centroid_long</th>\n",
       "      <th>lake_code</th>\n",
       "      <th>lake_name</th>\n",
       "      <th>parcel_dist_to_lake</th>\n",
       "    </tr>\n",
       "  </thead>\n",
       "  <tbody>\n",
       "  </tbody>\n",
       "</table>\n",
       "<p>0 rows × 42 columns</p>\n",
       "</div>"
      ],
      "text/plain": [
       "Empty DataFrame\n",
       "Columns: [ACRES_DEED, ACRES_POLY, AGPRE_ENRD, AG_PRESERV, BASEMENT, CITY, COOLING, DWELL_TYPE, EMV_BLDG, EMV_LAND, FIN_SQ_FT, GARAGE, GARAGESQFT, GREEN_ACRE, HOMESTEAD, LANDMARK, OWN_ADD_L1, OWN_ADD_L2, OWN_ADD_L3, PARC_CODE, PIN, SALE_VALUE, SPEC_ASSES, TAX_CAPAC, TAX_EXEMPT, TOTAL_TAX, USE1_DESC, USE2_DESC, USE3_DESC, USE4_DESC, WSHD_DIST, XUSE1_DESC, XUSE2_DESC, XUSE3_DESC, XUSE4_DESC, YEAR_BUILT, Year, centroid_lat, centroid_long, lake_code, lake_name, parcel_dist_to_lake]\n",
       "Index: []\n",
       "\n",
       "[0 rows x 42 columns]"
      ]
     },
     "execution_count": 69,
     "metadata": {},
     "output_type": "execute_result"
    }
   ],
   "source": [
    "exp = (firstchunk \n",
    "         >> select(cols_to_keep)\n",
    "         >> mutate(lat_long = pd.Series(zip(firstchunk.centroid_lat, firstchunk.centroid_long)).astype(str))\n",
    "         >> mutate(lake_code = recode(X.lat_long, latlong_to_code).astype(str))\n",
    "         >> mutate(lake_name = recode(X.lat_long, latlong_to_name).astype(str))\n",
    "         >> mutate(parcel_dist_to_lake = recode(X.lat_long, latlong_to_distance).astype(str))\n",
    "         >> drop(X.lat_long)\n",
    "         >> filter_by(~X.lake_name.isna())\n",
    "         >> filter_by(~X.parcel_dist_to_lake.astype(float).isna())\n",
    "         >> filter_by(X.parcel_dist_to_lake.astype(float) <= 1600)\n",
    "      )         \n",
    "exp"
   ]
  },
  {
   "cell_type": "code",
   "execution_count": 59,
   "metadata": {},
   "outputs": [],
   "source": []
  },
  {
   "cell_type": "code",
   "execution_count": 17,
   "metadata": {},
   "outputs": [],
   "source": [
    "cols_to_drop = ['AGPRE_EXPD',#drop\n",
    "                'BLDG_NUM',#drop\n",
    "                'BLOCK',#drop\n",
    "                'CITY_USPS',#drop\n",
    "                'COUNTY_ID',#drop\n",
    "                'EMV_TOTAL',#drop\n",
    "                'HEATING', #drop\n",
    "                'HOME_STYLE',#drop\n",
    "                'LOT',#drop\n",
    "                'MULTI_USES',#drop\n",
    "                'NUM_UNITS',#drop\n",
    "                'OPEN_SPACE',#drop\n",
    "                'OWNER_MORE',#drop\n",
    "                'OWNER_NAME',#drop\n",
    "                'PLAT_NAME', #drop\n",
    "                'PREFIXTYPE', #drop\n",
    "                'PREFIX_DIR', #drop\n",
    "                'SALE_DATE', #drop\n",
    "                'SCHOOL_DST', #drop\n",
    "                'STREETNAME', #drop\n",
    "                'STREETTYPE', #drop\n",
    "                'SUFFIX_DIR', #drop\n",
    "                'Shape_Area', #drop\n",
    "                'Shape_Leng', #drop\n",
    "                'TAX_ADD_L1', #drop\n",
    "                'TAX_ADD_L2', #drop\n",
    "                'TAX_ADD_L3', #drop\n",
    "                'TAX_NAME', #drop\n",
    "                'UNIT_INFO', #drop\n",
    "                'ZIP',#drop\n",
    "                'ZIP4',#drop\n",
    "                ]"
   ]
  },
  {
   "cell_type": "code",
   "execution_count": null,
   "metadata": {},
   "outputs": [],
   "source": []
  },
  {
   "cell_type": "code",
   "execution_count": null,
   "metadata": {},
   "outputs": [],
   "source": []
  },
  {
   "cell_type": "markdown",
   "metadata": {},
   "source": [
    "5. Now convert your expression from the last problem to a function and test that this function works on the first few chunks of each file."
   ]
  },
  {
   "cell_type": "code",
   "execution_count": 18,
   "metadata": {},
   "outputs": [
    {
     "data": {
      "text/plain": [
       "<pandas.io.parsers.TextFileReader at 0x12ae9b198>"
      ]
     },
     "execution_count": 18,
     "metadata": {},
     "output_type": "execute_result"
    }
   ],
   "source": [
    "from functoolz import pipeable\n",
    "read_parcel = lambda path: pd.read_csv(path, chunksize = 500, sep = '|', dtype={'centroid_lat':str, 'centroid_long':str})\n",
    "read_parcel('./data/MinneMUDAC_raw_files/2004_metro_tax_parcels.txt')"
   ]
  },
  {
   "cell_type": "code",
   "execution_count": 70,
   "metadata": {},
   "outputs": [],
   "source": [
    "addcolumns = pipeable(lambda chunk: (chunk \n",
    "                                             >> select(cols_to_keep)\n",
    "                                             >> mutate(lat_long = pd.Series(zip(firstchunk.centroid_lat, firstchunk.centroid_long)).astype(str))\n",
    "                                             >> mutate(lake_code = recode(X.lat_long, latlong_to_code).astype(str))\n",
    "                                             >> mutate(lake_name = recode(X.lat_long, latlong_to_name).astype(str))\n",
    "                                             >> mutate(parcel_dist_to_lake = recode(X.lat_long, latlong_to_distance).astype(str))\n",
    "                                             >> drop(X.lat_long)\n",
    "                                             >> filter_by(~X.lake_name.isna())\n",
    "                                             >> filter_by(~X.parcel_dist_to_lake.astype(float).isna())\n",
    "                                             >> filter_by(X.parcel_dist_to_lake.astype(float) <= 1600)\n",
    "                            )     )    "
   ]
  },
  {
   "cell_type": "code",
   "execution_count": null,
   "metadata": {},
   "outputs": [],
   "source": []
  },
  {
   "cell_type": "code",
   "execution_count": 71,
   "metadata": {},
   "outputs": [
    {
     "data": {
      "text/html": [
       "<div>\n",
       "<style scoped>\n",
       "    .dataframe tbody tr th:only-of-type {\n",
       "        vertical-align: middle;\n",
       "    }\n",
       "\n",
       "    .dataframe tbody tr th {\n",
       "        vertical-align: top;\n",
       "    }\n",
       "\n",
       "    .dataframe thead th {\n",
       "        text-align: right;\n",
       "    }\n",
       "</style>\n",
       "<table border=\"1\" class=\"dataframe\">\n",
       "  <thead>\n",
       "    <tr style=\"text-align: right;\">\n",
       "      <th></th>\n",
       "      <th>ACRES_DEED</th>\n",
       "      <th>ACRES_POLY</th>\n",
       "      <th>AGPRE_ENRD</th>\n",
       "      <th>AG_PRESERV</th>\n",
       "      <th>BASEMENT</th>\n",
       "      <th>CITY</th>\n",
       "      <th>COOLING</th>\n",
       "      <th>DWELL_TYPE</th>\n",
       "      <th>EMV_BLDG</th>\n",
       "      <th>EMV_LAND</th>\n",
       "      <th>...</th>\n",
       "      <th>XUSE2_DESC</th>\n",
       "      <th>XUSE3_DESC</th>\n",
       "      <th>XUSE4_DESC</th>\n",
       "      <th>YEAR_BUILT</th>\n",
       "      <th>Year</th>\n",
       "      <th>centroid_lat</th>\n",
       "      <th>centroid_long</th>\n",
       "      <th>lake_code</th>\n",
       "      <th>lake_name</th>\n",
       "      <th>parcel_dist_to_lake</th>\n",
       "    </tr>\n",
       "  </thead>\n",
       "  <tbody>\n",
       "  </tbody>\n",
       "</table>\n",
       "<p>0 rows × 42 columns</p>\n",
       "</div>"
      ],
      "text/plain": [
       "Empty DataFrame\n",
       "Columns: [ACRES_DEED, ACRES_POLY, AGPRE_ENRD, AG_PRESERV, BASEMENT, CITY, COOLING, DWELL_TYPE, EMV_BLDG, EMV_LAND, FIN_SQ_FT, GARAGE, GARAGESQFT, GREEN_ACRE, HOMESTEAD, LANDMARK, OWN_ADD_L1, OWN_ADD_L2, OWN_ADD_L3, PARC_CODE, PIN, SALE_VALUE, SPEC_ASSES, TAX_CAPAC, TAX_EXEMPT, TOTAL_TAX, USE1_DESC, USE2_DESC, USE3_DESC, USE4_DESC, WSHD_DIST, XUSE1_DESC, XUSE2_DESC, XUSE3_DESC, XUSE4_DESC, YEAR_BUILT, Year, centroid_lat, centroid_long, lake_code, lake_name, parcel_dist_to_lake]\n",
       "Index: []\n",
       "\n",
       "[0 rows x 42 columns]"
      ]
     },
     "execution_count": 71,
     "metadata": {},
     "output_type": "execute_result"
    }
   ],
   "source": [
    "addcolumns(firstchunk)"
   ]
  },
  {
   "cell_type": "code",
   "execution_count": 72,
   "metadata": {},
   "outputs": [
    {
     "ename": "AttributeError",
     "evalue": "'TextFileReader' object has no attribute 'iloc'",
     "output_type": "error",
     "traceback": [
      "\u001b[0;31m---------------------------------------------------------------------------\u001b[0m",
      "\u001b[0;31mAttributeError\u001b[0m                            Traceback (most recent call last)",
      "\u001b[0;32m<ipython-input-72-db8f2b70d047>\u001b[0m in \u001b[0;36m<module>\u001b[0;34m()\u001b[0m\n\u001b[0;32m----> 1\u001b[0;31m \u001b[0mch\u001b[0m \u001b[0;34m=\u001b[0m \u001b[0mfirst\u001b[0m\u001b[0;34m(\u001b[0m\u001b[0mfileiterator\u001b[0m\u001b[0;34m[\u001b[0m\u001b[0;36m4\u001b[0m\u001b[0;34m]\u001b[0m\u001b[0;34m)\u001b[0m\u001b[0;34m\u001b[0m\u001b[0m\n\u001b[0m\u001b[1;32m      2\u001b[0m \u001b[0maddcolumns\u001b[0m\u001b[0;34m(\u001b[0m\u001b[0mch\u001b[0m\u001b[0;34m)\u001b[0m\u001b[0;34m\u001b[0m\u001b[0m\n",
      "\u001b[0;32m~/.pyenv/versions/anaconda3-5.3.1/lib/python3.7/site-packages/dfply/base.py\u001b[0m in \u001b[0;36mwrapper\u001b[0;34m(*args, **kwargs)\u001b[0m\n\u001b[1;32m     58\u001b[0m             \u001b[0;32mreturn\u001b[0m \u001b[0mIntention\u001b[0m\u001b[0;34m(\u001b[0m\u001b[0mdelayed\u001b[0m\u001b[0;34m)\u001b[0m\u001b[0;34m\u001b[0m\u001b[0m\n\u001b[1;32m     59\u001b[0m         \u001b[0;32melse\u001b[0m\u001b[0;34m:\u001b[0m\u001b[0;34m\u001b[0m\u001b[0m\n\u001b[0;32m---> 60\u001b[0;31m             \u001b[0;32mreturn\u001b[0m \u001b[0mf\u001b[0m\u001b[0;34m(\u001b[0m\u001b[0;34m*\u001b[0m\u001b[0margs\u001b[0m\u001b[0;34m,\u001b[0m \u001b[0;34m**\u001b[0m\u001b[0mkwargs\u001b[0m\u001b[0;34m)\u001b[0m\u001b[0;34m\u001b[0m\u001b[0m\n\u001b[0m\u001b[1;32m     61\u001b[0m \u001b[0;34m\u001b[0m\u001b[0m\n\u001b[1;32m     62\u001b[0m     \u001b[0;32mreturn\u001b[0m \u001b[0mwrapper\u001b[0m\u001b[0;34m\u001b[0m\u001b[0m\n",
      "\u001b[0;32m~/.pyenv/versions/anaconda3-5.3.1/lib/python3.7/site-packages/dfply/summary_functions.py\u001b[0m in \u001b[0;36mfirst\u001b[0;34m(series, order_by)\u001b[0m\n\u001b[1;32m     38\u001b[0m     \u001b[0;32mif\u001b[0m \u001b[0morder_by\u001b[0m \u001b[0;32mis\u001b[0m \u001b[0;32mnot\u001b[0m \u001b[0;32mNone\u001b[0m\u001b[0;34m:\u001b[0m\u001b[0;34m\u001b[0m\u001b[0m\n\u001b[1;32m     39\u001b[0m         \u001b[0mseries\u001b[0m \u001b[0;34m=\u001b[0m \u001b[0morder_series_by\u001b[0m\u001b[0;34m(\u001b[0m\u001b[0mseries\u001b[0m\u001b[0;34m,\u001b[0m \u001b[0morder_by\u001b[0m\u001b[0;34m)\u001b[0m\u001b[0;34m\u001b[0m\u001b[0m\n\u001b[0;32m---> 40\u001b[0;31m     \u001b[0mfirst_s\u001b[0m \u001b[0;34m=\u001b[0m \u001b[0mseries\u001b[0m\u001b[0;34m.\u001b[0m\u001b[0miloc\u001b[0m\u001b[0;34m[\u001b[0m\u001b[0;36m0\u001b[0m\u001b[0;34m]\u001b[0m\u001b[0;34m\u001b[0m\u001b[0m\n\u001b[0m\u001b[1;32m     41\u001b[0m     \u001b[0;32mreturn\u001b[0m \u001b[0mfirst_s\u001b[0m\u001b[0;34m\u001b[0m\u001b[0m\n\u001b[1;32m     42\u001b[0m \u001b[0;34m\u001b[0m\u001b[0m\n",
      "\u001b[0;31mAttributeError\u001b[0m: 'TextFileReader' object has no attribute 'iloc'"
     ]
    }
   ],
   "source": [
    "ch = first(fileiterator[4])\n",
    "addcolumns(ch)"
   ]
  },
  {
   "cell_type": "code",
   "execution_count": 73,
   "metadata": {},
   "outputs": [
    {
     "name": "stderr",
     "output_type": "stream",
     "text": [
      "/Users/tr8934qw/.pyenv/versions/anaconda3-5.3.1/lib/python3.7/site-packages/IPython/core/interactiveshell.py:2785: DtypeWarning: Columns (6) have mixed types. Specify dtype option on import or set low_memory=False.\n",
      "  interactivity=interactivity, compiler=compiler, result=result)\n"
     ]
    },
    {
     "data": {
      "text/html": [
       "<div>\n",
       "<style scoped>\n",
       "    .dataframe tbody tr th:only-of-type {\n",
       "        vertical-align: middle;\n",
       "    }\n",
       "\n",
       "    .dataframe tbody tr th {\n",
       "        vertical-align: top;\n",
       "    }\n",
       "\n",
       "    .dataframe thead th {\n",
       "        text-align: right;\n",
       "    }\n",
       "</style>\n",
       "<table border=\"1\" class=\"dataframe\">\n",
       "  <thead>\n",
       "    <tr style=\"text-align: right;\">\n",
       "      <th></th>\n",
       "      <th>ACRES_DEED</th>\n",
       "      <th>ACRES_POLY</th>\n",
       "      <th>AGPRE_ENRD</th>\n",
       "      <th>AG_PRESERV</th>\n",
       "      <th>BASEMENT</th>\n",
       "      <th>CITY</th>\n",
       "      <th>COOLING</th>\n",
       "      <th>DWELL_TYPE</th>\n",
       "      <th>EMV_BLDG</th>\n",
       "      <th>EMV_LAND</th>\n",
       "      <th>...</th>\n",
       "      <th>XUSE2_DESC</th>\n",
       "      <th>XUSE3_DESC</th>\n",
       "      <th>XUSE4_DESC</th>\n",
       "      <th>YEAR_BUILT</th>\n",
       "      <th>Year</th>\n",
       "      <th>centroid_lat</th>\n",
       "      <th>centroid_long</th>\n",
       "      <th>lake_code</th>\n",
       "      <th>lake_name</th>\n",
       "      <th>parcel_dist_to_lake</th>\n",
       "    </tr>\n",
       "  </thead>\n",
       "  <tbody>\n",
       "  </tbody>\n",
       "</table>\n",
       "<p>0 rows × 42 columns</p>\n",
       "</div>"
      ],
      "text/plain": [
       "Empty DataFrame\n",
       "Columns: [ACRES_DEED, ACRES_POLY, AGPRE_ENRD, AG_PRESERV, BASEMENT, CITY, COOLING, DWELL_TYPE, EMV_BLDG, EMV_LAND, FIN_SQ_FT, GARAGE, GARAGESQFT, GREEN_ACRE, HOMESTEAD, LANDMARK, OWN_ADD_L1, OWN_ADD_L2, OWN_ADD_L3, PARC_CODE, PIN, SALE_VALUE, SPEC_ASSES, TAX_CAPAC, TAX_EXEMPT, TOTAL_TAX, USE1_DESC, USE2_DESC, USE3_DESC, USE4_DESC, WSHD_DIST, XUSE1_DESC, XUSE2_DESC, XUSE3_DESC, XUSE4_DESC, YEAR_BUILT, Year, centroid_lat, centroid_long, lake_code, lake_name, parcel_dist_to_lake]\n",
       "Index: []\n",
       "\n",
       "[0 rows x 42 columns]"
      ]
     },
     "execution_count": 73,
     "metadata": {},
     "output_type": "execute_result"
    }
   ],
   "source": [
    "ch2 = next(fileiterator[5])\n",
    "addcolumns(ch2)"
   ]
  },
  {
   "cell_type": "markdown",
   "metadata": {},
   "source": [
    "6. We need to make a unique primary key for each row in the combined parcel file.<br>\n",
    "    a. There is a column that appears to be a unique parcel id.  Double check that this is a true primary key for each individual file. (To do this you need to verify that the number of unique values is the same as the number of rows for each of the parcel files.  **Hint:** For each file, use of the accumulator pattern with two accumualtors (one number and one data frame). <br>\n",
    "    b. Explain why this column will not work as a primary key if we want to combine all years in one database. <br>\n",
    "    c. Suppose we make a new column that consist of `str(year) + '-' + PIN`.  Explain why this should make a proper primary key for the combined data. <br>"
   ]
  },
  {
   "cell_type": "code",
   "execution_count": 22,
   "metadata": {},
   "outputs": [
    {
     "ename": "AttributeError",
     "evalue": "'TextFileReader' object has no attribute 'iloc'",
     "output_type": "error",
     "traceback": [
      "\u001b[0;31m---------------------------------------------------------------------------\u001b[0m",
      "\u001b[0;31mAttributeError\u001b[0m                            Traceback (most recent call last)",
      "\u001b[0;32m<ipython-input-22-cf1980c208d4>\u001b[0m in \u001b[0;36m<module>\u001b[0;34m()\u001b[0m\n\u001b[0;32m----> 1\u001b[0;31m \u001b[0mfirstchunks\u001b[0m \u001b[0;34m=\u001b[0m \u001b[0;34m[\u001b[0m\u001b[0mfirst\u001b[0m\u001b[0;34m(\u001b[0m\u001b[0mf\u001b[0m\u001b[0;34m)\u001b[0m \u001b[0;32mfor\u001b[0m \u001b[0mf\u001b[0m \u001b[0;32min\u001b[0m \u001b[0mfileiterator\u001b[0m\u001b[0;34m]\u001b[0m\u001b[0;34m\u001b[0m\u001b[0m\n\u001b[0m",
      "\u001b[0;32m<ipython-input-22-cf1980c208d4>\u001b[0m in \u001b[0;36m<listcomp>\u001b[0;34m(.0)\u001b[0m\n\u001b[0;32m----> 1\u001b[0;31m \u001b[0mfirstchunks\u001b[0m \u001b[0;34m=\u001b[0m \u001b[0;34m[\u001b[0m\u001b[0mfirst\u001b[0m\u001b[0;34m(\u001b[0m\u001b[0mf\u001b[0m\u001b[0;34m)\u001b[0m \u001b[0;32mfor\u001b[0m \u001b[0mf\u001b[0m \u001b[0;32min\u001b[0m \u001b[0mfileiterator\u001b[0m\u001b[0;34m]\u001b[0m\u001b[0;34m\u001b[0m\u001b[0m\n\u001b[0m",
      "\u001b[0;32m~/.pyenv/versions/anaconda3-5.3.1/lib/python3.7/site-packages/dfply/base.py\u001b[0m in \u001b[0;36mwrapper\u001b[0;34m(*args, **kwargs)\u001b[0m\n\u001b[1;32m     58\u001b[0m             \u001b[0;32mreturn\u001b[0m \u001b[0mIntention\u001b[0m\u001b[0;34m(\u001b[0m\u001b[0mdelayed\u001b[0m\u001b[0;34m)\u001b[0m\u001b[0;34m\u001b[0m\u001b[0m\n\u001b[1;32m     59\u001b[0m         \u001b[0;32melse\u001b[0m\u001b[0;34m:\u001b[0m\u001b[0;34m\u001b[0m\u001b[0m\n\u001b[0;32m---> 60\u001b[0;31m             \u001b[0;32mreturn\u001b[0m \u001b[0mf\u001b[0m\u001b[0;34m(\u001b[0m\u001b[0;34m*\u001b[0m\u001b[0margs\u001b[0m\u001b[0;34m,\u001b[0m \u001b[0;34m**\u001b[0m\u001b[0mkwargs\u001b[0m\u001b[0;34m)\u001b[0m\u001b[0;34m\u001b[0m\u001b[0m\n\u001b[0m\u001b[1;32m     61\u001b[0m \u001b[0;34m\u001b[0m\u001b[0m\n\u001b[1;32m     62\u001b[0m     \u001b[0;32mreturn\u001b[0m \u001b[0mwrapper\u001b[0m\u001b[0;34m\u001b[0m\u001b[0m\n",
      "\u001b[0;32m~/.pyenv/versions/anaconda3-5.3.1/lib/python3.7/site-packages/dfply/summary_functions.py\u001b[0m in \u001b[0;36mfirst\u001b[0;34m(series, order_by)\u001b[0m\n\u001b[1;32m     38\u001b[0m     \u001b[0;32mif\u001b[0m \u001b[0morder_by\u001b[0m \u001b[0;32mis\u001b[0m \u001b[0;32mnot\u001b[0m \u001b[0;32mNone\u001b[0m\u001b[0;34m:\u001b[0m\u001b[0;34m\u001b[0m\u001b[0m\n\u001b[1;32m     39\u001b[0m         \u001b[0mseries\u001b[0m \u001b[0;34m=\u001b[0m \u001b[0morder_series_by\u001b[0m\u001b[0;34m(\u001b[0m\u001b[0mseries\u001b[0m\u001b[0;34m,\u001b[0m \u001b[0morder_by\u001b[0m\u001b[0;34m)\u001b[0m\u001b[0;34m\u001b[0m\u001b[0m\n\u001b[0;32m---> 40\u001b[0;31m     \u001b[0mfirst_s\u001b[0m \u001b[0;34m=\u001b[0m \u001b[0mseries\u001b[0m\u001b[0;34m.\u001b[0m\u001b[0miloc\u001b[0m\u001b[0;34m[\u001b[0m\u001b[0;36m0\u001b[0m\u001b[0;34m]\u001b[0m\u001b[0;34m\u001b[0m\u001b[0m\n\u001b[0m\u001b[1;32m     41\u001b[0m     \u001b[0;32mreturn\u001b[0m \u001b[0mfirst_s\u001b[0m\u001b[0;34m\u001b[0m\u001b[0m\n\u001b[1;32m     42\u001b[0m \u001b[0;34m\u001b[0m\u001b[0m\n",
      "\u001b[0;31mAttributeError\u001b[0m: 'TextFileReader' object has no attribute 'iloc'"
     ]
    }
   ],
   "source": [
    "firstchunks = [first(f) for f in fileiterator]"
   ]
  },
  {
   "cell_type": "code",
   "execution_count": 74,
   "metadata": {
    "scrolled": true
   },
   "outputs": [
    {
     "data": {
      "text/plain": [
       "array(['UPPER RUM RIVER WMO', 'SIX CITIES WMO',\n",
       "       'RICE CREEK WATERSHED DISTRICT', 'COON CREEK WATERSHED DISTRICT',\n",
       "       'LOWER RUM RIVER WMO', nan, 'SIX CITIES WATERSHED MGMT ORG',\n",
       "       'SUNRISE RIVER WMO', 'VADNAIS LAKE AREA WMO'], dtype=object)"
      ]
     },
     "execution_count": 74,
     "metadata": {},
     "output_type": "execute_result"
    }
   ],
   "source": [
    "#list(enumerate(firstchunk.columns))\n",
    "firstchunk.WSHD_DIST.unique()"
   ]
  },
  {
   "cell_type": "code",
   "execution_count": 75,
   "metadata": {},
   "outputs": [],
   "source": [
    "string_dtypes = {k:str for k in firstchunk.columns}"
   ]
  },
  {
   "cell_type": "code",
   "execution_count": 76,
   "metadata": {},
   "outputs": [
    {
     "ename": "NameError",
     "evalue": "name 'firstchunks' is not defined",
     "output_type": "error",
     "traceback": [
      "\u001b[0;31m---------------------------------------------------------------------------\u001b[0m",
      "\u001b[0;31mNameError\u001b[0m                                 Traceback (most recent call last)",
      "\u001b[0;32m<ipython-input-76-38119aa484cb>\u001b[0m in \u001b[0;36m<module>\u001b[0;34m()\u001b[0m\n\u001b[1;32m      1\u001b[0m \u001b[0mnrows\u001b[0m \u001b[0;34m=\u001b[0m \u001b[0;36m0\u001b[0m\u001b[0;34m\u001b[0m\u001b[0m\n\u001b[1;32m      2\u001b[0m \u001b[0munique_list\u001b[0m \u001b[0;34m=\u001b[0m \u001b[0;34m[\u001b[0m\u001b[0;34m]\u001b[0m\u001b[0;34m\u001b[0m\u001b[0m\n\u001b[0;32m----> 3\u001b[0;31m \u001b[0;32mfor\u001b[0m \u001b[0mch\u001b[0m \u001b[0;32min\u001b[0m \u001b[0mfirstchunks\u001b[0m\u001b[0;34m:\u001b[0m\u001b[0;34m\u001b[0m\u001b[0m\n\u001b[0m\u001b[1;32m      4\u001b[0m     \u001b[0mnrows\u001b[0m \u001b[0;34m=\u001b[0m \u001b[0mnrows\u001b[0m \u001b[0;34m+\u001b[0m \u001b[0mlen\u001b[0m\u001b[0;34m(\u001b[0m\u001b[0mch\u001b[0m\u001b[0;34m)\u001b[0m\u001b[0;34m\u001b[0m\u001b[0m\n\u001b[1;32m      5\u001b[0m     \u001b[0mprint\u001b[0m\u001b[0;34m(\u001b[0m\u001b[0mnrows\u001b[0m\u001b[0;34m)\u001b[0m\u001b[0;34m\u001b[0m\u001b[0m\n",
      "\u001b[0;31mNameError\u001b[0m: name 'firstchunks' is not defined"
     ]
    }
   ],
   "source": [
    "nrows = 0\n",
    "unique_list = []\n",
    "for ch in firstchunks:\n",
    "    nrows = nrows + len(ch)\n",
    "    print(nrows)\n",
    "    for x in ch['PIN']:\n",
    "        if x not in unique_list:\n",
    "            unique_list.append(x)\n",
    "    #print(sum(unique_list))    \n",
    "    #pinset = set(ch['PIN'])\n",
    "    #unique = unique \n",
    "    #unique = unique + ch['PIN'].intersection(unique)\n",
    "    #unique = pinset.intersection(pinset)\n",
    "    #print(unique)"
   ]
  },
  {
   "cell_type": "code",
   "execution_count": 135,
   "metadata": {},
   "outputs": [],
   "source": [
    "#[(col, exp[col].is_unique) for col in exp]"
   ]
  },
  {
   "cell_type": "markdown",
   "metadata": {},
   "source": [
    "This columm will not work as a primary key if we want to combine all the years because there isn't a difference between each year, we can't tell them apart."
   ]
  },
  {
   "cell_type": "markdown",
   "metadata": {},
   "source": [
    "str(year) + '-' + PIN should make a proper primary key because adding the year will make the key unique."
   ]
  },
  {
   "cell_type": "markdown",
   "metadata": {},
   "source": [
    "7. Make a function to add the key suggested in the last problem (`str(year) + '-' + PIN`) to a given chunk."
   ]
  },
  {
   "cell_type": "code",
   "execution_count": 77,
   "metadata": {},
   "outputs": [],
   "source": [
    "add_primary_key = pipeable(lambda start, df: (df\n",
    "                                              >> mutate(id = np.arange(start, start + len(df))\n",
    "                                              )))"
   ]
  },
  {
   "cell_type": "code",
   "execution_count": 78,
   "metadata": {},
   "outputs": [
    {
     "data": {
      "text/html": [
       "<div>\n",
       "<style scoped>\n",
       "    .dataframe tbody tr th:only-of-type {\n",
       "        vertical-align: middle;\n",
       "    }\n",
       "\n",
       "    .dataframe tbody tr th {\n",
       "        vertical-align: top;\n",
       "    }\n",
       "\n",
       "    .dataframe thead th {\n",
       "        text-align: right;\n",
       "    }\n",
       "</style>\n",
       "<table border=\"1\" class=\"dataframe\">\n",
       "  <thead>\n",
       "    <tr style=\"text-align: right;\">\n",
       "      <th></th>\n",
       "      <th>ACRES_DEED</th>\n",
       "      <th>ACRES_POLY</th>\n",
       "      <th>AGPRE_ENRD</th>\n",
       "      <th>AG_PRESERV</th>\n",
       "      <th>BASEMENT</th>\n",
       "      <th>CITY</th>\n",
       "      <th>COOLING</th>\n",
       "      <th>DWELL_TYPE</th>\n",
       "      <th>EMV_BLDG</th>\n",
       "      <th>EMV_LAND</th>\n",
       "      <th>...</th>\n",
       "      <th>XUSE3_DESC</th>\n",
       "      <th>XUSE4_DESC</th>\n",
       "      <th>YEAR_BUILT</th>\n",
       "      <th>Year</th>\n",
       "      <th>centroid_lat</th>\n",
       "      <th>centroid_long</th>\n",
       "      <th>lake_code</th>\n",
       "      <th>lake_name</th>\n",
       "      <th>parcel_dist_to_lake</th>\n",
       "      <th>id</th>\n",
       "    </tr>\n",
       "  </thead>\n",
       "  <tbody>\n",
       "  </tbody>\n",
       "</table>\n",
       "<p>0 rows × 43 columns</p>\n",
       "</div>"
      ],
      "text/plain": [
       "Empty DataFrame\n",
       "Columns: [ACRES_DEED, ACRES_POLY, AGPRE_ENRD, AG_PRESERV, BASEMENT, CITY, COOLING, DWELL_TYPE, EMV_BLDG, EMV_LAND, FIN_SQ_FT, GARAGE, GARAGESQFT, GREEN_ACRE, HOMESTEAD, LANDMARK, OWN_ADD_L1, OWN_ADD_L2, OWN_ADD_L3, PARC_CODE, PIN, SALE_VALUE, SPEC_ASSES, TAX_CAPAC, TAX_EXEMPT, TOTAL_TAX, USE1_DESC, USE2_DESC, USE3_DESC, USE4_DESC, WSHD_DIST, XUSE1_DESC, XUSE2_DESC, XUSE3_DESC, XUSE4_DESC, YEAR_BUILT, Year, centroid_lat, centroid_long, lake_code, lake_name, parcel_dist_to_lake, id]\n",
       "Index: []\n",
       "\n",
       "[0 rows x 43 columns]"
      ]
     },
     "execution_count": 78,
     "metadata": {},
     "output_type": "execute_result"
    }
   ],
   "source": [
    "c_size = 50000\n",
    "from dfply import head\n",
    "i = 0\n",
    "(exp \n",
    " >> add_primary_key(i*c_size) \n",
    " >> head(3))"
   ]
  },
  {
   "cell_type": "code",
   "execution_count": 79,
   "metadata": {},
   "outputs": [
    {
     "data": {
      "text/html": [
       "<div>\n",
       "<style scoped>\n",
       "    .dataframe tbody tr th:only-of-type {\n",
       "        vertical-align: middle;\n",
       "    }\n",
       "\n",
       "    .dataframe tbody tr th {\n",
       "        vertical-align: top;\n",
       "    }\n",
       "\n",
       "    .dataframe thead th {\n",
       "        text-align: right;\n",
       "    }\n",
       "</style>\n",
       "<table border=\"1\" class=\"dataframe\">\n",
       "  <thead>\n",
       "    <tr style=\"text-align: right;\">\n",
       "      <th></th>\n",
       "      <th>ACRES_DEED</th>\n",
       "      <th>ACRES_POLY</th>\n",
       "      <th>AGPRE_ENRD</th>\n",
       "      <th>AG_PRESERV</th>\n",
       "      <th>BASEMENT</th>\n",
       "      <th>CITY</th>\n",
       "      <th>COOLING</th>\n",
       "      <th>DWELL_TYPE</th>\n",
       "      <th>EMV_BLDG</th>\n",
       "      <th>EMV_LAND</th>\n",
       "      <th>...</th>\n",
       "      <th>XUSE3_DESC</th>\n",
       "      <th>XUSE4_DESC</th>\n",
       "      <th>YEAR_BUILT</th>\n",
       "      <th>Year</th>\n",
       "      <th>centroid_lat</th>\n",
       "      <th>centroid_long</th>\n",
       "      <th>lake_code</th>\n",
       "      <th>lake_name</th>\n",
       "      <th>parcel_dist_to_lake</th>\n",
       "      <th>id</th>\n",
       "    </tr>\n",
       "  </thead>\n",
       "  <tbody>\n",
       "  </tbody>\n",
       "</table>\n",
       "<p>0 rows × 43 columns</p>\n",
       "</div>"
      ],
      "text/plain": [
       "Empty DataFrame\n",
       "Columns: [ACRES_DEED, ACRES_POLY, AGPRE_ENRD, AG_PRESERV, BASEMENT, CITY, COOLING, DWELL_TYPE, EMV_BLDG, EMV_LAND, FIN_SQ_FT, GARAGE, GARAGESQFT, GREEN_ACRE, HOMESTEAD, LANDMARK, OWN_ADD_L1, OWN_ADD_L2, OWN_ADD_L3, PARC_CODE, PIN, SALE_VALUE, SPEC_ASSES, TAX_CAPAC, TAX_EXEMPT, TOTAL_TAX, USE1_DESC, USE2_DESC, USE3_DESC, USE4_DESC, WSHD_DIST, XUSE1_DESC, XUSE2_DESC, XUSE3_DESC, XUSE4_DESC, YEAR_BUILT, Year, centroid_lat, centroid_long, lake_code, lake_name, parcel_dist_to_lake, id]\n",
       "Index: []\n",
       "\n",
       "[0 rows x 43 columns]"
      ]
     },
     "execution_count": 79,
     "metadata": {},
     "output_type": "execute_result"
    }
   ],
   "source": [
    "process_chunk = pipeable(lambda i, df, chunksize=c_size: df >> addcolumns >> add_primary_key(i*c_size))\n",
    "exp >> process_chunk(0) >> tail(1)"
   ]
  },
  {
   "cell_type": "code",
   "execution_count": 80,
   "metadata": {},
   "outputs": [],
   "source": [
    "from sqlalchemy import String, Float, Integer, DateTime\n",
    "common_parcel_types = {'ACRES_DEED':Float,\n",
    "                       'ACRES_POLY':Float,\n",
    "                       'AGPRE_ENRD':DateTime,\n",
    "                       'AGPRE_EXPD':DateTime,\n",
    "                       'AG_PRESERV':String,\n",
    "                       'BASEMENT':String,\n",
    "                       'BLDG_NUM':Float,\n",
    "                       'BLOCK':String,\n",
    "                       'CITY':String,\n",
    "                       'CITY_USPS':String,\n",
    "                       'COOLING':String,\n",
    "                       'COUNTY_ID':Integer,\n",
    "                       'DWELL_TYPE':String,\n",
    "                       'EMV_BLDG':Float,\n",
    "                       'EMV_LAND':Float,\n",
    "                       'EMV_TOTAL':Float,\n",
    "                       'FIN_SQ_FT':Float,\n",
    "                       'GARAGE':String,\n",
    "                       'GARAGESQFT':Float,\n",
    "                       'GREEN_ACRE':Float,\n",
    "                       'HEATING':String,\n",
    "                       'HOMESTEAD':String,\n",
    "                       'HOME_STYLE':Float,\n",
    "                       'ID':String,\n",
    "                       'LANDMARK':String,\n",
    "                       'LOT':String,\n",
    "                       'MULTI_USES':Float,\n",
    "                       'NUM_UNITS':String,\n",
    "                       'OPEN_SPACE':Float,\n",
    "                       'OWNER_MORE':String,\n",
    "                       'OWNER_NAME':String,\n",
    "                       'OWN_ADD_L1':String,\n",
    "                       'OWN_ADD_L2':String,\n",
    "                       'OWN_ADD_L3':String,\n",
    "                       'PARC_CODE':Float,\n",
    "                       'PIN':String,\n",
    "                       'PLAT_NAME':String,\n",
    "                       'PREFIXTYPE':Float, \n",
    "                       'PREFIX_DIR':String,\n",
    "                       'SALE_DATE':Integer, \n",
    "                       'SALE_VALUE':Float,\n",
    "                       'SCHOOL_DST':Float, \n",
    "                       'SPEC_ASSES':Float,\n",
    "                       'STREETNAME':String,\n",
    "                       'STREETTYPE':String, \n",
    "                       'SUFFIX_DIR':String, \n",
    "                       'Shape_Area':Float, \n",
    "                       'Shape_Leng':Float, \n",
    "                       'TAX_ADD_L1':String, \n",
    "                       'TAX_ADD_L2':String, \n",
    "                       'TAX_ADD_L3':String, \n",
    "                       'TAX_CAPAC':Float, \n",
    "                       'TAX_EXEMPT':String, \n",
    "                       'TAX_NAME':String, \n",
    "                       'TOTAL_TAX':Float, \n",
    "                       'UNIT_INFO':String, \n",
    "                       'USE1_DESC':String,\n",
    "                       'USE2_DESC':String,\n",
    "                       'USE3_DESC':String,\n",
    "                       'USE4_DESC':String,\n",
    "                       'WSHD_DIST':String,\n",
    "                       'XUSE1_DESC':String,\n",
    "                       'XUSE2_DESC':String,\n",
    "                       'XUSE3_DESC':String,\n",
    "                       'XUSE4_DESC':String,\n",
    "                       'YEAR_BUILT':Integer,\n",
    "                       'Year':String,\n",
    "                       'ZIP':Integer, \n",
    "                       'ZIP4':Integer,\n",
    "                       'centroid_lat':String,\n",
    "                       'centroid_long':String}"
   ]
  },
  {
   "cell_type": "code",
   "execution_count": 81,
   "metadata": {},
   "outputs": [
    {
     "data": {
      "text/plain": [
       "{'ACRES_DEED': sqlalchemy.sql.sqltypes.String,\n",
       " 'ACRES_POLY': sqlalchemy.sql.sqltypes.String,\n",
       " 'AGPRE_ENRD': sqlalchemy.sql.sqltypes.String,\n",
       " 'AGPRE_EXPD': sqlalchemy.sql.sqltypes.String,\n",
       " 'AG_PRESERV': sqlalchemy.sql.sqltypes.String,\n",
       " 'BASEMENT': sqlalchemy.sql.sqltypes.String,\n",
       " 'BLDG_NUM': sqlalchemy.sql.sqltypes.String,\n",
       " 'BLOCK': sqlalchemy.sql.sqltypes.String,\n",
       " 'CITY': sqlalchemy.sql.sqltypes.String,\n",
       " 'CITY_USPS': sqlalchemy.sql.sqltypes.String,\n",
       " 'COOLING': sqlalchemy.sql.sqltypes.String,\n",
       " 'COUNTY_ID': sqlalchemy.sql.sqltypes.String,\n",
       " 'DWELL_TYPE': sqlalchemy.sql.sqltypes.String,\n",
       " 'EMV_BLDG': sqlalchemy.sql.sqltypes.String,\n",
       " 'EMV_LAND': sqlalchemy.sql.sqltypes.String,\n",
       " 'EMV_TOTAL': sqlalchemy.sql.sqltypes.String,\n",
       " 'FIN_SQ_FT': sqlalchemy.sql.sqltypes.String,\n",
       " 'GARAGE': sqlalchemy.sql.sqltypes.String,\n",
       " 'GARAGESQFT': sqlalchemy.sql.sqltypes.String,\n",
       " 'GREEN_ACRE': sqlalchemy.sql.sqltypes.String,\n",
       " 'HEATING': sqlalchemy.sql.sqltypes.String,\n",
       " 'HOMESTEAD': sqlalchemy.sql.sqltypes.String,\n",
       " 'HOME_STYLE': sqlalchemy.sql.sqltypes.String,\n",
       " 'ID': sqlalchemy.sql.sqltypes.Integer,\n",
       " 'LANDMARK': sqlalchemy.sql.sqltypes.String,\n",
       " 'LOT': sqlalchemy.sql.sqltypes.String,\n",
       " 'MULTI_USES': sqlalchemy.sql.sqltypes.String,\n",
       " 'NUM_UNITS': sqlalchemy.sql.sqltypes.String,\n",
       " 'OPEN_SPACE': sqlalchemy.sql.sqltypes.String,\n",
       " 'OWNER_MORE': sqlalchemy.sql.sqltypes.String,\n",
       " 'OWNER_NAME': sqlalchemy.sql.sqltypes.String,\n",
       " 'OWN_ADD_L1': sqlalchemy.sql.sqltypes.String,\n",
       " 'OWN_ADD_L2': sqlalchemy.sql.sqltypes.String,\n",
       " 'OWN_ADD_L3': sqlalchemy.sql.sqltypes.String,\n",
       " 'PARC_CODE': sqlalchemy.sql.sqltypes.String,\n",
       " 'PIN': sqlalchemy.sql.sqltypes.String,\n",
       " 'PLAT_NAME': sqlalchemy.sql.sqltypes.String,\n",
       " 'PREFIXTYPE': sqlalchemy.sql.sqltypes.String,\n",
       " 'PREFIX_DIR': sqlalchemy.sql.sqltypes.String,\n",
       " 'SALE_DATE': sqlalchemy.sql.sqltypes.String,\n",
       " 'SALE_VALUE': sqlalchemy.sql.sqltypes.String,\n",
       " 'SCHOOL_DST': sqlalchemy.sql.sqltypes.String,\n",
       " 'SPEC_ASSES': sqlalchemy.sql.sqltypes.String,\n",
       " 'STREETNAME': sqlalchemy.sql.sqltypes.String,\n",
       " 'STREETTYPE': sqlalchemy.sql.sqltypes.String,\n",
       " 'SUFFIX_DIR': sqlalchemy.sql.sqltypes.String,\n",
       " 'Shape_Area': sqlalchemy.sql.sqltypes.String,\n",
       " 'Shape_Leng': sqlalchemy.sql.sqltypes.String,\n",
       " 'TAX_ADD_L1': sqlalchemy.sql.sqltypes.String,\n",
       " 'TAX_ADD_L2': sqlalchemy.sql.sqltypes.String,\n",
       " 'TAX_ADD_L3': sqlalchemy.sql.sqltypes.String,\n",
       " 'TAX_CAPAC': sqlalchemy.sql.sqltypes.String,\n",
       " 'TAX_EXEMPT': sqlalchemy.sql.sqltypes.String,\n",
       " 'TAX_NAME': sqlalchemy.sql.sqltypes.String,\n",
       " 'TOTAL_TAX': sqlalchemy.sql.sqltypes.String,\n",
       " 'UNIT_INFO': sqlalchemy.sql.sqltypes.String,\n",
       " 'USE1_DESC': sqlalchemy.sql.sqltypes.String,\n",
       " 'USE2_DESC': sqlalchemy.sql.sqltypes.String,\n",
       " 'USE3_DESC': sqlalchemy.sql.sqltypes.String,\n",
       " 'USE4_DESC': sqlalchemy.sql.sqltypes.String,\n",
       " 'WSHD_DIST': sqlalchemy.sql.sqltypes.String,\n",
       " 'XUSE1_DESC': sqlalchemy.sql.sqltypes.String,\n",
       " 'XUSE2_DESC': sqlalchemy.sql.sqltypes.String,\n",
       " 'XUSE3_DESC': sqlalchemy.sql.sqltypes.String,\n",
       " 'XUSE4_DESC': sqlalchemy.sql.sqltypes.String,\n",
       " 'YEAR_BUILT': sqlalchemy.sql.sqltypes.String,\n",
       " 'Year': sqlalchemy.sql.sqltypes.String,\n",
       " 'ZIP': sqlalchemy.sql.sqltypes.String,\n",
       " 'ZIP4': sqlalchemy.sql.sqltypes.String,\n",
       " 'centroid_lat': sqlalchemy.sql.sqltypes.String,\n",
       " 'centroid_long': sqlalchemy.sql.sqltypes.String}"
      ]
     },
     "execution_count": 81,
     "metadata": {},
     "output_type": "execute_result"
    }
   ],
   "source": [
    "from more_sqlalchemy import get_sql_types\n",
    "i = 0\n",
    "complete_first_chunk = exp >> process_chunk(i)\n",
    "sql_types = common_parcel_types1\n",
    "#sql_types = get_sql_types(complete_first_chunk)\n",
    "sql_types"
   ]
  },
  {
   "cell_type": "code",
   "execution_count": 82,
   "metadata": {},
   "outputs": [],
   "source": [
    "from sqlalchemy import String, Float, Integer, DateTime\n",
    "common_parcel_types1 = {'ACRES_DEED':String,\n",
    "                       'ACRES_POLY':String,\n",
    "                       'AGPRE_ENRD':String,\n",
    "                       'AGPRE_EXPD':String,\n",
    "                       'AG_PRESERV':String,\n",
    "                       'BASEMENT':String,\n",
    "                       'BLDG_NUM':String,\n",
    "                       'BLOCK':String,\n",
    "                       'CITY':String,\n",
    "                       'CITY_USPS':String,\n",
    "                       'COOLING':String,\n",
    "                       'COUNTY_ID':String,\n",
    "                       'DWELL_TYPE':String,\n",
    "                       'EMV_BLDG':String,\n",
    "                       'EMV_LAND':String,\n",
    "                       'EMV_TOTAL':String,\n",
    "                       'FIN_SQ_FT':String,\n",
    "                       'GARAGE':String,\n",
    "                       'GARAGESQFT':String,\n",
    "                       'GREEN_ACRE':String,\n",
    "                       'HEATING':String,\n",
    "                       'HOMESTEAD':String,\n",
    "                       'HOME_STYLE':String,\n",
    "                       'ID':Integer,\n",
    "                       'LANDMARK':String,\n",
    "                       'LOT':String,\n",
    "                       'MULTI_USES':String,\n",
    "                       'NUM_UNITS':String,\n",
    "                       'OPEN_SPACE':String,\n",
    "                       'OWNER_MORE':String,\n",
    "                       'OWNER_NAME':String,\n",
    "                       'OWN_ADD_L1':String,\n",
    "                       'OWN_ADD_L2':String,\n",
    "                       'OWN_ADD_L3':String,\n",
    "                       'PARC_CODE':String,\n",
    "                       'PIN':String,\n",
    "                       'PLAT_NAME':String,\n",
    "                       'PREFIXTYPE':String,\n",
    "                       'PREFIX_DIR':String,\n",
    "                       'SALE_DATE':String,\n",
    "                       'SALE_VALUE':String,\n",
    "                       'SCHOOL_DST':String,\n",
    "                       'SPEC_ASSES':String,\n",
    "                       'STREETNAME':String,\n",
    "                       'STREETTYPE':String,\n",
    "                       'SUFFIX_DIR':String,\n",
    "                       'Shape_Area':String,\n",
    "                       'Shape_Leng':String,\n",
    "                       'TAX_ADD_L1':String,\n",
    "                       'TAX_ADD_L2':String,\n",
    "                       'TAX_ADD_L3':String,\n",
    "                       'TAX_CAPAC':String,\n",
    "                       'TAX_EXEMPT':String,\n",
    "                       'TAX_NAME':String,\n",
    "                       'TOTAL_TAX':String,\n",
    "                       'UNIT_INFO':String,\n",
    "                       'USE1_DESC':String,\n",
    "                       'USE2_DESC':String,\n",
    "                       'USE3_DESC':String,\n",
    "                       'USE4_DESC':String,\n",
    "                       'WSHD_DIST':String,\n",
    "                       'XUSE1_DESC':String,\n",
    "                       'XUSE2_DESC':String,\n",
    "                       'XUSE3_DESC':String,\n",
    "                       'XUSE4_DESC':String,\n",
    "                       'YEAR_BUILT':String,\n",
    "                       'Year':String,\n",
    "                       'ZIP':String,\n",
    "                       'ZIP4':String,\n",
    "                       'centroid_lat':String,\n",
    "                       'centroid_long':String}"
   ]
  },
  {
   "cell_type": "code",
   "execution_count": null,
   "metadata": {},
   "outputs": [],
   "source": []
  },
  {
   "cell_type": "code",
   "execution_count": 83,
   "metadata": {},
   "outputs": [],
   "source": [
    "!rm ./databases/lakes.db"
   ]
  },
  {
   "cell_type": "code",
   "execution_count": 84,
   "metadata": {},
   "outputs": [],
   "source": [
    "from sqlalchemy import create_engine\n",
    "engine = create_engine('sqlite:///databases/lakes.db', echo=False)"
   ]
  },
  {
   "cell_type": "code",
   "execution_count": 85,
   "metadata": {},
   "outputs": [
    {
     "name": "stdout",
     "output_type": "stream",
     "text": [
      "\n",
      "CREATE TABLE lakes (\n",
      "\t\"ACRES_DEED\" VARCHAR, \n",
      "\t\"ACRES_POLY\" VARCHAR, \n",
      "\t\"AGPRE_ENRD\" VARCHAR, \n",
      "\t\"AG_PRESERV\" VARCHAR, \n",
      "\t\"BASEMENT\" VARCHAR, \n",
      "\t\"CITY\" VARCHAR, \n",
      "\t\"COOLING\" VARCHAR, \n",
      "\t\"DWELL_TYPE\" VARCHAR, \n",
      "\t\"EMV_BLDG\" VARCHAR, \n",
      "\t\"EMV_LAND\" VARCHAR, \n",
      "\t\"FIN_SQ_FT\" VARCHAR, \n",
      "\t\"GARAGE\" VARCHAR, \n",
      "\t\"GARAGESQFT\" VARCHAR, \n",
      "\t\"GREEN_ACRE\" VARCHAR, \n",
      "\t\"HOMESTEAD\" VARCHAR, \n",
      "\t\"LANDMARK\" VARCHAR, \n",
      "\t\"OWN_ADD_L1\" VARCHAR, \n",
      "\t\"OWN_ADD_L2\" VARCHAR, \n",
      "\t\"OWN_ADD_L3\" VARCHAR, \n",
      "\t\"PARC_CODE\" VARCHAR, \n",
      "\t\"PIN\" VARCHAR, \n",
      "\t\"SALE_VALUE\" VARCHAR, \n",
      "\t\"SPEC_ASSES\" VARCHAR, \n",
      "\t\"TAX_CAPAC\" VARCHAR, \n",
      "\t\"TAX_EXEMPT\" VARCHAR, \n",
      "\t\"TOTAL_TAX\" VARCHAR, \n",
      "\t\"USE1_DESC\" VARCHAR, \n",
      "\t\"USE2_DESC\" VARCHAR, \n",
      "\t\"USE3_DESC\" VARCHAR, \n",
      "\t\"USE4_DESC\" VARCHAR, \n",
      "\t\"WSHD_DIST\" VARCHAR, \n",
      "\t\"XUSE1_DESC\" VARCHAR, \n",
      "\t\"XUSE2_DESC\" VARCHAR, \n",
      "\t\"XUSE3_DESC\" VARCHAR, \n",
      "\t\"XUSE4_DESC\" VARCHAR, \n",
      "\t\"YEAR_BUILT\" VARCHAR, \n",
      "\t\"Year\" VARCHAR, \n",
      "\tcentroid_lat VARCHAR, \n",
      "\tcentroid_long VARCHAR, \n",
      "\tlake_code TEXT, \n",
      "\tlake_name TEXT, \n",
      "\tparcel_dist_to_lake TEXT, \n",
      "\tid BIGINT NOT NULL, \n",
      "\tCONSTRAINT lakes_pk PRIMARY KEY (id)\n",
      ")\n",
      "\n",
      "\n"
     ]
    },
    {
     "data": {
      "text/plain": [
       "<sqlalchemy.engine.result.ResultProxy at 0x16fccc390>"
      ]
     },
     "execution_count": 85,
     "metadata": {},
     "output_type": "execute_result"
    }
   ],
   "source": [
    "schema = pd.io.sql.get_schema(complete_first_chunk, # dataframe\n",
    "                              'lakes', # name in SQL db\n",
    "                              keys='id', # primary key\n",
    "                              con=engine, # connection\n",
    "                              dtype=sql_types # SQL types\n",
    ")\n",
    "print(schema)\n",
    "engine.execute(schema)"
   ]
  },
  {
   "cell_type": "code",
   "execution_count": 86,
   "metadata": {},
   "outputs": [
    {
     "name": "stdout",
     "output_type": "stream",
     "text": [
      "processing file ./data/MinneMUDAC_raw_files/2004_metro_tax_parcels.txt\n",
      "writing chunk 0\n",
      "writing chunk 1\n",
      "writing chunk 2\n",
      "writing chunk 3\n",
      "writing chunk 4\n",
      "writing chunk 5\n",
      "writing chunk 6\n",
      "writing chunk 7\n",
      "writing chunk 8\n",
      "writing chunk 9\n",
      "writing chunk 10\n",
      "writing chunk 11\n",
      "writing chunk 12\n",
      "writing chunk 13\n",
      "writing chunk 14\n",
      "writing chunk 15\n",
      "writing chunk 16\n",
      "writing chunk 17\n",
      "writing chunk 18\n",
      "writing chunk 19\n",
      "writing chunk 20\n",
      "writing chunk 21\n",
      "writing chunk 22\n",
      "writing chunk 23\n",
      "writing chunk 24\n",
      "writing chunk 25\n",
      "writing chunk 26\n",
      "writing chunk 27\n",
      "writing chunk 28\n",
      "writing chunk 29\n",
      "writing chunk 30\n",
      "writing chunk 31\n",
      "writing chunk 32\n",
      "writing chunk 33\n",
      "writing chunk 34\n",
      "writing chunk 35\n",
      "writing chunk 36\n",
      "writing chunk 37\n",
      "writing chunk 38\n",
      "writing chunk 39\n",
      "processing file ./data/MinneMUDAC_raw_files/2005_metro_tax_parcels.txt\n",
      "writing chunk 0\n",
      "writing chunk 1\n",
      "writing chunk 2\n",
      "writing chunk 3\n",
      "writing chunk 4\n",
      "writing chunk 5\n",
      "writing chunk 6\n",
      "writing chunk 7\n",
      "writing chunk 8\n",
      "writing chunk 9\n",
      "writing chunk 10\n",
      "writing chunk 11\n",
      "writing chunk 12\n",
      "writing chunk 13\n",
      "writing chunk 14\n",
      "writing chunk 15\n",
      "writing chunk 16\n",
      "writing chunk 17\n",
      "writing chunk 18\n",
      "writing chunk 19\n",
      "writing chunk 20\n",
      "writing chunk 21\n",
      "writing chunk 22\n",
      "writing chunk 23\n",
      "writing chunk 24\n",
      "writing chunk 25\n",
      "writing chunk 26\n",
      "writing chunk 27\n",
      "writing chunk 28\n",
      "writing chunk 29\n",
      "writing chunk 30\n",
      "writing chunk 31\n",
      "writing chunk 32\n",
      "writing chunk 33\n",
      "writing chunk 34\n",
      "writing chunk 35\n",
      "writing chunk 36\n",
      "writing chunk 37\n",
      "writing chunk 38\n",
      "writing chunk 39\n",
      "processing file ./data/MinneMUDAC_raw_files/2006_metro_tax_parcels.txt\n",
      "writing chunk 0\n",
      "writing chunk 1\n",
      "writing chunk 2\n",
      "writing chunk 3\n",
      "writing chunk 4\n",
      "writing chunk 5\n",
      "writing chunk 6\n",
      "writing chunk 7\n",
      "writing chunk 8\n",
      "writing chunk 9\n",
      "writing chunk 10\n",
      "writing chunk 11\n",
      "writing chunk 12\n",
      "writing chunk 13\n",
      "writing chunk 14\n",
      "writing chunk 15\n",
      "writing chunk 16\n",
      "writing chunk 17\n",
      "writing chunk 18\n",
      "writing chunk 19\n",
      "writing chunk 20\n",
      "writing chunk 21\n",
      "writing chunk 22\n",
      "writing chunk 23\n",
      "writing chunk 24\n",
      "writing chunk 25\n",
      "writing chunk 26\n",
      "writing chunk 27\n",
      "writing chunk 28\n",
      "writing chunk 29\n",
      "writing chunk 30\n",
      "writing chunk 31\n",
      "writing chunk 32\n",
      "writing chunk 33\n",
      "writing chunk 34\n",
      "writing chunk 35\n",
      "writing chunk 36\n",
      "writing chunk 37\n",
      "writing chunk 38\n",
      "writing chunk 39\n",
      "writing chunk 40\n",
      "processing file ./data/MinneMUDAC_raw_files/2007_metro_tax_parcels.txt\n",
      "writing chunk 0\n",
      "writing chunk 1\n",
      "writing chunk 2\n",
      "writing chunk 3\n",
      "writing chunk 4\n",
      "writing chunk 5\n",
      "writing chunk 6\n",
      "writing chunk 7\n",
      "writing chunk 8\n",
      "writing chunk 9\n",
      "writing chunk 10\n",
      "writing chunk 11\n",
      "writing chunk 12\n",
      "writing chunk 13\n",
      "writing chunk 14\n",
      "writing chunk 15\n",
      "writing chunk 16\n",
      "writing chunk 17\n",
      "writing chunk 18\n",
      "writing chunk 19\n",
      "writing chunk 20\n",
      "writing chunk 21\n",
      "writing chunk 22\n"
     ]
    },
    {
     "name": "stderr",
     "output_type": "stream",
     "text": [
      "/Users/tr8934qw/.pyenv/versions/anaconda3-5.3.1/lib/python3.7/site-packages/IPython/core/interactiveshell.py:2785: DtypeWarning: Columns (20,24) have mixed types. Specify dtype option on import or set low_memory=False.\n",
      "  interactivity=interactivity, compiler=compiler, result=result)\n"
     ]
    },
    {
     "name": "stdout",
     "output_type": "stream",
     "text": [
      "writing chunk 23\n"
     ]
    },
    {
     "name": "stderr",
     "output_type": "stream",
     "text": [
      "/Users/tr8934qw/.pyenv/versions/anaconda3-5.3.1/lib/python3.7/site-packages/IPython/core/interactiveshell.py:2785: DtypeWarning: Columns (20,24) have mixed types. Specify dtype option on import or set low_memory=False.\n",
      "  interactivity=interactivity, compiler=compiler, result=result)\n"
     ]
    },
    {
     "name": "stdout",
     "output_type": "stream",
     "text": [
      "writing chunk 24\n",
      "writing chunk 25\n",
      "writing chunk 26\n",
      "writing chunk 27\n",
      "writing chunk 28\n",
      "writing chunk 29\n",
      "writing chunk 30\n",
      "writing chunk 31\n",
      "writing chunk 32\n",
      "writing chunk 33\n",
      "writing chunk 34\n",
      "writing chunk 35\n",
      "writing chunk 36\n",
      "writing chunk 37\n",
      "writing chunk 38\n",
      "writing chunk 39\n",
      "writing chunk 40\n",
      "processing file ./data/MinneMUDAC_raw_files/2008_metro_tax_parcels.txt\n",
      "writing chunk 0\n",
      "writing chunk 1\n",
      "writing chunk 2\n",
      "writing chunk 3\n",
      "writing chunk 4\n",
      "writing chunk 5\n",
      "writing chunk 6\n",
      "writing chunk 7\n",
      "writing chunk 8\n",
      "writing chunk 9\n",
      "writing chunk 10\n",
      "writing chunk 11\n",
      "writing chunk 12\n",
      "writing chunk 13\n",
      "writing chunk 14\n",
      "writing chunk 15\n",
      "writing chunk 16\n",
      "writing chunk 17\n",
      "writing chunk 18\n",
      "writing chunk 19\n",
      "writing chunk 20\n",
      "writing chunk 21\n",
      "writing chunk 22\n",
      "writing chunk 23\n"
     ]
    },
    {
     "name": "stderr",
     "output_type": "stream",
     "text": [
      "/Users/tr8934qw/.pyenv/versions/anaconda3-5.3.1/lib/python3.7/site-packages/IPython/core/interactiveshell.py:2785: DtypeWarning: Columns (20,24) have mixed types. Specify dtype option on import or set low_memory=False.\n",
      "  interactivity=interactivity, compiler=compiler, result=result)\n"
     ]
    },
    {
     "name": "stdout",
     "output_type": "stream",
     "text": [
      "writing chunk 24\n"
     ]
    },
    {
     "name": "stderr",
     "output_type": "stream",
     "text": [
      "/Users/tr8934qw/.pyenv/versions/anaconda3-5.3.1/lib/python3.7/site-packages/IPython/core/interactiveshell.py:2785: DtypeWarning: Columns (20,24) have mixed types. Specify dtype option on import or set low_memory=False.\n",
      "  interactivity=interactivity, compiler=compiler, result=result)\n"
     ]
    },
    {
     "name": "stdout",
     "output_type": "stream",
     "text": [
      "writing chunk 25\n",
      "writing chunk 26\n",
      "writing chunk 27\n",
      "writing chunk 28\n",
      "writing chunk 29\n",
      "writing chunk 30\n",
      "writing chunk 31\n",
      "writing chunk 32\n",
      "writing chunk 33\n",
      "writing chunk 34\n",
      "writing chunk 35\n",
      "writing chunk 36\n",
      "writing chunk 37\n",
      "writing chunk 38\n",
      "writing chunk 39\n",
      "writing chunk 40\n",
      "writing chunk 41\n",
      "writing chunk 42\n",
      "processing file ./data/MinneMUDAC_raw_files/2009_metro_tax_parcels.txt\n",
      "writing chunk 0\n",
      "writing chunk 1\n",
      "writing chunk 2\n",
      "writing chunk 3\n",
      "writing chunk 4\n",
      "writing chunk 5\n",
      "writing chunk 6\n",
      "writing chunk 7\n",
      "writing chunk 8\n",
      "writing chunk 9\n",
      "writing chunk 10\n",
      "writing chunk 11\n",
      "writing chunk 12\n",
      "writing chunk 13\n",
      "writing chunk 14\n",
      "writing chunk 15\n",
      "writing chunk 16\n",
      "writing chunk 17\n",
      "writing chunk 18\n",
      "writing chunk 19\n",
      "writing chunk 20\n",
      "writing chunk 21\n",
      "writing chunk 22\n"
     ]
    },
    {
     "name": "stderr",
     "output_type": "stream",
     "text": [
      "/Users/tr8934qw/.pyenv/versions/anaconda3-5.3.1/lib/python3.7/site-packages/IPython/core/interactiveshell.py:2785: DtypeWarning: Columns (20,24) have mixed types. Specify dtype option on import or set low_memory=False.\n",
      "  interactivity=interactivity, compiler=compiler, result=result)\n"
     ]
    },
    {
     "name": "stdout",
     "output_type": "stream",
     "text": [
      "writing chunk 23\n"
     ]
    },
    {
     "name": "stderr",
     "output_type": "stream",
     "text": [
      "/Users/tr8934qw/.pyenv/versions/anaconda3-5.3.1/lib/python3.7/site-packages/IPython/core/interactiveshell.py:2785: DtypeWarning: Columns (20,24) have mixed types. Specify dtype option on import or set low_memory=False.\n",
      "  interactivity=interactivity, compiler=compiler, result=result)\n"
     ]
    },
    {
     "name": "stdout",
     "output_type": "stream",
     "text": [
      "writing chunk 24\n",
      "writing chunk 25\n",
      "writing chunk 26\n",
      "writing chunk 27\n",
      "writing chunk 28\n",
      "writing chunk 29\n",
      "writing chunk 30\n",
      "writing chunk 31\n",
      "writing chunk 32\n",
      "writing chunk 33\n",
      "writing chunk 34\n",
      "writing chunk 35\n",
      "writing chunk 36\n",
      "writing chunk 37\n",
      "writing chunk 38\n",
      "writing chunk 39\n",
      "writing chunk 40\n",
      "writing chunk 41\n",
      "processing file ./data/MinneMUDAC_raw_files/2010_metro_tax_parcels.txt\n",
      "writing chunk 0\n",
      "writing chunk 1\n",
      "writing chunk 2\n",
      "writing chunk 3\n",
      "writing chunk 4\n",
      "writing chunk 5\n",
      "writing chunk 6\n",
      "writing chunk 7\n",
      "writing chunk 8\n",
      "writing chunk 9\n",
      "writing chunk 10\n",
      "writing chunk 11\n",
      "writing chunk 12\n",
      "writing chunk 13\n",
      "writing chunk 14\n",
      "writing chunk 15\n",
      "writing chunk 16\n",
      "writing chunk 17\n",
      "writing chunk 18\n",
      "writing chunk 19\n",
      "writing chunk 20\n",
      "writing chunk 21\n",
      "writing chunk 22\n"
     ]
    },
    {
     "name": "stderr",
     "output_type": "stream",
     "text": [
      "/Users/tr8934qw/.pyenv/versions/anaconda3-5.3.1/lib/python3.7/site-packages/IPython/core/interactiveshell.py:2785: DtypeWarning: Columns (20) have mixed types. Specify dtype option on import or set low_memory=False.\n",
      "  interactivity=interactivity, compiler=compiler, result=result)\n"
     ]
    },
    {
     "name": "stdout",
     "output_type": "stream",
     "text": [
      "writing chunk 23\n"
     ]
    },
    {
     "name": "stderr",
     "output_type": "stream",
     "text": [
      "/Users/tr8934qw/.pyenv/versions/anaconda3-5.3.1/lib/python3.7/site-packages/IPython/core/interactiveshell.py:2785: DtypeWarning: Columns (20) have mixed types. Specify dtype option on import or set low_memory=False.\n",
      "  interactivity=interactivity, compiler=compiler, result=result)\n"
     ]
    },
    {
     "name": "stdout",
     "output_type": "stream",
     "text": [
      "writing chunk 24\n",
      "writing chunk 25\n",
      "writing chunk 26\n",
      "writing chunk 27\n",
      "writing chunk 28\n",
      "writing chunk 29\n",
      "writing chunk 30\n",
      "writing chunk 31\n",
      "writing chunk 32\n",
      "writing chunk 33\n",
      "writing chunk 34\n",
      "writing chunk 35\n",
      "writing chunk 36\n",
      "writing chunk 37\n",
      "writing chunk 38\n",
      "writing chunk 39\n",
      "writing chunk 40\n",
      "writing chunk 41\n",
      "processing file ./data/MinneMUDAC_raw_files/2011_metro_tax_parcels.txt\n",
      "writing chunk 0\n",
      "writing chunk 1\n",
      "writing chunk 2\n",
      "writing chunk 3\n",
      "writing chunk 4\n",
      "writing chunk 5\n",
      "writing chunk 6\n",
      "writing chunk 7\n",
      "writing chunk 8\n",
      "writing chunk 9\n",
      "writing chunk 10\n",
      "writing chunk 11\n",
      "writing chunk 12\n",
      "writing chunk 13\n",
      "writing chunk 14\n",
      "writing chunk 15\n",
      "writing chunk 16\n",
      "writing chunk 17\n",
      "writing chunk 18\n",
      "writing chunk 19\n",
      "writing chunk 20\n",
      "writing chunk 21\n",
      "writing chunk 22\n",
      "writing chunk 23\n",
      "writing chunk 24\n",
      "writing chunk 25\n",
      "writing chunk 26\n",
      "writing chunk 27\n",
      "writing chunk 28\n",
      "writing chunk 29\n",
      "writing chunk 30\n",
      "writing chunk 31\n",
      "writing chunk 32\n",
      "writing chunk 33\n",
      "writing chunk 34\n",
      "writing chunk 35\n",
      "writing chunk 36\n",
      "writing chunk 37\n",
      "writing chunk 38\n",
      "writing chunk 39\n",
      "writing chunk 40\n",
      "writing chunk 41\n",
      "writing chunk 42\n",
      "processing file ./data/MinneMUDAC_raw_files/2012_metro_tax_parcels.txt\n",
      "writing chunk 0\n",
      "writing chunk 1\n",
      "writing chunk 2\n",
      "writing chunk 3\n",
      "writing chunk 4\n",
      "writing chunk 5\n",
      "writing chunk 6\n",
      "writing chunk 7\n",
      "writing chunk 8\n",
      "writing chunk 9\n",
      "writing chunk 10\n",
      "writing chunk 11\n",
      "writing chunk 12\n",
      "writing chunk 13\n",
      "writing chunk 14\n",
      "writing chunk 15\n",
      "writing chunk 16\n",
      "writing chunk 17\n",
      "writing chunk 18\n",
      "writing chunk 19\n",
      "writing chunk 20\n",
      "writing chunk 21\n",
      "writing chunk 22\n",
      "writing chunk 23\n",
      "writing chunk 24\n",
      "writing chunk 25\n",
      "writing chunk 26\n",
      "writing chunk 27\n",
      "writing chunk 28\n",
      "writing chunk 29\n",
      "writing chunk 30\n",
      "writing chunk 31\n",
      "writing chunk 32\n",
      "writing chunk 33\n",
      "writing chunk 34\n",
      "writing chunk 35\n",
      "writing chunk 36\n",
      "writing chunk 37\n",
      "writing chunk 38\n",
      "writing chunk 39\n",
      "writing chunk 40\n",
      "writing chunk 41\n",
      "writing chunk 42\n",
      "processing file ./data/MinneMUDAC_raw_files/2013_metro_tax_parcels.txt\n",
      "writing chunk 0\n",
      "writing chunk 1\n",
      "writing chunk 2\n",
      "writing chunk 3\n",
      "writing chunk 4\n",
      "writing chunk 5\n",
      "writing chunk 6\n",
      "writing chunk 7\n",
      "writing chunk 8\n",
      "writing chunk 9\n",
      "writing chunk 10\n",
      "writing chunk 11\n",
      "writing chunk 12\n",
      "writing chunk 13\n",
      "writing chunk 14\n",
      "writing chunk 15\n",
      "writing chunk 16\n",
      "writing chunk 17\n",
      "writing chunk 18\n",
      "writing chunk 19\n",
      "writing chunk 20\n",
      "writing chunk 21\n",
      "writing chunk 22\n",
      "writing chunk 23\n",
      "writing chunk 24\n",
      "writing chunk 25\n",
      "writing chunk 26\n",
      "writing chunk 27\n",
      "writing chunk 28\n",
      "writing chunk 29\n",
      "writing chunk 30\n",
      "writing chunk 31\n",
      "writing chunk 32\n",
      "writing chunk 33\n",
      "writing chunk 34\n",
      "writing chunk 35\n",
      "writing chunk 36\n",
      "writing chunk 37\n",
      "writing chunk 38\n",
      "writing chunk 39\n",
      "writing chunk 40\n",
      "writing chunk 41\n",
      "writing chunk 42\n",
      "processing file ./data/MinneMUDAC_raw_files/2014_metro_tax_parcels.txt\n",
      "writing chunk 0\n",
      "writing chunk 1\n",
      "writing chunk 2\n",
      "writing chunk 3\n",
      "writing chunk 4\n",
      "writing chunk 5\n",
      "writing chunk 6\n",
      "writing chunk 7\n",
      "writing chunk 8\n",
      "writing chunk 9\n",
      "writing chunk 10\n",
      "writing chunk 11\n",
      "writing chunk 12\n",
      "writing chunk 13\n",
      "writing chunk 14\n",
      "writing chunk 15\n",
      "writing chunk 16\n",
      "writing chunk 17\n",
      "writing chunk 18\n",
      "writing chunk 19\n",
      "writing chunk 20\n",
      "writing chunk 21\n",
      "writing chunk 22\n",
      "writing chunk 23\n",
      "writing chunk 24\n",
      "writing chunk 25\n",
      "writing chunk 26\n"
     ]
    },
    {
     "name": "stderr",
     "output_type": "stream",
     "text": [
      "/Users/tr8934qw/.pyenv/versions/anaconda3-5.3.1/lib/python3.7/site-packages/IPython/core/interactiveshell.py:2785: DtypeWarning: Columns (56) have mixed types. Specify dtype option on import or set low_memory=False.\n",
      "  interactivity=interactivity, compiler=compiler, result=result)\n"
     ]
    },
    {
     "name": "stdout",
     "output_type": "stream",
     "text": [
      "writing chunk 27\n",
      "writing chunk 28\n",
      "writing chunk 29\n",
      "writing chunk 30\n",
      "writing chunk 31\n",
      "writing chunk 32\n",
      "writing chunk 33\n",
      "writing chunk 34\n",
      "writing chunk 35\n"
     ]
    },
    {
     "name": "stderr",
     "output_type": "stream",
     "text": [
      "/Users/tr8934qw/.pyenv/versions/anaconda3-5.3.1/lib/python3.7/site-packages/IPython/core/interactiveshell.py:2785: DtypeWarning: Columns (56) have mixed types. Specify dtype option on import or set low_memory=False.\n",
      "  interactivity=interactivity, compiler=compiler, result=result)\n"
     ]
    },
    {
     "name": "stdout",
     "output_type": "stream",
     "text": [
      "writing chunk 36\n",
      "writing chunk 37\n",
      "writing chunk 38\n",
      "writing chunk 39\n",
      "writing chunk 40\n",
      "writing chunk 41\n",
      "writing chunk 42\n"
     ]
    }
   ],
   "source": [
    "rows_so_far = 0\n",
    "nrows = rows_so_far\n",
    "for f in files:\n",
    "    c_size = 50000\n",
    "    print('processing file {0}'.format(f))\n",
    "    df_iter = enumerate(pd.read_csv(f, \n",
    "                                chunksize = c_size, sep = '|', \n",
    "                                    dtype=string_dtypes))\n",
    "    for i, chunk in df_iter:\n",
    "        processed_chunk = chunk >> process_chunk(nrows)\n",
    "        print('writing chunk {0}'.format(i))\n",
    "        nrows = nrows + len(chunk)\n",
    "        processed_chunk.to_sql('lakes', \n",
    "                           con=engine, \n",
    "                           dtype=sql_types, \n",
    "                           index=False,\n",
    "                           if_exists='append')"
   ]
  },
  {
   "cell_type": "markdown",
   "metadata": {},
   "source": [
    "#### Note: If you are clever, you can do parts 8 in one double loop, which will save you from having to read the parcel files twice."
   ]
  },
  {
   "cell_type": "markdown",
   "metadata": {},
   "source": [
    "8. It is probably worth our time to test that our new key column is truely unique. (If not, we might be wasting out time loading the data into a database, only to have process fail hours in.) Test that the new column works by <br>\n",
    "    a. Iterating over all the files.<br>\n",
    "    b. Using an accumulator to count total number of rows across all parcel files. <br>\n",
    "    c. Using an accumulator to accumulate a set of all unique values of our new key. <br>\n",
    "    d. Verifying that we have as many total rows as unique keys.\n",
    "    a. Selecting just this column. <br>\n",
    "    b. Dumping this column into a temporary database <br>"
   ]
  },
  {
   "cell_type": "code",
   "execution_count": null,
   "metadata": {},
   "outputs": [],
   "source": []
  },
  {
   "cell_type": "markdown",
   "metadata": {},
   "source": [
    "9. If the last step succeeded, you can proceed to make a master parcel data database.  If not, you will need to figure out another primary key, probably an `id` column similar to the example in the lectures."
   ]
  },
  {
   "cell_type": "code",
   "execution_count": null,
   "metadata": {},
   "outputs": [],
   "source": []
  }
 ],
 "metadata": {
  "kernelspec": {
   "display_name": "Python 3",
   "language": "python",
   "name": "python3"
  },
  "language_info": {
   "codemirror_mode": {
    "name": "ipython",
    "version": 3
   },
   "file_extension": ".py",
   "mimetype": "text/x-python",
   "name": "python",
   "nbconvert_exporter": "python",
   "pygments_lexer": "ipython3",
   "version": "3.7.0"
  }
 },
 "nbformat": 4,
 "nbformat_minor": 2
}
