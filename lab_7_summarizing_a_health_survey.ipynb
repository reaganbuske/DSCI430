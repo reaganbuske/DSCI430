{
 "cells": [
  {
   "cell_type": "markdown",
   "metadata": {},
   "source": [
    "# Lab 7 - Summarizing a Health Survey"
   ]
  },
  {
   "cell_type": "markdown",
   "metadata": {},
   "source": [
    "## Background\n",
    "\n",
    "The file health_survey.csv contains the responses to a series of health-related questions.  Dr. Bergen, Director of the Statistical Consulting Center at WSU, needs you to prepare the attached data for analysis.  Please perform the following steps to prepare the required csv file.\n",
    "\n",
    "Dr. Bergen had a follow-up meeting with his client and it was determined that we need to redo the file construction from an earlier assignment.  Recall that the file `health_survey.csv` contains the responses to a series of health-related questions. We need to code the responses as 1-5 using the definition below.   Some of the columns need a reverse coding (see the *Needs Reverse Coding?* column in `ReverseCodingItems.csv`.\n",
    "\n",
    "The following table describes the coding that should be used for both types of questions.\n",
    "\n",
    "|Old Label                     |New Coded Value  |Reverse Coding\n",
    "|------------------------------|-----------------|----------------\n",
    "|\"Strongly Disagree\"           |1                |5\n",
    "|\"Somewhat Disagree\"           |2                |4\n",
    "|\"Neither Agree nor Disagree\"  |3                |3\n",
    "|\"Somewhat Agree\"              |4                |2\n",
    "|\"Strongly Agree\"              |5                |1\n",
    "\n",
    "\n"
   ]
  },
  {
   "cell_type": "markdown",
   "metadata": {},
   "source": [
    "## Tasks "
   ]
  },
  {
   "cell_type": "markdown",
   "metadata": {},
   "source": [
    "#### Task 1  \n",
    "\n",
    "Look at the questions that need reverse coding and explain why it makes sense to reverse the coding on these items."
   ]
  },
  {
   "cell_type": "markdown",
   "metadata": {},
   "source": [
    "> *Your thoughts here*"
   ]
  },
  {
   "cell_type": "markdown",
   "metadata": {},
   "source": [
    "#### Task 2 \n",
    "\n",
    "You will need to redo the file construction, but now need to take the reverse coding into account. **For each step, paste a screenshot of the JMP dialog or formula associated with the outcome.**\n",
    "\n",
    "1.  *Stack* the columns.\n",
    "\n",
    "![](img/survey/image1.png)"
   ]
  },
  {
   "cell_type": "code",
   "execution_count": null,
   "metadata": {},
   "outputs": [],
   "source": [
    "# Your code here"
   ]
  },
  {
   "cell_type": "markdown",
   "metadata": {},
   "source": [
    "2.  Read in and join `ReverseCodingItems.csv` to add a new column called `NeedsReverse` to the health survey dataframe. \n",
    "\n",
    "![](img/survey/image2.png)"
   ]
  },
  {
   "cell_type": "code",
   "execution_count": null,
   "metadata": {},
   "outputs": [],
   "source": [
    "# Your code here"
   ]
  },
  {
   "cell_type": "markdown",
   "metadata": {},
   "source": [
    "3.  Make a new column called `TempCodedValue` by recoding the `Question`s column.\n",
    "\n",
    "![](img/survey/image3.png)"
   ]
  },
  {
   "cell_type": "code",
   "execution_count": null,
   "metadata": {},
   "outputs": [],
   "source": [
    "# Your code here"
   ]
  },
  {
   "cell_type": "markdown",
   "metadata": {},
   "source": [
    "4.  Make a new column called `TempCodedValue` by recoding the `Question`s column.\n",
    "\n",
    "![](img/survey/image4.png)"
   ]
  },
  {
   "cell_type": "code",
   "execution_count": null,
   "metadata": {},
   "outputs": [],
   "source": [
    "# Your code here"
   ]
  },
  {
   "cell_type": "markdown",
   "metadata": {},
   "source": [
    "5.  Make a new column called `RecodedValue` that holds the correct\n",
    "    value for each question based on the value in `NeedsReverse`.\n",
    "\n",
    "![](img/survey/image5.png)"
   ]
  },
  {
   "cell_type": "code",
   "execution_count": null,
   "metadata": {},
   "outputs": [],
   "source": [
    "# Your code here"
   ]
  },
  {
   "cell_type": "markdown",
   "metadata": {},
   "source": [
    "6.  Make a new column by *Recoding* the Question Types to *F1, F2, ..., F6. *\n",
    "\n",
    "![](img/survey/image6.png)"
   ]
  },
  {
   "cell_type": "code",
   "execution_count": null,
   "metadata": {},
   "outputs": [],
   "source": [
    "# Your code here"
   ]
  },
  {
   "cell_type": "markdown",
   "metadata": {},
   "source": [
    "7.  *Aggregate* and *Unstack*.\n",
    "\n",
    "![](img/survey/image7.png)\n",
    "![](img/survey/image8.png)"
   ]
  },
  {
   "cell_type": "code",
   "execution_count": null,
   "metadata": {},
   "outputs": [],
   "source": [
    "# Your code here"
   ]
  },
  {
   "cell_type": "markdown",
   "metadata": {},
   "source": [
    "#### Task 3\n",
    "\n",
    "Repackage all of your code in one pipe then write the final output to `health_survey_summary.csv`\n"
   ]
  },
  {
   "cell_type": "code",
   "execution_count": null,
   "metadata": {},
   "outputs": [],
   "source": [
    "# Your code here"
   ]
  }
 ],
 "metadata": {
  "kernelspec": {
   "display_name": "Python 3",
   "language": "python",
   "name": "python3"
  },
  "language_info": {
   "codemirror_mode": {
    "name": "ipython",
    "version": 3
   },
   "file_extension": ".py",
   "mimetype": "text/x-python",
   "name": "python",
   "nbconvert_exporter": "python",
   "pygments_lexer": "ipython3",
   "version": "3.7.2"
  }
 },
 "nbformat": 4,
 "nbformat_minor": 2
}
